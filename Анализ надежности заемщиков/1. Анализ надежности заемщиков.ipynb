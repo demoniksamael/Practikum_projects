{
 "cells": [
  {
   "cell_type": "markdown",
   "metadata": {},
   "source": [
    "# Исследование надёжности заёмщиков\n",
    "\n",
    "Заказчик — кредитный отдел банка. Нужно разобраться, влияет ли семейное положение и количество детей клиента на факт погашения кредита в срок. Входные данные от банка — статистика о платёжеспособности клиентов.<br/>\n",
    "Данные для проекта предоставлены в одном дф - *data.csv*.<br/>\n",
    "\n",
    "**Задачи**:\n",
    "- выполнить предобработку данных;\n",
    "- ответить на вопросы заказчика:\n",
    " * Есть ли зависимость между наличием детей и возвратом кредита в срок?\n",
    " * Есть ли зависимость между семейным положением и возвратом кредита в срок?\n",
    " * Есть ли зависимость между уровнем дохода и возвратом кредита в срок?\n",
    " * Как разные цели кредита влияют на его возврат в срок?\n",
    " \n",
    "**Цель проекта** выявить критерии надежности заемщика."
   ]
  },
  {
   "cell_type": "markdown",
   "metadata": {},
   "source": [
    "## Изучение данных"
   ]
  },
  {
   "cell_type": "code",
   "execution_count": 1,
   "metadata": {},
   "outputs": [
    {
     "name": "stdout",
     "output_type": "stream",
     "text": [
      "<class 'pandas.core.frame.DataFrame'>\n",
      "RangeIndex: 21525 entries, 0 to 21524\n",
      "Data columns (total 12 columns):\n",
      "children            21525 non-null int64\n",
      "days_employed       19351 non-null float64\n",
      "dob_years           21525 non-null int64\n",
      "education           21525 non-null object\n",
      "education_id        21525 non-null int64\n",
      "family_status       21525 non-null object\n",
      "family_status_id    21525 non-null int64\n",
      "gender              21525 non-null object\n",
      "income_type         21525 non-null object\n",
      "debt                21525 non-null int64\n",
      "total_income        19351 non-null float64\n",
      "purpose             21525 non-null object\n",
      "dtypes: float64(2), int64(5), object(5)\n",
      "memory usage: 2.0+ MB\n"
     ]
    },
    {
     "data": {
      "text/html": [
       "<div>\n",
       "<style scoped>\n",
       "    .dataframe tbody tr th:only-of-type {\n",
       "        vertical-align: middle;\n",
       "    }\n",
       "\n",
       "    .dataframe tbody tr th {\n",
       "        vertical-align: top;\n",
       "    }\n",
       "\n",
       "    .dataframe thead th {\n",
       "        text-align: right;\n",
       "    }\n",
       "</style>\n",
       "<table border=\"1\" class=\"dataframe\">\n",
       "  <thead>\n",
       "    <tr style=\"text-align: right;\">\n",
       "      <th></th>\n",
       "      <th>children</th>\n",
       "      <th>days_employed</th>\n",
       "      <th>dob_years</th>\n",
       "      <th>education</th>\n",
       "      <th>education_id</th>\n",
       "      <th>family_status</th>\n",
       "      <th>family_status_id</th>\n",
       "      <th>gender</th>\n",
       "      <th>income_type</th>\n",
       "      <th>debt</th>\n",
       "      <th>total_income</th>\n",
       "      <th>purpose</th>\n",
       "    </tr>\n",
       "  </thead>\n",
       "  <tbody>\n",
       "    <tr>\n",
       "      <td>0</td>\n",
       "      <td>1</td>\n",
       "      <td>-8437.673028</td>\n",
       "      <td>42</td>\n",
       "      <td>высшее</td>\n",
       "      <td>0</td>\n",
       "      <td>женат / замужем</td>\n",
       "      <td>0</td>\n",
       "      <td>F</td>\n",
       "      <td>сотрудник</td>\n",
       "      <td>0</td>\n",
       "      <td>253875.639453</td>\n",
       "      <td>покупка жилья</td>\n",
       "    </tr>\n",
       "    <tr>\n",
       "      <td>1</td>\n",
       "      <td>1</td>\n",
       "      <td>-4024.803754</td>\n",
       "      <td>36</td>\n",
       "      <td>среднее</td>\n",
       "      <td>1</td>\n",
       "      <td>женат / замужем</td>\n",
       "      <td>0</td>\n",
       "      <td>F</td>\n",
       "      <td>сотрудник</td>\n",
       "      <td>0</td>\n",
       "      <td>112080.014102</td>\n",
       "      <td>приобретение автомобиля</td>\n",
       "    </tr>\n",
       "    <tr>\n",
       "      <td>2</td>\n",
       "      <td>0</td>\n",
       "      <td>-5623.422610</td>\n",
       "      <td>33</td>\n",
       "      <td>Среднее</td>\n",
       "      <td>1</td>\n",
       "      <td>женат / замужем</td>\n",
       "      <td>0</td>\n",
       "      <td>M</td>\n",
       "      <td>сотрудник</td>\n",
       "      <td>0</td>\n",
       "      <td>145885.952297</td>\n",
       "      <td>покупка жилья</td>\n",
       "    </tr>\n",
       "    <tr>\n",
       "      <td>3</td>\n",
       "      <td>3</td>\n",
       "      <td>-4124.747207</td>\n",
       "      <td>32</td>\n",
       "      <td>среднее</td>\n",
       "      <td>1</td>\n",
       "      <td>женат / замужем</td>\n",
       "      <td>0</td>\n",
       "      <td>M</td>\n",
       "      <td>сотрудник</td>\n",
       "      <td>0</td>\n",
       "      <td>267628.550329</td>\n",
       "      <td>дополнительное образование</td>\n",
       "    </tr>\n",
       "    <tr>\n",
       "      <td>4</td>\n",
       "      <td>0</td>\n",
       "      <td>340266.072047</td>\n",
       "      <td>53</td>\n",
       "      <td>среднее</td>\n",
       "      <td>1</td>\n",
       "      <td>гражданский брак</td>\n",
       "      <td>1</td>\n",
       "      <td>F</td>\n",
       "      <td>пенсионер</td>\n",
       "      <td>0</td>\n",
       "      <td>158616.077870</td>\n",
       "      <td>сыграть свадьбу</td>\n",
       "    </tr>\n",
       "    <tr>\n",
       "      <td>5</td>\n",
       "      <td>0</td>\n",
       "      <td>-926.185831</td>\n",
       "      <td>27</td>\n",
       "      <td>высшее</td>\n",
       "      <td>0</td>\n",
       "      <td>гражданский брак</td>\n",
       "      <td>1</td>\n",
       "      <td>M</td>\n",
       "      <td>компаньон</td>\n",
       "      <td>0</td>\n",
       "      <td>255763.565419</td>\n",
       "      <td>покупка жилья</td>\n",
       "    </tr>\n",
       "    <tr>\n",
       "      <td>6</td>\n",
       "      <td>0</td>\n",
       "      <td>-2879.202052</td>\n",
       "      <td>43</td>\n",
       "      <td>высшее</td>\n",
       "      <td>0</td>\n",
       "      <td>женат / замужем</td>\n",
       "      <td>0</td>\n",
       "      <td>F</td>\n",
       "      <td>компаньон</td>\n",
       "      <td>0</td>\n",
       "      <td>240525.971920</td>\n",
       "      <td>операции с жильем</td>\n",
       "    </tr>\n",
       "    <tr>\n",
       "      <td>7</td>\n",
       "      <td>0</td>\n",
       "      <td>-152.779569</td>\n",
       "      <td>50</td>\n",
       "      <td>СРЕДНЕЕ</td>\n",
       "      <td>1</td>\n",
       "      <td>женат / замужем</td>\n",
       "      <td>0</td>\n",
       "      <td>M</td>\n",
       "      <td>сотрудник</td>\n",
       "      <td>0</td>\n",
       "      <td>135823.934197</td>\n",
       "      <td>образование</td>\n",
       "    </tr>\n",
       "    <tr>\n",
       "      <td>8</td>\n",
       "      <td>2</td>\n",
       "      <td>-6929.865299</td>\n",
       "      <td>35</td>\n",
       "      <td>ВЫСШЕЕ</td>\n",
       "      <td>0</td>\n",
       "      <td>гражданский брак</td>\n",
       "      <td>1</td>\n",
       "      <td>F</td>\n",
       "      <td>сотрудник</td>\n",
       "      <td>0</td>\n",
       "      <td>95856.832424</td>\n",
       "      <td>на проведение свадьбы</td>\n",
       "    </tr>\n",
       "    <tr>\n",
       "      <td>9</td>\n",
       "      <td>0</td>\n",
       "      <td>-2188.756445</td>\n",
       "      <td>41</td>\n",
       "      <td>среднее</td>\n",
       "      <td>1</td>\n",
       "      <td>женат / замужем</td>\n",
       "      <td>0</td>\n",
       "      <td>M</td>\n",
       "      <td>сотрудник</td>\n",
       "      <td>0</td>\n",
       "      <td>144425.938277</td>\n",
       "      <td>покупка жилья для семьи</td>\n",
       "    </tr>\n",
       "    <tr>\n",
       "      <td>10</td>\n",
       "      <td>2</td>\n",
       "      <td>-4171.483647</td>\n",
       "      <td>36</td>\n",
       "      <td>высшее</td>\n",
       "      <td>0</td>\n",
       "      <td>женат / замужем</td>\n",
       "      <td>0</td>\n",
       "      <td>M</td>\n",
       "      <td>компаньон</td>\n",
       "      <td>0</td>\n",
       "      <td>113943.491460</td>\n",
       "      <td>покупка недвижимости</td>\n",
       "    </tr>\n",
       "    <tr>\n",
       "      <td>11</td>\n",
       "      <td>0</td>\n",
       "      <td>-792.701887</td>\n",
       "      <td>40</td>\n",
       "      <td>среднее</td>\n",
       "      <td>1</td>\n",
       "      <td>женат / замужем</td>\n",
       "      <td>0</td>\n",
       "      <td>F</td>\n",
       "      <td>сотрудник</td>\n",
       "      <td>0</td>\n",
       "      <td>77069.234271</td>\n",
       "      <td>покупка коммерческой недвижимости</td>\n",
       "    </tr>\n",
       "    <tr>\n",
       "      <td>12</td>\n",
       "      <td>0</td>\n",
       "      <td>NaN</td>\n",
       "      <td>65</td>\n",
       "      <td>среднее</td>\n",
       "      <td>1</td>\n",
       "      <td>гражданский брак</td>\n",
       "      <td>1</td>\n",
       "      <td>M</td>\n",
       "      <td>пенсионер</td>\n",
       "      <td>0</td>\n",
       "      <td>NaN</td>\n",
       "      <td>сыграть свадьбу</td>\n",
       "    </tr>\n",
       "    <tr>\n",
       "      <td>13</td>\n",
       "      <td>0</td>\n",
       "      <td>-1846.641941</td>\n",
       "      <td>54</td>\n",
       "      <td>неоконченное высшее</td>\n",
       "      <td>2</td>\n",
       "      <td>женат / замужем</td>\n",
       "      <td>0</td>\n",
       "      <td>F</td>\n",
       "      <td>сотрудник</td>\n",
       "      <td>0</td>\n",
       "      <td>130458.228857</td>\n",
       "      <td>приобретение автомобиля</td>\n",
       "    </tr>\n",
       "    <tr>\n",
       "      <td>14</td>\n",
       "      <td>0</td>\n",
       "      <td>-1844.956182</td>\n",
       "      <td>56</td>\n",
       "      <td>высшее</td>\n",
       "      <td>0</td>\n",
       "      <td>гражданский брак</td>\n",
       "      <td>1</td>\n",
       "      <td>F</td>\n",
       "      <td>компаньон</td>\n",
       "      <td>1</td>\n",
       "      <td>165127.911772</td>\n",
       "      <td>покупка жилой недвижимости</td>\n",
       "    </tr>\n",
       "  </tbody>\n",
       "</table>\n",
       "</div>"
      ],
      "text/plain": [
       "    children  days_employed  dob_years            education  education_id  \\\n",
       "0          1   -8437.673028         42               высшее             0   \n",
       "1          1   -4024.803754         36              среднее             1   \n",
       "2          0   -5623.422610         33              Среднее             1   \n",
       "3          3   -4124.747207         32              среднее             1   \n",
       "4          0  340266.072047         53              среднее             1   \n",
       "5          0    -926.185831         27               высшее             0   \n",
       "6          0   -2879.202052         43               высшее             0   \n",
       "7          0    -152.779569         50              СРЕДНЕЕ             1   \n",
       "8          2   -6929.865299         35               ВЫСШЕЕ             0   \n",
       "9          0   -2188.756445         41              среднее             1   \n",
       "10         2   -4171.483647         36               высшее             0   \n",
       "11         0    -792.701887         40              среднее             1   \n",
       "12         0            NaN         65              среднее             1   \n",
       "13         0   -1846.641941         54  неоконченное высшее             2   \n",
       "14         0   -1844.956182         56               высшее             0   \n",
       "\n",
       "       family_status  family_status_id gender income_type  debt  \\\n",
       "0    женат / замужем                 0      F   сотрудник     0   \n",
       "1    женат / замужем                 0      F   сотрудник     0   \n",
       "2    женат / замужем                 0      M   сотрудник     0   \n",
       "3    женат / замужем                 0      M   сотрудник     0   \n",
       "4   гражданский брак                 1      F   пенсионер     0   \n",
       "5   гражданский брак                 1      M   компаньон     0   \n",
       "6    женат / замужем                 0      F   компаньон     0   \n",
       "7    женат / замужем                 0      M   сотрудник     0   \n",
       "8   гражданский брак                 1      F   сотрудник     0   \n",
       "9    женат / замужем                 0      M   сотрудник     0   \n",
       "10   женат / замужем                 0      M   компаньон     0   \n",
       "11   женат / замужем                 0      F   сотрудник     0   \n",
       "12  гражданский брак                 1      M   пенсионер     0   \n",
       "13   женат / замужем                 0      F   сотрудник     0   \n",
       "14  гражданский брак                 1      F   компаньон     1   \n",
       "\n",
       "     total_income                            purpose  \n",
       "0   253875.639453                      покупка жилья  \n",
       "1   112080.014102            приобретение автомобиля  \n",
       "2   145885.952297                      покупка жилья  \n",
       "3   267628.550329         дополнительное образование  \n",
       "4   158616.077870                    сыграть свадьбу  \n",
       "5   255763.565419                      покупка жилья  \n",
       "6   240525.971920                  операции с жильем  \n",
       "7   135823.934197                        образование  \n",
       "8    95856.832424              на проведение свадьбы  \n",
       "9   144425.938277            покупка жилья для семьи  \n",
       "10  113943.491460               покупка недвижимости  \n",
       "11   77069.234271  покупка коммерческой недвижимости  \n",
       "12            NaN                    сыграть свадьбу  \n",
       "13  130458.228857            приобретение автомобиля  \n",
       "14  165127.911772         покупка жилой недвижимости  "
      ]
     },
     "execution_count": 1,
     "metadata": {},
     "output_type": "execute_result"
    }
   ],
   "source": [
    "\n",
    "import pandas as pd\n",
    "from pymystem3 import Mystem\n",
    "m = Mystem()\n",
    "from collections import Counter\n",
    "data = pd.read_csv('/datasets/data.csv')\n",
    "data.info()\n",
    "data.head(15)\n"
   ]
  },
  {
   "cell_type": "markdown",
   "metadata": {},
   "source": [
    "**Вывод**"
   ]
  },
  {
   "cell_type": "markdown",
   "metadata": {},
   "source": [
    "С помощью метода info() видим, что таблица имеет 21524 наблюдения и 12 столбцов. В столбцах корректный тип данных (кроме типа float в столбцах \"общий трудовой стаж в днях\" и \"ежемесячный доход\"), и названы в одном стиле, чего не скажешь о самих данных - указаны разным регистром, в столбце \"общий трудовой стаж в днях\" отрицательные значения.\n",
    "Также в глаза бросается, что столбцы \"общий трудовой стаж в днях\" и \"ежемесячный доход\" имеют пустые значения."
   ]
  },
  {
   "cell_type": "markdown",
   "metadata": {},
   "source": [
    "## Предобработка данных"
   ]
  },
  {
   "cell_type": "markdown",
   "metadata": {},
   "source": [
    "### Обработка пропусков"
   ]
  },
  {
   "cell_type": "code",
   "execution_count": 2,
   "metadata": {},
   "outputs": [
    {
     "name": "stdout",
     "output_type": "stream",
     "text": [
      "Количество пропущенных значений\n",
      "children               0\n",
      "days_employed       2174\n",
      "dob_years              0\n",
      "education              0\n",
      "education_id           0\n",
      "family_status          0\n",
      "family_status_id       0\n",
      "gender                 0\n",
      "income_type            0\n",
      "debt                   0\n",
      "total_income        2174\n",
      "purpose                0\n",
      "dtype: int64\n",
      "\n",
      "Вид занятости клиентов, оформивших кредиты\n",
      "сотрудник          11119\n",
      "компаньон           5085\n",
      "пенсионер           3856\n",
      "госслужащий         1459\n",
      "предприниматель        2\n",
      "безработный            2\n",
      "студент                1\n",
      "в декрете              1\n",
      "Name: income_type, dtype: int64\n",
      "\n",
      "Количество пропусков в столбце доход клиентов, по виду занятости\n",
      "\n",
      "Количество пропущенных значений после замены\n",
      "children            0\n",
      "days_employed       0\n",
      "dob_years           0\n",
      "education           0\n",
      "education_id        0\n",
      "family_status       0\n",
      "family_status_id    0\n",
      "gender              0\n",
      "income_type         0\n",
      "debt                0\n",
      "total_income        0\n",
      "purpose             0\n",
      "dtype: int64\n"
     ]
    },
    {
     "data": {
      "text/html": [
       "<div>\n",
       "<style scoped>\n",
       "    .dataframe tbody tr th:only-of-type {\n",
       "        vertical-align: middle;\n",
       "    }\n",
       "\n",
       "    .dataframe tbody tr th {\n",
       "        vertical-align: top;\n",
       "    }\n",
       "\n",
       "    .dataframe thead th {\n",
       "        text-align: right;\n",
       "    }\n",
       "</style>\n",
       "<table border=\"1\" class=\"dataframe\">\n",
       "  <thead>\n",
       "    <tr style=\"text-align: right;\">\n",
       "      <th></th>\n",
       "      <th>children</th>\n",
       "      <th>days_employed</th>\n",
       "      <th>dob_years</th>\n",
       "      <th>education</th>\n",
       "      <th>education_id</th>\n",
       "      <th>family_status</th>\n",
       "      <th>family_status_id</th>\n",
       "      <th>gender</th>\n",
       "      <th>income_type</th>\n",
       "      <th>debt</th>\n",
       "      <th>total_income</th>\n",
       "      <th>purpose</th>\n",
       "    </tr>\n",
       "  </thead>\n",
       "  <tbody>\n",
       "    <tr>\n",
       "      <td>0</td>\n",
       "      <td>1</td>\n",
       "      <td>8437.673028</td>\n",
       "      <td>42</td>\n",
       "      <td>высшее</td>\n",
       "      <td>0</td>\n",
       "      <td>женат / замужем</td>\n",
       "      <td>0</td>\n",
       "      <td>F</td>\n",
       "      <td>сотрудник</td>\n",
       "      <td>0</td>\n",
       "      <td>253875.639453</td>\n",
       "      <td>покупка жилья</td>\n",
       "    </tr>\n",
       "    <tr>\n",
       "      <td>1</td>\n",
       "      <td>1</td>\n",
       "      <td>4024.803754</td>\n",
       "      <td>36</td>\n",
       "      <td>среднее</td>\n",
       "      <td>1</td>\n",
       "      <td>женат / замужем</td>\n",
       "      <td>0</td>\n",
       "      <td>F</td>\n",
       "      <td>сотрудник</td>\n",
       "      <td>0</td>\n",
       "      <td>112080.014102</td>\n",
       "      <td>приобретение автомобиля</td>\n",
       "    </tr>\n",
       "    <tr>\n",
       "      <td>2</td>\n",
       "      <td>0</td>\n",
       "      <td>5623.422610</td>\n",
       "      <td>33</td>\n",
       "      <td>Среднее</td>\n",
       "      <td>1</td>\n",
       "      <td>женат / замужем</td>\n",
       "      <td>0</td>\n",
       "      <td>M</td>\n",
       "      <td>сотрудник</td>\n",
       "      <td>0</td>\n",
       "      <td>145885.952297</td>\n",
       "      <td>покупка жилья</td>\n",
       "    </tr>\n",
       "    <tr>\n",
       "      <td>3</td>\n",
       "      <td>3</td>\n",
       "      <td>4124.747207</td>\n",
       "      <td>32</td>\n",
       "      <td>среднее</td>\n",
       "      <td>1</td>\n",
       "      <td>женат / замужем</td>\n",
       "      <td>0</td>\n",
       "      <td>M</td>\n",
       "      <td>сотрудник</td>\n",
       "      <td>0</td>\n",
       "      <td>267628.550329</td>\n",
       "      <td>дополнительное образование</td>\n",
       "    </tr>\n",
       "    <tr>\n",
       "      <td>4</td>\n",
       "      <td>0</td>\n",
       "      <td>340266.072047</td>\n",
       "      <td>53</td>\n",
       "      <td>среднее</td>\n",
       "      <td>1</td>\n",
       "      <td>гражданский брак</td>\n",
       "      <td>1</td>\n",
       "      <td>F</td>\n",
       "      <td>пенсионер</td>\n",
       "      <td>0</td>\n",
       "      <td>158616.077870</td>\n",
       "      <td>сыграть свадьбу</td>\n",
       "    </tr>\n",
       "    <tr>\n",
       "      <td>...</td>\n",
       "      <td>...</td>\n",
       "      <td>...</td>\n",
       "      <td>...</td>\n",
       "      <td>...</td>\n",
       "      <td>...</td>\n",
       "      <td>...</td>\n",
       "      <td>...</td>\n",
       "      <td>...</td>\n",
       "      <td>...</td>\n",
       "      <td>...</td>\n",
       "      <td>...</td>\n",
       "      <td>...</td>\n",
       "    </tr>\n",
       "    <tr>\n",
       "      <td>21520</td>\n",
       "      <td>1</td>\n",
       "      <td>4529.316663</td>\n",
       "      <td>43</td>\n",
       "      <td>среднее</td>\n",
       "      <td>1</td>\n",
       "      <td>гражданский брак</td>\n",
       "      <td>1</td>\n",
       "      <td>F</td>\n",
       "      <td>компаньон</td>\n",
       "      <td>0</td>\n",
       "      <td>224791.862382</td>\n",
       "      <td>операции с жильем</td>\n",
       "    </tr>\n",
       "    <tr>\n",
       "      <td>21521</td>\n",
       "      <td>0</td>\n",
       "      <td>343937.404131</td>\n",
       "      <td>67</td>\n",
       "      <td>среднее</td>\n",
       "      <td>1</td>\n",
       "      <td>женат / замужем</td>\n",
       "      <td>0</td>\n",
       "      <td>F</td>\n",
       "      <td>пенсионер</td>\n",
       "      <td>0</td>\n",
       "      <td>155999.806512</td>\n",
       "      <td>сделка с автомобилем</td>\n",
       "    </tr>\n",
       "    <tr>\n",
       "      <td>21522</td>\n",
       "      <td>1</td>\n",
       "      <td>2113.346888</td>\n",
       "      <td>38</td>\n",
       "      <td>среднее</td>\n",
       "      <td>1</td>\n",
       "      <td>гражданский брак</td>\n",
       "      <td>1</td>\n",
       "      <td>M</td>\n",
       "      <td>сотрудник</td>\n",
       "      <td>1</td>\n",
       "      <td>89672.561153</td>\n",
       "      <td>недвижимость</td>\n",
       "    </tr>\n",
       "    <tr>\n",
       "      <td>21523</td>\n",
       "      <td>3</td>\n",
       "      <td>3112.481705</td>\n",
       "      <td>38</td>\n",
       "      <td>среднее</td>\n",
       "      <td>1</td>\n",
       "      <td>женат / замужем</td>\n",
       "      <td>0</td>\n",
       "      <td>M</td>\n",
       "      <td>сотрудник</td>\n",
       "      <td>1</td>\n",
       "      <td>244093.050500</td>\n",
       "      <td>на покупку своего автомобиля</td>\n",
       "    </tr>\n",
       "    <tr>\n",
       "      <td>21524</td>\n",
       "      <td>2</td>\n",
       "      <td>1984.507589</td>\n",
       "      <td>40</td>\n",
       "      <td>среднее</td>\n",
       "      <td>1</td>\n",
       "      <td>женат / замужем</td>\n",
       "      <td>0</td>\n",
       "      <td>F</td>\n",
       "      <td>сотрудник</td>\n",
       "      <td>0</td>\n",
       "      <td>82047.418899</td>\n",
       "      <td>на покупку автомобиля</td>\n",
       "    </tr>\n",
       "  </tbody>\n",
       "</table>\n",
       "<p>21525 rows × 12 columns</p>\n",
       "</div>"
      ],
      "text/plain": [
       "       children  days_employed  dob_years education  education_id  \\\n",
       "0             1    8437.673028         42    высшее             0   \n",
       "1             1    4024.803754         36   среднее             1   \n",
       "2             0    5623.422610         33   Среднее             1   \n",
       "3             3    4124.747207         32   среднее             1   \n",
       "4             0  340266.072047         53   среднее             1   \n",
       "...         ...            ...        ...       ...           ...   \n",
       "21520         1    4529.316663         43   среднее             1   \n",
       "21521         0  343937.404131         67   среднее             1   \n",
       "21522         1    2113.346888         38   среднее             1   \n",
       "21523         3    3112.481705         38   среднее             1   \n",
       "21524         2    1984.507589         40   среднее             1   \n",
       "\n",
       "          family_status  family_status_id gender income_type  debt  \\\n",
       "0       женат / замужем                 0      F   сотрудник     0   \n",
       "1       женат / замужем                 0      F   сотрудник     0   \n",
       "2       женат / замужем                 0      M   сотрудник     0   \n",
       "3       женат / замужем                 0      M   сотрудник     0   \n",
       "4      гражданский брак                 1      F   пенсионер     0   \n",
       "...                 ...               ...    ...         ...   ...   \n",
       "21520  гражданский брак                 1      F   компаньон     0   \n",
       "21521   женат / замужем                 0      F   пенсионер     0   \n",
       "21522  гражданский брак                 1      M   сотрудник     1   \n",
       "21523   женат / замужем                 0      M   сотрудник     1   \n",
       "21524   женат / замужем                 0      F   сотрудник     0   \n",
       "\n",
       "        total_income                       purpose  \n",
       "0      253875.639453                 покупка жилья  \n",
       "1      112080.014102       приобретение автомобиля  \n",
       "2      145885.952297                 покупка жилья  \n",
       "3      267628.550329    дополнительное образование  \n",
       "4      158616.077870               сыграть свадьбу  \n",
       "...              ...                           ...  \n",
       "21520  224791.862382             операции с жильем  \n",
       "21521  155999.806512          сделка с автомобилем  \n",
       "21522   89672.561153                  недвижимость  \n",
       "21523  244093.050500  на покупку своего автомобиля  \n",
       "21524   82047.418899         на покупку автомобиля  \n",
       "\n",
       "[21525 rows x 12 columns]"
      ]
     },
     "metadata": {},
     "output_type": "display_data"
    }
   ],
   "source": [
    "print('Количество пропущенных значений')\n",
    "print(data.isna().sum()) #Проверим, сколько пропущенных значений имеют столбцы \"общий трудовой стаж в днях\" и \"ежемесячный доход\".\n",
    "mean_day_employed = data['days_employed'].mean() #считаем среднее арифметическое значение \"общий трудовой стаж в днях\"\n",
    "print()\n",
    "print('Вид занятости клиентов, оформивших кредиты')\n",
    "print(data['income_type'].value_counts())\n",
    "print()\n",
    "print('Количество пропусков в столбце доход клиентов, по виду занятости')\n",
    "\n",
    "data['days_employed'] = data['days_employed'].abs()\n",
    "data['days_employed'] = data['days_employed'].fillna(mean_day_employed)\n",
    "data['total_income'] = data.groupby('income_type').transform(lambda group: group.fillna(group.mean()))['total_income']\n",
    "print()\n",
    "print('Количество пропущенных значений после замены')\n",
    "print(data.isna().sum())\n",
    "display(data)"
   ]
  },
  {
   "cell_type": "markdown",
   "metadata": {},
   "source": [
    "Пустые значения в столбце \"общий трудовой стаж в днях\" заменил на среднее арифметическое.<br/>\n",
    "Пустые значения в столбце \"ежемесячный доход\" заменил на групповые средние значения.\n",
    "Не стал удалять строки с пустыми значениями, т.к. эти данные это 10% от общего количества наблюдений. Избивался от отрицательных значений в стобце \"общий трудовой стаж в днях\".\n",
    "Вопрос вызывает категория пенсионеров с медианным ежемесячным доходом, целью кредита и общим трудовым стажем-по таким данным лучше попросить более качественную выгрузку.\n",
    "\n",
    "\n",
    "\n"
   ]
  },
  {
   "cell_type": "markdown",
   "metadata": {},
   "source": [
    "### Замена типа данных"
   ]
  },
  {
   "cell_type": "code",
   "execution_count": 3,
   "metadata": {},
   "outputs": [
    {
     "name": "stdout",
     "output_type": "stream",
     "text": [
      "<class 'pandas.core.frame.DataFrame'>\n",
      "RangeIndex: 21525 entries, 0 to 21524\n",
      "Data columns (total 12 columns):\n",
      "children            21525 non-null int64\n",
      "days_employed       21525 non-null int64\n",
      "dob_years           21525 non-null int64\n",
      "education           21525 non-null object\n",
      "education_id        21525 non-null int64\n",
      "family_status       21525 non-null object\n",
      "family_status_id    21525 non-null int64\n",
      "gender              21525 non-null object\n",
      "income_type         21525 non-null object\n",
      "debt                21525 non-null int64\n",
      "total_income        21525 non-null int64\n",
      "purpose             21525 non-null object\n",
      "dtypes: int64(7), object(5)\n",
      "memory usage: 2.0+ MB\n"
     ]
    },
    {
     "data": {
      "text/html": [
       "<div>\n",
       "<style scoped>\n",
       "    .dataframe tbody tr th:only-of-type {\n",
       "        vertical-align: middle;\n",
       "    }\n",
       "\n",
       "    .dataframe tbody tr th {\n",
       "        vertical-align: top;\n",
       "    }\n",
       "\n",
       "    .dataframe thead th {\n",
       "        text-align: right;\n",
       "    }\n",
       "</style>\n",
       "<table border=\"1\" class=\"dataframe\">\n",
       "  <thead>\n",
       "    <tr style=\"text-align: right;\">\n",
       "      <th></th>\n",
       "      <th>children</th>\n",
       "      <th>days_employed</th>\n",
       "      <th>dob_years</th>\n",
       "      <th>education</th>\n",
       "      <th>education_id</th>\n",
       "      <th>family_status</th>\n",
       "      <th>family_status_id</th>\n",
       "      <th>gender</th>\n",
       "      <th>income_type</th>\n",
       "      <th>debt</th>\n",
       "      <th>total_income</th>\n",
       "      <th>purpose</th>\n",
       "    </tr>\n",
       "  </thead>\n",
       "  <tbody>\n",
       "    <tr>\n",
       "      <td>0</td>\n",
       "      <td>1</td>\n",
       "      <td>8437</td>\n",
       "      <td>42</td>\n",
       "      <td>высшее</td>\n",
       "      <td>0</td>\n",
       "      <td>женат / замужем</td>\n",
       "      <td>0</td>\n",
       "      <td>F</td>\n",
       "      <td>сотрудник</td>\n",
       "      <td>0</td>\n",
       "      <td>253875</td>\n",
       "      <td>покупка жилья</td>\n",
       "    </tr>\n",
       "    <tr>\n",
       "      <td>1</td>\n",
       "      <td>1</td>\n",
       "      <td>4024</td>\n",
       "      <td>36</td>\n",
       "      <td>среднее</td>\n",
       "      <td>1</td>\n",
       "      <td>женат / замужем</td>\n",
       "      <td>0</td>\n",
       "      <td>F</td>\n",
       "      <td>сотрудник</td>\n",
       "      <td>0</td>\n",
       "      <td>112080</td>\n",
       "      <td>приобретение автомобиля</td>\n",
       "    </tr>\n",
       "    <tr>\n",
       "      <td>2</td>\n",
       "      <td>0</td>\n",
       "      <td>5623</td>\n",
       "      <td>33</td>\n",
       "      <td>Среднее</td>\n",
       "      <td>1</td>\n",
       "      <td>женат / замужем</td>\n",
       "      <td>0</td>\n",
       "      <td>M</td>\n",
       "      <td>сотрудник</td>\n",
       "      <td>0</td>\n",
       "      <td>145885</td>\n",
       "      <td>покупка жилья</td>\n",
       "    </tr>\n",
       "    <tr>\n",
       "      <td>3</td>\n",
       "      <td>3</td>\n",
       "      <td>4124</td>\n",
       "      <td>32</td>\n",
       "      <td>среднее</td>\n",
       "      <td>1</td>\n",
       "      <td>женат / замужем</td>\n",
       "      <td>0</td>\n",
       "      <td>M</td>\n",
       "      <td>сотрудник</td>\n",
       "      <td>0</td>\n",
       "      <td>267628</td>\n",
       "      <td>дополнительное образование</td>\n",
       "    </tr>\n",
       "    <tr>\n",
       "      <td>4</td>\n",
       "      <td>0</td>\n",
       "      <td>340266</td>\n",
       "      <td>53</td>\n",
       "      <td>среднее</td>\n",
       "      <td>1</td>\n",
       "      <td>гражданский брак</td>\n",
       "      <td>1</td>\n",
       "      <td>F</td>\n",
       "      <td>пенсионер</td>\n",
       "      <td>0</td>\n",
       "      <td>158616</td>\n",
       "      <td>сыграть свадьбу</td>\n",
       "    </tr>\n",
       "  </tbody>\n",
       "</table>\n",
       "</div>"
      ],
      "text/plain": [
       "   children  days_employed  dob_years education  education_id  \\\n",
       "0         1           8437         42    высшее             0   \n",
       "1         1           4024         36   среднее             1   \n",
       "2         0           5623         33   Среднее             1   \n",
       "3         3           4124         32   среднее             1   \n",
       "4         0         340266         53   среднее             1   \n",
       "\n",
       "      family_status  family_status_id gender income_type  debt  total_income  \\\n",
       "0   женат / замужем                 0      F   сотрудник     0        253875   \n",
       "1   женат / замужем                 0      F   сотрудник     0        112080   \n",
       "2   женат / замужем                 0      M   сотрудник     0        145885   \n",
       "3   женат / замужем                 0      M   сотрудник     0        267628   \n",
       "4  гражданский брак                 1      F   пенсионер     0        158616   \n",
       "\n",
       "                      purpose  \n",
       "0               покупка жилья  \n",
       "1     приобретение автомобиля  \n",
       "2               покупка жилья  \n",
       "3  дополнительное образование  \n",
       "4             сыграть свадьбу  "
      ]
     },
     "execution_count": 3,
     "metadata": {},
     "output_type": "execute_result"
    }
   ],
   "source": [
    "#меняем тип данных в столбце \"общий трудовой стаж в днях\" и \"ежемесячный доход\"\n",
    "data[['days_employed','total_income']] = data[['days_employed','total_income']].astype(int) \n",
    "data.info()\n",
    "data.head()"
   ]
  },
  {
   "cell_type": "markdown",
   "metadata": {},
   "source": [
    "**Вывод**"
   ]
  },
  {
   "cell_type": "markdown",
   "metadata": {},
   "source": [
    "Изменил тип данных в столбцах \"общий трудовой стаж в днях\" и \"ежемесячный доход\" на integer методом astype для более удобного визуального анализа и удобства решения задач по зависимости дохода и вовзрата кредита в срок."
   ]
  },
  {
   "cell_type": "markdown",
   "metadata": {},
   "source": [
    "### Обработка дубликатов"
   ]
  },
  {
   "cell_type": "code",
   "execution_count": 4,
   "metadata": {},
   "outputs": [
    {
     "data": {
      "text/html": [
       "<div>\n",
       "<style scoped>\n",
       "    .dataframe tbody tr th:only-of-type {\n",
       "        vertical-align: middle;\n",
       "    }\n",
       "\n",
       "    .dataframe tbody tr th {\n",
       "        vertical-align: top;\n",
       "    }\n",
       "\n",
       "    .dataframe thead th {\n",
       "        text-align: right;\n",
       "    }\n",
       "</style>\n",
       "<table border=\"1\" class=\"dataframe\">\n",
       "  <thead>\n",
       "    <tr style=\"text-align: right;\">\n",
       "      <th></th>\n",
       "      <th>Количество заемщиков по количеству детей</th>\n",
       "    </tr>\n",
       "  </thead>\n",
       "  <tbody>\n",
       "    <tr>\n",
       "      <td>0</td>\n",
       "      <td>14225</td>\n",
       "    </tr>\n",
       "    <tr>\n",
       "      <td>1</td>\n",
       "      <td>4865</td>\n",
       "    </tr>\n",
       "    <tr>\n",
       "      <td>2</td>\n",
       "      <td>2055</td>\n",
       "    </tr>\n",
       "    <tr>\n",
       "      <td>3</td>\n",
       "      <td>330</td>\n",
       "    </tr>\n",
       "    <tr>\n",
       "      <td>4</td>\n",
       "      <td>41</td>\n",
       "    </tr>\n",
       "    <tr>\n",
       "      <td>5</td>\n",
       "      <td>9</td>\n",
       "    </tr>\n",
       "  </tbody>\n",
       "</table>\n",
       "</div>"
      ],
      "text/plain": [
       "   Количество заемщиков по количеству детей\n",
       "0                                     14225\n",
       "1                                      4865\n",
       "2                                      2055\n",
       "3                                       330\n",
       "4                                        41\n",
       "5                                         9"
      ]
     },
     "execution_count": 4,
     "metadata": {},
     "output_type": "execute_result"
    }
   ],
   "source": [
    "#меняем регистр данных в столбцах \"образование\" и \"семейное положение\" на нижний\n",
    "data['education'] = data['education'].str.lower()\n",
    "data['family_status'] = data['family_status'].str.lower()\n",
    "#избавляемся от артефактов в столбце \"количетсво детей\" \n",
    "data['children'] = data['children'].replace(-1, 1)\n",
    "median_children = data['children'].median()\n",
    "data['children'] = data['children'].replace(20, median_children)\n",
    "data_children = pd.DataFrame({'Количество заемщиков по количеству детей': data['children'].value_counts()})\n",
    "data_children\n"
   ]
  },
  {
   "cell_type": "markdown",
   "metadata": {},
   "source": [
    "**Вывод**"
   ]
  },
  {
   "cell_type": "markdown",
   "metadata": {},
   "source": [
    "Методом values_counts() проверил значения столбцов.\n",
    "Данные в столбце \"образование\" и \"семейное положение\" привел к общему виду - нижнему регистру. После проверки столбца \"количество детей\" выявилось отрицательное значение (-1) и значение \"20\". Эти значения заменил методом replaсe() на положительное и медианное значение (т.к. не известно ошибочно введен 0 или 2) соответственно. В столбце \"пол\" найдено значение \"XNA\", поскольку сложно сделать предположение о поле человека и данный столбец не участвует в задачах анализа - оставил это значение без изменений.\n",
    "В качестве вывода привел таблицу количества заемщиков по количеству детей. Из нее видно, что чем больше детей, тем реже берут кредиты. "
   ]
  },
  {
   "cell_type": "markdown",
   "metadata": {},
   "source": [
    "### Лемматизация"
   ]
  },
  {
   "cell_type": "code",
   "execution_count": 5,
   "metadata": {},
   "outputs": [
    {
     "data": {
      "text/plain": [
       "<function pymystem3.mystem.Mystem.lemmatize(self, text)>"
      ]
     },
     "metadata": {},
     "output_type": "display_data"
    },
    {
     "data": {
      "text/plain": [
       "<bound method Mystem.lemmatize of <pymystem3.mystem.Mystem object at 0x7fe06589ec10>>"
      ]
     },
     "metadata": {},
     "output_type": "display_data"
    },
    {
     "data": {
      "text/plain": [
       "Counter({'покупка': 5912,\n",
       "         ' ': 33677,\n",
       "         'жилье': 4473,\n",
       "         ',': 21524,\n",
       "         'приобретение': 462,\n",
       "         'автомобиль': 4315,\n",
       "         'дополнительный': 909,\n",
       "         'образование': 4022,\n",
       "         'сыграть': 774,\n",
       "         'свадьба': 2348,\n",
       "         'операция': 2610,\n",
       "         'с': 2924,\n",
       "         'на': 2233,\n",
       "         'проведение': 777,\n",
       "         'для': 1294,\n",
       "         'семья': 641,\n",
       "         'недвижимость': 6367,\n",
       "         'коммерческий': 1315,\n",
       "         'жилой': 1233,\n",
       "         'строительство': 1881,\n",
       "         'собственный': 635,\n",
       "         'подержать': 858,\n",
       "         'свой': 2235,\n",
       "         'со': 630,\n",
       "         'заниматься': 908,\n",
       "         'сделка': 944,\n",
       "         'получение': 1316,\n",
       "         'высокий': 1375,\n",
       "         'подержанный': 110,\n",
       "         'профильный': 436,\n",
       "         'сдача': 653,\n",
       "         'ремонт': 612,\n",
       "         '\\n': 1})"
      ]
     },
     "execution_count": 5,
     "metadata": {},
     "output_type": "execute_result"
    }
   ],
   "source": [
    "m_old = Mystem\n",
    "display(m_old.lemmatize)\n",
    "display(m.lemmatize)\n",
    "Counter(m_old.lemmatize(m,\",\".join(data['purpose'])))"
   ]
  },
  {
   "cell_type": "markdown",
   "metadata": {},
   "source": [
    "**Вывод**"
   ]
  },
  {
   "cell_type": "markdown",
   "metadata": {},
   "source": [
    "### Категоризация данных"
   ]
  },
  {
   "cell_type": "code",
   "execution_count": 6,
   "metadata": {},
   "outputs": [
    {
     "name": "stdout",
     "output_type": "stream",
     "text": [
      "              Цель получения кредита\n",
      "недвижимость                   10840\n",
      " авто                           4315\n",
      "образование                     4022\n",
      "свадьба                         2348\n",
      "Цель получения кредита    21525\n",
      "dtype: int64\n"
     ]
    }
   ],
   "source": [
    "#лемматизируем столбец \"цель получения кредита\" и создаем новый столбец с категориями\n",
    "\n",
    "estate = ['недвижим', 'жиль']\n",
    "wedding = ['свадьб']\n",
    "auto = ['автомоб']\n",
    "education = ['образова']\n",
    "data['purpose_category'] = 0\n",
    "def categorizer(list_of_words, category):\n",
    "    join = '|'.join(list_of_words)\n",
    "    index = data[data['purpose'].str.lower().str.contains(join)].index.to_list()\n",
    "    for i in index:\n",
    "        data.loc[i, 'purpose_category'] = category\n",
    "    return data\n",
    "categorizer(estate, 'недвижимость')\n",
    "categorizer(wedding, 'свадьба')\n",
    "categorizer(auto, ' авто')\n",
    "categorizer(education, 'образование')\n",
    "purpose_data = pd.DataFrame({'Цель получения кредита': data['purpose_category'].value_counts()})\n",
    "print(purpose_data)\n",
    "print(purpose_data.sum())"
   ]
  },
  {
   "cell_type": "markdown",
   "metadata": {},
   "source": [
    "**Вывод**"
   ]
  },
  {
   "cell_type": "markdown",
   "metadata": {},
   "source": [
    "Создал отдельную таблицу, из которой видно, что основная доля кредитов занимает ипотека, которая более чем на 50 % больше автокредита и кредита на образования и почти в 5 раз больше доли кредитов, оформленных на свадебные торжества. Вполне логическое соотношение, с учетом цен и приоритетов населения. Cумма всех целей получения кредита cходится с количеством наблюдений в исходном датафрейме, значит все цели определены верно."
   ]
  },
  {
   "cell_type": "markdown",
   "metadata": {},
   "source": [
    "## Ответьте на вопросы"
   ]
  },
  {
   "cell_type": "markdown",
   "metadata": {},
   "source": [
    "- Есть ли зависимость между наличием детей и возвратом кредита в срок?"
   ]
  },
  {
   "cell_type": "code",
   "execution_count": 7,
   "metadata": {},
   "outputs": [
    {
     "data": {
      "text/html": [
       "<div>\n",
       "<style scoped>\n",
       "    .dataframe tbody tr th:only-of-type {\n",
       "        vertical-align: middle;\n",
       "    }\n",
       "\n",
       "    .dataframe tbody tr th {\n",
       "        vertical-align: top;\n",
       "    }\n",
       "\n",
       "    .dataframe thead th {\n",
       "        text-align: right;\n",
       "    }\n",
       "</style>\n",
       "<table border=\"1\" class=\"dataframe\">\n",
       "  <thead>\n",
       "    <tr style=\"text-align: right;\">\n",
       "      <th></th>\n",
       "      <th>count</th>\n",
       "      <th>sum</th>\n",
       "      <th>result</th>\n",
       "    </tr>\n",
       "    <tr>\n",
       "      <th>children</th>\n",
       "      <th></th>\n",
       "      <th></th>\n",
       "      <th></th>\n",
       "    </tr>\n",
       "  </thead>\n",
       "  <tbody>\n",
       "    <tr>\n",
       "      <td>4</td>\n",
       "      <td>41</td>\n",
       "      <td>4</td>\n",
       "      <td>0.098</td>\n",
       "    </tr>\n",
       "    <tr>\n",
       "      <td>2</td>\n",
       "      <td>2055</td>\n",
       "      <td>194</td>\n",
       "      <td>0.094</td>\n",
       "    </tr>\n",
       "    <tr>\n",
       "      <td>1</td>\n",
       "      <td>4865</td>\n",
       "      <td>445</td>\n",
       "      <td>0.091</td>\n",
       "    </tr>\n",
       "    <tr>\n",
       "      <td>3</td>\n",
       "      <td>330</td>\n",
       "      <td>27</td>\n",
       "      <td>0.082</td>\n",
       "    </tr>\n",
       "    <tr>\n",
       "      <td>0</td>\n",
       "      <td>14225</td>\n",
       "      <td>1071</td>\n",
       "      <td>0.075</td>\n",
       "    </tr>\n",
       "    <tr>\n",
       "      <td>5</td>\n",
       "      <td>9</td>\n",
       "      <td>0</td>\n",
       "      <td>0.000</td>\n",
       "    </tr>\n",
       "  </tbody>\n",
       "</table>\n",
       "</div>"
      ],
      "text/plain": [
       "          count   sum result\n",
       "children                    \n",
       "4            41     4  0.098\n",
       "2          2055   194  0.094\n",
       "1          4865   445  0.091\n",
       "3           330    27  0.082\n",
       "0         14225  1071  0.075\n",
       "5             9     0  0.000"
      ]
     },
     "execution_count": 7,
     "metadata": {},
     "output_type": "execute_result"
    }
   ],
   "source": [
    "#создаем таблицу зависимости наличия детей и возвратом кредита  в срок, с сортировкой по количеству детей и частотой просрочки\n",
    "debt_children = pd.DataFrame()\n",
    "debt_children['count'] = data.groupby('children')['debt'].count()\n",
    "debt_children['sum'] = data.groupby('children')['debt'].sum()\n",
    "debt_children['result'] = debt_children['sum'] / debt_children['count']\n",
    "debt_children['result'] = debt_children['result'].map(lambda x: '{:,.3f}'.format(x))\n",
    "debt_children.sort_values('result', ascending  = False)\n"
   ]
  },
  {
   "cell_type": "markdown",
   "metadata": {},
   "source": [
    "**Вывод**"
   ]
  },
  {
   "cell_type": "markdown",
   "metadata": {},
   "source": [
    "Чаще всего просрочки допускают клиенты с четырьмя и двумя детьми. Самые добросовестные плательщики это клиенты, у которых детей нет."
   ]
  },
  {
   "cell_type": "markdown",
   "metadata": {},
   "source": [
    "- Есть ли зависимость между семейным положением и возвратом кредита в срок?"
   ]
  },
  {
   "cell_type": "code",
   "execution_count": 8,
   "metadata": {},
   "outputs": [
    {
     "data": {
      "text/html": [
       "<div>\n",
       "<style scoped>\n",
       "    .dataframe tbody tr th:only-of-type {\n",
       "        vertical-align: middle;\n",
       "    }\n",
       "\n",
       "    .dataframe tbody tr th {\n",
       "        vertical-align: top;\n",
       "    }\n",
       "\n",
       "    .dataframe thead th {\n",
       "        text-align: right;\n",
       "    }\n",
       "</style>\n",
       "<table border=\"1\" class=\"dataframe\">\n",
       "  <thead>\n",
       "    <tr style=\"text-align: right;\">\n",
       "      <th></th>\n",
       "      <th>count</th>\n",
       "      <th>sum</th>\n",
       "      <th>result</th>\n",
       "    </tr>\n",
       "    <tr>\n",
       "      <th>family_status</th>\n",
       "      <th></th>\n",
       "      <th></th>\n",
       "      <th></th>\n",
       "    </tr>\n",
       "  </thead>\n",
       "  <tbody>\n",
       "    <tr>\n",
       "      <td>не женат / не замужем</td>\n",
       "      <td>2813</td>\n",
       "      <td>274</td>\n",
       "      <td>0.097</td>\n",
       "    </tr>\n",
       "    <tr>\n",
       "      <td>гражданский брак</td>\n",
       "      <td>4177</td>\n",
       "      <td>388</td>\n",
       "      <td>0.093</td>\n",
       "    </tr>\n",
       "    <tr>\n",
       "      <td>женат / замужем</td>\n",
       "      <td>12380</td>\n",
       "      <td>931</td>\n",
       "      <td>0.075</td>\n",
       "    </tr>\n",
       "    <tr>\n",
       "      <td>в разводе</td>\n",
       "      <td>1195</td>\n",
       "      <td>85</td>\n",
       "      <td>0.071</td>\n",
       "    </tr>\n",
       "    <tr>\n",
       "      <td>вдовец / вдова</td>\n",
       "      <td>960</td>\n",
       "      <td>63</td>\n",
       "      <td>0.066</td>\n",
       "    </tr>\n",
       "  </tbody>\n",
       "</table>\n",
       "</div>"
      ],
      "text/plain": [
       "                       count  sum result\n",
       "family_status                           \n",
       "не женат / не замужем   2813  274  0.097\n",
       "гражданский брак        4177  388  0.093\n",
       "женат / замужем        12380  931  0.075\n",
       "в разводе               1195   85  0.071\n",
       "вдовец / вдова           960   63  0.066"
      ]
     },
     "execution_count": 8,
     "metadata": {},
     "output_type": "execute_result"
    }
   ],
   "source": [
    "#создаем таблицу зависимости семейного положения и возвратом кредита  в срок,\n",
    "#с сортировкой по семейному положению и частотой просрочки\n",
    "debt_family_status = pd.DataFrame()\n",
    "debt_family_status['count'] = data.groupby('family_status')['debt'].count()\n",
    "debt_family_status['sum'] = data.groupby('family_status')['debt'].sum()\n",
    "debt_family_status['result'] = debt_family_status['sum'] / debt_family_status['count']\n",
    "debt_family_status['result'] = debt_family_status['result'].map(lambda x: '{:,.3f}'.format(x))\n",
    "debt_family_status.sort_values('result', ascending  = False)"
   ]
  },
  {
   "cell_type": "markdown",
   "metadata": {},
   "source": [
    "**Вывод**"
   ]
  },
  {
   "cell_type": "markdown",
   "metadata": {},
   "source": [
    "Чаще всего просрочки допускают клиенты, которые не состоят в браке и состоят в гражданском браке. Самые добросовестные плательщики это клиенты, которые находятся в разводе или вдовцы (вдовы)."
   ]
  },
  {
   "cell_type": "markdown",
   "metadata": {},
   "source": [
    "- Есть ли зависимость между уровнем дохода и возвратом кредита в срок?"
   ]
  },
  {
   "cell_type": "code",
   "execution_count": 9,
   "metadata": {},
   "outputs": [
    {
     "data": {
      "text/html": [
       "<div>\n",
       "<style scoped>\n",
       "    .dataframe tbody tr th:only-of-type {\n",
       "        vertical-align: middle;\n",
       "    }\n",
       "\n",
       "    .dataframe tbody tr th {\n",
       "        vertical-align: top;\n",
       "    }\n",
       "\n",
       "    .dataframe thead th {\n",
       "        text-align: right;\n",
       "    }\n",
       "</style>\n",
       "<table border=\"1\" class=\"dataframe\">\n",
       "  <thead>\n",
       "    <tr style=\"text-align: right;\">\n",
       "      <th></th>\n",
       "      <th>count</th>\n",
       "      <th>sum</th>\n",
       "      <th>result</th>\n",
       "    </tr>\n",
       "    <tr>\n",
       "      <th>total_income_id</th>\n",
       "      <th></th>\n",
       "      <th></th>\n",
       "      <th></th>\n",
       "    </tr>\n",
       "  </thead>\n",
       "  <tbody>\n",
       "    <tr>\n",
       "      <td>3</td>\n",
       "      <td>5370</td>\n",
       "      <td>473</td>\n",
       "      <td>0.088</td>\n",
       "    </tr>\n",
       "    <tr>\n",
       "      <td>2</td>\n",
       "      <td>6117</td>\n",
       "      <td>526</td>\n",
       "      <td>0.086</td>\n",
       "    </tr>\n",
       "    <tr>\n",
       "      <td>6</td>\n",
       "      <td>624</td>\n",
       "      <td>51</td>\n",
       "      <td>0.082</td>\n",
       "    </tr>\n",
       "    <tr>\n",
       "      <td>1</td>\n",
       "      <td>4091</td>\n",
       "      <td>331</td>\n",
       "      <td>0.081</td>\n",
       "    </tr>\n",
       "    <tr>\n",
       "      <td>7</td>\n",
       "      <td>330</td>\n",
       "      <td>24</td>\n",
       "      <td>0.073</td>\n",
       "    </tr>\n",
       "    <tr>\n",
       "      <td>4</td>\n",
       "      <td>2762</td>\n",
       "      <td>194</td>\n",
       "      <td>0.070</td>\n",
       "    </tr>\n",
       "    <tr>\n",
       "      <td>5</td>\n",
       "      <td>1330</td>\n",
       "      <td>88</td>\n",
       "      <td>0.066</td>\n",
       "    </tr>\n",
       "    <tr>\n",
       "      <td>8</td>\n",
       "      <td>196</td>\n",
       "      <td>13</td>\n",
       "      <td>0.066</td>\n",
       "    </tr>\n",
       "    <tr>\n",
       "      <td>10</td>\n",
       "      <td>222</td>\n",
       "      <td>14</td>\n",
       "      <td>0.063</td>\n",
       "    </tr>\n",
       "    <tr>\n",
       "      <td>0</td>\n",
       "      <td>372</td>\n",
       "      <td>23</td>\n",
       "      <td>0.062</td>\n",
       "    </tr>\n",
       "    <tr>\n",
       "      <td>9</td>\n",
       "      <td>111</td>\n",
       "      <td>4</td>\n",
       "      <td>0.036</td>\n",
       "    </tr>\n",
       "  </tbody>\n",
       "</table>\n",
       "</div>"
      ],
      "text/plain": [
       "                 count  sum result\n",
       "total_income_id                   \n",
       "3                 5370  473  0.088\n",
       "2                 6117  526  0.086\n",
       "6                  624   51  0.082\n",
       "1                 4091  331  0.081\n",
       "7                  330   24  0.073\n",
       "4                 2762  194  0.070\n",
       "5                 1330   88  0.066\n",
       "8                  196   13  0.066\n",
       "10                 222   14  0.063\n",
       "0                  372   23  0.062\n",
       "9                  111    4  0.036"
      ]
     },
     "execution_count": 9,
     "metadata": {},
     "output_type": "execute_result"
    }
   ],
   "source": [
    "#создаем функцию, для категоризации доходов по 50000, которые будут записываться в новый столбец по id ()\n",
    "def total_income_cat(value):\n",
    "    if value >= 500000:\n",
    "        return 10 #единственная категория с условием, остальные будут делится следующим образом - сумма дохода делится на 50000\n",
    "# и частное (целое число) результата будет являться id категории\n",
    "    else:\n",
    "        value = value // 50000\n",
    "        return value\n",
    "data['total_income_id'] = data['total_income'].apply(total_income_cat)\n",
    "data['total_income_id'].value_counts()\n",
    "debt_total_income = pd.DataFrame()\n",
    "debt_total_income['count'] = data.groupby('total_income_id')['debt'].count()\n",
    "debt_total_income['sum'] = data.groupby('total_income_id')['debt'].sum()\n",
    "debt_total_income['result'] = debt_total_income['sum'] / debt_total_income['count']\n",
    "debt_total_income['result'] = debt_total_income['result'].map(lambda x: '{:,.3f}'.format(x))\n",
    "debt_total_income.sort_values('result', ascending  = False)\n"
   ]
  },
  {
   "cell_type": "markdown",
   "metadata": {},
   "source": [
    "**Вывод**"
   ]
  },
  {
   "cell_type": "markdown",
   "metadata": {},
   "source": [
    "Чаще всего просрочки допускают клиенты, у которых зарплата от 50 до 200 т.р., но так получается, из-за того, что это средняя зарплата по стране и, соответственно, клиентов с такой зарплатой больше. В целом прямой зависимости между доходом и возвратом кредитов в срок нет."
   ]
  },
  {
   "cell_type": "markdown",
   "metadata": {},
   "source": [
    "- Как разные цели кредита влияют на его возврат в срок?"
   ]
  },
  {
   "cell_type": "code",
   "execution_count": 10,
   "metadata": {},
   "outputs": [
    {
     "data": {
      "text/html": [
       "<div>\n",
       "<style scoped>\n",
       "    .dataframe tbody tr th:only-of-type {\n",
       "        vertical-align: middle;\n",
       "    }\n",
       "\n",
       "    .dataframe tbody tr th {\n",
       "        vertical-align: top;\n",
       "    }\n",
       "\n",
       "    .dataframe thead th {\n",
       "        text-align: right;\n",
       "    }\n",
       "</style>\n",
       "<table border=\"1\" class=\"dataframe\">\n",
       "  <thead>\n",
       "    <tr style=\"text-align: right;\">\n",
       "      <th></th>\n",
       "      <th>count</th>\n",
       "      <th>sum</th>\n",
       "      <th>result</th>\n",
       "      <th>total_debt</th>\n",
       "    </tr>\n",
       "    <tr>\n",
       "      <th>purpose_category</th>\n",
       "      <th></th>\n",
       "      <th></th>\n",
       "      <th></th>\n",
       "      <th></th>\n",
       "    </tr>\n",
       "  </thead>\n",
       "  <tbody>\n",
       "    <tr>\n",
       "      <td>авто</td>\n",
       "      <td>4315</td>\n",
       "      <td>403</td>\n",
       "      <td>0.093</td>\n",
       "      <td>1.155</td>\n",
       "    </tr>\n",
       "    <tr>\n",
       "      <td>образование</td>\n",
       "      <td>4022</td>\n",
       "      <td>370</td>\n",
       "      <td>0.092</td>\n",
       "      <td>1.137</td>\n",
       "    </tr>\n",
       "    <tr>\n",
       "      <td>свадьба</td>\n",
       "      <td>2348</td>\n",
       "      <td>186</td>\n",
       "      <td>0.079</td>\n",
       "      <td>0.979</td>\n",
       "    </tr>\n",
       "    <tr>\n",
       "      <td>недвижимость</td>\n",
       "      <td>10840</td>\n",
       "      <td>782</td>\n",
       "      <td>0.072</td>\n",
       "      <td>0.892</td>\n",
       "    </tr>\n",
       "  </tbody>\n",
       "</table>\n",
       "</div>"
      ],
      "text/plain": [
       "                  count  sum result total_debt\n",
       "purpose_category                              \n",
       " авто              4315  403  0.093      1.155\n",
       "образование        4022  370  0.092      1.137\n",
       "свадьба            2348  186  0.079      0.979\n",
       "недвижимость      10840  782  0.072      0.892"
      ]
     },
     "execution_count": 10,
     "metadata": {},
     "output_type": "execute_result"
    }
   ],
   "source": [
    "total_debt = data['debt'].sum()/ len(data)\n",
    "#создаем табилцу зависимости цели кредита и возврата кредита в срок\n",
    "debt_purpose = pd.DataFrame()\n",
    "debt_purpose['count'] = data.groupby('purpose_category')['debt'].count()\n",
    "debt_purpose['sum'] = data.groupby('purpose_category')['debt'].sum()\n",
    "debt_purpose['result'] = debt_purpose['sum'] / debt_purpose['count']\n",
    "debt_purpose['total_debt'] = debt_purpose['result'] / total_debt\n",
    "debt_purpose['result'] = debt_purpose['result'].map(lambda x: '{:,.3f}'.format(x))\n",
    "debt_purpose['total_debt'] = debt_purpose['total_debt'].map(lambda x: '{:,.3f}'.format(x))\n",
    "debt_purpose.sort_values('result', ascending  = False)"
   ]
  },
  {
   "cell_type": "markdown",
   "metadata": {},
   "source": [
    "**Вывод**"
   ]
  },
  {
   "cell_type": "markdown",
   "metadata": {},
   "source": [
    "Чаще всего просрочки допускают по автокредитам и кредитам на образование. По ипотечным кредитам просрочки допускаются реже всего."
   ]
  },
  {
   "cell_type": "markdown",
   "metadata": {},
   "source": [
    "## Общий вывод"
   ]
  },
  {
   "cell_type": "markdown",
   "metadata": {},
   "source": [
    "Из приведенного анализа складывается портрет идеального заемщика-вдовец без детей, с зарплатой от 450 000 р до 500 000 р, который планирует оформить кредит на покупку недвижимости.\n",
    "Выводы кроме шуток:\n",
    " 1. клиенты с детьми чаще допускают просрочки, т.к. наличие детей всегда подразумевает дополнительные и непредвиденные расходы;\n",
    " 2. клиенты, которые состоят или состояли в официальном браке более добросовестные плательщики, нежели холостые и те, кто состоит в гражданском браке;\n",
    " 3. сумма дохода серьезно не влияет на возврат кредита в срок, т.к. сумма одобренного кредита зависит от ежемесячного дохода, что, в свою очереь, адекватно распределяет кредитную нагрузку на клиента;\n",
    " 4. меньше всего просрочек допускается по ипотечным кредитам. Это зависит от того, что платежи по ипотечным кредитам самые большие и в случае просрочки начисляются пени, которые могут серьезно ухудшить финансовое состояние клиента, а в самом худшем сценарии неоплаты кредита можно вообще лишиться жилья. Эти факторы мотивируют вносить своевременые ежемесячные платежи."
   ]
  },
  {
   "cell_type": "code",
   "execution_count": null,
   "metadata": {},
   "outputs": [],
   "source": []
  }
 ],
 "metadata": {
  "ExecuteTimeLog": [
   {
    "duration": 2062,
    "start_time": "2021-07-21T09:57:05.396Z"
   },
   {
    "duration": 73,
    "start_time": "2021-07-21T09:57:19.237Z"
   },
   {
    "duration": 65,
    "start_time": "2021-07-21T09:57:45.753Z"
   },
   {
    "duration": 66,
    "start_time": "2021-07-21T09:58:54.212Z"
   },
   {
    "duration": 57,
    "start_time": "2021-07-21T09:59:01.067Z"
   },
   {
    "duration": 65,
    "start_time": "2021-07-21T09:59:22.763Z"
   },
   {
    "duration": 593,
    "start_time": "2021-07-21T09:59:58.829Z"
   },
   {
    "duration": 67,
    "start_time": "2021-07-21T10:00:23.103Z"
   },
   {
    "duration": 66,
    "start_time": "2021-07-21T10:00:32.467Z"
   },
   {
    "duration": 70,
    "start_time": "2021-07-21T10:01:15.647Z"
   },
   {
    "duration": 67,
    "start_time": "2021-07-21T10:01:24.983Z"
   },
   {
    "duration": 636,
    "start_time": "2021-07-21T10:02:48.694Z"
   },
   {
    "duration": 862,
    "start_time": "2021-07-22T09:54:11.164Z"
   },
   {
    "duration": 60,
    "start_time": "2021-07-22T09:54:19.825Z"
   },
   {
    "duration": 71,
    "start_time": "2021-07-22T09:54:39.574Z"
   },
   {
    "duration": 65,
    "start_time": "2021-07-22T09:59:37.957Z"
   },
   {
    "duration": 60,
    "start_time": "2021-07-22T09:59:54.370Z"
   },
   {
    "duration": 58,
    "start_time": "2021-07-22T10:00:13.187Z"
   },
   {
    "duration": 50,
    "start_time": "2021-07-22T10:00:19.615Z"
   },
   {
    "duration": 50,
    "start_time": "2021-07-22T10:00:35.077Z"
   },
   {
    "duration": 67,
    "start_time": "2021-07-22T10:01:07.695Z"
   },
   {
    "duration": 69,
    "start_time": "2021-07-22T10:01:22.344Z"
   },
   {
    "duration": 65,
    "start_time": "2021-07-22T10:01:29.157Z"
   },
   {
    "duration": 69,
    "start_time": "2021-07-22T10:03:14.014Z"
   },
   {
    "duration": 625,
    "start_time": "2021-07-22T10:03:24.904Z"
   },
   {
    "duration": 62,
    "start_time": "2021-07-22T10:39:30.711Z"
   },
   {
    "duration": 6,
    "start_time": "2021-07-22T10:39:35.853Z"
   },
   {
    "duration": 243,
    "start_time": "2021-07-22T10:41:11.139Z"
   },
   {
    "duration": 10,
    "start_time": "2021-07-22T10:43:35.711Z"
   },
   {
    "duration": 5053,
    "start_time": "2021-07-22T11:07:55.601Z"
   },
   {
    "duration": 33,
    "start_time": "2021-07-22T11:08:32.804Z"
   },
   {
    "duration": 33,
    "start_time": "2021-07-22T11:09:03.947Z"
   },
   {
    "duration": 30,
    "start_time": "2021-07-22T11:10:09.606Z"
   },
   {
    "duration": 25,
    "start_time": "2021-07-22T11:10:18.092Z"
   },
   {
    "duration": 29,
    "start_time": "2021-07-22T11:10:25.935Z"
   },
   {
    "duration": 29,
    "start_time": "2021-07-22T11:10:44.887Z"
   },
   {
    "duration": 10,
    "start_time": "2021-07-22T11:10:55.181Z"
   },
   {
    "duration": 9,
    "start_time": "2021-07-22T11:11:06.916Z"
   },
   {
    "duration": 10,
    "start_time": "2021-07-22T11:11:54.304Z"
   },
   {
    "duration": 662,
    "start_time": "2021-07-22T11:12:09.064Z"
   },
   {
    "duration": 9,
    "start_time": "2021-07-22T11:12:09.728Z"
   },
   {
    "duration": 9,
    "start_time": "2021-07-22T11:12:31.204Z"
   },
   {
    "duration": 37,
    "start_time": "2021-07-22T11:13:15.938Z"
   },
   {
    "duration": 12,
    "start_time": "2021-07-22T11:18:19.243Z"
   },
   {
    "duration": 36,
    "start_time": "2021-07-22T11:19:00.021Z"
   },
   {
    "duration": 29,
    "start_time": "2021-07-22T11:19:37.801Z"
   },
   {
    "duration": 628,
    "start_time": "2021-07-22T11:19:50.993Z"
   },
   {
    "duration": 26,
    "start_time": "2021-07-22T11:19:51.623Z"
   },
   {
    "duration": 28,
    "start_time": "2021-07-22T11:20:41.446Z"
   },
   {
    "duration": 36,
    "start_time": "2021-07-22T11:22:42.706Z"
   },
   {
    "duration": 34,
    "start_time": "2021-07-22T11:24:30.857Z"
   },
   {
    "duration": 34,
    "start_time": "2021-07-22T11:25:16.246Z"
   },
   {
    "duration": 297,
    "start_time": "2021-07-22T11:25:44.699Z"
   },
   {
    "duration": 630,
    "start_time": "2021-07-22T11:26:01.153Z"
   },
   {
    "duration": 39,
    "start_time": "2021-07-22T11:26:01.785Z"
   },
   {
    "duration": 33,
    "start_time": "2021-07-22T11:31:36.971Z"
   },
   {
    "duration": 658,
    "start_time": "2021-07-22T11:31:53.467Z"
   },
   {
    "duration": 33,
    "start_time": "2021-07-22T11:31:54.127Z"
   },
   {
    "duration": 658,
    "start_time": "2021-07-22T11:39:45.759Z"
   },
   {
    "duration": 33,
    "start_time": "2021-07-22T11:39:46.421Z"
   },
   {
    "duration": 14,
    "start_time": "2021-07-22T11:44:19.898Z"
   },
   {
    "duration": 18,
    "start_time": "2021-07-22T11:44:59.713Z"
   },
   {
    "duration": 624,
    "start_time": "2021-07-22T12:15:14.119Z"
   },
   {
    "duration": 43,
    "start_time": "2021-07-22T12:15:14.744Z"
   },
   {
    "duration": 22,
    "start_time": "2021-07-22T12:15:14.789Z"
   },
   {
    "duration": 645,
    "start_time": "2021-07-22T13:13:50.970Z"
   },
   {
    "duration": 35,
    "start_time": "2021-07-22T13:13:51.618Z"
   },
   {
    "duration": 37,
    "start_time": "2021-07-22T13:13:51.655Z"
   },
   {
    "duration": 22,
    "start_time": "2021-07-22T13:23:18.425Z"
   },
   {
    "duration": 14,
    "start_time": "2021-07-22T13:23:39.205Z"
   },
   {
    "duration": 2412,
    "start_time": "2021-07-22T13:24:29.404Z"
   },
   {
    "duration": 4467,
    "start_time": "2021-07-22T13:24:52.757Z"
   },
   {
    "duration": 14,
    "start_time": "2021-07-22T13:25:14.409Z"
   },
   {
    "duration": 22,
    "start_time": "2021-07-22T13:25:34.445Z"
   },
   {
    "duration": 643,
    "start_time": "2021-07-22T13:25:40.570Z"
   },
   {
    "duration": 35,
    "start_time": "2021-07-22T13:25:41.214Z"
   },
   {
    "duration": 36,
    "start_time": "2021-07-22T13:25:41.251Z"
   },
   {
    "duration": 13,
    "start_time": "2021-07-22T13:25:41.288Z"
   },
   {
    "duration": 16,
    "start_time": "2021-07-22T13:31:56.852Z"
   },
   {
    "duration": 21,
    "start_time": "2021-07-22T13:35:22.745Z"
   },
   {
    "duration": 20,
    "start_time": "2021-07-22T13:35:38.846Z"
   },
   {
    "duration": 20,
    "start_time": "2021-07-22T13:35:45.941Z"
   },
   {
    "duration": 4646,
    "start_time": "2021-07-22T13:41:55.510Z"
   },
   {
    "duration": 24,
    "start_time": "2021-07-22T13:42:15.266Z"
   },
   {
    "duration": 25,
    "start_time": "2021-07-22T13:44:33.685Z"
   },
   {
    "duration": 19,
    "start_time": "2021-07-22T13:44:57.894Z"
   },
   {
    "duration": 21,
    "start_time": "2021-07-22T13:45:26.662Z"
   },
   {
    "duration": 22,
    "start_time": "2021-07-22T13:45:35.811Z"
   },
   {
    "duration": 28,
    "start_time": "2021-07-22T13:45:45.679Z"
   },
   {
    "duration": 679,
    "start_time": "2021-07-22T13:46:08.371Z"
   },
   {
    "duration": 55,
    "start_time": "2021-07-22T13:46:09.052Z"
   },
   {
    "duration": 21,
    "start_time": "2021-07-22T13:46:09.109Z"
   },
   {
    "duration": 19,
    "start_time": "2021-07-22T13:46:09.132Z"
   },
   {
    "duration": 19,
    "start_time": "2021-07-22T13:48:57.346Z"
   },
   {
    "duration": 29,
    "start_time": "2021-07-22T13:51:57.760Z"
   },
   {
    "duration": 30,
    "start_time": "2021-07-22T13:53:30.870Z"
   },
   {
    "duration": 252,
    "start_time": "2021-07-22T13:54:20.302Z"
   },
   {
    "duration": 2244,
    "start_time": "2021-07-22T13:54:24.107Z"
   },
   {
    "duration": 4796,
    "start_time": "2021-07-22T13:54:44.782Z"
   },
   {
    "duration": 34,
    "start_time": "2021-07-22T13:55:01.666Z"
   },
   {
    "duration": 32,
    "start_time": "2021-07-22T13:55:27.437Z"
   },
   {
    "duration": 38,
    "start_time": "2021-07-22T13:56:32.440Z"
   },
   {
    "duration": 4313,
    "start_time": "2021-07-22T14:07:43.775Z"
   },
   {
    "duration": 40,
    "start_time": "2021-07-22T14:07:59.640Z"
   },
   {
    "duration": 51,
    "start_time": "2021-07-22T14:08:15.970Z"
   },
   {
    "duration": 41,
    "start_time": "2021-07-22T14:09:16.309Z"
   },
   {
    "duration": 32,
    "start_time": "2021-07-22T14:14:03.482Z"
   },
   {
    "duration": 644,
    "start_time": "2021-07-22T14:38:38.185Z"
   },
   {
    "duration": 34,
    "start_time": "2021-07-22T14:38:38.831Z"
   },
   {
    "duration": 39,
    "start_time": "2021-07-22T14:38:38.869Z"
   },
   {
    "duration": 36,
    "start_time": "2021-07-22T14:38:38.909Z"
   },
   {
    "duration": 26,
    "start_time": "2021-07-22T14:45:10.420Z"
   },
   {
    "duration": 32,
    "start_time": "2021-07-22T14:45:33.588Z"
   },
   {
    "duration": 29,
    "start_time": "2021-07-22T14:45:47.335Z"
   },
   {
    "duration": 244,
    "start_time": "2021-07-22T15:00:56.484Z"
   },
   {
    "duration": 10,
    "start_time": "2021-07-22T15:01:03.244Z"
   },
   {
    "duration": 63,
    "start_time": "2021-07-22T15:01:31.428Z"
   },
   {
    "duration": 15,
    "start_time": "2021-07-22T15:01:36.287Z"
   },
   {
    "duration": 206,
    "start_time": "2021-07-22T15:03:30.921Z"
   },
   {
    "duration": 9,
    "start_time": "2021-07-22T15:03:42.099Z"
   },
   {
    "duration": 62,
    "start_time": "2021-07-22T15:09:01.261Z"
   },
   {
    "duration": 177,
    "start_time": "2021-07-22T15:09:14.213Z"
   },
   {
    "duration": 182,
    "start_time": "2021-07-22T15:32:53.914Z"
   },
   {
    "duration": 176,
    "start_time": "2021-07-22T15:36:10.108Z"
   },
   {
    "duration": 6,
    "start_time": "2021-07-22T15:36:14.089Z"
   },
   {
    "duration": 170,
    "start_time": "2021-07-22T15:38:25.109Z"
   },
   {
    "duration": 5,
    "start_time": "2021-07-22T15:38:57.115Z"
   },
   {
    "duration": 6,
    "start_time": "2021-07-22T15:39:08.524Z"
   },
   {
    "duration": 334,
    "start_time": "2021-07-22T15:42:15.901Z"
   },
   {
    "duration": 213,
    "start_time": "2021-07-22T15:42:30.269Z"
   },
   {
    "duration": 171,
    "start_time": "2021-07-22T15:42:48.025Z"
   },
   {
    "duration": 190,
    "start_time": "2021-07-22T15:43:19.659Z"
   },
   {
    "duration": 204,
    "start_time": "2021-07-22T15:44:14.026Z"
   },
   {
    "duration": 210,
    "start_time": "2021-07-22T15:44:27.121Z"
   },
   {
    "duration": 205,
    "start_time": "2021-07-22T15:44:36.116Z"
   },
   {
    "duration": 180,
    "start_time": "2021-07-22T15:44:56.633Z"
   },
   {
    "duration": 659,
    "start_time": "2021-07-22T15:45:04.299Z"
   },
   {
    "duration": 40,
    "start_time": "2021-07-22T15:45:04.960Z"
   },
   {
    "duration": 22,
    "start_time": "2021-07-22T15:45:05.002Z"
   },
   {
    "duration": 30,
    "start_time": "2021-07-22T15:45:05.026Z"
   },
   {
    "duration": 302,
    "start_time": "2021-07-22T15:45:05.058Z"
   },
   {
    "duration": 178,
    "start_time": "2021-07-22T15:45:32.061Z"
   },
   {
    "duration": 217,
    "start_time": "2021-07-22T15:45:47.218Z"
   },
   {
    "duration": 5,
    "start_time": "2021-07-22T15:46:06.750Z"
   },
   {
    "duration": 7,
    "start_time": "2021-07-22T15:46:10.265Z"
   },
   {
    "duration": 7,
    "start_time": "2021-07-22T15:46:24.396Z"
   },
   {
    "duration": 6,
    "start_time": "2021-07-22T15:46:33.420Z"
   },
   {
    "duration": 59,
    "start_time": "2021-07-22T15:49:38.026Z"
   },
   {
    "duration": 180,
    "start_time": "2021-07-22T15:49:48.127Z"
   },
   {
    "duration": 193,
    "start_time": "2021-07-22T15:50:32.850Z"
   },
   {
    "duration": 175,
    "start_time": "2021-07-22T15:51:13.699Z"
   },
   {
    "duration": 170,
    "start_time": "2021-07-22T15:54:20.861Z"
   },
   {
    "duration": 314,
    "start_time": "2021-07-22T15:57:57.126Z"
   },
   {
    "duration": 5,
    "start_time": "2021-07-22T15:58:01.113Z"
   },
   {
    "duration": 170,
    "start_time": "2021-07-22T15:59:56.195Z"
   },
   {
    "duration": 7,
    "start_time": "2021-07-22T16:02:56.935Z"
   },
   {
    "duration": 10,
    "start_time": "2021-07-22T16:04:38.321Z"
   },
   {
    "duration": 7,
    "start_time": "2021-07-22T16:04:46.955Z"
   },
   {
    "duration": 176,
    "start_time": "2021-07-22T16:05:08.703Z"
   },
   {
    "duration": 10,
    "start_time": "2021-07-22T16:05:16.828Z"
   },
   {
    "duration": 10,
    "start_time": "2021-07-22T16:05:50.289Z"
   },
   {
    "duration": 175,
    "start_time": "2021-07-22T16:09:58.613Z"
   },
   {
    "duration": 66,
    "start_time": "2021-07-22T16:12:21.019Z"
   },
   {
    "duration": 174,
    "start_time": "2021-07-22T16:12:36.228Z"
   },
   {
    "duration": 181,
    "start_time": "2021-07-22T16:12:43.530Z"
   },
   {
    "duration": 180,
    "start_time": "2021-07-22T16:20:04.705Z"
   },
   {
    "duration": 194,
    "start_time": "2021-07-22T16:20:10.306Z"
   },
   {
    "duration": 5,
    "start_time": "2021-07-22T16:20:50.671Z"
   },
   {
    "duration": 686,
    "start_time": "2021-07-22T16:23:42.408Z"
   },
   {
    "duration": 22,
    "start_time": "2021-07-22T16:23:48.601Z"
   },
   {
    "duration": 594,
    "start_time": "2021-07-22T16:24:07.735Z"
   },
   {
    "duration": 35,
    "start_time": "2021-07-22T16:24:08.332Z"
   },
   {
    "duration": 24,
    "start_time": "2021-07-22T16:24:08.385Z"
   },
   {
    "duration": 27,
    "start_time": "2021-07-22T16:24:08.411Z"
   },
   {
    "duration": 7,
    "start_time": "2021-07-22T16:24:08.440Z"
   },
   {
    "duration": 6,
    "start_time": "2021-07-22T16:24:28.980Z"
   },
   {
    "duration": 6,
    "start_time": "2021-07-22T16:24:52.428Z"
   },
   {
    "duration": 266,
    "start_time": "2021-07-22T16:25:30.013Z"
   },
   {
    "duration": 605,
    "start_time": "2021-07-22T16:45:36.360Z"
   },
   {
    "duration": 39,
    "start_time": "2021-07-22T16:45:36.967Z"
   },
   {
    "duration": 21,
    "start_time": "2021-07-22T16:45:37.010Z"
   },
   {
    "duration": 27,
    "start_time": "2021-07-22T16:45:37.032Z"
   },
   {
    "duration": 28,
    "start_time": "2021-07-22T16:45:37.061Z"
   },
   {
    "duration": 8,
    "start_time": "2021-07-22T16:46:15.214Z"
   },
   {
    "duration": 7,
    "start_time": "2021-07-22T16:51:33.265Z"
   },
   {
    "duration": 277,
    "start_time": "2021-07-22T17:00:11.713Z"
   },
   {
    "duration": 12,
    "start_time": "2021-07-22T17:00:23.388Z"
   },
   {
    "duration": 63,
    "start_time": "2021-07-22T17:01:01.113Z"
   },
   {
    "duration": 9,
    "start_time": "2021-07-22T17:01:15.893Z"
   },
   {
    "duration": 9,
    "start_time": "2021-07-22T17:01:43.010Z"
   },
   {
    "duration": 86,
    "start_time": "2021-07-22T17:07:07.659Z"
   },
   {
    "duration": 302,
    "start_time": "2021-07-22T17:07:23.525Z"
   },
   {
    "duration": 811,
    "start_time": "2021-07-22T17:07:32.214Z"
   },
   {
    "duration": 205,
    "start_time": "2021-07-22T17:12:11.782Z"
   },
   {
    "duration": 208,
    "start_time": "2021-07-22T17:12:23.822Z"
   },
   {
    "duration": 225,
    "start_time": "2021-07-22T17:13:52.489Z"
   },
   {
    "duration": 177,
    "start_time": "2021-07-22T17:29:25.678Z"
   },
   {
    "duration": 311,
    "start_time": "2021-07-22T17:29:40.356Z"
   },
   {
    "duration": 336,
    "start_time": "2021-07-22T17:30:14.516Z"
   },
   {
    "duration": 375,
    "start_time": "2021-07-22T17:30:30.884Z"
   },
   {
    "duration": 341,
    "start_time": "2021-07-22T17:31:20.036Z"
   },
   {
    "duration": 310,
    "start_time": "2021-07-22T17:31:39.907Z"
   },
   {
    "duration": 609,
    "start_time": "2021-07-22T17:33:12.210Z"
   },
   {
    "duration": 50,
    "start_time": "2021-07-22T17:33:12.820Z"
   },
   {
    "duration": 34,
    "start_time": "2021-07-22T17:33:12.873Z"
   },
   {
    "duration": 29,
    "start_time": "2021-07-22T17:33:12.910Z"
   },
   {
    "duration": 11,
    "start_time": "2021-07-22T17:33:12.941Z"
   },
   {
    "duration": 241,
    "start_time": "2021-07-22T17:34:26.227Z"
   },
   {
    "duration": 203,
    "start_time": "2021-07-22T17:34:26.268Z"
   },
   {
    "duration": 72256,
    "start_time": "2021-07-22T18:35:32.476Z"
   },
   {
    "duration": 12440,
    "start_time": "2021-07-22T18:38:18.827Z"
   },
   {
    "duration": 588,
    "start_time": "2021-07-22T18:40:13.021Z"
   },
   {
    "duration": 33,
    "start_time": "2021-07-22T18:40:13.611Z"
   },
   {
    "duration": 40,
    "start_time": "2021-07-22T18:40:13.647Z"
   },
   {
    "duration": 27,
    "start_time": "2021-07-22T18:40:13.689Z"
   },
   {
    "duration": 12576,
    "start_time": "2021-07-22T18:40:13.718Z"
   },
   {
    "duration": 239,
    "start_time": "2021-07-22T18:40:26.295Z"
   },
   {
    "duration": 72,
    "start_time": "2021-07-22T18:41:01.361Z"
   },
   {
    "duration": 289,
    "start_time": "2021-07-22T18:41:17.497Z"
   },
   {
    "duration": 12411,
    "start_time": "2021-07-22T18:41:36.266Z"
   },
   {
    "duration": 13308,
    "start_time": "2021-07-22T18:42:12.072Z"
   },
   {
    "duration": 632,
    "start_time": "2021-07-22T18:46:50.375Z"
   },
   {
    "duration": 33,
    "start_time": "2021-07-22T18:46:51.009Z"
   },
   {
    "duration": 22,
    "start_time": "2021-07-22T18:46:51.043Z"
   },
   {
    "duration": 46,
    "start_time": "2021-07-22T18:46:51.067Z"
   },
   {
    "duration": 10,
    "start_time": "2021-07-22T18:46:51.114Z"
   },
   {
    "duration": 12220,
    "start_time": "2021-07-22T18:46:51.126Z"
   },
   {
    "duration": 231,
    "start_time": "2021-07-22T18:47:03.348Z"
   },
   {
    "duration": 208,
    "start_time": "2021-07-23T09:34:27.091Z"
   },
   {
    "duration": 596,
    "start_time": "2021-07-23T09:34:38.149Z"
   },
   {
    "duration": 26,
    "start_time": "2021-07-23T09:34:38.747Z"
   },
   {
    "duration": 23,
    "start_time": "2021-07-23T09:34:38.786Z"
   },
   {
    "duration": 27,
    "start_time": "2021-07-23T09:34:38.811Z"
   },
   {
    "duration": 9,
    "start_time": "2021-07-23T09:34:38.840Z"
   },
   {
    "duration": 12128,
    "start_time": "2021-07-23T09:34:38.851Z"
   },
   {
    "duration": 235,
    "start_time": "2021-07-23T09:34:50.980Z"
   },
   {
    "duration": 21,
    "start_time": "2021-07-23T09:35:46.040Z"
   },
   {
    "duration": 12310,
    "start_time": "2021-07-23T10:57:44.777Z"
   },
   {
    "duration": 12146,
    "start_time": "2021-07-23T10:58:08.028Z"
   },
   {
    "duration": 12075,
    "start_time": "2021-07-23T10:58:32.338Z"
   },
   {
    "duration": 12106,
    "start_time": "2021-07-23T10:59:36.602Z"
   },
   {
    "duration": 12447,
    "start_time": "2021-07-23T11:01:21.381Z"
   },
   {
    "duration": 12523,
    "start_time": "2021-07-23T11:02:38.492Z"
   },
   {
    "duration": 12578,
    "start_time": "2021-07-23T11:02:56.640Z"
   },
   {
    "duration": 619,
    "start_time": "2021-07-23T11:04:21.004Z"
   },
   {
    "duration": 23,
    "start_time": "2021-07-23T11:04:21.625Z"
   },
   {
    "duration": 38,
    "start_time": "2021-07-23T11:04:21.652Z"
   },
   {
    "duration": 46,
    "start_time": "2021-07-23T11:04:21.692Z"
   },
   {
    "duration": 10,
    "start_time": "2021-07-23T11:04:21.740Z"
   },
   {
    "duration": 12576,
    "start_time": "2021-07-23T11:04:21.751Z"
   },
   {
    "duration": 3246,
    "start_time": "2021-07-23T11:07:56.039Z"
   },
   {
    "duration": 682,
    "start_time": "2021-07-23T11:09:46.148Z"
   },
   {
    "duration": 688,
    "start_time": "2021-07-23T11:09:58.952Z"
   },
   {
    "duration": 634,
    "start_time": "2021-07-23T11:10:27.586Z"
   },
   {
    "duration": 22,
    "start_time": "2021-07-23T11:10:28.222Z"
   },
   {
    "duration": 19,
    "start_time": "2021-07-23T11:10:28.246Z"
   },
   {
    "duration": 27,
    "start_time": "2021-07-23T11:10:28.285Z"
   },
   {
    "duration": 691,
    "start_time": "2021-07-23T11:10:28.314Z"
   },
   {
    "duration": 12904,
    "start_time": "2021-07-23T11:10:29.007Z"
   },
   {
    "duration": 31,
    "start_time": "2021-07-23T11:11:21.283Z"
   },
   {
    "duration": 591,
    "start_time": "2021-07-23T11:11:30.632Z"
   },
   {
    "duration": 24,
    "start_time": "2021-07-23T11:11:31.225Z"
   },
   {
    "duration": 39,
    "start_time": "2021-07-23T11:11:31.251Z"
   },
   {
    "duration": 30,
    "start_time": "2021-07-23T11:11:31.292Z"
   },
   {
    "duration": 14,
    "start_time": "2021-07-23T11:11:31.324Z"
   },
   {
    "duration": 12448,
    "start_time": "2021-07-23T11:11:31.340Z"
   },
   {
    "duration": 12406,
    "start_time": "2021-07-23T11:29:40.302Z"
   },
   {
    "duration": 499,
    "start_time": "2021-07-23T11:42:03.350Z"
   },
   {
    "duration": 783,
    "start_time": "2021-07-23T11:42:14.919Z"
   },
   {
    "duration": 471,
    "start_time": "2021-07-23T11:42:28.549Z"
   },
   {
    "duration": 608,
    "start_time": "2021-07-23T11:43:30.713Z"
   },
   {
    "duration": 24,
    "start_time": "2021-07-23T11:43:31.323Z"
   },
   {
    "duration": 41,
    "start_time": "2021-07-23T11:43:31.349Z"
   },
   {
    "duration": 31,
    "start_time": "2021-07-23T11:43:31.391Z"
   },
   {
    "duration": 10,
    "start_time": "2021-07-23T11:43:31.424Z"
   },
   {
    "duration": 12244,
    "start_time": "2021-07-23T11:43:31.436Z"
   },
   {
    "duration": 12415,
    "start_time": "2021-07-23T11:45:15.263Z"
   },
   {
    "duration": 12606,
    "start_time": "2021-07-23T11:46:04.731Z"
   },
   {
    "duration": 12255,
    "start_time": "2021-07-23T11:46:33.379Z"
   },
   {
    "duration": 9,
    "start_time": "2021-07-23T12:15:48.825Z"
   },
   {
    "duration": 188,
    "start_time": "2021-07-23T12:18:32.178Z"
   },
   {
    "duration": 13,
    "start_time": "2021-07-23T12:18:47.560Z"
   },
   {
    "duration": 12,
    "start_time": "2021-07-23T12:19:06.327Z"
   },
   {
    "duration": 12,
    "start_time": "2021-07-23T12:19:49.982Z"
   },
   {
    "duration": 190,
    "start_time": "2021-07-23T12:21:12.360Z"
   },
   {
    "duration": 13,
    "start_time": "2021-07-23T12:21:31.310Z"
   },
   {
    "duration": 13,
    "start_time": "2021-07-23T12:21:40.851Z"
   },
   {
    "duration": 14,
    "start_time": "2021-07-23T12:27:07.566Z"
   },
   {
    "duration": 17,
    "start_time": "2021-07-23T12:32:10.447Z"
   },
   {
    "duration": 17,
    "start_time": "2021-07-23T12:32:45.646Z"
   },
   {
    "duration": 670,
    "start_time": "2021-07-23T12:34:08.862Z"
   },
   {
    "duration": 24,
    "start_time": "2021-07-23T12:34:09.534Z"
   },
   {
    "duration": 37,
    "start_time": "2021-07-23T12:34:09.560Z"
   },
   {
    "duration": 27,
    "start_time": "2021-07-23T12:34:09.599Z"
   },
   {
    "duration": 10,
    "start_time": "2021-07-23T12:34:09.628Z"
   },
   {
    "duration": 12406,
    "start_time": "2021-07-23T12:34:09.639Z"
   },
   {
    "duration": 15,
    "start_time": "2021-07-23T12:34:22.047Z"
   },
   {
    "duration": 29,
    "start_time": "2021-07-23T12:34:22.064Z"
   },
   {
    "duration": 579,
    "start_time": "2021-07-23T12:38:48.533Z"
   },
   {
    "duration": 22,
    "start_time": "2021-07-23T12:38:49.114Z"
   },
   {
    "duration": 19,
    "start_time": "2021-07-23T12:38:49.140Z"
   },
   {
    "duration": 45,
    "start_time": "2021-07-23T12:38:49.160Z"
   },
   {
    "duration": 19,
    "start_time": "2021-07-23T12:38:49.207Z"
   },
   {
    "duration": 12210,
    "start_time": "2021-07-23T12:38:49.228Z"
   },
   {
    "duration": 13,
    "start_time": "2021-07-23T12:39:01.440Z"
   },
   {
    "duration": 31,
    "start_time": "2021-07-23T12:39:01.455Z"
   },
   {
    "duration": 2,
    "start_time": "2021-07-23T12:39:01.488Z"
   },
   {
    "duration": 17,
    "start_time": "2021-07-23T12:45:30.115Z"
   },
   {
    "duration": 30,
    "start_time": "2021-07-23T12:46:08.218Z"
   },
   {
    "duration": 34,
    "start_time": "2021-07-23T12:50:37.878Z"
   },
   {
    "duration": 30,
    "start_time": "2021-07-23T12:51:09.113Z"
   },
   {
    "duration": 24,
    "start_time": "2021-07-23T12:51:23.365Z"
   },
   {
    "duration": 31,
    "start_time": "2021-07-23T12:52:39.206Z"
   },
   {
    "duration": 23,
    "start_time": "2021-07-23T12:53:00.397Z"
   },
   {
    "duration": 21,
    "start_time": "2021-07-23T12:57:49.146Z"
   },
   {
    "duration": 27,
    "start_time": "2021-07-23T12:57:58.888Z"
   },
   {
    "duration": 34,
    "start_time": "2021-07-23T12:58:23.368Z"
   },
   {
    "duration": 245,
    "start_time": "2021-07-23T13:05:44.263Z"
   },
   {
    "duration": 15,
    "start_time": "2021-07-23T13:06:37.648Z"
   },
   {
    "duration": 25,
    "start_time": "2021-07-23T13:07:41.897Z"
   },
   {
    "duration": 15,
    "start_time": "2021-07-23T13:08:57.178Z"
   },
   {
    "duration": 619,
    "start_time": "2021-07-23T13:10:56.354Z"
   },
   {
    "duration": 22,
    "start_time": "2021-07-23T13:10:56.975Z"
   },
   {
    "duration": 19,
    "start_time": "2021-07-23T13:10:56.999Z"
   },
   {
    "duration": 27,
    "start_time": "2021-07-23T13:10:57.020Z"
   },
   {
    "duration": 10,
    "start_time": "2021-07-23T13:10:57.049Z"
   },
   {
    "duration": 12344,
    "start_time": "2021-07-23T13:10:57.084Z"
   },
   {
    "duration": 13,
    "start_time": "2021-07-23T13:11:09.430Z"
   },
   {
    "duration": 23,
    "start_time": "2021-07-23T13:11:09.445Z"
   },
   {
    "duration": 29,
    "start_time": "2021-07-23T13:11:09.485Z"
   },
   {
    "duration": 27,
    "start_time": "2021-07-23T13:11:09.516Z"
   },
   {
    "duration": 211,
    "start_time": "2021-07-23T14:06:05.666Z"
   },
   {
    "duration": 643,
    "start_time": "2021-07-23T14:07:19.174Z"
   },
   {
    "duration": 25,
    "start_time": "2021-07-23T14:07:19.818Z"
   },
   {
    "duration": 19,
    "start_time": "2021-07-23T14:07:19.845Z"
   },
   {
    "duration": 42,
    "start_time": "2021-07-23T14:07:19.865Z"
   },
   {
    "duration": 11,
    "start_time": "2021-07-23T14:07:19.908Z"
   },
   {
    "duration": 215,
    "start_time": "2021-07-23T14:07:19.921Z"
   },
   {
    "duration": 26668,
    "start_time": "2021-07-23T14:06:53.471Z"
   },
   {
    "duration": 26669,
    "start_time": "2021-07-23T14:06:53.472Z"
   },
   {
    "duration": 26668,
    "start_time": "2021-07-23T14:06:53.474Z"
   },
   {
    "duration": 26669,
    "start_time": "2021-07-23T14:06:53.475Z"
   },
   {
    "duration": 26654,
    "start_time": "2021-07-23T14:06:53.491Z"
   },
   {
    "duration": 655,
    "start_time": "2021-07-23T14:10:10.336Z"
   },
   {
    "duration": 1713,
    "start_time": "2021-07-23T14:10:15.524Z"
   },
   {
    "duration": 4,
    "start_time": "2021-07-23T14:11:31.599Z"
   },
   {
    "duration": 4,
    "start_time": "2021-07-23T14:11:38.237Z"
   },
   {
    "duration": 4,
    "start_time": "2021-07-23T14:11:46.261Z"
   },
   {
    "duration": 5,
    "start_time": "2021-07-23T14:12:43.009Z"
   },
   {
    "duration": 201,
    "start_time": "2021-07-23T14:13:22.811Z"
   },
   {
    "duration": 1982,
    "start_time": "2021-07-23T14:13:37.000Z"
   },
   {
    "duration": 1910,
    "start_time": "2021-07-23T14:14:12.635Z"
   },
   {
    "duration": 71,
    "start_time": "2021-07-23T14:14:43.267Z"
   },
   {
    "duration": 22,
    "start_time": "2021-07-23T14:14:43.340Z"
   },
   {
    "duration": 38,
    "start_time": "2021-07-23T14:14:43.364Z"
   },
   {
    "duration": 31,
    "start_time": "2021-07-23T14:14:43.403Z"
   },
   {
    "duration": 669,
    "start_time": "2021-07-23T14:14:43.435Z"
   },
   {
    "duration": 2085,
    "start_time": "2021-07-23T14:14:44.106Z"
   },
   {
    "duration": 12417,
    "start_time": "2021-07-23T14:14:46.193Z"
   },
   {
    "duration": 16,
    "start_time": "2021-07-23T14:14:58.612Z"
   },
   {
    "duration": 19,
    "start_time": "2021-07-23T14:14:58.631Z"
   },
   {
    "duration": 50,
    "start_time": "2021-07-23T14:14:58.652Z"
   },
   {
    "duration": 15,
    "start_time": "2021-07-23T14:14:58.704Z"
   },
   {
    "duration": 342,
    "start_time": "2021-08-07T08:29:34.881Z"
   },
   {
    "duration": 806,
    "start_time": "2021-08-07T08:29:57.642Z"
   },
   {
    "duration": 34,
    "start_time": "2021-08-07T08:29:58.451Z"
   },
   {
    "duration": 31,
    "start_time": "2021-08-07T08:29:58.501Z"
   },
   {
    "duration": 67,
    "start_time": "2021-08-07T08:29:58.535Z"
   },
   {
    "duration": 904,
    "start_time": "2021-08-07T08:29:58.604Z"
   },
   {
    "duration": 2367,
    "start_time": "2021-08-07T08:29:59.511Z"
   },
   {
    "duration": 35,
    "start_time": "2021-08-07T08:30:23.685Z"
   },
   {
    "duration": 27,
    "start_time": "2021-08-07T08:30:23.723Z"
   },
   {
    "duration": 71,
    "start_time": "2021-08-07T08:30:23.753Z"
   },
   {
    "duration": 23,
    "start_time": "2021-08-07T08:30:23.827Z"
   },
   {
    "duration": 858,
    "start_time": "2021-08-07T08:30:41.405Z"
   },
   {
    "duration": 55,
    "start_time": "2021-08-07T08:30:42.267Z"
   },
   {
    "duration": 34,
    "start_time": "2021-08-07T08:30:42.326Z"
   },
   {
    "duration": 66,
    "start_time": "2021-08-07T08:30:42.362Z"
   },
   {
    "duration": 914,
    "start_time": "2021-08-07T08:30:42.430Z"
   },
   {
    "duration": 2758,
    "start_time": "2021-08-07T08:30:43.347Z"
   },
   {
    "duration": 34,
    "start_time": "2021-08-07T08:31:08.583Z"
   },
   {
    "duration": 26,
    "start_time": "2021-08-07T08:31:08.619Z"
   },
   {
    "duration": 72,
    "start_time": "2021-08-07T08:31:08.648Z"
   },
   {
    "duration": 23,
    "start_time": "2021-08-07T08:31:08.723Z"
   },
   {
    "duration": 23288,
    "start_time": "2021-08-07T08:31:38.595Z"
   },
   {
    "duration": 23300,
    "start_time": "2021-08-07T08:32:21.802Z"
   },
   {
    "duration": 23318,
    "start_time": "2021-08-07T08:33:19.533Z"
   },
   {
    "duration": 24532,
    "start_time": "2021-08-07T08:34:02.755Z"
   },
   {
    "duration": 104,
    "start_time": "2021-08-07T08:37:23.574Z"
   },
   {
    "duration": 116,
    "start_time": "2021-08-07T08:38:25.917Z"
   },
   {
    "duration": 954,
    "start_time": "2021-08-07T08:38:34.713Z"
   },
   {
    "duration": 53,
    "start_time": "2021-08-07T08:38:35.670Z"
   },
   {
    "duration": 36,
    "start_time": "2021-08-07T08:38:35.726Z"
   },
   {
    "duration": 77,
    "start_time": "2021-08-07T08:38:35.765Z"
   },
   {
    "duration": 951,
    "start_time": "2021-08-07T08:38:35.845Z"
   },
   {
    "duration": 2811,
    "start_time": "2021-08-07T08:38:36.802Z"
   },
   {
    "duration": 23077,
    "start_time": "2021-08-07T08:38:39.615Z"
   },
   {
    "duration": 89,
    "start_time": "2021-08-07T08:39:02.710Z"
   },
   {
    "duration": 81,
    "start_time": "2021-08-07T08:39:02.719Z"
   },
   {
    "duration": 64,
    "start_time": "2021-08-07T08:39:02.737Z"
   },
   {
    "duration": 60,
    "start_time": "2021-08-07T08:39:02.743Z"
   },
   {
    "duration": 59,
    "start_time": "2021-08-07T08:39:02.747Z"
   },
   {
    "duration": 91,
    "start_time": "2021-08-07T08:48:59.720Z"
   },
   {
    "duration": 60,
    "start_time": "2021-08-07T08:49:09.788Z"
   },
   {
    "duration": 49,
    "start_time": "2021-08-07T08:50:27.919Z"
   },
   {
    "duration": 831,
    "start_time": "2021-08-07T08:51:17.505Z"
   },
   {
    "duration": 45,
    "start_time": "2021-08-07T08:51:18.339Z"
   },
   {
    "duration": 43,
    "start_time": "2021-08-07T08:51:18.387Z"
   },
   {
    "duration": 69,
    "start_time": "2021-08-07T08:51:18.433Z"
   },
   {
    "duration": 895,
    "start_time": "2021-08-07T08:51:18.505Z"
   },
   {
    "duration": 2729,
    "start_time": "2021-08-07T08:51:19.403Z"
   },
   {
    "duration": 22089,
    "start_time": "2021-08-07T08:51:22.134Z"
   },
   {
    "duration": 23,
    "start_time": "2021-08-07T08:51:44.228Z"
   },
   {
    "duration": 48,
    "start_time": "2021-08-07T08:51:44.254Z"
   },
   {
    "duration": 39,
    "start_time": "2021-08-07T08:51:44.304Z"
   },
   {
    "duration": 21,
    "start_time": "2021-08-07T08:51:44.345Z"
   },
   {
    "duration": 41,
    "start_time": "2021-08-07T08:52:40.513Z"
   },
   {
    "duration": 387,
    "start_time": "2021-08-07T08:53:00.871Z"
   },
   {
    "duration": 54,
    "start_time": "2021-08-07T08:55:22.696Z"
   },
   {
    "duration": 53,
    "start_time": "2021-08-07T08:55:49.452Z"
   },
   {
    "duration": 51,
    "start_time": "2021-08-07T08:57:21.767Z"
   },
   {
    "duration": 808,
    "start_time": "2021-08-07T08:57:38.834Z"
   },
   {
    "duration": 61,
    "start_time": "2021-08-07T08:57:39.645Z"
   },
   {
    "duration": 30,
    "start_time": "2021-08-07T08:57:39.710Z"
   },
   {
    "duration": 67,
    "start_time": "2021-08-07T08:57:39.743Z"
   },
   {
    "duration": 909,
    "start_time": "2021-08-07T08:57:39.813Z"
   },
   {
    "duration": 2537,
    "start_time": "2021-08-07T08:57:40.727Z"
   },
   {
    "duration": 21893,
    "start_time": "2021-08-07T08:57:43.267Z"
   },
   {
    "duration": 39,
    "start_time": "2021-08-07T08:58:05.163Z"
   },
   {
    "duration": 25,
    "start_time": "2021-08-07T08:58:05.205Z"
   },
   {
    "duration": 41,
    "start_time": "2021-08-07T08:58:05.232Z"
   },
   {
    "duration": 42,
    "start_time": "2021-08-07T08:58:05.276Z"
   },
   {
    "duration": 393,
    "start_time": "2021-08-07T08:58:30.595Z"
   },
   {
    "duration": 43,
    "start_time": "2021-08-07T08:58:37.567Z"
   },
   {
    "duration": 99,
    "start_time": "2021-08-07T08:59:43.848Z"
   },
   {
    "duration": 109,
    "start_time": "2021-08-07T09:00:00.427Z"
   },
   {
    "duration": 309,
    "start_time": "2021-08-07T09:00:04.887Z"
   },
   {
    "duration": 45,
    "start_time": "2021-08-07T09:00:17.962Z"
   },
   {
    "duration": 52,
    "start_time": "2021-08-07T09:01:20.288Z"
   },
   {
    "duration": 862,
    "start_time": "2021-08-07T09:01:36.770Z"
   },
   {
    "duration": 43,
    "start_time": "2021-08-07T09:01:37.635Z"
   },
   {
    "duration": 29,
    "start_time": "2021-08-07T09:01:37.701Z"
   },
   {
    "duration": 39,
    "start_time": "2021-08-07T09:01:37.733Z"
   },
   {
    "duration": 918,
    "start_time": "2021-08-07T09:01:37.800Z"
   },
   {
    "duration": 2742,
    "start_time": "2021-08-07T09:01:38.721Z"
   },
   {
    "duration": 21360,
    "start_time": "2021-08-07T09:01:41.466Z"
   },
   {
    "duration": 20,
    "start_time": "2021-08-07T09:02:02.829Z"
   },
   {
    "duration": 52,
    "start_time": "2021-08-07T09:02:02.851Z"
   },
   {
    "duration": 39,
    "start_time": "2021-08-07T09:02:02.905Z"
   },
   {
    "duration": 21,
    "start_time": "2021-08-07T09:02:02.946Z"
   },
   {
    "duration": 43,
    "start_time": "2021-08-07T09:04:09.192Z"
   },
   {
    "duration": 41,
    "start_time": "2021-08-07T09:06:52.114Z"
   },
   {
    "duration": 42,
    "start_time": "2021-08-07T09:10:14.897Z"
   },
   {
    "duration": 41,
    "start_time": "2021-08-07T09:10:15.915Z"
   },
   {
    "duration": 127,
    "start_time": "2021-08-07T09:12:24.941Z"
   },
   {
    "duration": 43,
    "start_time": "2021-08-07T09:12:30.872Z"
   },
   {
    "duration": 372,
    "start_time": "2021-08-07T09:14:29.031Z"
   },
   {
    "duration": 303,
    "start_time": "2021-08-07T09:15:48.311Z"
   },
   {
    "duration": 301,
    "start_time": "2021-08-07T09:16:33.775Z"
   },
   {
    "duration": 92,
    "start_time": "2021-08-07T09:16:50.057Z"
   },
   {
    "duration": 41,
    "start_time": "2021-08-07T09:17:44.321Z"
   },
   {
    "duration": 747,
    "start_time": "2021-08-07T09:20:14.395Z"
   },
   {
    "duration": 110,
    "start_time": "2021-08-07T09:21:19.927Z"
   },
   {
    "duration": 98,
    "start_time": "2021-08-07T09:21:30.777Z"
   },
   {
    "duration": 102,
    "start_time": "2021-08-07T09:21:48.671Z"
   },
   {
    "duration": 107,
    "start_time": "2021-08-07T09:22:47.601Z"
   },
   {
    "duration": 45,
    "start_time": "2021-08-07T09:22:56.471Z"
   },
   {
    "duration": 101,
    "start_time": "2021-08-07T09:25:41.302Z"
   },
   {
    "duration": 814,
    "start_time": "2021-08-07T09:25:52.389Z"
   },
   {
    "duration": 99,
    "start_time": "2021-08-07T09:25:53.206Z"
   },
   {
    "duration": 127,
    "start_time": "2021-08-07T09:25:53.181Z"
   },
   {
    "duration": 124,
    "start_time": "2021-08-07T09:25:53.185Z"
   },
   {
    "duration": 120,
    "start_time": "2021-08-07T09:25:53.190Z"
   },
   {
    "duration": 107,
    "start_time": "2021-08-07T09:25:53.205Z"
   },
   {
    "duration": 103,
    "start_time": "2021-08-07T09:25:53.211Z"
   },
   {
    "duration": 91,
    "start_time": "2021-08-07T09:25:53.224Z"
   },
   {
    "duration": 74,
    "start_time": "2021-08-07T09:25:53.243Z"
   },
   {
    "duration": 61,
    "start_time": "2021-08-07T09:25:53.257Z"
   },
   {
    "duration": 46,
    "start_time": "2021-08-07T09:25:53.273Z"
   },
   {
    "duration": 93,
    "start_time": "2021-08-07T09:26:30.721Z"
   },
   {
    "duration": 421,
    "start_time": "2021-08-07T09:26:46.234Z"
   },
   {
    "duration": 95,
    "start_time": "2021-08-07T09:27:28.752Z"
   },
   {
    "duration": 158,
    "start_time": "2021-08-07T09:27:47.747Z"
   },
   {
    "duration": 111,
    "start_time": "2021-08-07T09:27:51.806Z"
   },
   {
    "duration": 100,
    "start_time": "2021-08-07T09:28:05.126Z"
   },
   {
    "duration": 222,
    "start_time": "2021-08-07T09:28:30.404Z"
   },
   {
    "duration": 39,
    "start_time": "2021-08-07T09:28:58.915Z"
   },
   {
    "duration": 36,
    "start_time": "2021-08-07T09:29:52.445Z"
   },
   {
    "duration": 50,
    "start_time": "2021-08-07T09:30:45.768Z"
   },
   {
    "duration": 48,
    "start_time": "2021-08-07T09:31:10.239Z"
   },
   {
    "duration": 783,
    "start_time": "2021-08-07T09:31:28.057Z"
   },
   {
    "duration": 65,
    "start_time": "2021-08-07T09:31:28.843Z"
   },
   {
    "duration": 29,
    "start_time": "2021-08-07T09:31:28.912Z"
   },
   {
    "duration": 68,
    "start_time": "2021-08-07T09:31:28.944Z"
   },
   {
    "duration": 913,
    "start_time": "2021-08-07T09:31:29.014Z"
   },
   {
    "duration": 2780,
    "start_time": "2021-08-07T09:31:29.930Z"
   },
   {
    "duration": 23364,
    "start_time": "2021-08-07T09:31:32.712Z"
   },
   {
    "duration": 35,
    "start_time": "2021-08-07T09:31:56.080Z"
   },
   {
    "duration": 24,
    "start_time": "2021-08-07T09:31:56.118Z"
   },
   {
    "duration": 60,
    "start_time": "2021-08-07T09:31:56.145Z"
   },
   {
    "duration": 22,
    "start_time": "2021-08-07T09:31:56.208Z"
   },
   {
    "duration": 56,
    "start_time": "2021-08-07T09:32:05.179Z"
   },
   {
    "duration": 947,
    "start_time": "2021-08-07T09:32:21.968Z"
   },
   {
    "duration": 50,
    "start_time": "2021-08-07T09:32:22.917Z"
   },
   {
    "duration": 46,
    "start_time": "2021-08-07T09:32:22.970Z"
   },
   {
    "duration": 43,
    "start_time": "2021-08-07T09:32:23.019Z"
   },
   {
    "duration": 914,
    "start_time": "2021-08-07T09:32:23.065Z"
   },
   {
    "duration": 2261,
    "start_time": "2021-08-07T09:32:23.982Z"
   },
   {
    "duration": 23072,
    "start_time": "2021-08-07T09:32:26.245Z"
   },
   {
    "duration": 25,
    "start_time": "2021-08-07T09:32:49.321Z"
   },
   {
    "duration": 24,
    "start_time": "2021-08-07T09:32:49.348Z"
   },
   {
    "duration": 65,
    "start_time": "2021-08-07T09:32:49.374Z"
   },
   {
    "duration": 20,
    "start_time": "2021-08-07T09:32:49.441Z"
   },
   {
    "duration": 59,
    "start_time": "2021-08-07T09:33:02.029Z"
   },
   {
    "duration": 952,
    "start_time": "2021-08-07T09:33:17.269Z"
   },
   {
    "duration": 49,
    "start_time": "2021-08-07T09:33:18.224Z"
   },
   {
    "duration": 31,
    "start_time": "2021-08-07T09:33:18.300Z"
   },
   {
    "duration": 69,
    "start_time": "2021-08-07T09:33:18.333Z"
   },
   {
    "duration": 921,
    "start_time": "2021-08-07T09:33:18.405Z"
   },
   {
    "duration": 2437,
    "start_time": "2021-08-07T09:33:19.330Z"
   },
   {
    "duration": 22237,
    "start_time": "2021-08-07T09:33:21.770Z"
   },
   {
    "duration": 25,
    "start_time": "2021-08-07T09:33:44.010Z"
   },
   {
    "duration": 25,
    "start_time": "2021-08-07T09:33:44.038Z"
   },
   {
    "duration": 67,
    "start_time": "2021-08-07T09:33:44.065Z"
   },
   {
    "duration": 20,
    "start_time": "2021-08-07T09:33:44.135Z"
   },
   {
    "duration": 54,
    "start_time": "2021-08-07T09:33:48.067Z"
   },
   {
    "duration": 58,
    "start_time": "2021-08-07T09:34:10.717Z"
   },
   {
    "duration": 884,
    "start_time": "2021-08-07T09:34:48.198Z"
   },
   {
    "duration": 62,
    "start_time": "2021-08-07T09:34:49.085Z"
   },
   {
    "duration": 53,
    "start_time": "2021-08-07T09:34:49.150Z"
   },
   {
    "duration": 41,
    "start_time": "2021-08-07T09:34:49.206Z"
   },
   {
    "duration": 941,
    "start_time": "2021-08-07T09:34:49.250Z"
   },
   {
    "duration": 2689,
    "start_time": "2021-08-07T09:34:50.195Z"
   },
   {
    "duration": 22223,
    "start_time": "2021-08-07T09:34:52.886Z"
   },
   {
    "duration": 25,
    "start_time": "2021-08-07T09:35:15.112Z"
   },
   {
    "duration": 24,
    "start_time": "2021-08-07T09:35:15.140Z"
   },
   {
    "duration": 64,
    "start_time": "2021-08-07T09:35:15.167Z"
   },
   {
    "duration": 20,
    "start_time": "2021-08-07T09:35:15.233Z"
   },
   {
    "duration": 45,
    "start_time": "2021-08-07T09:46:47.281Z"
   },
   {
    "duration": 114,
    "start_time": "2021-08-07T09:51:17.300Z"
   },
   {
    "duration": 144,
    "start_time": "2021-08-07T09:51:42.135Z"
   },
   {
    "duration": 862,
    "start_time": "2021-08-07T09:51:51.678Z"
   },
   {
    "duration": 102,
    "start_time": "2021-08-07T09:51:52.542Z"
   },
   {
    "duration": 135,
    "start_time": "2021-08-07T09:51:52.516Z"
   },
   {
    "duration": 134,
    "start_time": "2021-08-07T09:51:52.520Z"
   },
   {
    "duration": 132,
    "start_time": "2021-08-07T09:51:52.524Z"
   },
   {
    "duration": 130,
    "start_time": "2021-08-07T09:51:52.528Z"
   },
   {
    "duration": 129,
    "start_time": "2021-08-07T09:51:52.532Z"
   },
   {
    "duration": 128,
    "start_time": "2021-08-07T09:51:52.535Z"
   },
   {
    "duration": 127,
    "start_time": "2021-08-07T09:51:52.538Z"
   },
   {
    "duration": 125,
    "start_time": "2021-08-07T09:51:52.542Z"
   },
   {
    "duration": 124,
    "start_time": "2021-08-07T09:51:52.545Z"
   },
   {
    "duration": 91,
    "start_time": "2021-08-07T09:52:35.092Z"
   },
   {
    "duration": 97,
    "start_time": "2021-08-07T09:52:59.098Z"
   },
   {
    "duration": 51,
    "start_time": "2021-08-07T09:53:12.566Z"
   },
   {
    "duration": 403,
    "start_time": "2021-08-08T17:46:23.771Z"
   },
   {
    "duration": 1152,
    "start_time": "2021-08-08T17:46:59.018Z"
   },
   {
    "duration": 225,
    "start_time": "2021-08-08T17:46:59.948Z"
   },
   {
    "duration": 199,
    "start_time": "2021-08-08T17:46:59.975Z"
   },
   {
    "duration": 185,
    "start_time": "2021-08-08T17:46:59.991Z"
   },
   {
    "duration": 148,
    "start_time": "2021-08-08T17:47:00.030Z"
   },
   {
    "duration": 143,
    "start_time": "2021-08-08T17:47:00.036Z"
   },
   {
    "duration": 134,
    "start_time": "2021-08-08T17:47:00.046Z"
   },
   {
    "duration": 130,
    "start_time": "2021-08-08T17:47:00.052Z"
   },
   {
    "duration": 124,
    "start_time": "2021-08-08T17:47:00.059Z"
   },
   {
    "duration": 120,
    "start_time": "2021-08-08T17:47:00.064Z"
   },
   {
    "duration": 115,
    "start_time": "2021-08-08T17:47:00.070Z"
   },
   {
    "duration": 333,
    "start_time": "2021-08-08T17:47:23.907Z"
   },
   {
    "duration": 396,
    "start_time": "2021-08-08T17:47:46.850Z"
   },
   {
    "duration": 856,
    "start_time": "2021-08-08T17:47:57.711Z"
   },
   {
    "duration": 40,
    "start_time": "2021-08-08T17:47:58.570Z"
   },
   {
    "duration": 32,
    "start_time": "2021-08-08T17:47:58.613Z"
   },
   {
    "duration": 46,
    "start_time": "2021-08-08T17:47:58.647Z"
   },
   {
    "duration": 1032,
    "start_time": "2021-08-08T17:47:58.695Z"
   },
   {
    "duration": 2763,
    "start_time": "2021-08-08T17:47:59.730Z"
   },
   {
    "duration": 22834,
    "start_time": "2021-08-08T17:48:02.495Z"
   },
   {
    "duration": 35,
    "start_time": "2021-08-08T17:48:25.332Z"
   },
   {
    "duration": 26,
    "start_time": "2021-08-08T17:48:25.370Z"
   },
   {
    "duration": 79,
    "start_time": "2021-08-08T17:48:25.399Z"
   },
   {
    "duration": 30,
    "start_time": "2021-08-08T17:48:25.482Z"
   },
   {
    "duration": 126,
    "start_time": "2021-08-08T17:48:30.100Z"
   },
   {
    "duration": 43,
    "start_time": "2021-08-08T17:48:35.329Z"
   },
   {
    "duration": 47,
    "start_time": "2021-08-08T17:48:48.500Z"
   },
   {
    "duration": 43,
    "start_time": "2021-08-08T17:49:22.750Z"
   },
   {
    "duration": 877,
    "start_time": "2021-08-08T17:52:04.036Z"
   },
   {
    "duration": 54,
    "start_time": "2021-08-08T17:52:04.915Z"
   },
   {
    "duration": 30,
    "start_time": "2021-08-08T17:52:04.972Z"
   },
   {
    "duration": 62,
    "start_time": "2021-08-08T17:52:05.004Z"
   },
   {
    "duration": 919,
    "start_time": "2021-08-08T17:52:05.068Z"
   },
   {
    "duration": 2832,
    "start_time": "2021-08-08T17:52:05.990Z"
   },
   {
    "duration": 23548,
    "start_time": "2021-08-08T17:52:08.824Z"
   },
   {
    "duration": 26,
    "start_time": "2021-08-08T17:52:32.376Z"
   },
   {
    "duration": 26,
    "start_time": "2021-08-08T17:52:32.404Z"
   },
   {
    "duration": 66,
    "start_time": "2021-08-08T17:52:32.433Z"
   },
   {
    "duration": 22,
    "start_time": "2021-08-08T17:52:32.501Z"
   },
   {
    "duration": 139,
    "start_time": "2021-08-08T17:55:22.070Z"
   },
   {
    "duration": 123,
    "start_time": "2021-08-08T17:55:29.721Z"
   },
   {
    "duration": 98,
    "start_time": "2021-08-08T17:56:06.180Z"
   },
   {
    "duration": 20,
    "start_time": "2021-08-08T17:56:08.792Z"
   },
   {
    "duration": 123,
    "start_time": "2021-08-08T17:57:08.429Z"
   },
   {
    "duration": 21,
    "start_time": "2021-08-08T17:58:32.833Z"
   },
   {
    "duration": 140,
    "start_time": "2021-08-08T18:00:44.402Z"
   },
   {
    "duration": 21,
    "start_time": "2021-08-08T18:00:50.742Z"
   },
   {
    "duration": 22,
    "start_time": "2021-08-08T18:01:21.375Z"
   },
   {
    "duration": 488,
    "start_time": "2021-08-08T18:03:05.393Z"
   },
   {
    "duration": 130,
    "start_time": "2021-08-08T18:03:39.563Z"
   },
   {
    "duration": 120,
    "start_time": "2021-08-08T18:08:06.749Z"
   },
   {
    "duration": 377,
    "start_time": "2021-08-08T18:08:16.005Z"
   },
   {
    "duration": 126,
    "start_time": "2021-08-08T18:08:37.673Z"
   },
   {
    "duration": 129,
    "start_time": "2021-08-08T18:08:48.074Z"
   },
   {
    "duration": 346,
    "start_time": "2021-08-08T18:08:51.800Z"
   },
   {
    "duration": 109,
    "start_time": "2021-08-08T18:09:03.932Z"
   },
   {
    "duration": 119,
    "start_time": "2021-08-08T18:09:15.319Z"
   },
   {
    "duration": 164,
    "start_time": "2021-08-08T18:11:55.546Z"
   },
   {
    "duration": 109,
    "start_time": "2021-08-08T18:12:20.988Z"
   },
   {
    "duration": 362,
    "start_time": "2021-08-08T18:32:24.656Z"
   },
   {
    "duration": 94,
    "start_time": "2021-08-08T18:32:42.790Z"
   },
   {
    "duration": 375,
    "start_time": "2021-08-08T18:32:45.887Z"
   },
   {
    "duration": 580,
    "start_time": "2021-08-08T18:32:55.432Z"
   },
   {
    "duration": 346,
    "start_time": "2021-08-08T18:33:10.212Z"
   },
   {
    "duration": 421,
    "start_time": "2021-08-08T18:34:05.265Z"
   },
   {
    "duration": 27,
    "start_time": "2021-08-08T18:36:00.889Z"
   },
   {
    "duration": 93,
    "start_time": "2021-08-08T18:41:48.274Z"
   },
   {
    "duration": 74,
    "start_time": "2021-08-08T18:42:29.648Z"
   },
   {
    "duration": 107,
    "start_time": "2021-08-08T18:51:42.559Z"
   },
   {
    "duration": 314,
    "start_time": "2021-08-08T18:51:52.798Z"
   },
   {
    "duration": 124,
    "start_time": "2021-08-08T18:52:10.398Z"
   },
   {
    "duration": 118,
    "start_time": "2021-08-08T18:52:14.349Z"
   },
   {
    "duration": 122,
    "start_time": "2021-08-08T18:52:28.157Z"
   },
   {
    "duration": 111,
    "start_time": "2021-08-08T18:52:38.226Z"
   },
   {
    "duration": 104,
    "start_time": "2021-08-08T18:53:11.715Z"
   },
   {
    "duration": 145,
    "start_time": "2021-08-08T18:53:22.065Z"
   },
   {
    "duration": 43,
    "start_time": "2021-08-08T18:53:34.695Z"
   },
   {
    "duration": 100,
    "start_time": "2021-08-08T18:55:50.882Z"
   },
   {
    "duration": 10048,
    "start_time": "2021-08-08T18:56:05.148Z"
   },
   {
    "duration": 8276,
    "start_time": "2021-08-08T18:57:29.866Z"
   },
   {
    "duration": 9428,
    "start_time": "2021-08-08T18:58:06.853Z"
   },
   {
    "duration": 43,
    "start_time": "2021-08-08T18:58:45.540Z"
   },
   {
    "duration": 42,
    "start_time": "2021-08-08T18:59:02.387Z"
   },
   {
    "duration": 44,
    "start_time": "2021-08-08T18:59:21.284Z"
   },
   {
    "duration": 45,
    "start_time": "2021-08-08T18:59:43.073Z"
   },
   {
    "duration": 45,
    "start_time": "2021-08-08T18:59:52.020Z"
   },
   {
    "duration": 45,
    "start_time": "2021-08-08T19:03:59.696Z"
   },
   {
    "duration": 385,
    "start_time": "2021-08-08T19:05:21.180Z"
   },
   {
    "duration": 359,
    "start_time": "2021-08-08T19:05:34.820Z"
   },
   {
    "duration": 108,
    "start_time": "2021-08-08T19:07:19.213Z"
   },
   {
    "duration": 44,
    "start_time": "2021-08-08T19:07:29.441Z"
   },
   {
    "duration": 62,
    "start_time": "2021-08-08T19:08:36.242Z"
   },
   {
    "duration": 932,
    "start_time": "2021-08-08T19:09:16.597Z"
   },
   {
    "duration": 904,
    "start_time": "2021-08-08T19:09:37.818Z"
   },
   {
    "duration": 107,
    "start_time": "2021-08-08T19:09:59.508Z"
   },
   {
    "duration": 100,
    "start_time": "2021-08-08T19:10:16.714Z"
   },
   {
    "duration": 112,
    "start_time": "2021-08-08T19:10:28.680Z"
   },
   {
    "duration": 877,
    "start_time": "2021-08-08T19:10:34.651Z"
   },
   {
    "duration": 116,
    "start_time": "2021-08-08T19:10:35.535Z"
   },
   {
    "duration": 356,
    "start_time": "2021-08-08T19:10:35.298Z"
   },
   {
    "duration": 353,
    "start_time": "2021-08-08T19:10:35.302Z"
   },
   {
    "duration": 350,
    "start_time": "2021-08-08T19:10:35.306Z"
   },
   {
    "duration": 348,
    "start_time": "2021-08-08T19:10:35.310Z"
   },
   {
    "duration": 346,
    "start_time": "2021-08-08T19:10:35.313Z"
   },
   {
    "duration": 345,
    "start_time": "2021-08-08T19:10:35.316Z"
   },
   {
    "duration": 343,
    "start_time": "2021-08-08T19:10:35.319Z"
   },
   {
    "duration": 341,
    "start_time": "2021-08-08T19:10:35.322Z"
   },
   {
    "duration": 339,
    "start_time": "2021-08-08T19:10:35.325Z"
   },
   {
    "duration": 140,
    "start_time": "2021-08-08T19:11:02.097Z"
   },
   {
    "duration": 116,
    "start_time": "2021-08-08T19:11:32.829Z"
   },
   {
    "duration": 42,
    "start_time": "2021-08-08T19:11:54.420Z"
   },
   {
    "duration": 53,
    "start_time": "2021-08-08T19:12:40.632Z"
   },
   {
    "duration": 114,
    "start_time": "2021-08-08T19:13:07.491Z"
   },
   {
    "duration": 120,
    "start_time": "2021-08-08T19:13:14.238Z"
   },
   {
    "duration": 119,
    "start_time": "2021-08-08T19:13:23.243Z"
   },
   {
    "duration": 129,
    "start_time": "2021-08-08T19:13:28.176Z"
   },
   {
    "duration": 122,
    "start_time": "2021-08-08T19:13:43.134Z"
   },
   {
    "duration": 42,
    "start_time": "2021-08-08T19:13:53.016Z"
   },
   {
    "duration": 426,
    "start_time": "2021-08-08T19:15:55.725Z"
   },
   {
    "duration": 128,
    "start_time": "2021-08-08T19:17:17.629Z"
   },
   {
    "duration": 39,
    "start_time": "2021-08-08T19:17:26.362Z"
   },
   {
    "duration": 373,
    "start_time": "2021-08-08T19:18:03.970Z"
   },
   {
    "duration": 339,
    "start_time": "2021-08-08T19:18:28.736Z"
   },
   {
    "duration": 373,
    "start_time": "2021-08-08T19:18:40.550Z"
   },
   {
    "duration": 366,
    "start_time": "2021-08-08T19:19:51.936Z"
   },
   {
    "duration": 41,
    "start_time": "2021-08-08T19:20:06.326Z"
   },
   {
    "duration": 123,
    "start_time": "2021-08-08T19:24:28.771Z"
   },
   {
    "duration": 145,
    "start_time": "2021-08-08T19:24:54.798Z"
   },
   {
    "duration": 894,
    "start_time": "2021-08-08T19:25:03.073Z"
   },
   {
    "duration": 8144,
    "start_time": "2021-08-08T19:25:15.749Z"
   },
   {
    "duration": 1221,
    "start_time": "2021-08-08T19:28:41.154Z"
   },
   {
    "duration": 2287,
    "start_time": "2021-08-08T19:30:47.580Z"
   },
   {
    "duration": 1966,
    "start_time": "2021-08-08T19:31:15.491Z"
   },
   {
    "duration": 355,
    "start_time": "2021-08-08T19:33:08.555Z"
   },
   {
    "duration": 119,
    "start_time": "2021-08-08T19:34:15.140Z"
   },
   {
    "duration": 10099,
    "start_time": "2021-08-08T19:34:28.050Z"
   },
   {
    "duration": 393,
    "start_time": "2021-08-08T19:35:22.051Z"
   },
   {
    "duration": 1025,
    "start_time": "2021-08-08T19:35:41.528Z"
   },
   {
    "duration": 5746,
    "start_time": "2021-08-08T19:35:42.556Z"
   },
   {
    "duration": 326,
    "start_time": "2021-08-08T19:35:47.982Z"
   },
   {
    "duration": 285,
    "start_time": "2021-08-08T19:35:48.024Z"
   },
   {
    "duration": 280,
    "start_time": "2021-08-08T19:35:48.030Z"
   },
   {
    "duration": 267,
    "start_time": "2021-08-08T19:35:48.045Z"
   },
   {
    "duration": 263,
    "start_time": "2021-08-08T19:35:48.050Z"
   },
   {
    "duration": 260,
    "start_time": "2021-08-08T19:35:48.054Z"
   },
   {
    "duration": 257,
    "start_time": "2021-08-08T19:35:48.058Z"
   },
   {
    "duration": 252,
    "start_time": "2021-08-08T19:35:48.065Z"
   },
   {
    "duration": 248,
    "start_time": "2021-08-08T19:35:48.070Z"
   },
   {
    "duration": 330,
    "start_time": "2021-08-08T19:37:12.510Z"
   },
   {
    "duration": 119,
    "start_time": "2021-08-08T19:38:01.951Z"
   },
   {
    "duration": 904,
    "start_time": "2021-08-08T19:38:19.328Z"
   },
   {
    "duration": 1362,
    "start_time": "2021-08-08T19:38:20.235Z"
   },
   {
    "duration": 33,
    "start_time": "2021-08-08T19:38:21.600Z"
   },
   {
    "duration": 62,
    "start_time": "2021-08-08T19:38:21.636Z"
   },
   {
    "duration": 1138,
    "start_time": "2021-08-08T19:38:21.700Z"
   },
   {
    "duration": 1233,
    "start_time": "2021-08-08T19:45:16.342Z"
   },
   {
    "duration": 471,
    "start_time": "2021-08-08T19:45:17.579Z"
   },
   {
    "duration": 378,
    "start_time": "2021-08-08T19:45:17.675Z"
   },
   {
    "duration": 372,
    "start_time": "2021-08-08T19:45:17.682Z"
   },
   {
    "duration": 369,
    "start_time": "2021-08-08T19:45:17.686Z"
   },
   {
    "duration": 366,
    "start_time": "2021-08-08T19:45:17.691Z"
   },
   {
    "duration": 364,
    "start_time": "2021-08-08T19:45:17.694Z"
   },
   {
    "duration": 361,
    "start_time": "2021-08-08T19:45:17.698Z"
   },
   {
    "duration": 359,
    "start_time": "2021-08-08T19:45:17.701Z"
   },
   {
    "duration": 358,
    "start_time": "2021-08-08T19:45:17.704Z"
   },
   {
    "duration": 356,
    "start_time": "2021-08-08T19:45:17.707Z"
   },
   {
    "duration": 339,
    "start_time": "2021-08-08T19:45:48.880Z"
   },
   {
    "duration": 123,
    "start_time": "2021-08-08T19:45:58.219Z"
   },
   {
    "duration": 365,
    "start_time": "2021-08-08T19:46:03.249Z"
   },
   {
    "duration": 121,
    "start_time": "2021-08-08T19:50:30.309Z"
   },
   {
    "duration": 403,
    "start_time": "2021-08-08T19:52:14.164Z"
   },
   {
    "duration": 48,
    "start_time": "2021-08-08T19:59:30.185Z"
   },
   {
    "duration": 42,
    "start_time": "2021-08-08T20:11:43.035Z"
   },
   {
    "duration": 29,
    "start_time": "2021-08-08T20:14:54.261Z"
   },
   {
    "duration": 8736,
    "start_time": "2021-08-08T20:16:40.431Z"
   },
   {
    "duration": 22,
    "start_time": "2021-08-08T20:17:46.353Z"
   },
   {
    "duration": 31,
    "start_time": "2021-08-08T20:18:19.942Z"
   },
   {
    "duration": 1228,
    "start_time": "2021-08-08T20:18:37.245Z"
   },
   {
    "duration": 64,
    "start_time": "2021-08-08T20:18:38.477Z"
   },
   {
    "duration": 47,
    "start_time": "2021-08-08T20:18:38.561Z"
   },
   {
    "duration": 84,
    "start_time": "2021-08-08T20:18:38.611Z"
   },
   {
    "duration": 937,
    "start_time": "2021-08-08T20:18:38.698Z"
   },
   {
    "duration": 2836,
    "start_time": "2021-08-08T20:18:39.639Z"
   },
   {
    "duration": 22743,
    "start_time": "2021-08-08T20:18:42.478Z"
   },
   {
    "duration": 39,
    "start_time": "2021-08-08T20:19:05.224Z"
   },
   {
    "duration": 31,
    "start_time": "2021-08-08T20:19:05.267Z"
   },
   {
    "duration": 62,
    "start_time": "2021-08-08T20:19:05.301Z"
   },
   {
    "duration": 20,
    "start_time": "2021-08-08T20:19:05.366Z"
   },
   {
    "duration": 20,
    "start_time": "2021-08-08T20:19:20.934Z"
   },
   {
    "duration": 30,
    "start_time": "2021-08-08T20:21:59.970Z"
   },
   {
    "duration": 25,
    "start_time": "2021-08-08T20:22:12.006Z"
   },
   {
    "duration": 23,
    "start_time": "2021-08-08T20:23:21.035Z"
   },
   {
    "duration": 1676,
    "start_time": "2021-08-08T20:23:28.162Z"
   },
   {
    "duration": 22,
    "start_time": "2021-08-08T20:23:36.817Z"
   },
   {
    "duration": 27,
    "start_time": "2021-08-08T20:25:20.684Z"
   },
   {
    "duration": 39,
    "start_time": "2021-08-08T20:27:16.695Z"
   },
   {
    "duration": 24,
    "start_time": "2021-08-08T20:33:28.255Z"
   },
   {
    "duration": 372,
    "start_time": "2021-08-08T20:40:40.563Z"
   },
   {
    "duration": 25,
    "start_time": "2021-08-08T20:40:55.713Z"
   },
   {
    "duration": 22,
    "start_time": "2021-08-08T20:41:06.677Z"
   },
   {
    "duration": 21,
    "start_time": "2021-08-08T20:41:18.811Z"
   },
   {
    "duration": 21,
    "start_time": "2021-08-08T20:43:47.167Z"
   },
   {
    "duration": 652,
    "start_time": "2021-08-08T20:45:45.603Z"
   },
   {
    "duration": 33,
    "start_time": "2021-08-08T20:46:11.324Z"
   },
   {
    "duration": 40,
    "start_time": "2021-08-08T20:46:17.252Z"
   },
   {
    "duration": 29,
    "start_time": "2021-08-08T20:48:05.031Z"
   },
   {
    "duration": 28,
    "start_time": "2021-08-08T20:50:14.587Z"
   },
   {
    "duration": 28,
    "start_time": "2021-08-08T20:50:37.293Z"
   },
   {
    "duration": 28,
    "start_time": "2021-08-08T20:58:43.899Z"
   },
   {
    "duration": 114,
    "start_time": "2021-08-08T21:00:26.770Z"
   },
   {
    "duration": 97,
    "start_time": "2021-08-08T21:00:33.028Z"
   },
   {
    "duration": 105,
    "start_time": "2021-08-08T21:00:38.648Z"
   },
   {
    "duration": 608,
    "start_time": "2021-08-09T12:13:22.617Z"
   },
   {
    "duration": 28,
    "start_time": "2021-08-09T12:13:23.227Z"
   },
   {
    "duration": 32,
    "start_time": "2021-08-09T12:13:23.257Z"
   },
   {
    "duration": 28,
    "start_time": "2021-08-09T12:13:23.291Z"
   },
   {
    "duration": 690,
    "start_time": "2021-08-09T12:13:23.321Z"
   },
   {
    "duration": 2139,
    "start_time": "2021-08-09T12:13:24.013Z"
   },
   {
    "duration": 12357,
    "start_time": "2021-08-09T12:13:26.154Z"
   },
   {
    "duration": 19,
    "start_time": "2021-08-09T12:13:38.513Z"
   },
   {
    "duration": 18,
    "start_time": "2021-08-09T12:13:38.535Z"
   },
   {
    "duration": 55,
    "start_time": "2021-08-09T12:13:38.554Z"
   },
   {
    "duration": 17,
    "start_time": "2021-08-09T12:13:38.610Z"
   },
   {
    "duration": 460,
    "start_time": "2021-08-09T12:15:20.426Z"
   },
   {
    "duration": 57,
    "start_time": "2021-08-09T12:15:45.603Z"
   },
   {
    "duration": 36,
    "start_time": "2021-08-09T12:15:50.842Z"
   },
   {
    "duration": 111,
    "start_time": "2021-08-09T12:16:01.854Z"
   },
   {
    "duration": 34,
    "start_time": "2021-08-09T12:16:01.967Z"
   },
   {
    "duration": 20,
    "start_time": "2021-08-09T12:16:02.003Z"
   },
   {
    "duration": 29,
    "start_time": "2021-08-09T12:16:02.024Z"
   },
   {
    "duration": 685,
    "start_time": "2021-08-09T12:16:02.054Z"
   },
   {
    "duration": 2053,
    "start_time": "2021-08-09T12:16:02.741Z"
   },
   {
    "duration": 12644,
    "start_time": "2021-08-09T12:16:04.795Z"
   },
   {
    "duration": 14,
    "start_time": "2021-08-09T12:16:17.442Z"
   },
   {
    "duration": 34,
    "start_time": "2021-08-09T12:16:17.458Z"
   },
   {
    "duration": 26,
    "start_time": "2021-08-09T12:16:17.494Z"
   },
   {
    "duration": 18,
    "start_time": "2021-08-09T12:16:17.521Z"
   },
   {
    "duration": 78,
    "start_time": "2021-08-09T12:19:21.629Z"
   },
   {
    "duration": 63,
    "start_time": "2021-08-09T12:21:05.842Z"
   },
   {
    "duration": 593,
    "start_time": "2022-01-22T22:49:48.301Z"
   },
   {
    "duration": 73,
    "start_time": "2022-01-22T22:52:37.273Z"
   },
   {
    "duration": 87,
    "start_time": "2022-01-22T22:53:29.838Z"
   },
   {
    "duration": 5041,
    "start_time": "2022-01-22T22:56:17.017Z"
   },
   {
    "duration": 5322,
    "start_time": "2022-01-22T22:56:22.928Z"
   },
   {
    "duration": 22,
    "start_time": "2022-01-22T22:56:36.631Z"
   },
   {
    "duration": 183,
    "start_time": "2022-01-22T22:57:37.142Z"
   },
   {
    "duration": 28,
    "start_time": "2022-01-22T22:58:11.615Z"
   },
   {
    "duration": 2666,
    "start_time": "2022-01-22T22:58:43.367Z"
   },
   {
    "duration": 58,
    "start_time": "2022-01-22T22:58:50.847Z"
   },
   {
    "duration": 2053,
    "start_time": "2022-01-22T22:59:17.796Z"
   },
   {
    "duration": 12246,
    "start_time": "2022-01-22T22:59:35.056Z"
   },
   {
    "duration": 19,
    "start_time": "2022-01-22T23:00:32.377Z"
   },
   {
    "duration": 19,
    "start_time": "2022-01-22T23:01:26.408Z"
   },
   {
    "duration": 29,
    "start_time": "2022-01-22T23:02:00.609Z"
   },
   {
    "duration": 18,
    "start_time": "2022-01-22T23:02:07.880Z"
   },
   {
    "duration": 653,
    "start_time": "2022-01-22T23:03:53.916Z"
   },
   {
    "duration": 95,
    "start_time": "2022-01-22T23:03:54.571Z"
   },
   {
    "duration": 19,
    "start_time": "2022-01-22T23:03:54.668Z"
   },
   {
    "duration": 38,
    "start_time": "2022-01-22T23:03:54.689Z"
   },
   {
    "duration": 2798,
    "start_time": "2022-01-22T23:03:54.729Z"
   },
   {
    "duration": 12212,
    "start_time": "2022-01-22T23:03:57.530Z"
   },
   {
    "duration": 17,
    "start_time": "2022-01-22T23:04:09.743Z"
   },
   {
    "duration": 19,
    "start_time": "2022-01-22T23:04:09.762Z"
   },
   {
    "duration": 23,
    "start_time": "2022-01-22T23:04:09.783Z"
   },
   {
    "duration": 39,
    "start_time": "2022-01-22T23:04:09.808Z"
   }
  ],
  "kernelspec": {
   "display_name": "Python 3",
   "language": "python",
   "name": "python3"
  },
  "language_info": {
   "codemirror_mode": {
    "name": "ipython",
    "version": 3
   },
   "file_extension": ".py",
   "mimetype": "text/x-python",
   "name": "python",
   "nbconvert_exporter": "python",
   "pygments_lexer": "ipython3",
   "version": "3.7.8"
  },
  "toc": {
   "base_numbering": 1,
   "nav_menu": {
    "height": "347.986px",
    "width": "247.986px"
   },
   "number_sections": true,
   "sideBar": true,
   "skip_h1_title": true,
   "title_cell": "Table of Contents",
   "title_sidebar": "Contents",
   "toc_cell": false,
   "toc_position": {},
   "toc_section_display": true,
   "toc_window_display": true
  }
 },
 "nbformat": 4,
 "nbformat_minor": 2
}
