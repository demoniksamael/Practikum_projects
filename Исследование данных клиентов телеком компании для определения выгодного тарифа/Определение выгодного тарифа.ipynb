{
 "cells": [
  {
   "cell_type": "markdown",
   "metadata": {},
   "source": [
    "# Определение перспективного тарифа для телеком компании\n"
   ]
  },
  {
   "cell_type": "markdown",
   "metadata": {},
   "source": [
    "От коммерческого отдела получена задача проанализировать 2 тарифа федерального оператора сотовой связи \"Мегалайн\", с целью корректировки рекламного бюджета.<br/>\n",
    "\n",
    "Данные представлены в 5 датафреймах:<br/>\n",
    "- Информация о звонках;\n",
    "- Информация об интернет-сессиях;\n",
    "- Информация о сообщениях;\n",
    "- Информация о тарифах;\n",
    "- Информация о пользователях\n",
    "\n",
    "**Задачи проекта:**\n",
    "1) Познакомиться с данными и сделать первые выводы с чем предстоит работать;<br/>\n",
    "2) Провести предобработку;<br/>\n",
    "3) Посчитать выручку по каждому пользователю;<br/>\n",
    "4) Провести анализ данных;<br/>\n",
    "5) Проверка гипотез:<br/>\n",
    "- Проверить гипотезу о том, что средняя выручка по тарифу **\"Ультра\"** не отличается от средней выручки по тарифу **\"Смарт\"**;<br/>\n",
    "- Проверить гипотезу о том, что средняя выручка по пользователям Москвы не отличается от выручки по пользователям с другиз регионов;<br/>\n",
    "\n",
    "7) Подвести итоги проделанной работы.<br/>\n",
    "\n",
    "**Цель проекта** - выявить более выгодный тариф для компании на основе анализа поведения клиентов.\n"
   ]
  },
  {
   "cell_type": "code",
   "execution_count": 1,
   "metadata": {},
   "outputs": [],
   "source": [
    "# импорт бибилиотек, необходимых для работы\n",
    "import pandas as pd\n",
    "import seaborn as sns\n",
    "import matplotlib.pyplot as plt\n",
    "import numpy as np\n",
    "from scipy import stats as st"
   ]
  },
  {
   "cell_type": "markdown",
   "metadata": {},
   "source": [
    "## Изучение общей информации"
   ]
  },
  {
   "cell_type": "code",
   "execution_count": 2,
   "metadata": {},
   "outputs": [],
   "source": [
    "# загрузка данных\n",
    "calls = pd.read_csv('/datasets/calls.csv')\n",
    "internet = pd.read_csv('/datasets/internet.csv')\n",
    "messages = pd.read_csv('/datasets/messages.csv')\n",
    "tariffs = pd.read_csv('/datasets/tariffs.csv')\n",
    "users = pd.read_csv('/datasets/users.csv')"
   ]
  },
  {
   "cell_type": "code",
   "execution_count": 3,
   "metadata": {
    "scrolled": false
   },
   "outputs": [
    {
     "name": "stdout",
     "output_type": "stream",
     "text": [
      "----------------\n",
      "<class 'pandas.core.frame.DataFrame'>\n",
      "RangeIndex: 202607 entries, 0 to 202606\n",
      "Data columns (total 4 columns):\n",
      "id           202607 non-null object\n",
      "call_date    202607 non-null object\n",
      "duration     202607 non-null float64\n",
      "user_id      202607 non-null int64\n",
      "dtypes: float64(1), int64(1), object(2)\n",
      "memory usage: 6.2+ MB\n",
      "\n",
      "None None None        id   call_date  duration  user_id\n",
      "0  1000_0  2018-07-25      0.00     1000\n",
      "1  1000_1  2018-08-17      0.00     1000\n",
      "2  1000_2  2018-06-11      2.85     1000\n",
      "3  1000_3  2018-09-21     13.80     1000\n",
      "4  1000_4  2018-12-15      5.18     1000\n",
      "----------------\n",
      "<class 'pandas.core.frame.DataFrame'>\n",
      "RangeIndex: 149396 entries, 0 to 149395\n",
      "Data columns (total 5 columns):\n",
      "Unnamed: 0      149396 non-null int64\n",
      "id              149396 non-null object\n",
      "mb_used         149396 non-null float64\n",
      "session_date    149396 non-null object\n",
      "user_id         149396 non-null int64\n",
      "dtypes: float64(1), int64(2), object(2)\n",
      "memory usage: 5.7+ MB\n",
      "\n",
      "None None None    Unnamed: 0      id  mb_used session_date  user_id\n",
      "0           0  1000_0   112.95   2018-11-25     1000\n",
      "1           1  1000_1  1052.81   2018-09-07     1000\n",
      "2           2  1000_2  1197.26   2018-06-25     1000\n",
      "3           3  1000_3   550.27   2018-08-22     1000\n",
      "4           4  1000_4   302.56   2018-09-24     1000\n",
      "----------------\n",
      "<class 'pandas.core.frame.DataFrame'>\n",
      "RangeIndex: 123036 entries, 0 to 123035\n",
      "Data columns (total 3 columns):\n",
      "id              123036 non-null object\n",
      "message_date    123036 non-null object\n",
      "user_id         123036 non-null int64\n",
      "dtypes: int64(1), object(2)\n",
      "memory usage: 2.8+ MB\n",
      "\n",
      "None None None        id message_date  user_id\n",
      "0  1000_0   2018-06-27     1000\n",
      "1  1000_1   2018-10-08     1000\n",
      "2  1000_2   2018-08-04     1000\n",
      "3  1000_3   2018-06-16     1000\n",
      "4  1000_4   2018-12-05     1000\n",
      "----------------\n",
      "<class 'pandas.core.frame.DataFrame'>\n",
      "RangeIndex: 2 entries, 0 to 1\n",
      "Data columns (total 8 columns):\n",
      "messages_included        2 non-null int64\n",
      "mb_per_month_included    2 non-null int64\n",
      "minutes_included         2 non-null int64\n",
      "rub_monthly_fee          2 non-null int64\n",
      "rub_per_gb               2 non-null int64\n",
      "rub_per_message          2 non-null int64\n",
      "rub_per_minute           2 non-null int64\n",
      "tariff_name              2 non-null object\n",
      "dtypes: int64(7), object(1)\n",
      "memory usage: 256.0+ bytes\n",
      "\n",
      "None None None    messages_included  mb_per_month_included  minutes_included  \\\n",
      "0                 50                  15360               500   \n",
      "1               1000                  30720              3000   \n",
      "\n",
      "   rub_monthly_fee  rub_per_gb  rub_per_message  rub_per_minute tariff_name  \n",
      "0              550         200                3               3       smart  \n",
      "1             1950         150                1               1       ultra  \n",
      "----------------\n",
      "<class 'pandas.core.frame.DataFrame'>\n",
      "RangeIndex: 500 entries, 0 to 499\n",
      "Data columns (total 8 columns):\n",
      "user_id       500 non-null int64\n",
      "age           500 non-null int64\n",
      "churn_date    38 non-null object\n",
      "city          500 non-null object\n",
      "first_name    500 non-null object\n",
      "last_name     500 non-null object\n",
      "reg_date      500 non-null object\n",
      "tariff        500 non-null object\n",
      "dtypes: int64(2), object(6)\n",
      "memory usage: 31.4+ KB\n",
      "\n",
      "None None None    user_id  age churn_date         city first_name  last_name    reg_date  \\\n",
      "0     1000   52        NaN    Краснодар     Рафаил  Верещагин  2018-05-25   \n",
      "1     1001   41        NaN       Москва       Иван       Ежов  2018-11-01   \n",
      "2     1002   59        NaN  Стерлитамак    Евгений  Абрамович  2018-06-17   \n",
      "3     1003   23        NaN       Москва      Белла   Белякова  2018-08-17   \n",
      "4     1004   68        NaN  Новокузнецк    Татьяна   Авдеенко  2018-05-14   \n",
      "\n",
      "  tariff  \n",
      "0  ultra  \n",
      "1  smart  \n",
      "2  smart  \n",
      "3  ultra  \n",
      "4  ultra  \n"
     ]
    }
   ],
   "source": [
    "# вывод информации и первых 5 строк каждого ДФ\n",
    "for data in [calls, internet, messages, tariffs, users]:\n",
    "    print(print('----------------'), data.info(), print(), data.head())"
   ]
  },
  {
   "cell_type": "code",
   "execution_count": 4,
   "metadata": {},
   "outputs": [],
   "source": [
    "# проверка данных на часто встречаемые значения и уникальность\n",
    "#calls['duration'].value_counts()\n",
    "#internet['mb_used'].value_counts()\n",
    "#users['city'].unique()\n",
    "#users['first_name'].unique()\n",
    "#users['last_name'].unique()\n",
    "#users['tariff'].unique()"
   ]
  },
  {
   "cell_type": "code",
   "execution_count": 5,
   "metadata": {},
   "outputs": [
    {
     "data": {
      "text/html": [
       "<div>\n",
       "<style scoped>\n",
       "    .dataframe tbody tr th:only-of-type {\n",
       "        vertical-align: middle;\n",
       "    }\n",
       "\n",
       "    .dataframe tbody tr th {\n",
       "        vertical-align: top;\n",
       "    }\n",
       "\n",
       "    .dataframe thead th {\n",
       "        text-align: right;\n",
       "    }\n",
       "</style>\n",
       "<table border=\"1\" class=\"dataframe\">\n",
       "  <thead>\n",
       "    <tr style=\"text-align: right;\">\n",
       "      <th></th>\n",
       "      <th>messages_included</th>\n",
       "      <th>gb_per_month_included</th>\n",
       "      <th>minutes_included</th>\n",
       "      <th>rub_monthly_fee</th>\n",
       "      <th>rub_per_gb</th>\n",
       "      <th>rub_per_message</th>\n",
       "      <th>rub_per_minute</th>\n",
       "      <th>tariff_name</th>\n",
       "    </tr>\n",
       "  </thead>\n",
       "  <tbody>\n",
       "    <tr>\n",
       "      <td>0</td>\n",
       "      <td>50</td>\n",
       "      <td>15</td>\n",
       "      <td>500</td>\n",
       "      <td>550</td>\n",
       "      <td>200</td>\n",
       "      <td>3</td>\n",
       "      <td>3</td>\n",
       "      <td>smart</td>\n",
       "    </tr>\n",
       "    <tr>\n",
       "      <td>1</td>\n",
       "      <td>1000</td>\n",
       "      <td>30</td>\n",
       "      <td>3000</td>\n",
       "      <td>1950</td>\n",
       "      <td>150</td>\n",
       "      <td>1</td>\n",
       "      <td>1</td>\n",
       "      <td>ultra</td>\n",
       "    </tr>\n",
       "  </tbody>\n",
       "</table>\n",
       "</div>"
      ],
      "text/plain": [
       "   messages_included  gb_per_month_included  minutes_included  \\\n",
       "0                 50                     15               500   \n",
       "1               1000                     30              3000   \n",
       "\n",
       "   rub_monthly_fee  rub_per_gb  rub_per_message  rub_per_minute tariff_name  \n",
       "0              550         200                3               3       smart  \n",
       "1             1950         150                1               1       ultra  "
      ]
     },
     "execution_count": 5,
     "metadata": {},
     "output_type": "execute_result"
    }
   ],
   "source": [
    "# перевод столбца \"mb_per_month_included\" в гигабайты, тип данных int и переименование столбца\n",
    "tariffs['mb_per_month_included'] = (tariffs['mb_per_month_included'] / 1024).astype('int')\n",
    "tariffs = tariffs.rename(columns={'mb_per_month_included' : 'gb_per_month_included'})\n",
    "tariffs"
   ]
  },
  {
   "cell_type": "markdown",
   "metadata": {},
   "source": [
    "### Вывод\n",
    "Предоставлено 5 таблиц с разными данными по клиентам.<br/>\n",
    "Всего 500 наблюдений по клиентам с разными **user_id** за **2018 год**. Прежде чем приступать к анализу необходимо провести предобработку:\n",
    "1) Изменить тип данных в столбцах с датой;<br/>\n",
    "2) Добавить столбцы с месяцем активности;<br/>\n",
    "2) Округлить данные в столбце **\"Длительность звонка\"** таблицы **\"Информация о звонках\"** до целых минут в большую сторону, изменить тип данных на **int**;<br/>\n",
    "3) Изменить тип данных на **int** столбец **\"Объем потраченного трафика в МБ\"** в таблице **\"Информация о интернет-сессиях\"**, т.к. нас интересую мегабайты, а не килобайты; <br/>\n",
    "\n",
    "Ошибочно выглядят данные **0,00 минут** в таблице **\"Информация о звонках\"** в столбце **\"Длительность звонка\"**. Скорее всего так записывались звонки менее **1 минуты**, поэтому буду заменять на единицу.<br/>\n",
    " Такая же история с данными в столбце **\"Объем потраченного трафика в МБ\"** в таблице **\"Информация о интернет-сессиях\"**. Поступлю таким же образом. Считаю нецелесообразно удалять такие данные, так как их очень много.<br/>\n",
    "\n",
    "Пропуски в таблице **\"Информация о пользователях\"** в столбце **\"Дата прекращения пользования тарифом\"** оставлю без изменений, т.к. во-первых логически заменять их нечем, во-вторых так, возможно, отображается то, что клиент все еще пользуется тарифом. В любом случае по поводу этих двух моментов необходимо уточнить у коллег, ответственных за сборку данных.<br/>\n",
    "\n",
    "В таблице **\"Информация о пользователях\"** данные в столбцах: **\"city\",\"first_name\",\"last_name\"** и **tariffs** \" проверил-все города, имена, фамилии и название тарифов  указаны в одном стиле-приводить к нижнему регистру необязательно;<br/>\n",
    "Больше пропусков и странностей на данном этапе не выявлено.\n"
   ]
  },
  {
   "cell_type": "markdown",
   "metadata": {},
   "source": [
    "## Предобработка данных"
   ]
  },
  {
   "cell_type": "code",
   "execution_count": 6,
   "metadata": {
    "scrolled": true
   },
   "outputs": [],
   "source": [
    "# изменение типа данных на date_time\n",
    "calls['call_date'] = pd.to_datetime(calls['call_date'], format = '%Y-%m-%d')\n",
    "internet['session_date'] = pd.to_datetime(internet['session_date'], format = '%Y-%m-%d')\n",
    "messages['message_date'] = pd.to_datetime(messages['message_date'], format = '%Y-%m-%d')\n",
    "users['churn_date'] = pd.to_datetime(users['churn_date'] , format = '%Y-%m-%d')\n",
    "users['reg_date'] = pd.to_datetime(users['reg_date'], format = '%Y-%m-%d')"
   ]
  },
  {
   "cell_type": "code",
   "execution_count": 7,
   "metadata": {},
   "outputs": [
    {
     "name": "stdout",
     "output_type": "stream",
     "text": [
      "Количество нулевых значений в столбце \"Длительность звонка\": 39613\n",
      "Количество нулевых значений в столбце \"Объем потраченного трафика в МБ\": 19598\n"
     ]
    }
   ],
   "source": [
    "# проверка количества нулевых значений в столбцах \"Длительность звонка\"\n",
    "# и \"Объем потраченного трафика в МБ\"\n",
    "print(\n",
    "    'Количество нулевых значений в столбце \"Длительность звонка\":',\n",
    "    calls.loc[calls['duration'] == 0, 'duration'].value_counts()[0]\n",
    ")\n",
    "print(\n",
    "    'Количество нулевых значений в столбце \"Объем потраченного трафика в МБ\":',\n",
    "    internet.loc[internet['mb_used'] == 0, 'mb_used'].value_counts()[0]\n",
    ")"
   ]
  },
  {
   "cell_type": "markdown",
   "metadata": {},
   "source": [
    "#### Нулевые аномалии в столбцах \"Длительность звонка\" и \"Объем потраченного трафика\"\n",
    "О таких аномалиях необходимо уточнить у коллег, ответственных за сбор данных, чтобы четко понимать что под нулями подразумевается. На данном этапе предположу, что в длительности звонков так указаны звонки менее одной минуту(в ДФ не найдены данные со значениями от 0.01 до 0.99), и в связи с правилами пользования тарифом звонки менее одной минуты округляются до 1 минуты.<br/>\n",
    "Что же каксается интернет сессий, то так, возможно, отображаюся неуждачные интренет-сессии, когда пользователь не смог выйти в сеть, поэтому основания заменять нули единицами нет. Т.к. оператор считает только трафик потраченный за месяц (в гигабайтах), то и округлять в большую сторону необходимо только после группировки по месяцам."
   ]
  },
  {
   "cell_type": "code",
   "execution_count": 8,
   "metadata": {
    "scrolled": false
   },
   "outputs": [
    {
     "name": "stdout",
     "output_type": "stream",
     "text": [
      "--------------------------------------------------------------\n",
      "После обработки типов данных, округления и добавления столбцов\n",
      "--------------------------------------------------------------\n",
      "<class 'pandas.core.frame.DataFrame'>\n",
      "RangeIndex: 202607 entries, 0 to 202606\n",
      "Data columns (total 5 columns):\n",
      "id           202607 non-null object\n",
      "call_date    202607 non-null datetime64[ns]\n",
      "duration     202607 non-null int64\n",
      "user_id      202607 non-null int64\n",
      "month        202607 non-null int64\n",
      "dtypes: datetime64[ns](1), int64(3), object(1)\n",
      "memory usage: 7.7+ MB\n",
      "None ----------------\n",
      "<class 'pandas.core.frame.DataFrame'>\n",
      "RangeIndex: 149396 entries, 0 to 149395\n",
      "Data columns (total 6 columns):\n",
      "Unnamed: 0      149396 non-null int64\n",
      "id              149396 non-null object\n",
      "mb_used         149396 non-null float64\n",
      "session_date    149396 non-null datetime64[ns]\n",
      "user_id         149396 non-null int64\n",
      "month           149396 non-null int64\n",
      "dtypes: datetime64[ns](1), float64(1), int64(3), object(1)\n",
      "memory usage: 6.8+ MB\n",
      "None ----------------\n",
      "<class 'pandas.core.frame.DataFrame'>\n",
      "RangeIndex: 123036 entries, 0 to 123035\n",
      "Data columns (total 4 columns):\n",
      "id              123036 non-null object\n",
      "message_date    123036 non-null datetime64[ns]\n",
      "user_id         123036 non-null int64\n",
      "month           123036 non-null int64\n",
      "dtypes: datetime64[ns](1), int64(2), object(1)\n",
      "memory usage: 3.8+ MB\n",
      "None ----------------\n",
      "<class 'pandas.core.frame.DataFrame'>\n",
      "RangeIndex: 2 entries, 0 to 1\n",
      "Data columns (total 8 columns):\n",
      "messages_included        2 non-null int64\n",
      "gb_per_month_included    2 non-null int64\n",
      "minutes_included         2 non-null int64\n",
      "rub_monthly_fee          2 non-null int64\n",
      "rub_per_gb               2 non-null int64\n",
      "rub_per_message          2 non-null int64\n",
      "rub_per_minute           2 non-null int64\n",
      "tariff_name              2 non-null object\n",
      "dtypes: int64(7), object(1)\n",
      "memory usage: 256.0+ bytes\n",
      "None ----------------\n",
      "<class 'pandas.core.frame.DataFrame'>\n",
      "RangeIndex: 500 entries, 0 to 499\n",
      "Data columns (total 8 columns):\n",
      "user_id       500 non-null int64\n",
      "age           500 non-null int64\n",
      "churn_date    38 non-null datetime64[ns]\n",
      "city          500 non-null object\n",
      "first_name    500 non-null object\n",
      "last_name     500 non-null object\n",
      "reg_date      500 non-null datetime64[ns]\n",
      "tariff        500 non-null object\n",
      "dtypes: datetime64[ns](2), int64(2), object(4)\n",
      "memory usage: 31.4+ KB\n",
      "None ----------------\n"
     ]
    }
   ],
   "source": [
    "# округление значений в большую сторону,\n",
    "# изменение типа данных на int и замена нулей на единицы в столбце \"Длительность звонка\"\n",
    "# добавление столбца с месяцем\n",
    "calls['duration'] = calls['duration'].apply(np.ceil).astype('int')\n",
    "calls.loc[calls['duration'] == 0, 'duration'] = 1\n",
    "calls['month'] = calls['call_date'].dt.month\n",
    "\n",
    "# добавление столбца с месяцем в таблицу \"Информация о сообщениях\" и \"Объем потраченного трафика в МБ\"\n",
    "internet['month'] = internet['session_date'].dt.month\n",
    "messages['month'] = messages['message_date'].dt.month\n",
    "\n",
    "print('--------------------------------------------------------------')\n",
    "print('После обработки типов данных, округления и добавления столбцов')\n",
    "print('--------------------------------------------------------------')\n",
    "for data in [calls, internet, messages, tariffs, users]:\n",
    "    print(data.info(), '----------------')"
   ]
  },
  {
   "cell_type": "code",
   "execution_count": 9,
   "metadata": {
    "scrolled": false
   },
   "outputs": [],
   "source": [
    "# создание сводных таблиц по каждому ДФ для последующего объединения в один\n",
    "users_pivot = users\n",
    "# имя и фамилия клиентов объединил в один столбец для удобства дальнейшего импользования ДФ\n",
    "users_pivot['first_name'] = (\n",
    "    users_pivot[['last_name', 'first_name']]\n",
    "    .apply(lambda x: ' '.join(x), axis = 1)\n",
    ")\n",
    "users_pivot = users.set_index('user_id')\n",
    "users_pivot = users_pivot.drop(['last_name'], axis = 1)\n",
    "users_pivot.columns = 'age', 'churn_date', 'city', 'user_name', 'reg_date', 'tariff_name' \n",
    "\n",
    "\n",
    "calls_pivot = calls.pivot_table(\n",
    "    index = ['user_id', 'month'], values = 'duration', aggfunc = 'sum'\n",
    ")\n",
    "\n",
    "internet_pivot = internet.pivot_table(\n",
    "    index = ['user_id', 'month'], values = 'mb_used', aggfunc = 'sum'\n",
    ")\n",
    "# перевод мегабайтов в гигабайты, округляю в большую сторону и меняю тип данных на int\n",
    "internet_pivot['mb_used'] = (internet_pivot['mb_used'] / 1024).apply(np.ceil).astype('int')\n",
    "# изменение названия столбца\n",
    "internet_pivot = internet_pivot.rename(columns={'mb_used': 'gb_used'})\n",
    "\n",
    "messages_pivot = messages.pivot_table(\n",
    "    index = ['user_id', 'month'], values = 'message_date', aggfunc = 'count'\n",
    ")\n"
   ]
  },
  {
   "cell_type": "code",
   "execution_count": 10,
   "metadata": {},
   "outputs": [
    {
     "data": {
      "text/html": [
       "<div>\n",
       "<style scoped>\n",
       "    .dataframe tbody tr th:only-of-type {\n",
       "        vertical-align: middle;\n",
       "    }\n",
       "\n",
       "    .dataframe tbody tr th {\n",
       "        vertical-align: top;\n",
       "    }\n",
       "\n",
       "    .dataframe thead th {\n",
       "        text-align: right;\n",
       "    }\n",
       "</style>\n",
       "<table border=\"1\" class=\"dataframe\">\n",
       "  <thead>\n",
       "    <tr style=\"text-align: right;\">\n",
       "      <th></th>\n",
       "      <th>user_id</th>\n",
       "      <th>age</th>\n",
       "      <th>churn_date</th>\n",
       "      <th>city</th>\n",
       "      <th>user_name</th>\n",
       "      <th>reg_date</th>\n",
       "      <th>tariff_name</th>\n",
       "      <th>month</th>\n",
       "      <th>duration</th>\n",
       "      <th>gb_used</th>\n",
       "      <th>messages</th>\n",
       "    </tr>\n",
       "  </thead>\n",
       "  <tbody>\n",
       "    <tr>\n",
       "      <td>0</td>\n",
       "      <td>1000</td>\n",
       "      <td>52</td>\n",
       "      <td>NaT</td>\n",
       "      <td>Краснодар</td>\n",
       "      <td>Верещагин Рафаил</td>\n",
       "      <td>2018-05-25</td>\n",
       "      <td>ultra</td>\n",
       "      <td>5.0</td>\n",
       "      <td>164.0</td>\n",
       "      <td>3.0</td>\n",
       "      <td>22.0</td>\n",
       "    </tr>\n",
       "    <tr>\n",
       "      <td>1</td>\n",
       "      <td>1000</td>\n",
       "      <td>52</td>\n",
       "      <td>NaT</td>\n",
       "      <td>Краснодар</td>\n",
       "      <td>Верещагин Рафаил</td>\n",
       "      <td>2018-05-25</td>\n",
       "      <td>ultra</td>\n",
       "      <td>6.0</td>\n",
       "      <td>187.0</td>\n",
       "      <td>23.0</td>\n",
       "      <td>60.0</td>\n",
       "    </tr>\n",
       "    <tr>\n",
       "      <td>2</td>\n",
       "      <td>1000</td>\n",
       "      <td>52</td>\n",
       "      <td>NaT</td>\n",
       "      <td>Краснодар</td>\n",
       "      <td>Верещагин Рафаил</td>\n",
       "      <td>2018-05-25</td>\n",
       "      <td>ultra</td>\n",
       "      <td>7.0</td>\n",
       "      <td>346.0</td>\n",
       "      <td>14.0</td>\n",
       "      <td>75.0</td>\n",
       "    </tr>\n",
       "    <tr>\n",
       "      <td>3</td>\n",
       "      <td>1000</td>\n",
       "      <td>52</td>\n",
       "      <td>NaT</td>\n",
       "      <td>Краснодар</td>\n",
       "      <td>Верещагин Рафаил</td>\n",
       "      <td>2018-05-25</td>\n",
       "      <td>ultra</td>\n",
       "      <td>8.0</td>\n",
       "      <td>418.0</td>\n",
       "      <td>14.0</td>\n",
       "      <td>81.0</td>\n",
       "    </tr>\n",
       "    <tr>\n",
       "      <td>4</td>\n",
       "      <td>1000</td>\n",
       "      <td>52</td>\n",
       "      <td>NaT</td>\n",
       "      <td>Краснодар</td>\n",
       "      <td>Верещагин Рафаил</td>\n",
       "      <td>2018-05-25</td>\n",
       "      <td>ultra</td>\n",
       "      <td>9.0</td>\n",
       "      <td>478.0</td>\n",
       "      <td>15.0</td>\n",
       "      <td>57.0</td>\n",
       "    </tr>\n",
       "  </tbody>\n",
       "</table>\n",
       "</div>"
      ],
      "text/plain": [
       "   user_id  age churn_date       city         user_name   reg_date  \\\n",
       "0     1000   52        NaT  Краснодар  Верещагин Рафаил 2018-05-25   \n",
       "1     1000   52        NaT  Краснодар  Верещагин Рафаил 2018-05-25   \n",
       "2     1000   52        NaT  Краснодар  Верещагин Рафаил 2018-05-25   \n",
       "3     1000   52        NaT  Краснодар  Верещагин Рафаил 2018-05-25   \n",
       "4     1000   52        NaT  Краснодар  Верещагин Рафаил 2018-05-25   \n",
       "\n",
       "  tariff_name  month  duration  gb_used  messages  \n",
       "0       ultra    5.0     164.0      3.0      22.0  \n",
       "1       ultra    6.0     187.0     23.0      60.0  \n",
       "2       ultra    7.0     346.0     14.0      75.0  \n",
       "3       ultra    8.0     418.0     14.0      81.0  \n",
       "4       ultra    9.0     478.0     15.0      57.0  "
      ]
     },
     "execution_count": 10,
     "metadata": {},
     "output_type": "execute_result"
    }
   ],
   "source": [
    "first_merge = calls_pivot.merge(internet_pivot, on = ['user_id', 'month'], how = 'outer')\n",
    "second_merge = first_merge.merge(messages_pivot, on = ['user_id', 'month'], how = 'outer')\n",
    "second_merge.columns = 'duration', 'gb_used', 'messages'\n",
    "second_merge = second_merge.reset_index()\n",
    "grouped_df = users_pivot.merge(second_merge, on = ['user_id'], how = 'outer')\n",
    "\n",
    "#grouped_df = users_pivot.join(second_merge)\n",
    "#second_merge.head()\n",
    "grouped_df.set_index('user_id')\n",
    "grouped_df.head()"
   ]
  },
  {
   "cell_type": "code",
   "execution_count": 11,
   "metadata": {},
   "outputs": [],
   "source": [
    "#grouped_df.query('month == \"NaN\"')\n",
    "#grouped_df.query('duration == \"NaN\"')\n",
    "#grouped_df.query('gb_used == \"NaN\"')\n",
    "#grouped_df.query('messages == \"NaN\"')"
   ]
  },
  {
   "cell_type": "code",
   "execution_count": 12,
   "metadata": {},
   "outputs": [
    {
     "name": "stdout",
     "output_type": "stream",
     "text": [
      "Количество пропусков в данных после объединения таблиц (до замены):\n",
      "user_id           0\n",
      "age               0\n",
      "churn_date     3027\n",
      "city              0\n",
      "user_name         0\n",
      "reg_date          0\n",
      "tariff_name       0\n",
      "month             2\n",
      "duration         42\n",
      "gb_used          13\n",
      "messages        499\n",
      "dtype: int64\n",
      "<class 'pandas.core.frame.DataFrame'>\n",
      "Int64Index: 3216 entries, 0 to 3215\n",
      "Data columns (total 11 columns):\n",
      "user_id        3216 non-null int64\n",
      "age            3216 non-null int64\n",
      "churn_date     189 non-null datetime64[ns]\n",
      "city           3216 non-null object\n",
      "user_name      3216 non-null object\n",
      "reg_date       3216 non-null datetime64[ns]\n",
      "tariff_name    3216 non-null object\n",
      "month          3214 non-null float64\n",
      "duration       3174 non-null float64\n",
      "gb_used        3203 non-null float64\n",
      "messages       2717 non-null float64\n",
      "dtypes: datetime64[ns](2), float64(4), int64(2), object(3)\n",
      "memory usage: 301.5+ KB\n"
     ]
    },
    {
     "data": {
      "text/plain": [
       "None"
      ]
     },
     "metadata": {},
     "output_type": "display_data"
    },
    {
     "name": "stdout",
     "output_type": "stream",
     "text": [
      "Количество пропусков данных после объединения таблиц (после замены):\n",
      "user_id           0\n",
      "age               0\n",
      "churn_date     3027\n",
      "city              0\n",
      "user_name         0\n",
      "reg_date          0\n",
      "tariff_name       0\n",
      "month             0\n",
      "duration          0\n",
      "gb_used           0\n",
      "messages          0\n",
      "dtype: int64\n",
      "Количество дубликатов после объединения таблиц:\n",
      "0\n"
     ]
    }
   ],
   "source": [
    "print('Количество пропусков в данных после объединения таблиц (до замены):')\n",
    "print(grouped_df.isna().sum())\n",
    "display(grouped_df.info())\n",
    "\n",
    "# пропуски в столбце \"duration\", \"messages\", \"mb_used\" заполняю нулями, \n",
    "# пустые значения в столбце \"month\" удаляю (2 строки с полностью пустыми данными)\n",
    "# и меняю тип на int (кроме столбца \"churn_date\")\n",
    "grouped_df['messages']= grouped_df['messages'].fillna(0).astype('int')\n",
    "grouped_df['gb_used'] = grouped_df['gb_used'].fillna(0).astype('int')\n",
    "grouped_df['duration'] = grouped_df['duration'].fillna(0).astype('int')\n",
    "grouped_df.dropna(subset = ['month'], inplace = True)\n",
    "grouped_df['month'] = grouped_df['month'].astype('int')\n",
    "print('Количество пропусков данных после объединения таблиц (после замены):')\n",
    "print(grouped_df.isna().sum())\n",
    "print('Количество дубликатов после объединения таблиц:')\n",
    "print(grouped_df.duplicated().sum())"
   ]
  },
  {
   "cell_type": "markdown",
   "metadata": {},
   "source": [
    "### Результат предобработки\n",
    "Изменены типы данных в столбцах с датами, добавлены новые столбцы с месяцем проведенной операции. Данные в столбцах **\"Длительность звонка\"** округлены в большую сторону и переведены в тип **int**. Также нулевые значения изменены на единицы.<br/>\n",
    "Столбец \"mb_used\" переведен в гигабайты, соответствующе назван и изменен тип данных на **int**.\n",
    "После объединения появились пустые значения в столбцах **\"Месяц\"**, **\"Длительность звонка\"**, **\"Объем потраченного трафика в МБ\"**, **\"Количество сообщений\"**, которые были заменены нули(строки с пустыми значениями по мясацам были удалены, т.к. в этих строках не содержалось никакой информации о клиентской активности). Сделано это исходя из следующей логики - каждый клиент индивидуален в пользовании сотовой связью, клиент может как совсем не писать сообщения, так и не совершать звонки, а делать это все через мессенджеры.<br/>\n",
    "**P.S.** Проверил гипотезу, что нулевые значения в столбце  **\"Объем потраченного трафика в МБ\"** относятся только к поджилым пользователям, но это не так.\n"
   ]
  },
  {
   "cell_type": "markdown",
   "metadata": {},
   "source": [
    "## Расчет выручки"
   ]
  },
  {
   "cell_type": "code",
   "execution_count": 13,
   "metadata": {
    "scrolled": true
   },
   "outputs": [
    {
     "data": {
      "text/html": [
       "<div>\n",
       "<style scoped>\n",
       "    .dataframe tbody tr th:only-of-type {\n",
       "        vertical-align: middle;\n",
       "    }\n",
       "\n",
       "    .dataframe tbody tr th {\n",
       "        vertical-align: top;\n",
       "    }\n",
       "\n",
       "    .dataframe thead th {\n",
       "        text-align: right;\n",
       "    }\n",
       "</style>\n",
       "<table border=\"1\" class=\"dataframe\">\n",
       "  <thead>\n",
       "    <tr style=\"text-align: right;\">\n",
       "      <th></th>\n",
       "      <th></th>\n",
       "      <th>age</th>\n",
       "      <th>churn_date</th>\n",
       "      <th>city</th>\n",
       "      <th>user_name</th>\n",
       "      <th>reg_date</th>\n",
       "      <th>tariff_name</th>\n",
       "      <th>duration</th>\n",
       "      <th>gb_used</th>\n",
       "      <th>messages</th>\n",
       "      <th>revenue</th>\n",
       "    </tr>\n",
       "    <tr>\n",
       "      <th>user_id</th>\n",
       "      <th>month</th>\n",
       "      <th></th>\n",
       "      <th></th>\n",
       "      <th></th>\n",
       "      <th></th>\n",
       "      <th></th>\n",
       "      <th></th>\n",
       "      <th></th>\n",
       "      <th></th>\n",
       "      <th></th>\n",
       "      <th></th>\n",
       "    </tr>\n",
       "  </thead>\n",
       "  <tbody>\n",
       "    <tr>\n",
       "      <td rowspan=\"8\" valign=\"top\">1000</td>\n",
       "      <td>5</td>\n",
       "      <td>52</td>\n",
       "      <td>NaT</td>\n",
       "      <td>Краснодар</td>\n",
       "      <td>Верещагин Рафаил</td>\n",
       "      <td>2018-05-25</td>\n",
       "      <td>ultra</td>\n",
       "      <td>164</td>\n",
       "      <td>3</td>\n",
       "      <td>22</td>\n",
       "      <td>1950</td>\n",
       "    </tr>\n",
       "    <tr>\n",
       "      <td>6</td>\n",
       "      <td>52</td>\n",
       "      <td>NaT</td>\n",
       "      <td>Краснодар</td>\n",
       "      <td>Верещагин Рафаил</td>\n",
       "      <td>2018-05-25</td>\n",
       "      <td>ultra</td>\n",
       "      <td>187</td>\n",
       "      <td>23</td>\n",
       "      <td>60</td>\n",
       "      <td>1950</td>\n",
       "    </tr>\n",
       "    <tr>\n",
       "      <td>7</td>\n",
       "      <td>52</td>\n",
       "      <td>NaT</td>\n",
       "      <td>Краснодар</td>\n",
       "      <td>Верещагин Рафаил</td>\n",
       "      <td>2018-05-25</td>\n",
       "      <td>ultra</td>\n",
       "      <td>346</td>\n",
       "      <td>14</td>\n",
       "      <td>75</td>\n",
       "      <td>1950</td>\n",
       "    </tr>\n",
       "    <tr>\n",
       "      <td>8</td>\n",
       "      <td>52</td>\n",
       "      <td>NaT</td>\n",
       "      <td>Краснодар</td>\n",
       "      <td>Верещагин Рафаил</td>\n",
       "      <td>2018-05-25</td>\n",
       "      <td>ultra</td>\n",
       "      <td>418</td>\n",
       "      <td>14</td>\n",
       "      <td>81</td>\n",
       "      <td>1950</td>\n",
       "    </tr>\n",
       "    <tr>\n",
       "      <td>9</td>\n",
       "      <td>52</td>\n",
       "      <td>NaT</td>\n",
       "      <td>Краснодар</td>\n",
       "      <td>Верещагин Рафаил</td>\n",
       "      <td>2018-05-25</td>\n",
       "      <td>ultra</td>\n",
       "      <td>478</td>\n",
       "      <td>15</td>\n",
       "      <td>57</td>\n",
       "      <td>1950</td>\n",
       "    </tr>\n",
       "    <tr>\n",
       "      <td>10</td>\n",
       "      <td>52</td>\n",
       "      <td>NaT</td>\n",
       "      <td>Краснодар</td>\n",
       "      <td>Верещагин Рафаил</td>\n",
       "      <td>2018-05-25</td>\n",
       "      <td>ultra</td>\n",
       "      <td>363</td>\n",
       "      <td>15</td>\n",
       "      <td>73</td>\n",
       "      <td>1950</td>\n",
       "    </tr>\n",
       "    <tr>\n",
       "      <td>11</td>\n",
       "      <td>52</td>\n",
       "      <td>NaT</td>\n",
       "      <td>Краснодар</td>\n",
       "      <td>Верещагин Рафаил</td>\n",
       "      <td>2018-05-25</td>\n",
       "      <td>ultra</td>\n",
       "      <td>344</td>\n",
       "      <td>15</td>\n",
       "      <td>58</td>\n",
       "      <td>1950</td>\n",
       "    </tr>\n",
       "    <tr>\n",
       "      <td>12</td>\n",
       "      <td>52</td>\n",
       "      <td>NaT</td>\n",
       "      <td>Краснодар</td>\n",
       "      <td>Верещагин Рафаил</td>\n",
       "      <td>2018-05-25</td>\n",
       "      <td>ultra</td>\n",
       "      <td>341</td>\n",
       "      <td>10</td>\n",
       "      <td>70</td>\n",
       "      <td>1950</td>\n",
       "    </tr>\n",
       "    <tr>\n",
       "      <td rowspan=\"2\" valign=\"top\">1001</td>\n",
       "      <td>11</td>\n",
       "      <td>41</td>\n",
       "      <td>NaT</td>\n",
       "      <td>Москва</td>\n",
       "      <td>Ежов Иван</td>\n",
       "      <td>2018-11-01</td>\n",
       "      <td>smart</td>\n",
       "      <td>444</td>\n",
       "      <td>18</td>\n",
       "      <td>0</td>\n",
       "      <td>1150</td>\n",
       "    </tr>\n",
       "    <tr>\n",
       "      <td>12</td>\n",
       "      <td>41</td>\n",
       "      <td>NaT</td>\n",
       "      <td>Москва</td>\n",
       "      <td>Ежов Иван</td>\n",
       "      <td>2018-11-01</td>\n",
       "      <td>smart</td>\n",
       "      <td>430</td>\n",
       "      <td>14</td>\n",
       "      <td>0</td>\n",
       "      <td>550</td>\n",
       "    </tr>\n",
       "    <tr>\n",
       "      <td rowspan=\"5\" valign=\"top\">1002</td>\n",
       "      <td>6</td>\n",
       "      <td>59</td>\n",
       "      <td>NaT</td>\n",
       "      <td>Стерлитамак</td>\n",
       "      <td>Абрамович Евгений</td>\n",
       "      <td>2018-06-17</td>\n",
       "      <td>smart</td>\n",
       "      <td>118</td>\n",
       "      <td>11</td>\n",
       "      <td>4</td>\n",
       "      <td>550</td>\n",
       "    </tr>\n",
       "    <tr>\n",
       "      <td>7</td>\n",
       "      <td>59</td>\n",
       "      <td>NaT</td>\n",
       "      <td>Стерлитамак</td>\n",
       "      <td>Абрамович Евгений</td>\n",
       "      <td>2018-06-17</td>\n",
       "      <td>smart</td>\n",
       "      <td>219</td>\n",
       "      <td>18</td>\n",
       "      <td>11</td>\n",
       "      <td>1150</td>\n",
       "    </tr>\n",
       "    <tr>\n",
       "      <td>8</td>\n",
       "      <td>59</td>\n",
       "      <td>NaT</td>\n",
       "      <td>Стерлитамак</td>\n",
       "      <td>Абрамович Евгений</td>\n",
       "      <td>2018-06-17</td>\n",
       "      <td>smart</td>\n",
       "      <td>294</td>\n",
       "      <td>20</td>\n",
       "      <td>13</td>\n",
       "      <td>1550</td>\n",
       "    </tr>\n",
       "    <tr>\n",
       "      <td>9</td>\n",
       "      <td>59</td>\n",
       "      <td>NaT</td>\n",
       "      <td>Стерлитамак</td>\n",
       "      <td>Абрамович Евгений</td>\n",
       "      <td>2018-06-17</td>\n",
       "      <td>smart</td>\n",
       "      <td>217</td>\n",
       "      <td>17</td>\n",
       "      <td>4</td>\n",
       "      <td>950</td>\n",
       "    </tr>\n",
       "    <tr>\n",
       "      <td>10</td>\n",
       "      <td>59</td>\n",
       "      <td>NaT</td>\n",
       "      <td>Стерлитамак</td>\n",
       "      <td>Абрамович Евгений</td>\n",
       "      <td>2018-06-17</td>\n",
       "      <td>smart</td>\n",
       "      <td>221</td>\n",
       "      <td>14</td>\n",
       "      <td>10</td>\n",
       "      <td>550</td>\n",
       "    </tr>\n",
       "  </tbody>\n",
       "</table>\n",
       "</div>"
      ],
      "text/plain": [
       "               age churn_date         city          user_name   reg_date  \\\n",
       "user_id month                                                              \n",
       "1000    5       52        NaT    Краснодар   Верещагин Рафаил 2018-05-25   \n",
       "        6       52        NaT    Краснодар   Верещагин Рафаил 2018-05-25   \n",
       "        7       52        NaT    Краснодар   Верещагин Рафаил 2018-05-25   \n",
       "        8       52        NaT    Краснодар   Верещагин Рафаил 2018-05-25   \n",
       "        9       52        NaT    Краснодар   Верещагин Рафаил 2018-05-25   \n",
       "        10      52        NaT    Краснодар   Верещагин Рафаил 2018-05-25   \n",
       "        11      52        NaT    Краснодар   Верещагин Рафаил 2018-05-25   \n",
       "        12      52        NaT    Краснодар   Верещагин Рафаил 2018-05-25   \n",
       "1001    11      41        NaT       Москва          Ежов Иван 2018-11-01   \n",
       "        12      41        NaT       Москва          Ежов Иван 2018-11-01   \n",
       "1002    6       59        NaT  Стерлитамак  Абрамович Евгений 2018-06-17   \n",
       "        7       59        NaT  Стерлитамак  Абрамович Евгений 2018-06-17   \n",
       "        8       59        NaT  Стерлитамак  Абрамович Евгений 2018-06-17   \n",
       "        9       59        NaT  Стерлитамак  Абрамович Евгений 2018-06-17   \n",
       "        10      59        NaT  Стерлитамак  Абрамович Евгений 2018-06-17   \n",
       "\n",
       "              tariff_name  duration  gb_used  messages  revenue  \n",
       "user_id month                                                    \n",
       "1000    5           ultra       164        3        22     1950  \n",
       "        6           ultra       187       23        60     1950  \n",
       "        7           ultra       346       14        75     1950  \n",
       "        8           ultra       418       14        81     1950  \n",
       "        9           ultra       478       15        57     1950  \n",
       "        10          ultra       363       15        73     1950  \n",
       "        11          ultra       344       15        58     1950  \n",
       "        12          ultra       341       10        70     1950  \n",
       "1001    11          smart       444       18         0     1150  \n",
       "        12          smart       430       14         0      550  \n",
       "1002    6           smart       118       11         4      550  \n",
       "        7           smart       219       18        11     1150  \n",
       "        8           smart       294       20        13     1550  \n",
       "        9           smart       217       17         4      950  \n",
       "        10          smart       221       14        10      550  "
      ]
     },
     "execution_count": 13,
     "metadata": {},
     "output_type": "execute_result"
    }
   ],
   "source": [
    "# присоединение таблицы спараметрами тарифов для удобства расчета выручки\n",
    "grouped_df = grouped_df.reset_index()\n",
    "grouped_df = grouped_df.merge(tariffs, on = 'tariff_name', how = 'left')\n",
    "# расчет использования лимитов\n",
    "grouped_df['minutes_overrun'] = grouped_df['duration'] - grouped_df['minutes_included']\n",
    "grouped_df['messages_overrun'] = grouped_df['messages'] - grouped_df['messages_included']\n",
    "grouped_df['gb_overrun'] = grouped_df['gb_used'] - grouped_df['gb_per_month_included']\n",
    "\n",
    "# функция для расчета выручки по каждому клиенту\n",
    "def det_revenue(row):\n",
    "    revenue_by_min = 0\n",
    "    revenue_by_messages = 0\n",
    "    revenue_by_mb = 0\n",
    "       \n",
    "    if row['minutes_overrun'] > 0:\n",
    "        revenue_by_min = row['minutes_overrun'] * row['rub_per_minute']\n",
    "    if row['gb_overrun'] > 0:\n",
    "        revenue_by_mb = row['gb_overrun'] * row['rub_per_gb']\n",
    "    if row['messages_overrun'] > 0:\n",
    "        revenue_by_messages = row['messages_overrun'] * row['rub_per_message']\n",
    "        \n",
    "    return revenue_by_min + revenue_by_mb + revenue_by_messages + row['rub_monthly_fee']\n",
    "    \n",
    "grouped_df['revenue'] = grouped_df.apply(det_revenue, axis = 1).astype('int')\n",
    "# установка столбцов в качестве индексов\n",
    "grouped_df = grouped_df.set_index(['user_id', 'month'])\n",
    "# удаление далее неиспользуемых столбцов из финального ДФ\n",
    "grouped_df = grouped_df.drop(\n",
    "    ['index','messages_included', 'gb_per_month_included','minutes_included'\n",
    "     , 'rub_monthly_fee', 'rub_per_gb', 'rub_per_message', 'rub_per_minute'\n",
    "     , 'minutes_overrun', 'messages_overrun','gb_overrun'], axis = 1\n",
    ")\n",
    "grouped_df.head(15)"
   ]
  },
  {
   "cell_type": "markdown",
   "metadata": {},
   "source": [
    "### Вывод\n",
    "После расчета выручки можно увидеть первоначальную тенденцию, что с пользователей тарифа **Ультра** оператор получает не более абонентской платы, а с пользователей тарифа **Смарт** больше ежемесячной абонентской платы. <br/>\n",
    "Собраный ДФ можно использовать для дальнейшего анализа. Также ДФ имеет удобный вид и вмещает в себя всю информацию, которую могут использовать другие отделы."
   ]
  },
  {
   "cell_type": "markdown",
   "metadata": {},
   "source": [
    "## Анализ данных\n",
    "### Проверка на аномалии\n"
   ]
  },
  {
   "cell_type": "code",
   "execution_count": 14,
   "metadata": {
    "scrolled": false
   },
   "outputs": [
    {
     "name": "stdout",
     "output_type": "stream",
     "text": [
      "Тариф Ультра\n"
     ]
    },
    {
     "data": {
      "text/html": [
       "<div>\n",
       "<style scoped>\n",
       "    .dataframe tbody tr th:only-of-type {\n",
       "        vertical-align: middle;\n",
       "    }\n",
       "\n",
       "    .dataframe tbody tr th {\n",
       "        vertical-align: top;\n",
       "    }\n",
       "\n",
       "    .dataframe thead th {\n",
       "        text-align: right;\n",
       "    }\n",
       "</style>\n",
       "<table border=\"1\" class=\"dataframe\">\n",
       "  <thead>\n",
       "    <tr style=\"text-align: right;\">\n",
       "      <th></th>\n",
       "      <th>age</th>\n",
       "      <th>duration</th>\n",
       "      <th>gb_used</th>\n",
       "      <th>messages</th>\n",
       "      <th>revenue</th>\n",
       "    </tr>\n",
       "  </thead>\n",
       "  <tbody>\n",
       "    <tr>\n",
       "      <td>count</td>\n",
       "      <td>985.000000</td>\n",
       "      <td>985.000000</td>\n",
       "      <td>985.000000</td>\n",
       "      <td>985.000000</td>\n",
       "      <td>985.000000</td>\n",
       "    </tr>\n",
       "    <tr>\n",
       "      <td>mean</td>\n",
       "      <td>46.834518</td>\n",
       "      <td>540.779695</td>\n",
       "      <td>19.494416</td>\n",
       "      <td>49.363452</td>\n",
       "      <td>2070.152284</td>\n",
       "    </tr>\n",
       "    <tr>\n",
       "      <td>std</td>\n",
       "      <td>17.107979</td>\n",
       "      <td>325.738740</td>\n",
       "      <td>9.853511</td>\n",
       "      <td>47.804457</td>\n",
       "      <td>376.187114</td>\n",
       "    </tr>\n",
       "    <tr>\n",
       "      <td>min</td>\n",
       "      <td>18.000000</td>\n",
       "      <td>0.000000</td>\n",
       "      <td>0.000000</td>\n",
       "      <td>0.000000</td>\n",
       "      <td>1950.000000</td>\n",
       "    </tr>\n",
       "    <tr>\n",
       "      <td>25%</td>\n",
       "      <td>30.000000</td>\n",
       "      <td>292.000000</td>\n",
       "      <td>12.000000</td>\n",
       "      <td>6.000000</td>\n",
       "      <td>1950.000000</td>\n",
       "    </tr>\n",
       "    <tr>\n",
       "      <td>50%</td>\n",
       "      <td>45.000000</td>\n",
       "      <td>532.000000</td>\n",
       "      <td>19.000000</td>\n",
       "      <td>38.000000</td>\n",
       "      <td>1950.000000</td>\n",
       "    </tr>\n",
       "    <tr>\n",
       "      <td>75%</td>\n",
       "      <td>63.000000</td>\n",
       "      <td>773.000000</td>\n",
       "      <td>27.000000</td>\n",
       "      <td>79.000000</td>\n",
       "      <td>1950.000000</td>\n",
       "    </tr>\n",
       "    <tr>\n",
       "      <td>max</td>\n",
       "      <td>75.000000</td>\n",
       "      <td>1727.000000</td>\n",
       "      <td>49.000000</td>\n",
       "      <td>224.000000</td>\n",
       "      <td>4800.000000</td>\n",
       "    </tr>\n",
       "  </tbody>\n",
       "</table>\n",
       "</div>"
      ],
      "text/plain": [
       "              age     duration     gb_used    messages      revenue\n",
       "count  985.000000   985.000000  985.000000  985.000000   985.000000\n",
       "mean    46.834518   540.779695   19.494416   49.363452  2070.152284\n",
       "std     17.107979   325.738740    9.853511   47.804457   376.187114\n",
       "min     18.000000     0.000000    0.000000    0.000000  1950.000000\n",
       "25%     30.000000   292.000000   12.000000    6.000000  1950.000000\n",
       "50%     45.000000   532.000000   19.000000   38.000000  1950.000000\n",
       "75%     63.000000   773.000000   27.000000   79.000000  1950.000000\n",
       "max     75.000000  1727.000000   49.000000  224.000000  4800.000000"
      ]
     },
     "metadata": {},
     "output_type": "display_data"
    },
    {
     "name": "stdout",
     "output_type": "stream",
     "text": [
      "\n",
      "Тариф Смарт\n"
     ]
    },
    {
     "data": {
      "text/html": [
       "<div>\n",
       "<style scoped>\n",
       "    .dataframe tbody tr th:only-of-type {\n",
       "        vertical-align: middle;\n",
       "    }\n",
       "\n",
       "    .dataframe tbody tr th {\n",
       "        vertical-align: top;\n",
       "    }\n",
       "\n",
       "    .dataframe thead th {\n",
       "        text-align: right;\n",
       "    }\n",
       "</style>\n",
       "<table border=\"1\" class=\"dataframe\">\n",
       "  <thead>\n",
       "    <tr style=\"text-align: right;\">\n",
       "      <th></th>\n",
       "      <th>age</th>\n",
       "      <th>duration</th>\n",
       "      <th>gb_used</th>\n",
       "      <th>messages</th>\n",
       "      <th>revenue</th>\n",
       "    </tr>\n",
       "  </thead>\n",
       "  <tbody>\n",
       "    <tr>\n",
       "      <td>count</td>\n",
       "      <td>2229.000000</td>\n",
       "      <td>2229.000000</td>\n",
       "      <td>2229.000000</td>\n",
       "      <td>2229.000000</td>\n",
       "      <td>2229.000000</td>\n",
       "    </tr>\n",
       "    <tr>\n",
       "      <td>mean</td>\n",
       "      <td>46.556303</td>\n",
       "      <td>429.450875</td>\n",
       "      <td>16.328847</td>\n",
       "      <td>33.384029</td>\n",
       "      <td>1306.949305</td>\n",
       "    </tr>\n",
       "    <tr>\n",
       "      <td>std</td>\n",
       "      <td>16.353371</td>\n",
       "      <td>194.871174</td>\n",
       "      <td>5.747061</td>\n",
       "      <td>28.227876</td>\n",
       "      <td>827.546207</td>\n",
       "    </tr>\n",
       "    <tr>\n",
       "      <td>min</td>\n",
       "      <td>18.000000</td>\n",
       "      <td>0.000000</td>\n",
       "      <td>0.000000</td>\n",
       "      <td>0.000000</td>\n",
       "      <td>550.000000</td>\n",
       "    </tr>\n",
       "    <tr>\n",
       "      <td>25%</td>\n",
       "      <td>32.000000</td>\n",
       "      <td>291.000000</td>\n",
       "      <td>13.000000</td>\n",
       "      <td>10.000000</td>\n",
       "      <td>553.000000</td>\n",
       "    </tr>\n",
       "    <tr>\n",
       "      <td>50%</td>\n",
       "      <td>47.000000</td>\n",
       "      <td>435.000000</td>\n",
       "      <td>17.000000</td>\n",
       "      <td>28.000000</td>\n",
       "      <td>1062.000000</td>\n",
       "    </tr>\n",
       "    <tr>\n",
       "      <td>75%</td>\n",
       "      <td>62.000000</td>\n",
       "      <td>560.000000</td>\n",
       "      <td>20.000000</td>\n",
       "      <td>51.000000</td>\n",
       "      <td>1750.000000</td>\n",
       "    </tr>\n",
       "    <tr>\n",
       "      <td>max</td>\n",
       "      <td>75.000000</td>\n",
       "      <td>1471.000000</td>\n",
       "      <td>38.000000</td>\n",
       "      <td>143.000000</td>\n",
       "      <td>6824.000000</td>\n",
       "    </tr>\n",
       "  </tbody>\n",
       "</table>\n",
       "</div>"
      ],
      "text/plain": [
       "               age     duration      gb_used     messages      revenue\n",
       "count  2229.000000  2229.000000  2229.000000  2229.000000  2229.000000\n",
       "mean     46.556303   429.450875    16.328847    33.384029  1306.949305\n",
       "std      16.353371   194.871174     5.747061    28.227876   827.546207\n",
       "min      18.000000     0.000000     0.000000     0.000000   550.000000\n",
       "25%      32.000000   291.000000    13.000000    10.000000   553.000000\n",
       "50%      47.000000   435.000000    17.000000    28.000000  1062.000000\n",
       "75%      62.000000   560.000000    20.000000    51.000000  1750.000000\n",
       "max      75.000000  1471.000000    38.000000   143.000000  6824.000000"
      ]
     },
     "metadata": {},
     "output_type": "display_data"
    },
    {
     "name": "stdout",
     "output_type": "stream",
     "text": [
      "\n"
     ]
    },
    {
     "data": {
      "image/png": "[encoded data removed]",
      "text/plain": [
       "<Figure size 360x360 with 1 Axes>"
      ]
     },
     "metadata": {
      "needs_background": "light"
     },
     "output_type": "display_data"
    },
    {
     "data": {
      "image/png": "[encoded data removed]",
      "text/plain": [
       "<Figure size 360x360 with 1 Axes>"
      ]
     },
     "metadata": {
      "needs_background": "light"
     },
     "output_type": "display_data"
    },
    {
     "data": {
      "image/png": "[encoded data removed]",
      "text/plain": [
       "<Figure size 360x360 with 1 Axes>"
      ]
     },
     "metadata": {
      "needs_background": "light"
     },
     "output_type": "display_data"
    },
    {
     "data": {
      "image/png": "[encoded data removed]",
      "text/plain": [
       "<Figure size 360x360 with 1 Axes>"
      ]
     },
     "metadata": {
      "needs_background": "light"
     },
     "output_type": "display_data"
    },
    {
     "data": {
      "image/png": "[encoded data removed]",
      "text/plain": [
       "<Figure size 360x360 with 1 Axes>"
      ]
     },
     "metadata": {
      "needs_background": "light"
     },
     "output_type": "display_data"
    },
    {
     "data": {
      "image/png": "[encoded data removed]",
      "text/plain": [
       "<Figure size 360x360 with 1 Axes>"
      ]
     },
     "metadata": {
      "needs_background": "light"
     },
     "output_type": "display_data"
    }
   ],
   "source": [
    "# посмотрим на боксплоты по трем параметрам каждого тарифа и описание данных\n",
    "ultra_tariff = grouped_df.query('tariff_name == \"ultra\"')\n",
    "smart_tariff = grouped_df.query('tariff_name == \"smart\"')\n",
    "print('Тариф Ультра')\n",
    "display(ultra_tariff.describe())\n",
    "print()\n",
    "\n",
    "dict_service = {'duration': 'Длительность разговора'\n",
    "               , 'gb_used': 'Использовано ГБ'\n",
    "               , 'messages':'Отправлено сообщений'}\n",
    "\n",
    "for column in ['duration', 'gb_used', 'messages']:\n",
    "    sns.catplot(x = 'tariff_name', y = column, kind = 'box', data = ultra_tariff)\n",
    "    plt.xlabel(\"Тариф Ультра\")\n",
    "    plt.ylabel(dict_service[column])\n",
    "\n",
    "print('Тариф Смарт')\n",
    "display(smart_tariff.describe())\n",
    "print()\n",
    "\n",
    "for column in ['duration', 'gb_used', 'messages']:\n",
    "    sns.catplot(x = 'tariff_name', y = column, kind = 'box', data = smart_tariff)\n",
    "    plt.xlabel(\"Тариф Смарт\")\n",
    "    plt.ylabel(dict_service[column])"
   ]
  },
  {
   "cell_type": "markdown",
   "metadata": {},
   "source": [
    "#### Вывод\n",
    "Средние значения не сильно отличаются от медианных. Есть отличающиеся данные по длительности звонка, кол-ву использованного интернет траффика и кол-ву отправленных сообщений, но такие данные нельзя принимать за аномалии, т.к. каждый человек индивидуален в пользовании мобильной связью(звонки, интернет, sms-сообщения) и эти данные не выглядят какими-то фантастическими. Если удалить такие значения, то мы потеряем данные о клиентах, которые превышают лимиты по тарифам и приносят компании доход. В любом случае буду использовать медиану для дальнейшего анализа.<br/>\n",
    "По описанию данных видно, что в среднем клиентам хватает предоставленных лимитов в рамках тарифа, но это в целом по пользователям, нас же интересует поведение каждого клиента в рамках лимитов тарифа."
   ]
  },
  {
   "cell_type": "markdown",
   "metadata": {},
   "source": [
    "### Описательная статистика"
   ]
  },
  {
   "cell_type": "code",
   "execution_count": 15,
   "metadata": {
    "scrolled": true
   },
   "outputs": [
    {
     "data": {
      "text/html": [
       "<div>\n",
       "<style scoped>\n",
       "    .dataframe tbody tr th:only-of-type {\n",
       "        vertical-align: middle;\n",
       "    }\n",
       "\n",
       "    .dataframe tbody tr th {\n",
       "        vertical-align: top;\n",
       "    }\n",
       "\n",
       "    .dataframe thead th {\n",
       "        text-align: right;\n",
       "    }\n",
       "</style>\n",
       "<table border=\"1\" class=\"dataframe\">\n",
       "  <thead>\n",
       "    <tr style=\"text-align: right;\">\n",
       "      <th></th>\n",
       "      <th>duration</th>\n",
       "      <th>gb_used</th>\n",
       "      <th>messages</th>\n",
       "      <th>revenue</th>\n",
       "      <th>tariff_name</th>\n",
       "    </tr>\n",
       "    <tr>\n",
       "      <th>user_id</th>\n",
       "      <th></th>\n",
       "      <th></th>\n",
       "      <th></th>\n",
       "      <th></th>\n",
       "      <th></th>\n",
       "    </tr>\n",
       "  </thead>\n",
       "  <tbody>\n",
       "    <tr>\n",
       "      <td>1000</td>\n",
       "      <td>345.0</td>\n",
       "      <td>14.5</td>\n",
       "      <td>65.0</td>\n",
       "      <td>1950.0</td>\n",
       "      <td>ultra</td>\n",
       "    </tr>\n",
       "    <tr>\n",
       "      <td>1001</td>\n",
       "      <td>437.0</td>\n",
       "      <td>16.0</td>\n",
       "      <td>0.0</td>\n",
       "      <td>850.0</td>\n",
       "      <td>smart</td>\n",
       "    </tr>\n",
       "    <tr>\n",
       "      <td>1002</td>\n",
       "      <td>221.0</td>\n",
       "      <td>18.0</td>\n",
       "      <td>11.0</td>\n",
       "      <td>1150.0</td>\n",
       "      <td>smart</td>\n",
       "    </tr>\n",
       "    <tr>\n",
       "      <td>1003</td>\n",
       "      <td>844.0</td>\n",
       "      <td>12.0</td>\n",
       "      <td>83.0</td>\n",
       "      <td>1950.0</td>\n",
       "      <td>ultra</td>\n",
       "    </tr>\n",
       "    <tr>\n",
       "      <td>1004</td>\n",
       "      <td>136.5</td>\n",
       "      <td>18.0</td>\n",
       "      <td>154.5</td>\n",
       "      <td>1950.0</td>\n",
       "      <td>ultra</td>\n",
       "    </tr>\n",
       "  </tbody>\n",
       "</table>\n",
       "</div>"
      ],
      "text/plain": [
       "         duration  gb_used  messages  revenue tariff_name\n",
       "user_id                                                  \n",
       "1000        345.0     14.5      65.0   1950.0       ultra\n",
       "1001        437.0     16.0       0.0    850.0       smart\n",
       "1002        221.0     18.0      11.0   1150.0       smart\n",
       "1003        844.0     12.0      83.0   1950.0       ultra\n",
       "1004        136.5     18.0     154.5   1950.0       ultra"
      ]
     },
     "execution_count": 15,
     "metadata": {},
     "output_type": "execute_result"
    }
   ],
   "source": [
    "# таблица средних значений\n",
    "# (сначала столбец тарифы сделал индексом, но потом возникли сложности с построением граффиков)\n",
    "median_pivot = grouped_df.pivot_table(\n",
    "    index = 'user_id', values = ['duration', 'gb_used', 'messages', 'revenue']\n",
    "    , aggfunc = 'median' )\n",
    "\n",
    "# добавляю столбец с наименованием тарифа\n",
    "for user_id in users['user_id']:\n",
    "    median_pivot.loc[user_id, 'tariff_name'] = users.loc[user_id-1000, 'tariff']\n",
    "\n",
    "median_pivot.dropna(subset = ['duration'], inplace = True)\n",
    "median_pivot.head()"
   ]
  },
  {
   "cell_type": "code",
   "execution_count": 16,
   "metadata": {},
   "outputs": [
    {
     "data": {
      "text/html": [
       "<style  type=\"text/css\" >\n",
       "</style><table id=\"T_996c5580_7b0b_11ec_b648_02420a392473\" ><thead>    <tr>        <th class=\"blank level0\" ></th>        <th class=\"col_heading level0 col0\" colspan=3>duration</th>        <th class=\"col_heading level0 col3\" colspan=3>gb_used</th>        <th class=\"col_heading level0 col6\" colspan=3>messages</th>    </tr>    <tr>        <th class=\"blank level1\" ></th>        <th class=\"col_heading level1 col0\" >mean</th>        <th class=\"col_heading level1 col1\" >std</th>        <th class=\"col_heading level1 col2\" >var</th>        <th class=\"col_heading level1 col3\" >mean</th>        <th class=\"col_heading level1 col4\" >std</th>        <th class=\"col_heading level1 col5\" >var</th>        <th class=\"col_heading level1 col6\" >mean</th>        <th class=\"col_heading level1 col7\" >std</th>        <th class=\"col_heading level1 col8\" >var</th>    </tr>    <tr>        <th class=\"index_name level0\" >tariff_name</th>        <th class=\"blank\" ></th>        <th class=\"blank\" ></th>        <th class=\"blank\" ></th>        <th class=\"blank\" ></th>        <th class=\"blank\" ></th>        <th class=\"blank\" ></th>        <th class=\"blank\" ></th>        <th class=\"blank\" ></th>        <th class=\"blank\" ></th>    </tr></thead><tbody>\n",
       "                <tr>\n",
       "                        <th id=\"T_996c5580_7b0b_11ec_b648_02420a392473level0_row0\" class=\"row_heading level0 row0\" >smart</th>\n",
       "                        <td id=\"T_996c5580_7b0b_11ec_b648_02420a392473row0_col0\" class=\"data row0 col0\" >429.45</td>\n",
       "                        <td id=\"T_996c5580_7b0b_11ec_b648_02420a392473row0_col1\" class=\"data row0 col1\" >194.87</td>\n",
       "                        <td id=\"T_996c5580_7b0b_11ec_b648_02420a392473row0_col2\" class=\"data row0 col2\" >37974.77</td>\n",
       "                        <td id=\"T_996c5580_7b0b_11ec_b648_02420a392473row0_col3\" class=\"data row0 col3\" >16.33</td>\n",
       "                        <td id=\"T_996c5580_7b0b_11ec_b648_02420a392473row0_col4\" class=\"data row0 col4\" >5.75</td>\n",
       "                        <td id=\"T_996c5580_7b0b_11ec_b648_02420a392473row0_col5\" class=\"data row0 col5\" >33.03</td>\n",
       "                        <td id=\"T_996c5580_7b0b_11ec_b648_02420a392473row0_col6\" class=\"data row0 col6\" >33.38</td>\n",
       "                        <td id=\"T_996c5580_7b0b_11ec_b648_02420a392473row0_col7\" class=\"data row0 col7\" >28.23</td>\n",
       "                        <td id=\"T_996c5580_7b0b_11ec_b648_02420a392473row0_col8\" class=\"data row0 col8\" >796.81</td>\n",
       "            </tr>\n",
       "            <tr>\n",
       "                        <th id=\"T_996c5580_7b0b_11ec_b648_02420a392473level0_row1\" class=\"row_heading level0 row1\" >ultra</th>\n",
       "                        <td id=\"T_996c5580_7b0b_11ec_b648_02420a392473row1_col0\" class=\"data row1 col0\" >540.78</td>\n",
       "                        <td id=\"T_996c5580_7b0b_11ec_b648_02420a392473row1_col1\" class=\"data row1 col1\" >325.74</td>\n",
       "                        <td id=\"T_996c5580_7b0b_11ec_b648_02420a392473row1_col2\" class=\"data row1 col2\" >106105.73</td>\n",
       "                        <td id=\"T_996c5580_7b0b_11ec_b648_02420a392473row1_col3\" class=\"data row1 col3\" >19.49</td>\n",
       "                        <td id=\"T_996c5580_7b0b_11ec_b648_02420a392473row1_col4\" class=\"data row1 col4\" >9.85</td>\n",
       "                        <td id=\"T_996c5580_7b0b_11ec_b648_02420a392473row1_col5\" class=\"data row1 col5\" >97.09</td>\n",
       "                        <td id=\"T_996c5580_7b0b_11ec_b648_02420a392473row1_col6\" class=\"data row1 col6\" >49.36</td>\n",
       "                        <td id=\"T_996c5580_7b0b_11ec_b648_02420a392473row1_col7\" class=\"data row1 col7\" >47.80</td>\n",
       "                        <td id=\"T_996c5580_7b0b_11ec_b648_02420a392473row1_col8\" class=\"data row1 col8\" >2285.27</td>\n",
       "            </tr>\n",
       "    </tbody></table>"
      ],
      "text/plain": [
       "<pandas.io.formats.style.Styler at 0x7f3a5c6aa350>"
      ]
     },
     "execution_count": 16,
     "metadata": {},
     "output_type": "execute_result"
    }
   ],
   "source": [
    "# вывод среднего, стандартного отклонения и дисперсии\n",
    "stat_tariff = grouped_df.pivot_table(\n",
    "    index = 'tariff_name', values = ['duration', 'gb_used', 'messages']\n",
    "    , aggfunc = {'duration': [np.mean, np.std, np.var]\n",
    "    ,'gb_used': [np.mean, np.std, np.var]\n",
    "    , 'messages': [np.mean, np.std, np.var]}\n",
    ").style.format('{:.2f}')\n",
    "\n",
    "stat_tariff"
   ]
  },
  {
   "cell_type": "code",
   "execution_count": 17,
   "metadata": {},
   "outputs": [
    {
     "data": {
      "image/png": "[encoded data removed]",
      "text/plain": [
       "<Figure size 360x360 with 1 Axes>"
      ]
     },
     "metadata": {
      "needs_background": "light"
     },
     "output_type": "display_data"
    },
    {
     "data": {
      "image/png": "[encoded data removed]",
      "text/plain": [
       "<Figure size 360x360 with 1 Axes>"
      ]
     },
     "metadata": {
      "needs_background": "light"
     },
     "output_type": "display_data"
    },
    {
     "data": {
      "image/png": "[encoded data removed]",
      "text/plain": [
       "<Figure size 360x360 with 1 Axes>"
      ]
     },
     "metadata": {
      "needs_background": "light"
     },
     "output_type": "display_data"
    }
   ],
   "source": [
    "# посмотрим на боксплоты в сравнении\n",
    "for column in ['duration', 'gb_used', 'messages']:\n",
    "    sns.catplot(x = 'tariff_name', y = column, kind = 'box', data = median_pivot)\n",
    "    plt.title('Сравнение тарифов')\n",
    "    plt.xlabel('Тариф')\n",
    "    plt.ylabel(dict_service[column])"
   ]
  },
  {
   "cell_type": "code",
   "execution_count": 18,
   "metadata": {
    "scrolled": false
   },
   "outputs": [
    {
     "data": {
      "image/png": "[encoded data removed]",
      "text/plain": [
       "<Figure size 432x288 with 1 Axes>"
      ]
     },
     "metadata": {
      "needs_background": "light"
     },
     "output_type": "display_data"
    },
    {
     "data": {
      "image/png": "[encoded data removed]",
      "text/plain": [
       "<Figure size 432x288 with 1 Axes>"
      ]
     },
     "metadata": {
      "needs_background": "light"
     },
     "output_type": "display_data"
    },
    {
     "data": {
      "image/png": "[encoded data removed]",
      "text/plain": [
       "<Figure size 432x288 with 1 Axes>"
      ]
     },
     "metadata": {
      "needs_background": "light"
     },
     "output_type": "display_data"
    }
   ],
   "source": [
    "# гистограммы в сравнении\n",
    "for tariff in ['ultra', 'smart']:\n",
    "    (\n",
    "        sns.distplot(median_pivot.query('tariff_name == @tariff')['duration']\n",
    "                     , kde = False, label = tariff).set_title('Длительность звонков')\n",
    "    )\n",
    "_ = plt.legend(['ultra', 'smart'])\n",
    "plt.xlabel('Длительность разговора')\n",
    "plt.ylabel('Чатота')\n",
    "plt.show()\n",
    "\n",
    "for tariff in ['ultra', 'smart']:\n",
    "    (\n",
    "        sns.distplot(median_pivot.query('tariff_name == @tariff')['gb_used']\n",
    "                     , kde = False, label = tariff).set_title('Объем потраченного трафика в ГБ')\n",
    "    )\n",
    "_ = plt.legend(['ultra', 'smart'])\n",
    "plt.xlabel('Использовано ГБ')\n",
    "plt.ylabel('Чатота')\n",
    "plt.show()\n",
    "\n",
    "for tariff in ['ultra', 'smart']:\n",
    "    (\n",
    "    sns.distplot(median_pivot.query('tariff_name == @tariff')['messages']\n",
    "                 , kde = False, label = tariff).set_title('Количество сообщений')\n",
    "    )\n",
    "_ = plt.legend(['ultra', 'smart'])\n",
    "plt.xlabel('Отправлено сообщений')\n",
    "plt.ylabel('Чатота')\n",
    "plt.show()"
   ]
  },
  {
   "cell_type": "markdown",
   "metadata": {},
   "source": [
    "### Вывод\n",
    "По боксплотам можно заметить, что медианное значение по каждому параметру тарифа **Ультра** очень близко к значению третьего квартиля тарифа **Смарт**. По гистограммам видно, что дисерсия тарифа **Ультра** превосходит дисперсию тарифа **Смарт**.<br/>\n",
    "Также по ним можно описать поведение клиентов:\n",
    "- **Длительность звонков** пользователей тарифа **Смарт** чаще всего в рамках лимита тарифа-**около 400 и 500 минут**, но и также часто выходят за рамки лимита по звонкам и длительность составляет ** 900 минут**; пользователи тарифа **Ультра** не выходят за рамки лимита;\n",
    "- Половине абонентов тарифа **Смарт** не хватает лимита по **интернет-траффику**; абоненты тарифа **Ультра** чаще \"укладываются\" в предоставленный лимит;\n",
    "- **Количество сообщений** по двум тарифам не выходит за рамки лимита, можно быть уверенными, что sms-сообщения непопулярны.<br/>\n",
    "\n",
    "После анализа можно отметить, что абоненты тарифа **Смарт** чаще абонентов тарифа **Ультра** выходят за рамки лимитов по двум параметрам (длительность звонков, интернет-траффик) и, соответственно, чаще приносят компании дополнительный доход за оверлимиты.<br/>\n",
    "Тем не менее нужно проверить от пользователей какого тарифа и города оператор получает больше выручки.\n"
   ]
  },
  {
   "cell_type": "markdown",
   "metadata": {},
   "source": [
    "## Проверка гипотез"
   ]
  },
  {
   "cell_type": "markdown",
   "metadata": {},
   "source": [
    "### Выручка по тарифам\n",
    "**Нулевая гипотеза (Н0)** - средняя выручка тарифа **Ультра** равна средней выручке тарифа **Смарт**.<br/>\n",
    "**Альтернативная гипотеза (Н1)** - средняя выручка тарифов различается.<br/>\n",
    "**Уровень значимости (alpha)** = 5%"
   ]
  },
  {
   "cell_type": "code",
   "execution_count": 19,
   "metadata": {},
   "outputs": [
    {
     "name": "stdout",
     "output_type": "stream",
     "text": [
      "р-значение: 4.7897104728368674e-238\n",
      "Нулевая гипотеза отвергнута - средние значения выручки по тарифам различаются\n",
      "\n",
      "-----------------------\n",
      "Средняя выручка тарифов\n"
     ]
    },
    {
     "data": {
      "text/html": [
       "<div>\n",
       "<style scoped>\n",
       "    .dataframe tbody tr th:only-of-type {\n",
       "        vertical-align: middle;\n",
       "    }\n",
       "\n",
       "    .dataframe tbody tr th {\n",
       "        vertical-align: top;\n",
       "    }\n",
       "\n",
       "    .dataframe thead th {\n",
       "        text-align: right;\n",
       "    }\n",
       "</style>\n",
       "<table border=\"1\" class=\"dataframe\">\n",
       "  <thead>\n",
       "    <tr style=\"text-align: right;\">\n",
       "      <th></th>\n",
       "      <th>revenue</th>\n",
       "    </tr>\n",
       "    <tr>\n",
       "      <th>tariff_name</th>\n",
       "      <th></th>\n",
       "    </tr>\n",
       "  </thead>\n",
       "  <tbody>\n",
       "    <tr>\n",
       "      <td>smart</td>\n",
       "      <td>1062</td>\n",
       "    </tr>\n",
       "    <tr>\n",
       "      <td>ultra</td>\n",
       "      <td>1950</td>\n",
       "    </tr>\n",
       "  </tbody>\n",
       "</table>\n",
       "</div>"
      ],
      "text/plain": [
       "             revenue\n",
       "tariff_name         \n",
       "smart           1062\n",
       "ultra           1950"
      ]
     },
     "execution_count": 19,
     "metadata": {},
     "output_type": "execute_result"
    }
   ],
   "source": [
    "# срезы по тарифу и столбцу выручки\n",
    "ultra_tariff = grouped_df.query('tariff_name == \"ultra\"')['revenue']\n",
    "smart_tariff = grouped_df.query('tariff_name == \"smart\"')['revenue']\n",
    "\n",
    "alpha = 0.05\n",
    "\n",
    "results = st.ttest_ind(ultra_tariff, smart_tariff, equal_var = False)\n",
    "print('р-значение:', results.pvalue)\n",
    "if(results.pvalue < alpha):\n",
    "    print('Нулевая гипотеза отвергнута - средние значения выручки по тарифам различаются')\n",
    "else:\n",
    "    print('Нулевую гипотезу отвергнуть не удалось - средние значения выручки по тарифам равны')\n",
    "print()\n",
    "print('-----------------------')\n",
    "print('Средняя выручка тарифов')\n",
    "grouped_df.pivot_table(index = 'tariff_name', values = 'revenue', aggfunc = 'median')"
   ]
  },
  {
   "cell_type": "markdown",
   "metadata": {},
   "source": [
    "### Вывод\n",
    "В результате теста можно сказать с уверенностью в 95%, что выручка от пользователей тарифа **Ультра** отличается от выручки тарифа **Смарт**, несмотря на то, что таким пользователям, как правило, не хватает лимитов по услугам в рамках тарифа и они оплачивают дополнительно минути и гигабайты."
   ]
  },
  {
   "cell_type": "markdown",
   "metadata": {},
   "source": [
    "### Выручка по регионам\n",
    "**Нулевая гипотеза (Н0)** - средняя выручка по пользователям из Москвы не отличается от средней выручки по пользователям из других городов.<br/>\n",
    "**Альтернативная гипотеза (Н1)** - средняя выручка по пользователям Москвы и пользователям из других городов отличается.<br/>\n",
    "**Уровень значимости (alpha)** = 5%"
   ]
  },
  {
   "cell_type": "code",
   "execution_count": 20,
   "metadata": {},
   "outputs": [
    {
     "name": "stdout",
     "output_type": "stream",
     "text": [
      "p-значение: 0.5749090668370982\n",
      "Нулевую гипотезу отвергнуть не удалось - средняя выручка по пользователям из Москвы не отличается от средней выручки по пользователям из других городов\n",
      "\n",
      "-----------------------\n",
      "Средняя выручка по Москве: 1556.0\n",
      "Средняя выручка по другим городам: 1537.0\n",
      "-----------------------\n"
     ]
    }
   ],
   "source": [
    "# срезы по городам(Москва и остальные города) и столбцу выручки\n",
    "moscow_city = grouped_df.query('city == \"Москва\"')['revenue']\n",
    "other_cities = grouped_df.query('city != \"Москва\"')['revenue']\n",
    "\n",
    "alpha = 0.05\n",
    "\n",
    "result = st.ttest_ind(moscow_city, other_cities, equal_var = False)\n",
    "print('p-значение:', result.pvalue)\n",
    "\n",
    "if (result.pvalue < alpha):\n",
    "    print('Нулевая гипотеза отвергнута - средние значения выручки по пользователям из Москвы и польхователяи из других городов различаются')\n",
    "else:\n",
    "    print('Нулевую гипотезу отвергнуть не удалось - средняя выручка по пользователям из Москвы не отличается от средней выручки по пользователям из других городов')\n",
    "print()\n",
    "print('-----------------------')\n",
    "print('Средняя выручка по Москве:',moscow_city.mean().round())\n",
    "print('Средняя выручка по другим городам:',other_cities.mean().round())\n",
    "print('-----------------------')"
   ]
  },
  {
   "cell_type": "markdown",
   "metadata": {},
   "source": [
    "### Вывод\n",
    "В результате теста неудалось отвергуть нулевую гипотезу. Это означает, что выручка от абонентов Москвы практически не отличается от выручки абонентов из других городов."
   ]
  },
  {
   "cell_type": "markdown",
   "metadata": {},
   "source": [
    "## Общий вывод\n",
    "В результате проведенного статистического анализа можно подвести следующие итоги:<br/>\n",
    "1) sms-сообщения не популярны у абонентов двух тарифов - за рамки предоставленных сообщений пользователи не выходят;<br/>\n",
    "2) Пользователям тарифа **Смарт** чаще не хватает лимитов по **кол-ву минут** и **интернет-траффику** и плата за вользование тарифом превышает абонентскую ежемесячную плату, в отличие от пользователей тарифа **Ультра**;<br/>\n",
    "3) Средняя выручка по пользователям тарифа **Ультра** превышает среднюю выручку по тарифу **Смарт**;<br/>\n",
    "4) Средняя выручка по абонентам из Москвы практически не отличается от средней выручки по абонентам из других городов.<br/>\n",
    "**На основе поведения клиентов тариф Ультра является более выгодным для оператора сотовой связи \"Мегалайн\", т.к. ежемесячная абонентская плата превышает выручку от тарифа Смарт почти в два раза.**\n"
   ]
  }
 ],
 "metadata": {
  "ExecuteTimeLog": [
   {
    "duration": 1090,
    "start_time": "2021-09-07T19:06:59.592Z"
   },
   {
    "duration": 3,
    "start_time": "2021-09-07T19:07:18.261Z"
   },
   {
    "duration": 418,
    "start_time": "2021-09-07T19:11:52.156Z"
   },
   {
    "duration": 718,
    "start_time": "2021-09-07T19:12:21.361Z"
   },
   {
    "duration": 653,
    "start_time": "2021-09-07T19:12:31.511Z"
   },
   {
    "duration": 632,
    "start_time": "2021-09-07T19:13:45.475Z"
   },
   {
    "duration": 387,
    "start_time": "2021-09-07T19:19:57.686Z"
   },
   {
    "duration": 10,
    "start_time": "2021-09-07T19:20:24.336Z"
   },
   {
    "duration": 387,
    "start_time": "2021-09-07T19:20:54.575Z"
   },
   {
    "duration": 7,
    "start_time": "2021-09-07T19:20:56.144Z"
   },
   {
    "duration": 454,
    "start_time": "2021-09-07T19:21:09.953Z"
   },
   {
    "duration": 406,
    "start_time": "2021-09-07T19:23:32.839Z"
   },
   {
    "duration": 398,
    "start_time": "2021-09-07T19:23:47.968Z"
   },
   {
    "duration": 980,
    "start_time": "2021-09-07T19:24:35.430Z"
   },
   {
    "duration": 410,
    "start_time": "2021-09-07T19:24:44.370Z"
   },
   {
    "duration": 1612,
    "start_time": "2021-09-07T19:24:50.239Z"
   },
   {
    "duration": 517,
    "start_time": "2021-09-07T19:24:54.940Z"
   },
   {
    "duration": 550,
    "start_time": "2021-09-07T19:25:14.731Z"
   },
   {
    "duration": 387,
    "start_time": "2021-09-07T19:26:01.492Z"
   },
   {
    "duration": 374,
    "start_time": "2021-09-07T19:26:43.905Z"
   },
   {
    "duration": 395,
    "start_time": "2021-09-07T19:27:42.842Z"
   },
   {
    "duration": 382,
    "start_time": "2021-09-07T19:30:31.929Z"
   },
   {
    "duration": 21,
    "start_time": "2021-09-07T19:30:41.668Z"
   },
   {
    "duration": 19,
    "start_time": "2021-09-07T19:30:55.089Z"
   },
   {
    "duration": 20,
    "start_time": "2021-09-07T19:31:10.295Z"
   },
   {
    "duration": 21,
    "start_time": "2021-09-07T19:31:52.523Z"
   },
   {
    "duration": 389,
    "start_time": "2021-09-07T19:32:06.156Z"
   },
   {
    "duration": 22,
    "start_time": "2021-09-07T19:32:08.292Z"
   },
   {
    "duration": 379,
    "start_time": "2021-09-07T19:32:20.544Z"
   },
   {
    "duration": 21,
    "start_time": "2021-09-07T19:32:22.364Z"
   },
   {
    "duration": 382,
    "start_time": "2021-09-07T19:32:42.082Z"
   },
   {
    "duration": 21,
    "start_time": "2021-09-07T19:32:46.612Z"
   },
   {
    "duration": 378,
    "start_time": "2021-09-07T19:33:10.539Z"
   },
   {
    "duration": 20,
    "start_time": "2021-09-07T19:33:12.809Z"
   },
   {
    "duration": 390,
    "start_time": "2021-09-07T19:33:37.329Z"
   },
   {
    "duration": 24,
    "start_time": "2021-09-07T19:33:39.151Z"
   },
   {
    "duration": 241,
    "start_time": "2021-09-07T19:34:52.021Z"
   },
   {
    "duration": 239,
    "start_time": "2021-09-07T19:35:23.648Z"
   },
   {
    "duration": 81,
    "start_time": "2021-09-07T19:37:12.838Z"
   },
   {
    "duration": 384,
    "start_time": "2021-09-07T19:38:34.694Z"
   },
   {
    "duration": 54,
    "start_time": "2021-09-07T19:38:36.640Z"
   },
   {
    "duration": 388,
    "start_time": "2021-09-07T19:38:49.659Z"
   },
   {
    "duration": 51,
    "start_time": "2021-09-07T19:38:51.830Z"
   },
   {
    "duration": 384,
    "start_time": "2021-09-07T19:38:59.724Z"
   },
   {
    "duration": 4,
    "start_time": "2021-09-07T19:39:01.644Z"
   },
   {
    "duration": 3,
    "start_time": "2021-09-07T19:39:06.367Z"
   },
   {
    "duration": 388,
    "start_time": "2021-09-07T19:39:15.450Z"
   },
   {
    "duration": 12,
    "start_time": "2021-09-07T19:39:17.826Z"
   },
   {
    "duration": 12,
    "start_time": "2021-09-07T19:39:46.378Z"
   },
   {
    "duration": 391,
    "start_time": "2021-09-07T19:40:21.864Z"
   },
   {
    "duration": 59,
    "start_time": "2021-09-07T19:40:23.193Z"
   },
   {
    "duration": 374,
    "start_time": "2021-09-07T19:40:39.111Z"
   },
   {
    "duration": 62,
    "start_time": "2021-09-07T19:40:41.096Z"
   },
   {
    "duration": 375,
    "start_time": "2021-09-07T19:41:24.816Z"
   },
   {
    "duration": 70,
    "start_time": "2021-09-07T19:41:26.525Z"
   },
   {
    "duration": 376,
    "start_time": "2021-09-07T19:41:50.396Z"
   },
   {
    "duration": 56,
    "start_time": "2021-09-07T19:41:52.473Z"
   },
   {
    "duration": 29,
    "start_time": "2021-09-07T19:44:04.069Z"
   },
   {
    "duration": 31,
    "start_time": "2021-09-07T19:44:31.923Z"
   },
   {
    "duration": 30,
    "start_time": "2021-09-07T19:45:01.869Z"
   },
   {
    "duration": 24,
    "start_time": "2021-09-07T19:45:25.162Z"
   },
   {
    "duration": 21,
    "start_time": "2021-09-07T19:46:19.563Z"
   },
   {
    "duration": 242,
    "start_time": "2021-09-07T19:48:02.679Z"
   },
   {
    "duration": 1014,
    "start_time": "2021-09-07T19:48:46.470Z"
   },
   {
    "duration": 380,
    "start_time": "2021-09-07T19:48:47.486Z"
   },
   {
    "duration": 47,
    "start_time": "2021-09-07T19:48:47.868Z"
   },
   {
    "duration": 37,
    "start_time": "2021-09-07T19:48:47.917Z"
   },
   {
    "duration": 328,
    "start_time": "2021-09-07T19:48:47.956Z"
   },
   {
    "duration": 176,
    "start_time": "2021-09-07T19:48:48.110Z"
   },
   {
    "duration": 174,
    "start_time": "2021-09-07T19:48:48.113Z"
   },
   {
    "duration": 31,
    "start_time": "2021-09-07T19:48:55.099Z"
   },
   {
    "duration": 1096,
    "start_time": "2021-09-07T19:50:31.381Z"
   },
   {
    "duration": 386,
    "start_time": "2021-09-07T19:50:32.479Z"
   },
   {
    "duration": 29,
    "start_time": "2021-09-07T19:50:32.867Z"
   },
   {
    "duration": 22,
    "start_time": "2021-09-07T19:50:32.898Z"
   },
   {
    "duration": 18,
    "start_time": "2021-09-07T19:50:32.922Z"
   },
   {
    "duration": 304,
    "start_time": "2021-09-07T19:50:32.942Z"
   },
   {
    "duration": 182,
    "start_time": "2021-09-07T19:50:33.066Z"
   },
   {
    "duration": 1048,
    "start_time": "2021-09-07T19:51:31.625Z"
   },
   {
    "duration": 387,
    "start_time": "2021-09-07T19:51:32.675Z"
   },
   {
    "duration": 30,
    "start_time": "2021-09-07T19:51:33.065Z"
   },
   {
    "duration": 23,
    "start_time": "2021-09-07T19:51:33.097Z"
   },
   {
    "duration": 19,
    "start_time": "2021-09-07T19:51:33.122Z"
   },
   {
    "duration": 10,
    "start_time": "2021-09-07T19:51:33.143Z"
   },
   {
    "duration": 42,
    "start_time": "2021-09-07T19:51:33.154Z"
   },
   {
    "duration": 641,
    "start_time": "2021-09-08T16:15:11.961Z"
   },
   {
    "duration": 1094,
    "start_time": "2021-09-08T16:15:20.741Z"
   },
   {
    "duration": 408,
    "start_time": "2021-09-08T16:15:25.138Z"
   },
   {
    "duration": 3,
    "start_time": "2021-09-08T16:15:27.927Z"
   },
   {
    "duration": 3,
    "start_time": "2021-09-08T16:15:43.783Z"
   },
   {
    "duration": 311,
    "start_time": "2021-09-08T16:15:46.761Z"
   },
   {
    "duration": 33,
    "start_time": "2021-09-08T16:15:59.864Z"
   },
   {
    "duration": 3,
    "start_time": "2021-09-08T16:16:16.160Z"
   },
   {
    "duration": 28,
    "start_time": "2021-09-08T16:16:17.842Z"
   },
   {
    "duration": 43,
    "start_time": "2021-09-08T16:16:30.756Z"
   },
   {
    "duration": 85,
    "start_time": "2021-09-08T16:17:07.883Z"
   },
   {
    "duration": 3,
    "start_time": "2021-09-08T16:17:13.003Z"
   },
   {
    "duration": 39,
    "start_time": "2021-09-08T16:17:14.827Z"
   },
   {
    "duration": 3,
    "start_time": "2021-09-08T16:17:44.980Z"
   },
   {
    "duration": 41,
    "start_time": "2021-09-08T16:17:46.852Z"
   },
   {
    "duration": 317,
    "start_time": "2021-09-08T16:25:20.363Z"
   },
   {
    "duration": 320,
    "start_time": "2021-09-08T16:25:30.014Z"
   },
   {
    "duration": 63,
    "start_time": "2021-09-08T16:29:04.527Z"
   },
   {
    "duration": 3,
    "start_time": "2021-09-08T16:32:42.028Z"
   },
   {
    "duration": 65,
    "start_time": "2021-09-08T16:33:28.048Z"
   },
   {
    "duration": 3,
    "start_time": "2021-09-08T16:34:00.945Z"
   },
   {
    "duration": 70,
    "start_time": "2021-09-08T16:34:03.014Z"
   },
   {
    "duration": 3,
    "start_time": "2021-09-08T16:34:21.571Z"
   },
   {
    "duration": 65,
    "start_time": "2021-09-08T16:34:24.152Z"
   },
   {
    "duration": 4,
    "start_time": "2021-09-08T16:34:35.152Z"
   },
   {
    "duration": 61,
    "start_time": "2021-09-08T16:34:37.356Z"
   },
   {
    "duration": 66,
    "start_time": "2021-09-08T16:39:39.534Z"
   },
   {
    "duration": 14,
    "start_time": "2021-09-08T17:09:56.552Z"
   },
   {
    "duration": 1051,
    "start_time": "2021-09-08T17:27:53.885Z"
   },
   {
    "duration": 417,
    "start_time": "2021-09-08T17:27:54.938Z"
   },
   {
    "duration": 3,
    "start_time": "2021-09-08T17:27:55.357Z"
   },
   {
    "duration": 85,
    "start_time": "2021-09-08T17:27:55.361Z"
   },
   {
    "duration": 14,
    "start_time": "2021-09-08T17:27:55.448Z"
   },
   {
    "duration": 86,
    "start_time": "2021-09-08T18:47:20.588Z"
   },
   {
    "duration": 355,
    "start_time": "2021-09-08T18:48:35.460Z"
   },
   {
    "duration": 268,
    "start_time": "2021-09-08T18:48:59.327Z"
   },
   {
    "duration": 265,
    "start_time": "2021-09-08T18:49:09.449Z"
   },
   {
    "duration": 7230,
    "start_time": "2021-09-08T18:49:57.240Z"
   },
   {
    "duration": 273,
    "start_time": "2021-09-08T18:50:22.403Z"
   },
   {
    "duration": 292,
    "start_time": "2021-09-08T18:50:32.388Z"
   },
   {
    "duration": 2026,
    "start_time": "2021-09-08T18:51:03.956Z"
   },
   {
    "duration": 1983,
    "start_time": "2021-09-08T18:51:47.176Z"
   },
   {
    "duration": 1918,
    "start_time": "2021-09-08T18:52:06.030Z"
   },
   {
    "duration": 3372,
    "start_time": "2021-09-08T18:52:30.325Z"
   },
   {
    "duration": 258,
    "start_time": "2021-09-08T18:52:59.271Z"
   },
   {
    "duration": 4255,
    "start_time": "2021-09-08T18:53:28.512Z"
   },
   {
    "duration": 7,
    "start_time": "2021-09-08T18:57:22.030Z"
   },
   {
    "duration": 2016,
    "start_time": "2021-09-08T18:57:28.164Z"
   },
   {
    "duration": 22,
    "start_time": "2021-09-08T18:57:47.455Z"
   },
   {
    "duration": 3517,
    "start_time": "2021-09-08T18:58:16.575Z"
   },
   {
    "duration": 27,
    "start_time": "2021-09-08T18:59:54.218Z"
   },
   {
    "duration": 4691,
    "start_time": "2021-09-08T19:00:14.577Z"
   },
   {
    "duration": 58,
    "start_time": "2021-09-08T19:01:02.623Z"
   },
   {
    "duration": 81,
    "start_time": "2021-09-08T19:01:31.938Z"
   },
   {
    "duration": 86,
    "start_time": "2021-09-08T19:01:49.726Z"
   },
   {
    "duration": 117,
    "start_time": "2021-09-08T19:02:32.474Z"
   },
   {
    "duration": 82,
    "start_time": "2021-09-08T19:02:39.606Z"
   },
   {
    "duration": 81,
    "start_time": "2021-09-08T19:02:49.451Z"
   },
   {
    "duration": 413,
    "start_time": "2021-09-08T19:03:08.421Z"
   },
   {
    "duration": 391,
    "start_time": "2021-09-08T19:03:27.470Z"
   },
   {
    "duration": 424,
    "start_time": "2021-09-08T19:03:54.496Z"
   },
   {
    "duration": 403,
    "start_time": "2021-09-08T19:04:05.745Z"
   },
   {
    "duration": 390,
    "start_time": "2021-09-08T19:04:19.987Z"
   },
   {
    "duration": 387,
    "start_time": "2021-09-08T19:04:30.152Z"
   },
   {
    "duration": 82,
    "start_time": "2021-09-08T19:05:39.431Z"
   },
   {
    "duration": 258,
    "start_time": "2021-09-08T19:06:38.179Z"
   },
   {
    "duration": 256,
    "start_time": "2021-09-08T19:06:42.960Z"
   },
   {
    "duration": 340,
    "start_time": "2021-09-08T19:07:48.214Z"
   },
   {
    "duration": 1839,
    "start_time": "2021-09-08T19:10:43.389Z"
   },
   {
    "duration": 252,
    "start_time": "2021-09-08T19:11:33.054Z"
   },
   {
    "duration": 18,
    "start_time": "2021-09-08T19:11:50.384Z"
   },
   {
    "duration": 115,
    "start_time": "2021-09-08T19:21:01.764Z"
   },
   {
    "duration": 80,
    "start_time": "2021-09-08T19:21:29.001Z"
   },
   {
    "duration": 88,
    "start_time": "2021-09-08T19:21:37.820Z"
   },
   {
    "duration": 86,
    "start_time": "2021-09-08T19:21:47.631Z"
   },
   {
    "duration": 88,
    "start_time": "2021-09-08T19:21:59.071Z"
   },
   {
    "duration": 253,
    "start_time": "2021-09-08T19:22:19.155Z"
   },
   {
    "duration": 267,
    "start_time": "2021-09-08T19:22:25.436Z"
   },
   {
    "duration": 2979,
    "start_time": "2021-09-08T19:22:44.923Z"
   },
   {
    "duration": 3650,
    "start_time": "2021-09-08T19:24:53.628Z"
   },
   {
    "duration": 3604,
    "start_time": "2021-09-08T19:25:43.694Z"
   },
   {
    "duration": 3801,
    "start_time": "2021-09-08T19:27:05.256Z"
   },
   {
    "duration": 3529,
    "start_time": "2021-09-08T19:27:43.137Z"
   },
   {
    "duration": 2629,
    "start_time": "2021-09-08T19:28:20.559Z"
   },
   {
    "duration": 1092,
    "start_time": "2021-09-08T19:28:39.834Z"
   },
   {
    "duration": 396,
    "start_time": "2021-09-08T19:28:40.928Z"
   },
   {
    "duration": 4,
    "start_time": "2021-09-08T19:28:41.326Z"
   },
   {
    "duration": 74,
    "start_time": "2021-09-08T19:28:41.332Z"
   },
   {
    "duration": 14,
    "start_time": "2021-09-08T19:28:41.409Z"
   },
   {
    "duration": 46,
    "start_time": "2021-09-08T19:28:41.425Z"
   },
   {
    "duration": 50,
    "start_time": "2021-09-08T19:30:06.479Z"
   },
   {
    "duration": 416,
    "start_time": "2021-09-08T19:30:46.057Z"
   },
   {
    "duration": 340,
    "start_time": "2021-09-08T19:32:56.709Z"
   },
   {
    "duration": 1033,
    "start_time": "2021-09-08T19:33:46.286Z"
   },
   {
    "duration": 387,
    "start_time": "2021-09-08T19:33:47.321Z"
   },
   {
    "duration": 3,
    "start_time": "2021-09-08T19:33:47.709Z"
   },
   {
    "duration": 79,
    "start_time": "2021-09-08T19:33:47.714Z"
   },
   {
    "duration": 15,
    "start_time": "2021-09-08T19:33:47.794Z"
   },
   {
    "duration": 381,
    "start_time": "2021-09-08T19:33:47.811Z"
   },
   {
    "duration": 301,
    "start_time": "2021-09-08T19:40:41.021Z"
   },
   {
    "duration": 310,
    "start_time": "2021-09-08T19:41:00.252Z"
   },
   {
    "duration": 438,
    "start_time": "2021-09-08T19:41:11.871Z"
   },
   {
    "duration": 312,
    "start_time": "2021-09-08T19:46:18.795Z"
   },
   {
    "duration": 364,
    "start_time": "2021-09-08T19:46:26.347Z"
   },
   {
    "duration": 348,
    "start_time": "2021-09-08T19:46:30.135Z"
   },
   {
    "duration": 89,
    "start_time": "2021-09-08T19:46:38.051Z"
   },
   {
    "duration": 87,
    "start_time": "2021-09-08T19:47:49.364Z"
   },
   {
    "duration": 91,
    "start_time": "2021-09-08T19:47:59.592Z"
   },
   {
    "duration": 59,
    "start_time": "2021-09-08T19:53:39.354Z"
   },
   {
    "duration": 315,
    "start_time": "2021-09-08T19:53:47.474Z"
   },
   {
    "duration": 375,
    "start_time": "2021-09-08T19:53:52.026Z"
   },
   {
    "duration": 8,
    "start_time": "2021-09-08T19:54:45.461Z"
   },
   {
    "duration": 5,
    "start_time": "2021-09-08T19:56:50.368Z"
   },
   {
    "duration": 6,
    "start_time": "2021-09-08T19:57:31.783Z"
   },
   {
    "duration": 6,
    "start_time": "2021-09-08T19:57:51.900Z"
   },
   {
    "duration": 307,
    "start_time": "2021-09-08T19:58:34.250Z"
   },
   {
    "duration": 7,
    "start_time": "2021-09-08T19:58:42.756Z"
   },
   {
    "duration": 9,
    "start_time": "2021-09-08T20:02:27.301Z"
   },
   {
    "duration": 2,
    "start_time": "2021-09-08T20:02:43.668Z"
   },
   {
    "duration": 61,
    "start_time": "2021-09-08T20:02:56.175Z"
   },
   {
    "duration": 315,
    "start_time": "2021-09-08T20:03:30.854Z"
   },
   {
    "duration": 322,
    "start_time": "2021-09-08T20:03:39.656Z"
   },
   {
    "duration": 96,
    "start_time": "2021-09-08T20:14:40.661Z"
   },
   {
    "duration": 74,
    "start_time": "2021-09-08T20:16:12.745Z"
   },
   {
    "duration": 1409,
    "start_time": "2021-09-08T20:16:34.314Z"
   },
   {
    "duration": 594,
    "start_time": "2021-09-08T20:16:35.726Z"
   },
   {
    "duration": 4,
    "start_time": "2021-09-08T20:16:36.323Z"
   },
   {
    "duration": 144,
    "start_time": "2021-09-08T20:16:36.329Z"
   },
   {
    "duration": 3,
    "start_time": "2021-09-08T20:16:36.475Z"
   },
   {
    "duration": 171,
    "start_time": "2021-09-08T20:16:36.480Z"
   },
   {
    "duration": 17664,
    "start_time": "2021-09-08T20:18:19.790Z"
   },
   {
    "duration": 81,
    "start_time": "2021-09-08T20:20:45.989Z"
   },
   {
    "duration": 1067,
    "start_time": "2021-09-08T20:21:02.751Z"
   },
   {
    "duration": 436,
    "start_time": "2021-09-08T20:21:03.820Z"
   },
   {
    "duration": 2,
    "start_time": "2021-09-08T20:21:04.258Z"
   },
   {
    "duration": 66,
    "start_time": "2021-09-08T20:21:04.262Z"
   },
   {
    "duration": 2,
    "start_time": "2021-09-08T20:21:04.330Z"
   },
   {
    "duration": 92,
    "start_time": "2021-09-08T20:21:04.334Z"
   },
   {
    "duration": 5,
    "start_time": "2021-09-08T20:27:34.109Z"
   },
   {
    "duration": 9,
    "start_time": "2021-09-08T20:30:07.506Z"
   },
   {
    "duration": 34,
    "start_time": "2021-09-08T20:31:02.356Z"
   },
   {
    "duration": 40,
    "start_time": "2021-09-08T20:31:15.445Z"
   },
   {
    "duration": 332,
    "start_time": "2021-09-08T20:31:36.190Z"
   },
   {
    "duration": 55,
    "start_time": "2021-09-08T20:31:41.466Z"
   },
   {
    "duration": 6904,
    "start_time": "2021-09-08T20:42:04.646Z"
   },
   {
    "duration": 18,
    "start_time": "2021-09-08T20:42:53.507Z"
   },
   {
    "duration": 1312,
    "start_time": "2021-09-09T08:29:36.614Z"
   },
   {
    "duration": 476,
    "start_time": "2021-09-09T08:29:39.662Z"
   },
   {
    "duration": 351,
    "start_time": "2021-09-09T08:30:03.091Z"
   },
   {
    "duration": 367,
    "start_time": "2021-09-09T08:30:19.483Z"
   },
   {
    "duration": 5078,
    "start_time": "2021-09-09T08:31:27.000Z"
   },
   {
    "duration": 1599,
    "start_time": "2021-09-09T08:32:04.041Z"
   },
   {
    "duration": 553,
    "start_time": "2021-09-09T08:32:05.643Z"
   },
   {
    "duration": 73,
    "start_time": "2021-09-09T08:32:06.199Z"
   },
   {
    "duration": 3,
    "start_time": "2021-09-09T08:32:06.275Z"
   },
   {
    "duration": 112,
    "start_time": "2021-09-09T08:32:06.281Z"
   },
   {
    "duration": 2,
    "start_time": "2021-09-09T08:32:06.396Z"
   },
   {
    "duration": 126,
    "start_time": "2021-09-09T08:32:06.401Z"
   },
   {
    "duration": 73,
    "start_time": "2021-09-09T08:32:06.529Z"
   },
   {
    "duration": 57,
    "start_time": "2021-09-09T08:33:14.373Z"
   },
   {
    "duration": 66,
    "start_time": "2021-09-09T08:33:30.213Z"
   },
   {
    "duration": 4200,
    "start_time": "2021-09-09T08:33:39.546Z"
   },
   {
    "duration": 67,
    "start_time": "2021-09-09T08:33:53.683Z"
   },
   {
    "duration": 70,
    "start_time": "2021-09-09T08:34:16.713Z"
   },
   {
    "duration": 65,
    "start_time": "2021-09-09T08:34:33.023Z"
   },
   {
    "duration": 72,
    "start_time": "2021-09-09T08:34:53.109Z"
   },
   {
    "duration": 70,
    "start_time": "2021-09-09T08:35:11.085Z"
   },
   {
    "duration": 70,
    "start_time": "2021-09-09T08:35:22.334Z"
   },
   {
    "duration": 64,
    "start_time": "2021-09-09T08:35:39.211Z"
   },
   {
    "duration": 65,
    "start_time": "2021-09-09T08:35:58.283Z"
   },
   {
    "duration": 64,
    "start_time": "2021-09-09T08:36:09.026Z"
   },
   {
    "duration": 66,
    "start_time": "2021-09-09T08:36:18.481Z"
   },
   {
    "duration": 1204,
    "start_time": "2021-09-09T08:36:29.744Z"
   },
   {
    "duration": 64,
    "start_time": "2021-09-09T08:36:34.370Z"
   },
   {
    "duration": 18,
    "start_time": "2021-09-09T08:39:34.275Z"
   },
   {
    "duration": 3,
    "start_time": "2021-09-09T08:40:59.216Z"
   },
   {
    "duration": 86,
    "start_time": "2021-09-09T08:48:19.532Z"
   },
   {
    "duration": 9418,
    "start_time": "2021-09-09T08:51:11.987Z"
   },
   {
    "duration": 158,
    "start_time": "2021-09-09T08:51:53.047Z"
   },
   {
    "duration": 9,
    "start_time": "2021-09-09T09:08:00.870Z"
   },
   {
    "duration": 10,
    "start_time": "2021-09-09T09:08:33.365Z"
   },
   {
    "duration": 8427,
    "start_time": "2021-09-09T09:09:21.678Z"
   },
   {
    "duration": 13,
    "start_time": "2021-09-09T09:09:40.664Z"
   },
   {
    "duration": 255,
    "start_time": "2021-09-09T09:13:13.495Z"
   },
   {
    "duration": 216,
    "start_time": "2021-09-09T09:14:38.123Z"
   },
   {
    "duration": 246,
    "start_time": "2021-09-09T09:14:44.079Z"
   },
   {
    "duration": 8435,
    "start_time": "2021-09-09T09:23:39.137Z"
   },
   {
    "duration": 200,
    "start_time": "2021-09-09T09:23:57.664Z"
   },
   {
    "duration": 156,
    "start_time": "2021-09-09T09:24:44.841Z"
   },
   {
    "duration": 186,
    "start_time": "2021-09-09T09:24:52.407Z"
   },
   {
    "duration": 9625,
    "start_time": "2021-09-09T09:25:00.730Z"
   },
   {
    "duration": 95,
    "start_time": "2021-09-09T09:25:14.702Z"
   },
   {
    "duration": 164,
    "start_time": "2021-09-09T09:25:31.638Z"
   },
   {
    "duration": 9043,
    "start_time": "2021-09-09T09:26:13.093Z"
   },
   {
    "duration": 1279,
    "start_time": "2021-09-09T09:26:43.335Z"
   },
   {
    "duration": 536,
    "start_time": "2021-09-09T09:26:44.617Z"
   },
   {
    "duration": 94,
    "start_time": "2021-09-09T09:26:45.156Z"
   },
   {
    "duration": 4,
    "start_time": "2021-09-09T09:26:45.260Z"
   },
   {
    "duration": 142,
    "start_time": "2021-09-09T09:26:45.267Z"
   },
   {
    "duration": 13,
    "start_time": "2021-09-09T09:26:45.412Z"
   },
   {
    "duration": 203,
    "start_time": "2021-09-09T09:26:45.428Z"
   },
   {
    "duration": 9842,
    "start_time": "2021-09-09T09:26:45.633Z"
   },
   {
    "duration": 15,
    "start_time": "2021-09-09T09:27:45.767Z"
   },
   {
    "duration": 11,
    "start_time": "2021-09-09T09:28:50.149Z"
   },
   {
    "duration": 6,
    "start_time": "2021-09-09T09:29:01.156Z"
   },
   {
    "duration": 160,
    "start_time": "2021-09-09T09:33:43.039Z"
   },
   {
    "duration": 165,
    "start_time": "2021-09-09T09:34:05.728Z"
   },
   {
    "duration": 24,
    "start_time": "2021-09-09T09:35:33.109Z"
   },
   {
    "duration": 31,
    "start_time": "2021-09-09T09:35:47.987Z"
   },
   {
    "duration": 37,
    "start_time": "2021-09-09T09:36:17.305Z"
   },
   {
    "duration": 26,
    "start_time": "2021-09-09T09:36:57.628Z"
   },
   {
    "duration": 1828,
    "start_time": "2021-09-09T09:38:25.589Z"
   },
   {
    "duration": 517,
    "start_time": "2021-09-09T09:38:27.421Z"
   },
   {
    "duration": 91,
    "start_time": "2021-09-09T09:38:27.941Z"
   },
   {
    "duration": 3,
    "start_time": "2021-09-09T09:38:28.035Z"
   },
   {
    "duration": 125,
    "start_time": "2021-09-09T09:38:28.040Z"
   },
   {
    "duration": 15,
    "start_time": "2021-09-09T09:38:28.167Z"
   },
   {
    "duration": 214,
    "start_time": "2021-09-09T09:38:28.184Z"
   },
   {
    "duration": 167,
    "start_time": "2021-09-09T11:44:25.169Z"
   },
   {
    "duration": 166,
    "start_time": "2021-09-09T11:44:49.221Z"
   },
   {
    "duration": 163,
    "start_time": "2021-09-09T11:45:07.773Z"
   },
   {
    "duration": 1463,
    "start_time": "2021-09-09T11:45:21.559Z"
   },
   {
    "duration": 537,
    "start_time": "2021-09-09T11:45:23.025Z"
   },
   {
    "duration": 97,
    "start_time": "2021-09-09T11:45:23.565Z"
   },
   {
    "duration": 3,
    "start_time": "2021-09-09T11:45:23.664Z"
   },
   {
    "duration": 114,
    "start_time": "2021-09-09T11:45:23.670Z"
   },
   {
    "duration": 15,
    "start_time": "2021-09-09T11:45:23.786Z"
   },
   {
    "duration": 231,
    "start_time": "2021-09-09T11:45:23.803Z"
   },
   {
    "duration": 164,
    "start_time": "2021-09-09T11:45:40.906Z"
   },
   {
    "duration": 628,
    "start_time": "2021-09-09T12:12:12.979Z"
   },
   {
    "duration": 55,
    "start_time": "2021-09-09T12:12:35.659Z"
   },
   {
    "duration": 41,
    "start_time": "2021-09-09T12:13:23.555Z"
   },
   {
    "duration": 50,
    "start_time": "2021-09-09T12:13:37.701Z"
   },
   {
    "duration": 1424,
    "start_time": "2021-09-09T12:14:33.338Z"
   },
   {
    "duration": 562,
    "start_time": "2021-09-09T12:14:34.764Z"
   },
   {
    "duration": 90,
    "start_time": "2021-09-09T12:14:35.329Z"
   },
   {
    "duration": 3,
    "start_time": "2021-09-09T12:14:35.422Z"
   },
   {
    "duration": 120,
    "start_time": "2021-09-09T12:14:35.427Z"
   },
   {
    "duration": 18,
    "start_time": "2021-09-09T12:14:35.549Z"
   },
   {
    "duration": 219,
    "start_time": "2021-09-09T12:14:35.570Z"
   },
   {
    "duration": 164,
    "start_time": "2021-09-09T12:37:26.171Z"
   },
   {
    "duration": 165,
    "start_time": "2021-09-09T12:37:33.150Z"
   },
   {
    "duration": 440,
    "start_time": "2021-09-09T13:34:45.609Z"
   },
   {
    "duration": 2652,
    "start_time": "2021-09-09T13:34:53.699Z"
   },
   {
    "duration": 18135,
    "start_time": "2021-09-09T13:35:12.249Z"
   },
   {
    "duration": 16,
    "start_time": "2021-09-09T13:36:10.746Z"
   },
   {
    "duration": 6,
    "start_time": "2021-09-09T13:36:21.539Z"
   },
   {
    "duration": 19,
    "start_time": "2021-09-09T13:36:42.318Z"
   },
   {
    "duration": 8,
    "start_time": "2021-09-09T13:37:30.680Z"
   },
   {
    "duration": 34,
    "start_time": "2021-09-09T13:39:03.035Z"
   },
   {
    "duration": 34,
    "start_time": "2021-09-09T13:39:13.599Z"
   },
   {
    "duration": 34,
    "start_time": "2021-09-09T13:39:43.681Z"
   },
   {
    "duration": 35,
    "start_time": "2021-09-09T13:39:52.332Z"
   },
   {
    "duration": 1635,
    "start_time": "2021-09-09T13:42:20.290Z"
   },
   {
    "duration": 564,
    "start_time": "2021-09-09T13:42:21.927Z"
   },
   {
    "duration": 92,
    "start_time": "2021-09-09T13:42:22.495Z"
   },
   {
    "duration": 3,
    "start_time": "2021-09-09T13:42:22.591Z"
   },
   {
    "duration": 130,
    "start_time": "2021-09-09T13:42:22.596Z"
   },
   {
    "duration": 15,
    "start_time": "2021-09-09T13:42:22.728Z"
   },
   {
    "duration": 219,
    "start_time": "2021-09-09T13:42:22.746Z"
   },
   {
    "duration": 51,
    "start_time": "2021-09-09T13:42:22.968Z"
   },
   {
    "duration": 39,
    "start_time": "2021-09-09T13:45:26.317Z"
   },
   {
    "duration": 1459,
    "start_time": "2021-09-09T13:50:57.641Z"
   },
   {
    "duration": 31,
    "start_time": "2021-09-09T13:51:34.321Z"
   },
   {
    "duration": 465,
    "start_time": "2021-09-09T13:51:42.423Z"
   },
   {
    "duration": 42,
    "start_time": "2021-09-09T13:51:53.585Z"
   },
   {
    "duration": 39,
    "start_time": "2021-09-09T13:52:06.397Z"
   },
   {
    "duration": 41,
    "start_time": "2021-09-09T13:52:15.068Z"
   },
   {
    "duration": 349,
    "start_time": "2021-09-09T13:52:40.200Z"
   },
   {
    "duration": 40,
    "start_time": "2021-09-09T13:52:47.734Z"
   },
   {
    "duration": 43,
    "start_time": "2021-09-09T13:52:56.865Z"
   },
   {
    "duration": 23,
    "start_time": "2021-09-09T13:53:56.987Z"
   },
   {
    "duration": 14,
    "start_time": "2021-09-09T13:54:42.048Z"
   },
   {
    "duration": 24,
    "start_time": "2021-09-09T13:59:46.127Z"
   },
   {
    "duration": 21,
    "start_time": "2021-09-09T14:00:32.375Z"
   },
   {
    "duration": 17,
    "start_time": "2021-09-09T14:00:48.134Z"
   },
   {
    "duration": 22,
    "start_time": "2021-09-09T14:00:58.044Z"
   },
   {
    "duration": 14,
    "start_time": "2021-09-09T14:01:23.030Z"
   },
   {
    "duration": 333,
    "start_time": "2021-09-09T14:01:38.568Z"
   },
   {
    "duration": 384,
    "start_time": "2021-09-09T14:01:46.912Z"
   },
   {
    "duration": 15,
    "start_time": "2021-09-09T14:02:21.090Z"
   },
   {
    "duration": 15,
    "start_time": "2021-09-09T14:02:33.238Z"
   },
   {
    "duration": 22,
    "start_time": "2021-09-09T14:02:39.232Z"
   },
   {
    "duration": 34,
    "start_time": "2021-09-09T14:03:57.242Z"
   },
   {
    "duration": 41,
    "start_time": "2021-09-09T14:04:07.024Z"
   },
   {
    "duration": 36,
    "start_time": "2021-09-09T14:04:38.402Z"
   },
   {
    "duration": 56,
    "start_time": "2021-09-09T14:06:49.101Z"
   },
   {
    "duration": 64,
    "start_time": "2021-09-09T14:06:58.992Z"
   },
   {
    "duration": 124,
    "start_time": "2021-09-09T14:11:16.657Z"
   },
   {
    "duration": 127,
    "start_time": "2021-09-09T14:11:27.160Z"
   },
   {
    "duration": 86,
    "start_time": "2021-09-09T14:13:27.157Z"
   },
   {
    "duration": 77,
    "start_time": "2021-09-09T14:20:43.018Z"
   },
   {
    "duration": 76,
    "start_time": "2021-09-09T14:25:58.981Z"
   },
   {
    "duration": 85,
    "start_time": "2021-09-09T14:26:20.007Z"
   },
   {
    "duration": 82,
    "start_time": "2021-09-09T14:26:28.562Z"
   },
   {
    "duration": 462,
    "start_time": "2021-09-09T14:27:09.260Z"
   },
   {
    "duration": 437,
    "start_time": "2021-09-09T14:27:17.366Z"
   },
   {
    "duration": 83,
    "start_time": "2021-09-09T14:27:23.224Z"
   },
   {
    "duration": 104,
    "start_time": "2021-09-09T14:27:32.691Z"
   },
   {
    "duration": 4023,
    "start_time": "2021-09-09T14:34:03.877Z"
   },
   {
    "duration": 79,
    "start_time": "2021-09-09T14:34:24.230Z"
   },
   {
    "duration": 45271,
    "start_time": "2021-09-09T14:35:09.081Z"
   },
   {
    "duration": 2231,
    "start_time": "2021-09-09T14:36:34.862Z"
   },
   {
    "duration": 2316,
    "start_time": "2021-09-09T14:40:34.163Z"
   },
   {
    "duration": 2051,
    "start_time": "2021-09-09T14:40:43.181Z"
   },
   {
    "duration": 74,
    "start_time": "2021-09-09T14:41:39.034Z"
   },
   {
    "duration": 74,
    "start_time": "2021-09-09T14:42:35.595Z"
   },
   {
    "duration": 76,
    "start_time": "2021-09-09T14:43:46.727Z"
   },
   {
    "duration": 86,
    "start_time": "2021-09-09T14:44:02.768Z"
   },
   {
    "duration": 117,
    "start_time": "2021-09-09T14:50:21.964Z"
   },
   {
    "duration": 77,
    "start_time": "2021-09-09T14:50:33.649Z"
   },
   {
    "duration": 74,
    "start_time": "2021-09-09T14:53:15.704Z"
   },
   {
    "duration": 82,
    "start_time": "2021-09-09T14:53:22.572Z"
   },
   {
    "duration": 102,
    "start_time": "2021-09-09T14:57:16.461Z"
   },
   {
    "duration": 108,
    "start_time": "2021-09-09T14:57:21.256Z"
   },
   {
    "duration": 1310,
    "start_time": "2021-09-09T19:00:54.209Z"
   },
   {
    "duration": 511,
    "start_time": "2021-09-09T19:00:55.522Z"
   },
   {
    "duration": 89,
    "start_time": "2021-09-09T19:00:56.040Z"
   },
   {
    "duration": 3,
    "start_time": "2021-09-09T19:00:56.132Z"
   },
   {
    "duration": 137,
    "start_time": "2021-09-09T19:00:56.137Z"
   },
   {
    "duration": 20,
    "start_time": "2021-09-09T19:00:56.277Z"
   },
   {
    "duration": 216,
    "start_time": "2021-09-09T19:00:56.300Z"
   },
   {
    "duration": 527,
    "start_time": "2021-09-09T19:00:56.519Z"
   },
   {
    "duration": 432,
    "start_time": "2021-09-09T19:02:40.006Z"
   },
   {
    "duration": 387,
    "start_time": "2021-09-09T19:02:51.813Z"
   },
   {
    "duration": 99,
    "start_time": "2021-09-09T19:03:00.598Z"
   },
   {
    "duration": 94,
    "start_time": "2021-09-09T19:03:12.539Z"
   },
   {
    "duration": 41,
    "start_time": "2021-09-09T19:04:18.639Z"
   },
   {
    "duration": 51,
    "start_time": "2021-09-09T19:04:29.151Z"
   },
   {
    "duration": 50,
    "start_time": "2021-09-09T19:04:59.639Z"
   },
   {
    "duration": 356,
    "start_time": "2021-09-09T19:09:45.215Z"
   },
   {
    "duration": 23,
    "start_time": "2021-09-09T19:13:33.683Z"
   },
   {
    "duration": 339,
    "start_time": "2021-09-09T19:13:42.495Z"
   },
   {
    "duration": 28,
    "start_time": "2021-09-09T19:13:54.368Z"
   },
   {
    "duration": 14,
    "start_time": "2021-09-09T19:14:20.148Z"
   },
   {
    "duration": 29,
    "start_time": "2021-09-09T19:14:29.836Z"
   },
   {
    "duration": 89,
    "start_time": "2021-09-09T19:15:56.552Z"
   },
   {
    "duration": 47,
    "start_time": "2021-09-09T19:16:47.068Z"
   },
   {
    "duration": 6,
    "start_time": "2021-09-09T19:23:31.442Z"
   },
   {
    "duration": 4,
    "start_time": "2021-09-09T19:23:37.897Z"
   },
   {
    "duration": 334,
    "start_time": "2021-09-09T19:23:45.677Z"
   },
   {
    "duration": 351,
    "start_time": "2021-09-09T19:23:58.853Z"
   },
   {
    "duration": 51,
    "start_time": "2021-09-09T19:27:37.480Z"
   },
   {
    "duration": 12,
    "start_time": "2021-09-09T19:27:50.800Z"
   },
   {
    "duration": 307,
    "start_time": "2021-09-09T19:28:41.322Z"
   },
   {
    "duration": 1326,
    "start_time": "2021-09-09T19:29:05.366Z"
   },
   {
    "duration": 511,
    "start_time": "2021-09-09T19:29:06.695Z"
   },
   {
    "duration": 88,
    "start_time": "2021-09-09T19:29:07.209Z"
   },
   {
    "duration": 3,
    "start_time": "2021-09-09T19:29:07.300Z"
   },
   {
    "duration": 142,
    "start_time": "2021-09-09T19:29:07.305Z"
   },
   {
    "duration": 18,
    "start_time": "2021-09-09T19:29:07.449Z"
   },
   {
    "duration": 210,
    "start_time": "2021-09-09T19:29:07.469Z"
   },
   {
    "duration": 113,
    "start_time": "2021-09-09T19:29:07.683Z"
   },
   {
    "duration": 432,
    "start_time": "2021-09-09T19:29:07.798Z"
   },
   {
    "duration": 10,
    "start_time": "2021-09-09T19:29:08.223Z"
   },
   {
    "duration": 7,
    "start_time": "2021-09-09T19:29:08.228Z"
   },
   {
    "duration": 14,
    "start_time": "2021-09-09T19:29:38.086Z"
   },
   {
    "duration": 61,
    "start_time": "2021-09-09T19:29:50.532Z"
   },
   {
    "duration": 12,
    "start_time": "2021-09-09T19:29:53.015Z"
   },
   {
    "duration": 295,
    "start_time": "2021-09-09T19:30:11.298Z"
   },
   {
    "duration": 10,
    "start_time": "2021-09-09T19:30:42.120Z"
   },
   {
    "duration": 7415,
    "start_time": "2021-09-09T19:31:56.925Z"
   },
   {
    "duration": 608,
    "start_time": "2021-09-09T19:32:37.880Z"
   },
   {
    "duration": 13,
    "start_time": "2021-09-09T19:32:41.465Z"
   },
   {
    "duration": 37760,
    "start_time": "2021-09-09T19:33:35.370Z"
   },
   {
    "duration": 41755,
    "start_time": "2021-09-09T19:34:28.414Z"
   },
   {
    "duration": 2105,
    "start_time": "2021-09-09T19:36:17.150Z"
   },
   {
    "duration": 1142,
    "start_time": "2021-09-09T19:37:02.823Z"
   },
   {
    "duration": 1825,
    "start_time": "2021-09-09T19:37:13.613Z"
   },
   {
    "duration": 11,
    "start_time": "2021-09-09T19:37:30.951Z"
   },
   {
    "duration": 11,
    "start_time": "2021-09-09T19:37:36.989Z"
   },
   {
    "duration": 91,
    "start_time": "2021-09-09T19:38:37.684Z"
   },
   {
    "duration": 12,
    "start_time": "2021-09-09T19:38:40.030Z"
   },
   {
    "duration": 98,
    "start_time": "2021-09-09T19:39:03.991Z"
   },
   {
    "duration": 11,
    "start_time": "2021-09-09T19:39:06.664Z"
   },
   {
    "duration": 1590,
    "start_time": "2021-09-09T19:39:29.833Z"
   },
   {
    "duration": 34,
    "start_time": "2021-09-09T19:40:15.586Z"
   },
   {
    "duration": 1576,
    "start_time": "2021-09-09T19:40:17.431Z"
   },
   {
    "duration": 34,
    "start_time": "2021-09-09T19:40:22.278Z"
   },
   {
    "duration": 11,
    "start_time": "2021-09-09T19:40:24.901Z"
   },
   {
    "duration": 348,
    "start_time": "2021-09-09T19:41:05.790Z"
   },
   {
    "duration": 309,
    "start_time": "2021-09-09T19:41:36.122Z"
   },
   {
    "duration": 366,
    "start_time": "2021-09-09T19:42:48.833Z"
   },
   {
    "duration": 319,
    "start_time": "2021-09-09T19:43:12.839Z"
   },
   {
    "duration": 93,
    "start_time": "2021-09-09T19:44:17.723Z"
   },
   {
    "duration": 12,
    "start_time": "2021-09-09T19:44:34.180Z"
   },
   {
    "duration": 14,
    "start_time": "2021-09-09T19:44:37.674Z"
   },
   {
    "duration": 11,
    "start_time": "2021-09-09T19:44:53.336Z"
   },
   {
    "duration": 12,
    "start_time": "2021-09-09T19:44:55.325Z"
   },
   {
    "duration": 11,
    "start_time": "2021-09-09T19:45:24.754Z"
   },
   {
    "duration": 12,
    "start_time": "2021-09-09T19:45:27.595Z"
   },
   {
    "duration": 11,
    "start_time": "2021-09-09T19:45:36.359Z"
   },
   {
    "duration": 12,
    "start_time": "2021-09-09T19:45:38.519Z"
   },
   {
    "duration": 1327,
    "start_time": "2021-09-09T19:45:49.483Z"
   },
   {
    "duration": 511,
    "start_time": "2021-09-09T19:45:50.812Z"
   },
   {
    "duration": 88,
    "start_time": "2021-09-09T19:45:51.329Z"
   },
   {
    "duration": 3,
    "start_time": "2021-09-09T19:45:51.419Z"
   },
   {
    "duration": 118,
    "start_time": "2021-09-09T19:45:51.424Z"
   },
   {
    "duration": 22,
    "start_time": "2021-09-09T19:45:51.545Z"
   },
   {
    "duration": 215,
    "start_time": "2021-09-09T19:45:51.570Z"
   },
   {
    "duration": 126,
    "start_time": "2021-09-09T19:45:51.789Z"
   },
   {
    "duration": 13,
    "start_time": "2021-09-09T19:45:51.918Z"
   },
   {
    "duration": 35,
    "start_time": "2021-09-09T19:45:51.933Z"
   },
   {
    "duration": 10,
    "start_time": "2021-09-09T19:46:22.438Z"
   },
   {
    "duration": 17,
    "start_time": "2021-09-09T19:47:43.218Z"
   },
   {
    "duration": 12,
    "start_time": "2021-09-09T19:48:22.285Z"
   },
   {
    "duration": 13,
    "start_time": "2021-09-09T19:48:26.001Z"
   },
   {
    "duration": 11,
    "start_time": "2021-09-09T19:48:42.921Z"
   },
   {
    "duration": 14,
    "start_time": "2021-09-09T19:48:45.112Z"
   },
   {
    "duration": 17,
    "start_time": "2021-09-09T19:48:59.109Z"
   },
   {
    "duration": 11,
    "start_time": "2021-09-09T19:49:01.992Z"
   },
   {
    "duration": 81,
    "start_time": "2021-09-09T19:49:24.912Z"
   },
   {
    "duration": 13,
    "start_time": "2021-09-09T19:49:26.679Z"
   },
   {
    "duration": 87,
    "start_time": "2021-09-09T19:52:23.353Z"
   },
   {
    "duration": 463,
    "start_time": "2021-09-09T19:52:59.255Z"
   },
   {
    "duration": 11,
    "start_time": "2021-09-09T19:53:33.113Z"
   },
   {
    "duration": 12,
    "start_time": "2021-09-09T19:53:40.038Z"
   },
   {
    "duration": 14,
    "start_time": "2021-09-09T19:53:55.834Z"
   },
   {
    "duration": 309,
    "start_time": "2021-09-09T19:54:50.179Z"
   },
   {
    "duration": 89,
    "start_time": "2021-09-09T19:55:06.679Z"
   },
   {
    "duration": 11,
    "start_time": "2021-09-09T19:55:10.103Z"
   },
   {
    "duration": 8,
    "start_time": "2021-09-09T19:55:12.025Z"
   },
   {
    "duration": 13,
    "start_time": "2021-09-09T19:55:21.574Z"
   },
   {
    "duration": 19,
    "start_time": "2021-09-09T19:55:30.432Z"
   },
   {
    "duration": 299,
    "start_time": "2021-09-09T19:56:58.154Z"
   },
   {
    "duration": 18,
    "start_time": "2021-09-09T20:00:22.747Z"
   },
   {
    "duration": 342,
    "start_time": "2021-09-09T20:07:02.825Z"
   },
   {
    "duration": 6,
    "start_time": "2021-09-09T20:07:19.978Z"
   },
   {
    "duration": 7,
    "start_time": "2021-09-09T20:07:22.103Z"
   },
   {
    "duration": 19,
    "start_time": "2021-09-09T20:07:24.327Z"
   },
   {
    "duration": 388,
    "start_time": "2021-09-09T20:09:59.263Z"
   },
   {
    "duration": 83,
    "start_time": "2021-09-09T20:10:08.135Z"
   },
   {
    "duration": 416,
    "start_time": "2021-09-09T20:11:13.583Z"
   },
   {
    "duration": 80,
    "start_time": "2021-09-09T20:11:21.381Z"
   },
   {
    "duration": 91,
    "start_time": "2021-09-09T20:12:17.570Z"
   },
   {
    "duration": 130,
    "start_time": "2021-09-09T20:12:23.943Z"
   },
   {
    "duration": 10,
    "start_time": "2021-09-09T20:12:28.275Z"
   },
   {
    "duration": 98,
    "start_time": "2021-09-09T20:12:38.078Z"
   },
   {
    "duration": 11,
    "start_time": "2021-09-09T20:12:45.646Z"
   },
   {
    "duration": 11,
    "start_time": "2021-09-09T20:12:49.579Z"
   },
   {
    "duration": 9,
    "start_time": "2021-09-09T20:12:55.836Z"
   },
   {
    "duration": 9,
    "start_time": "2021-09-09T20:12:59.721Z"
   },
   {
    "duration": 9,
    "start_time": "2021-09-09T20:13:04.494Z"
   },
   {
    "duration": 9,
    "start_time": "2021-09-09T20:13:07.271Z"
   },
   {
    "duration": 5,
    "start_time": "2021-09-09T20:14:48.743Z"
   },
   {
    "duration": 9,
    "start_time": "2021-09-09T20:14:55.322Z"
   },
   {
    "duration": 14,
    "start_time": "2021-09-09T20:15:14.174Z"
   },
   {
    "duration": 447,
    "start_time": "2021-09-09T20:16:24.651Z"
   },
   {
    "duration": 1393,
    "start_time": "2021-09-09T20:16:32.414Z"
   },
   {
    "duration": 538,
    "start_time": "2021-09-09T20:16:33.810Z"
   },
   {
    "duration": 88,
    "start_time": "2021-09-09T20:16:34.351Z"
   },
   {
    "duration": 20,
    "start_time": "2021-09-09T20:16:34.442Z"
   },
   {
    "duration": 111,
    "start_time": "2021-09-09T20:16:34.464Z"
   },
   {
    "duration": 13,
    "start_time": "2021-09-09T20:16:34.577Z"
   },
   {
    "duration": 214,
    "start_time": "2021-09-09T20:16:34.592Z"
   },
   {
    "duration": 3,
    "start_time": "2021-09-09T20:16:34.809Z"
   },
   {
    "duration": 564,
    "start_time": "2021-09-09T20:16:34.815Z"
   },
   {
    "duration": 44,
    "start_time": "2021-09-09T20:16:35.338Z"
   },
   {
    "duration": 44,
    "start_time": "2021-09-09T20:16:35.340Z"
   },
   {
    "duration": 43,
    "start_time": "2021-09-09T20:16:35.342Z"
   },
   {
    "duration": 100,
    "start_time": "2021-09-09T20:16:40.863Z"
   },
   {
    "duration": 10,
    "start_time": "2021-09-09T20:16:46.545Z"
   },
   {
    "duration": 4,
    "start_time": "2021-09-09T20:16:49.633Z"
   },
   {
    "duration": 15,
    "start_time": "2021-09-09T20:16:52.073Z"
   },
   {
    "duration": 19,
    "start_time": "2021-09-09T20:18:27.371Z"
   },
   {
    "duration": 29,
    "start_time": "2021-09-09T20:19:22.342Z"
   },
   {
    "duration": 372,
    "start_time": "2021-09-09T20:19:59.930Z"
   },
   {
    "duration": 5,
    "start_time": "2021-09-09T20:20:15.335Z"
   },
   {
    "duration": 12,
    "start_time": "2021-09-09T20:21:18.642Z"
   },
   {
    "duration": 13,
    "start_time": "2021-09-09T20:21:49.059Z"
   },
   {
    "duration": 9,
    "start_time": "2021-09-09T20:22:10.606Z"
   },
   {
    "duration": 7,
    "start_time": "2021-09-09T20:22:25.607Z"
   },
   {
    "duration": 9,
    "start_time": "2021-09-09T20:22:28.519Z"
   },
   {
    "duration": 22,
    "start_time": "2021-09-09T20:22:50.169Z"
   },
   {
    "duration": 8,
    "start_time": "2021-09-09T20:22:55.925Z"
   },
   {
    "duration": 8,
    "start_time": "2021-09-09T20:23:08.582Z"
   },
   {
    "duration": 1294,
    "start_time": "2021-09-09T20:23:16.050Z"
   },
   {
    "duration": 533,
    "start_time": "2021-09-09T20:23:17.347Z"
   },
   {
    "duration": 87,
    "start_time": "2021-09-09T20:23:17.884Z"
   },
   {
    "duration": 3,
    "start_time": "2021-09-09T20:23:17.974Z"
   },
   {
    "duration": 118,
    "start_time": "2021-09-09T20:23:17.979Z"
   },
   {
    "duration": 15,
    "start_time": "2021-09-09T20:23:18.099Z"
   },
   {
    "duration": 214,
    "start_time": "2021-09-09T20:23:18.116Z"
   },
   {
    "duration": 109,
    "start_time": "2021-09-09T20:23:18.333Z"
   },
   {
    "duration": 22,
    "start_time": "2021-09-09T20:23:18.445Z"
   },
   {
    "duration": 8,
    "start_time": "2021-09-09T20:23:18.470Z"
   },
   {
    "duration": 10,
    "start_time": "2021-09-09T20:23:18.480Z"
   },
   {
    "duration": 8,
    "start_time": "2021-09-09T20:23:48.310Z"
   },
   {
    "duration": 12,
    "start_time": "2021-09-09T20:24:15.458Z"
   },
   {
    "duration": 11,
    "start_time": "2021-09-09T20:24:24.150Z"
   },
   {
    "duration": 8038,
    "start_time": "2021-09-10T12:43:06.062Z"
   },
   {
    "duration": 8371,
    "start_time": "2021-09-10T12:43:15.836Z"
   },
   {
    "duration": 11,
    "start_time": "2021-09-10T12:43:31.241Z"
   },
   {
    "duration": 372,
    "start_time": "2021-09-10T12:45:56.593Z"
   },
   {
    "duration": 20,
    "start_time": "2021-09-10T12:46:05.023Z"
   },
   {
    "duration": 29,
    "start_time": "2021-09-10T12:46:14.223Z"
   },
   {
    "duration": 382,
    "start_time": "2021-09-10T12:48:36.212Z"
   },
   {
    "duration": 20,
    "start_time": "2021-09-10T12:48:41.490Z"
   },
   {
    "duration": 42,
    "start_time": "2021-09-10T12:48:49.007Z"
   },
   {
    "duration": 24,
    "start_time": "2021-09-10T12:49:08.004Z"
   },
   {
    "duration": 390,
    "start_time": "2021-09-10T12:49:32.821Z"
   },
   {
    "duration": 41,
    "start_time": "2021-09-10T12:49:42.812Z"
   },
   {
    "duration": 310,
    "start_time": "2021-09-10T12:51:15.753Z"
   },
   {
    "duration": 40,
    "start_time": "2021-09-10T12:54:26.759Z"
   },
   {
    "duration": 468,
    "start_time": "2021-09-10T12:55:40.951Z"
   },
   {
    "duration": 1379,
    "start_time": "2021-09-10T12:55:46.803Z"
   },
   {
    "duration": 83,
    "start_time": "2021-09-10T12:56:06.460Z"
   },
   {
    "duration": 1468,
    "start_time": "2021-09-10T12:57:08.100Z"
   },
   {
    "duration": 91,
    "start_time": "2021-09-10T12:57:37.157Z"
   },
   {
    "duration": 9,
    "start_time": "2021-09-10T12:58:38.851Z"
   },
   {
    "duration": 32,
    "start_time": "2021-09-10T12:58:48.954Z"
   },
   {
    "duration": 34,
    "start_time": "2021-09-10T13:00:34.927Z"
   },
   {
    "duration": 1357,
    "start_time": "2021-09-10T13:01:23.151Z"
   },
   {
    "duration": 564,
    "start_time": "2021-09-10T13:01:24.511Z"
   },
   {
    "duration": 95,
    "start_time": "2021-09-10T13:01:25.078Z"
   },
   {
    "duration": 3,
    "start_time": "2021-09-10T13:01:25.176Z"
   },
   {
    "duration": 123,
    "start_time": "2021-09-10T13:01:25.181Z"
   },
   {
    "duration": 14,
    "start_time": "2021-09-10T13:01:25.306Z"
   },
   {
    "duration": 222,
    "start_time": "2021-09-10T13:01:25.323Z"
   },
   {
    "duration": 51,
    "start_time": "2021-09-10T13:01:25.548Z"
   },
   {
    "duration": 112,
    "start_time": "2021-09-10T13:01:25.603Z"
   },
   {
    "duration": 29,
    "start_time": "2021-09-10T13:01:25.718Z"
   },
   {
    "duration": 8,
    "start_time": "2021-09-10T13:01:25.763Z"
   },
   {
    "duration": 33,
    "start_time": "2021-09-10T13:01:25.776Z"
   },
   {
    "duration": 35,
    "start_time": "2021-09-10T13:01:25.812Z"
   },
   {
    "duration": 11,
    "start_time": "2021-09-10T13:01:25.851Z"
   },
   {
    "duration": 27,
    "start_time": "2021-09-10T13:02:08.691Z"
   },
   {
    "duration": 33,
    "start_time": "2021-09-10T13:05:07.786Z"
   },
   {
    "duration": 1510,
    "start_time": "2021-09-10T13:05:27.004Z"
   },
   {
    "duration": 642,
    "start_time": "2021-09-10T13:05:28.517Z"
   },
   {
    "duration": 101,
    "start_time": "2021-09-10T13:05:29.162Z"
   },
   {
    "duration": 3,
    "start_time": "2021-09-10T13:05:29.265Z"
   },
   {
    "duration": 109,
    "start_time": "2021-09-10T13:05:29.271Z"
   },
   {
    "duration": 15,
    "start_time": "2021-09-10T13:05:29.383Z"
   },
   {
    "duration": 225,
    "start_time": "2021-09-10T13:05:29.400Z"
   },
   {
    "duration": 59,
    "start_time": "2021-09-10T13:05:29.629Z"
   },
   {
    "duration": 109,
    "start_time": "2021-09-10T13:05:29.691Z"
   },
   {
    "duration": 28,
    "start_time": "2021-09-10T13:05:29.802Z"
   },
   {
    "duration": 69,
    "start_time": "2021-09-10T13:05:29.833Z"
   },
   {
    "duration": 65,
    "start_time": "2021-09-10T13:05:29.904Z"
   },
   {
    "duration": 7,
    "start_time": "2021-09-10T13:05:29.972Z"
   },
   {
    "duration": 58,
    "start_time": "2021-09-10T13:05:29.981Z"
   },
   {
    "duration": 33,
    "start_time": "2021-09-10T13:08:28.854Z"
   },
   {
    "duration": 114,
    "start_time": "2021-09-10T13:09:29.485Z"
   },
   {
    "duration": 132,
    "start_time": "2021-09-10T13:10:16.723Z"
   },
   {
    "duration": 1274,
    "start_time": "2021-09-10T13:10:31.517Z"
   },
   {
    "duration": 506,
    "start_time": "2021-09-10T13:10:32.794Z"
   },
   {
    "duration": 90,
    "start_time": "2021-09-10T13:10:33.303Z"
   },
   {
    "duration": 3,
    "start_time": "2021-09-10T13:10:33.396Z"
   },
   {
    "duration": 113,
    "start_time": "2021-09-10T13:10:33.402Z"
   },
   {
    "duration": 13,
    "start_time": "2021-09-10T13:10:33.517Z"
   },
   {
    "duration": 204,
    "start_time": "2021-09-10T13:10:33.532Z"
   },
   {
    "duration": 575,
    "start_time": "2021-09-10T13:10:33.740Z"
   },
   {
    "duration": -69,
    "start_time": "2021-09-10T13:10:34.386Z"
   },
   {
    "duration": -69,
    "start_time": "2021-09-10T13:10:34.388Z"
   },
   {
    "duration": -70,
    "start_time": "2021-09-10T13:10:34.391Z"
   },
   {
    "duration": -71,
    "start_time": "2021-09-10T13:10:34.393Z"
   },
   {
    "duration": -70,
    "start_time": "2021-09-10T13:10:34.394Z"
   },
   {
    "duration": 138,
    "start_time": "2021-09-10T13:11:01.465Z"
   },
   {
    "duration": 1284,
    "start_time": "2021-09-10T13:11:38.215Z"
   },
   {
    "duration": 551,
    "start_time": "2021-09-10T13:11:39.502Z"
   },
   {
    "duration": 91,
    "start_time": "2021-09-10T13:11:40.055Z"
   },
   {
    "duration": 3,
    "start_time": "2021-09-10T13:11:40.161Z"
   },
   {
    "duration": 118,
    "start_time": "2021-09-10T13:11:40.167Z"
   },
   {
    "duration": 15,
    "start_time": "2021-09-10T13:11:40.287Z"
   },
   {
    "duration": 211,
    "start_time": "2021-09-10T13:11:40.304Z"
   },
   {
    "duration": 61,
    "start_time": "2021-09-10T13:11:40.517Z"
   },
   {
    "duration": 111,
    "start_time": "2021-09-10T13:11:40.581Z"
   },
   {
    "duration": 447,
    "start_time": "2021-09-10T13:11:40.694Z"
   },
   {
    "duration": -64,
    "start_time": "2021-09-10T13:11:41.207Z"
   },
   {
    "duration": -64,
    "start_time": "2021-09-10T13:11:41.209Z"
   },
   {
    "duration": -65,
    "start_time": "2021-09-10T13:11:41.211Z"
   },
   {
    "duration": -123,
    "start_time": "2021-09-10T13:11:41.270Z"
   },
   {
    "duration": 1453,
    "start_time": "2021-09-10T13:12:21.759Z"
   },
   {
    "duration": 558,
    "start_time": "2021-09-10T13:12:23.216Z"
   },
   {
    "duration": 98,
    "start_time": "2021-09-10T13:12:23.777Z"
   },
   {
    "duration": 3,
    "start_time": "2021-09-10T13:12:23.878Z"
   },
   {
    "duration": 115,
    "start_time": "2021-09-10T13:12:23.884Z"
   },
   {
    "duration": 13,
    "start_time": "2021-09-10T13:12:24.002Z"
   },
   {
    "duration": 220,
    "start_time": "2021-09-10T13:12:24.018Z"
   },
   {
    "duration": 149,
    "start_time": "2021-09-10T13:12:24.242Z"
   },
   {
    "duration": 415,
    "start_time": "2021-09-10T13:12:24.394Z"
   },
   {
    "duration": -66,
    "start_time": "2021-09-10T13:12:24.878Z"
   },
   {
    "duration": -69,
    "start_time": "2021-09-10T13:12:24.882Z"
   },
   {
    "duration": -68,
    "start_time": "2021-09-10T13:12:24.883Z"
   },
   {
    "duration": -131,
    "start_time": "2021-09-10T13:12:24.948Z"
   },
   {
    "duration": 11,
    "start_time": "2021-09-10T13:12:58.567Z"
   },
   {
    "duration": 36,
    "start_time": "2021-09-10T13:13:15.064Z"
   },
   {
    "duration": 9,
    "start_time": "2021-09-10T13:13:17.429Z"
   },
   {
    "duration": 13,
    "start_time": "2021-09-10T13:13:20.812Z"
   },
   {
    "duration": 7,
    "start_time": "2021-09-10T13:13:56.058Z"
   },
   {
    "duration": 7,
    "start_time": "2021-09-10T13:14:11.657Z"
   },
   {
    "duration": 1302,
    "start_time": "2021-09-10T13:14:17.125Z"
   },
   {
    "duration": 538,
    "start_time": "2021-09-10T13:14:18.430Z"
   },
   {
    "duration": 105,
    "start_time": "2021-09-10T13:14:18.973Z"
   },
   {
    "duration": 3,
    "start_time": "2021-09-10T13:14:19.081Z"
   },
   {
    "duration": 123,
    "start_time": "2021-09-10T13:14:19.087Z"
   },
   {
    "duration": 13,
    "start_time": "2021-09-10T13:14:19.213Z"
   },
   {
    "duration": 236,
    "start_time": "2021-09-10T13:14:19.229Z"
   },
   {
    "duration": 146,
    "start_time": "2021-09-10T13:14:19.467Z"
   },
   {
    "duration": 10,
    "start_time": "2021-09-10T13:14:19.617Z"
   },
   {
    "duration": 806,
    "start_time": "2021-09-10T13:14:19.630Z"
   },
   {
    "duration": -1339,
    "start_time": "2021-09-10T13:14:21.778Z"
   },
   {
    "duration": -1339,
    "start_time": "2021-09-10T13:14:21.780Z"
   },
   {
    "duration": 9,
    "start_time": "2021-09-10T13:14:49.797Z"
   },
   {
    "duration": 1307,
    "start_time": "2021-09-10T13:15:07.093Z"
   },
   {
    "duration": 547,
    "start_time": "2021-09-10T13:15:08.403Z"
   },
   {
    "duration": 88,
    "start_time": "2021-09-10T13:15:08.953Z"
   },
   {
    "duration": 18,
    "start_time": "2021-09-10T13:15:09.044Z"
   },
   {
    "duration": 111,
    "start_time": "2021-09-10T13:15:09.067Z"
   },
   {
    "duration": 15,
    "start_time": "2021-09-10T13:15:09.180Z"
   },
   {
    "duration": 234,
    "start_time": "2021-09-10T13:15:09.197Z"
   },
   {
    "duration": 141,
    "start_time": "2021-09-10T13:15:09.433Z"
   },
   {
    "duration": 8,
    "start_time": "2021-09-10T13:15:09.578Z"
   },
   {
    "duration": 23,
    "start_time": "2021-09-10T13:15:09.590Z"
   },
   {
    "duration": 25,
    "start_time": "2021-09-10T13:15:09.616Z"
   },
   {
    "duration": 23,
    "start_time": "2021-09-10T13:15:09.644Z"
   },
   {
    "duration": 33,
    "start_time": "2021-09-10T13:50:16.377Z"
   },
   {
    "duration": 434,
    "start_time": "2021-09-10T13:51:33.102Z"
   },
   {
    "duration": 357,
    "start_time": "2021-09-10T13:51:43.434Z"
   },
   {
    "duration": 31,
    "start_time": "2021-09-10T13:52:05.902Z"
   },
   {
    "duration": 536,
    "start_time": "2021-09-10T13:52:29.369Z"
   },
   {
    "duration": 339,
    "start_time": "2021-09-10T13:52:41.289Z"
   },
   {
    "duration": 390,
    "start_time": "2021-09-10T13:52:45.557Z"
   },
   {
    "duration": 355,
    "start_time": "2021-09-10T13:53:10.831Z"
   },
   {
    "duration": 1435,
    "start_time": "2021-09-10T13:55:04.137Z"
   },
   {
    "duration": 1801,
    "start_time": "2021-09-10T13:55:05.575Z"
   },
   {
    "duration": 94,
    "start_time": "2021-09-10T13:55:07.380Z"
   },
   {
    "duration": 3,
    "start_time": "2021-09-10T13:55:07.478Z"
   },
   {
    "duration": 116,
    "start_time": "2021-09-10T13:55:07.483Z"
   },
   {
    "duration": 16,
    "start_time": "2021-09-10T13:55:07.602Z"
   },
   {
    "duration": 224,
    "start_time": "2021-09-10T13:55:07.621Z"
   },
   {
    "duration": 153,
    "start_time": "2021-09-10T13:55:07.848Z"
   },
   {
    "duration": 15,
    "start_time": "2021-09-10T13:55:08.005Z"
   },
   {
    "duration": 35,
    "start_time": "2021-09-10T13:55:08.023Z"
   },
   {
    "duration": 27,
    "start_time": "2021-09-10T13:55:08.060Z"
   },
   {
    "duration": 37,
    "start_time": "2021-09-10T13:55:08.089Z"
   },
   {
    "duration": 54,
    "start_time": "2021-09-10T13:55:08.129Z"
   },
   {
    "duration": 587,
    "start_time": "2021-09-10T13:56:30.579Z"
   },
   {
    "duration": 133,
    "start_time": "2021-09-10T13:56:44.906Z"
   },
   {
    "duration": 1350,
    "start_time": "2021-09-10T13:56:53.575Z"
   },
   {
    "duration": 554,
    "start_time": "2021-09-10T13:56:54.928Z"
   },
   {
    "duration": 93,
    "start_time": "2021-09-10T13:56:55.485Z"
   },
   {
    "duration": 3,
    "start_time": "2021-09-10T13:56:55.581Z"
   },
   {
    "duration": 116,
    "start_time": "2021-09-10T13:56:55.587Z"
   },
   {
    "duration": 13,
    "start_time": "2021-09-10T13:56:55.706Z"
   },
   {
    "duration": 213,
    "start_time": "2021-09-10T13:56:55.722Z"
   },
   {
    "duration": 161,
    "start_time": "2021-09-10T13:56:55.938Z"
   },
   {
    "duration": 10,
    "start_time": "2021-09-10T13:56:56.103Z"
   },
   {
    "duration": 8,
    "start_time": "2021-09-10T13:56:56.116Z"
   },
   {
    "duration": 39,
    "start_time": "2021-09-10T13:56:56.127Z"
   },
   {
    "duration": 15,
    "start_time": "2021-09-10T13:56:56.168Z"
   },
   {
    "duration": 32,
    "start_time": "2021-09-10T13:56:56.185Z"
   },
   {
    "duration": 106,
    "start_time": "2021-09-10T14:00:45.516Z"
   },
   {
    "duration": 119,
    "start_time": "2021-09-10T14:01:00.578Z"
   },
   {
    "duration": 1365,
    "start_time": "2021-09-10T14:01:09.105Z"
   },
   {
    "duration": 545,
    "start_time": "2021-09-10T14:01:10.473Z"
   },
   {
    "duration": 97,
    "start_time": "2021-09-10T14:01:11.022Z"
   },
   {
    "duration": 3,
    "start_time": "2021-09-10T14:01:11.122Z"
   },
   {
    "duration": 126,
    "start_time": "2021-09-10T14:01:11.127Z"
   },
   {
    "duration": 14,
    "start_time": "2021-09-10T14:01:11.256Z"
   },
   {
    "duration": 224,
    "start_time": "2021-09-10T14:01:11.272Z"
   },
   {
    "duration": 141,
    "start_time": "2021-09-10T14:01:11.499Z"
   },
   {
    "duration": 128,
    "start_time": "2021-09-10T14:01:11.644Z"
   },
   {
    "duration": 118,
    "start_time": "2021-09-10T14:02:00.183Z"
   },
   {
    "duration": 16,
    "start_time": "2021-09-10T14:02:07.954Z"
   },
   {
    "duration": 141,
    "start_time": "2021-09-10T14:02:13.693Z"
   },
   {
    "duration": 119,
    "start_time": "2021-09-10T14:02:22.898Z"
   },
   {
    "duration": 172,
    "start_time": "2021-09-10T14:02:27.065Z"
   },
   {
    "duration": 112,
    "start_time": "2021-09-10T14:02:33.129Z"
   },
   {
    "duration": 116,
    "start_time": "2021-09-10T14:03:03.200Z"
   },
   {
    "duration": 95,
    "start_time": "2021-09-10T14:03:07.036Z"
   },
   {
    "duration": 99,
    "start_time": "2021-09-10T14:03:13.007Z"
   },
   {
    "duration": 24,
    "start_time": "2021-09-10T14:03:54.192Z"
   },
   {
    "duration": 24,
    "start_time": "2021-09-10T14:04:06.225Z"
   },
   {
    "duration": 37,
    "start_time": "2021-09-10T14:04:18.021Z"
   },
   {
    "duration": 117,
    "start_time": "2021-09-10T14:05:39.500Z"
   },
   {
    "duration": 23,
    "start_time": "2021-09-10T14:05:47.245Z"
   },
   {
    "duration": 22,
    "start_time": "2021-09-10T14:06:30.583Z"
   },
   {
    "duration": 20,
    "start_time": "2021-09-10T14:06:52.719Z"
   },
   {
    "duration": 21,
    "start_time": "2021-09-10T14:07:01.601Z"
   },
   {
    "duration": 21,
    "start_time": "2021-09-10T14:07:14.520Z"
   },
   {
    "duration": 1346,
    "start_time": "2021-09-10T14:07:27.907Z"
   },
   {
    "duration": 539,
    "start_time": "2021-09-10T14:07:29.256Z"
   },
   {
    "duration": 92,
    "start_time": "2021-09-10T14:07:29.798Z"
   },
   {
    "duration": 3,
    "start_time": "2021-09-10T14:07:29.892Z"
   },
   {
    "duration": 138,
    "start_time": "2021-09-10T14:07:29.897Z"
   },
   {
    "duration": 26,
    "start_time": "2021-09-10T14:07:30.038Z"
   },
   {
    "duration": 220,
    "start_time": "2021-09-10T14:07:30.066Z"
   },
   {
    "duration": 141,
    "start_time": "2021-09-10T14:07:30.290Z"
   },
   {
    "duration": 40,
    "start_time": "2021-09-10T14:07:30.433Z"
   },
   {
    "duration": 1119,
    "start_time": "2021-09-10T17:11:32.012Z"
   },
   {
    "duration": 413,
    "start_time": "2021-09-10T17:11:33.134Z"
   },
   {
    "duration": 68,
    "start_time": "2021-09-10T17:11:33.549Z"
   },
   {
    "duration": 2,
    "start_time": "2021-09-10T17:11:33.619Z"
   },
   {
    "duration": 83,
    "start_time": "2021-09-10T17:11:33.623Z"
   },
   {
    "duration": 10,
    "start_time": "2021-09-10T17:11:33.708Z"
   },
   {
    "duration": 187,
    "start_time": "2021-09-10T17:11:33.720Z"
   },
   {
    "duration": 100,
    "start_time": "2021-09-10T17:11:33.910Z"
   },
   {
    "duration": 31,
    "start_time": "2021-09-10T17:11:34.012Z"
   },
   {
    "duration": 1362,
    "start_time": "2021-09-13T20:12:24.089Z"
   },
   {
    "duration": 550,
    "start_time": "2021-09-13T20:12:25.454Z"
   },
   {
    "duration": 96,
    "start_time": "2021-09-13T20:12:26.011Z"
   },
   {
    "duration": 3,
    "start_time": "2021-09-13T20:12:26.109Z"
   },
   {
    "duration": 124,
    "start_time": "2021-09-13T20:12:26.115Z"
   },
   {
    "duration": 21,
    "start_time": "2021-09-13T20:12:26.241Z"
   },
   {
    "duration": 219,
    "start_time": "2021-09-13T20:12:26.267Z"
   },
   {
    "duration": 155,
    "start_time": "2021-09-13T20:12:26.489Z"
   },
   {
    "duration": 35,
    "start_time": "2021-09-13T20:12:26.646Z"
   },
   {
    "duration": 117,
    "start_time": "2021-09-13T20:46:47.550Z"
   },
   {
    "duration": 127,
    "start_time": "2021-09-13T20:47:33.638Z"
   },
   {
    "duration": 402,
    "start_time": "2021-09-13T20:48:42.580Z"
   },
   {
    "duration": 264,
    "start_time": "2021-09-13T20:49:40.921Z"
   },
   {
    "duration": 225,
    "start_time": "2021-09-13T20:49:58.451Z"
   },
   {
    "duration": 312,
    "start_time": "2021-09-13T20:50:06.903Z"
   },
   {
    "duration": 1347,
    "start_time": "2021-09-13T20:50:26.154Z"
   },
   {
    "duration": 510,
    "start_time": "2021-09-13T20:50:27.504Z"
   },
   {
    "duration": 89,
    "start_time": "2021-09-13T20:50:28.018Z"
   },
   {
    "duration": 3,
    "start_time": "2021-09-13T20:50:28.109Z"
   },
   {
    "duration": 122,
    "start_time": "2021-09-13T20:50:28.115Z"
   },
   {
    "duration": 25,
    "start_time": "2021-09-13T20:50:28.240Z"
   },
   {
    "duration": 191,
    "start_time": "2021-09-13T20:50:28.267Z"
   },
   {
    "duration": 133,
    "start_time": "2021-09-13T20:50:28.461Z"
   },
   {
    "duration": 23,
    "start_time": "2021-09-13T20:50:28.597Z"
   },
   {
    "duration": 142,
    "start_time": "2021-09-13T20:50:28.623Z"
   },
   {
    "duration": 127,
    "start_time": "2021-09-13T20:53:36.825Z"
   },
   {
    "duration": 118,
    "start_time": "2021-09-13T20:55:06.033Z"
   },
   {
    "duration": 699,
    "start_time": "2021-09-13T20:55:33.651Z"
   },
   {
    "duration": 731,
    "start_time": "2021-09-13T20:58:49.735Z"
   },
   {
    "duration": 661,
    "start_time": "2021-09-13T21:01:01.759Z"
   },
   {
    "duration": 603,
    "start_time": "2021-09-13T21:01:38.399Z"
   },
   {
    "duration": 1390,
    "start_time": "2021-09-13T21:08:17.215Z"
   },
   {
    "duration": 509,
    "start_time": "2021-09-13T21:08:18.608Z"
   },
   {
    "duration": 87,
    "start_time": "2021-09-13T21:08:19.123Z"
   },
   {
    "duration": 3,
    "start_time": "2021-09-13T21:08:19.212Z"
   },
   {
    "duration": 117,
    "start_time": "2021-09-13T21:08:19.217Z"
   },
   {
    "duration": 26,
    "start_time": "2021-09-13T21:08:19.336Z"
   },
   {
    "duration": 183,
    "start_time": "2021-09-13T21:08:19.365Z"
   },
   {
    "duration": 154,
    "start_time": "2021-09-13T21:08:19.556Z"
   },
   {
    "duration": 48,
    "start_time": "2021-09-13T21:08:19.713Z"
   },
   {
    "duration": 723,
    "start_time": "2021-09-13T21:08:19.764Z"
   },
   {
    "duration": 5,
    "start_time": "2021-09-13T21:11:09.184Z"
   },
   {
    "duration": 635,
    "start_time": "2021-09-13T21:11:12.131Z"
   },
   {
    "duration": 10,
    "start_time": "2021-09-13T21:11:33.027Z"
   },
   {
    "duration": 5,
    "start_time": "2021-09-13T21:12:10.167Z"
   },
   {
    "duration": 12,
    "start_time": "2021-09-13T21:12:24.817Z"
   },
   {
    "duration": 647,
    "start_time": "2021-09-13T21:12:28.114Z"
   },
   {
    "duration": 619,
    "start_time": "2021-09-13T21:14:26.026Z"
   },
   {
    "duration": 1376,
    "start_time": "2021-09-13T21:14:36.738Z"
   },
   {
    "duration": 518,
    "start_time": "2021-09-13T21:14:38.117Z"
   },
   {
    "duration": 91,
    "start_time": "2021-09-13T21:14:38.643Z"
   },
   {
    "duration": 4,
    "start_time": "2021-09-13T21:14:38.737Z"
   },
   {
    "duration": 116,
    "start_time": "2021-09-13T21:14:38.755Z"
   },
   {
    "duration": 13,
    "start_time": "2021-09-13T21:14:38.873Z"
   },
   {
    "duration": 195,
    "start_time": "2021-09-13T21:14:38.890Z"
   },
   {
    "duration": 169,
    "start_time": "2021-09-13T21:14:39.087Z"
   },
   {
    "duration": 24,
    "start_time": "2021-09-13T21:14:39.258Z"
   },
   {
    "duration": 823,
    "start_time": "2021-09-13T21:14:39.285Z"
   },
   {
    "duration": 621,
    "start_time": "2021-09-13T21:17:21.457Z"
   },
   {
    "duration": 28,
    "start_time": "2021-09-13T21:18:21.763Z"
   },
   {
    "duration": 466,
    "start_time": "2021-09-13T21:19:24.775Z"
   },
   {
    "duration": 358,
    "start_time": "2021-09-13T21:19:28.993Z"
   },
   {
    "duration": 6,
    "start_time": "2021-09-13T21:19:39.949Z"
   },
   {
    "duration": 9,
    "start_time": "2021-09-13T21:20:00.189Z"
   },
   {
    "duration": 2067,
    "start_time": "2021-09-13T21:20:24.996Z"
   },
   {
    "duration": 1711,
    "start_time": "2021-09-13T21:20:32.154Z"
   },
   {
    "duration": 876,
    "start_time": "2021-09-13T21:20:53.018Z"
   },
   {
    "duration": 1061,
    "start_time": "2021-09-13T21:20:57.524Z"
   },
   {
    "duration": 1381,
    "start_time": "2021-09-13T21:34:21.224Z"
   },
   {
    "duration": 508,
    "start_time": "2021-09-13T21:34:22.608Z"
   },
   {
    "duration": 87,
    "start_time": "2021-09-13T21:34:23.122Z"
   },
   {
    "duration": 3,
    "start_time": "2021-09-13T21:34:23.211Z"
   },
   {
    "duration": 115,
    "start_time": "2021-09-13T21:34:23.216Z"
   },
   {
    "duration": 26,
    "start_time": "2021-09-13T21:34:23.333Z"
   },
   {
    "duration": 180,
    "start_time": "2021-09-13T21:34:23.361Z"
   },
   {
    "duration": 143,
    "start_time": "2021-09-13T21:34:23.545Z"
   },
   {
    "duration": 10056,
    "start_time": "2021-09-13T21:34:23.690Z"
   },
   {
    "duration": 28,
    "start_time": "2021-09-13T21:34:33.720Z"
   },
   {
    "duration": 72,
    "start_time": "2021-09-13T21:35:54.375Z"
   },
   {
    "duration": 1996,
    "start_time": "2021-09-13T21:36:03.917Z"
   },
   {
    "duration": 503,
    "start_time": "2021-09-13T21:36:05.916Z"
   },
   {
    "duration": 89,
    "start_time": "2021-09-13T21:36:06.425Z"
   },
   {
    "duration": 2,
    "start_time": "2021-09-13T21:36:06.517Z"
   },
   {
    "duration": 118,
    "start_time": "2021-09-13T21:36:06.522Z"
   },
   {
    "duration": 22,
    "start_time": "2021-09-13T21:36:06.642Z"
   },
   {
    "duration": 187,
    "start_time": "2021-09-13T21:36:06.667Z"
   },
   {
    "duration": 135,
    "start_time": "2021-09-13T21:36:06.856Z"
   },
   {
    "duration": 57,
    "start_time": "2021-09-13T21:36:30.944Z"
   },
   {
    "duration": 49,
    "start_time": "2021-09-13T21:36:30.954Z"
   },
   {
    "duration": 1378,
    "start_time": "2021-09-13T21:36:50.430Z"
   },
   {
    "duration": 515,
    "start_time": "2021-09-13T21:36:51.811Z"
   },
   {
    "duration": 92,
    "start_time": "2021-09-13T21:36:52.336Z"
   },
   {
    "duration": 3,
    "start_time": "2021-09-13T21:36:52.431Z"
   },
   {
    "duration": 134,
    "start_time": "2021-09-13T21:36:52.436Z"
   },
   {
    "duration": 14,
    "start_time": "2021-09-13T21:36:52.573Z"
   },
   {
    "duration": 197,
    "start_time": "2021-09-13T21:36:52.589Z"
   },
   {
    "duration": 145,
    "start_time": "2021-09-13T21:36:52.789Z"
   },
   {
    "duration": 62,
    "start_time": "2021-09-13T21:37:05.202Z"
   },
   {
    "duration": 57,
    "start_time": "2021-09-13T21:37:05.209Z"
   },
   {
    "duration": 25,
    "start_time": "2021-09-13T21:37:11.109Z"
   },
   {
    "duration": 602,
    "start_time": "2021-09-13T21:38:25.123Z"
   },
   {
    "duration": 492,
    "start_time": "2021-09-14T12:02:29.264Z"
   },
   {
    "duration": 12,
    "start_time": "2021-09-14T12:04:43.012Z"
   },
   {
    "duration": 5,
    "start_time": "2021-09-14T12:05:44.742Z"
   },
   {
    "duration": 5,
    "start_time": "2021-09-14T12:06:33.906Z"
   },
   {
    "duration": 6,
    "start_time": "2021-09-14T12:06:37.513Z"
   },
   {
    "duration": 12,
    "start_time": "2021-09-14T12:08:10.250Z"
   },
   {
    "duration": 303,
    "start_time": "2021-09-14T12:19:00.764Z"
   },
   {
    "duration": 2883,
    "start_time": "2021-09-14T12:19:14.711Z"
   },
   {
    "duration": 3154,
    "start_time": "2021-09-14T12:19:26.742Z"
   },
   {
    "duration": 3239,
    "start_time": "2021-09-14T12:19:50.366Z"
   },
   {
    "duration": 484,
    "start_time": "2021-09-14T12:20:42.117Z"
   },
   {
    "duration": 270,
    "start_time": "2021-09-14T12:24:06.886Z"
   },
   {
    "duration": 274,
    "start_time": "2021-09-14T12:24:12.621Z"
   },
   {
    "duration": 301,
    "start_time": "2021-09-14T12:24:25.673Z"
   },
   {
    "duration": 275,
    "start_time": "2021-09-14T12:24:52.093Z"
   },
   {
    "duration": 12,
    "start_time": "2021-09-14T12:25:13.231Z"
   },
   {
    "duration": 276,
    "start_time": "2021-09-14T12:26:07.436Z"
   },
   {
    "duration": 23,
    "start_time": "2021-09-14T12:26:48.795Z"
   },
   {
    "duration": 1470,
    "start_time": "2021-09-14T12:30:23.793Z"
   },
   {
    "duration": 532,
    "start_time": "2021-09-14T12:30:25.266Z"
   },
   {
    "duration": 89,
    "start_time": "2021-09-14T12:30:25.801Z"
   },
   {
    "duration": 3,
    "start_time": "2021-09-14T12:30:25.893Z"
   },
   {
    "duration": 119,
    "start_time": "2021-09-14T12:30:25.899Z"
   },
   {
    "duration": 14,
    "start_time": "2021-09-14T12:30:26.020Z"
   },
   {
    "duration": 195,
    "start_time": "2021-09-14T12:30:26.037Z"
   },
   {
    "duration": 151,
    "start_time": "2021-09-14T12:30:26.236Z"
   },
   {
    "duration": 24,
    "start_time": "2021-09-14T12:30:26.391Z"
   },
   {
    "duration": 384,
    "start_time": "2021-09-14T12:30:26.417Z"
   },
   {
    "duration": -88,
    "start_time": "2021-09-14T12:30:26.892Z"
   },
   {
    "duration": 6,
    "start_time": "2021-09-14T12:37:07.017Z"
   },
   {
    "duration": 24,
    "start_time": "2021-09-14T12:37:14.213Z"
   },
   {
    "duration": 288,
    "start_time": "2021-09-14T12:37:44.072Z"
   },
   {
    "duration": 282,
    "start_time": "2021-09-14T12:38:45.664Z"
   },
   {
    "duration": 12,
    "start_time": "2021-09-14T12:38:56.687Z"
   },
   {
    "duration": 26,
    "start_time": "2021-09-14T12:39:01.157Z"
   },
   {
    "duration": 16,
    "start_time": "2021-09-14T12:40:12.014Z"
   },
   {
    "duration": 18,
    "start_time": "2021-09-14T12:41:55.749Z"
   },
   {
    "duration": 13,
    "start_time": "2021-09-14T12:42:16.617Z"
   },
   {
    "duration": 17,
    "start_time": "2021-09-14T12:43:09.052Z"
   },
   {
    "duration": 35,
    "start_time": "2021-09-14T12:43:14.782Z"
   },
   {
    "duration": 34,
    "start_time": "2021-09-14T12:43:48.991Z"
   },
   {
    "duration": 469,
    "start_time": "2021-09-14T12:47:47.339Z"
   },
   {
    "duration": 98,
    "start_time": "2021-09-14T12:49:59.229Z"
   },
   {
    "duration": 6922,
    "start_time": "2021-09-14T12:50:14.631Z"
   },
   {
    "duration": 480,
    "start_time": "2021-09-14T12:50:38.098Z"
   },
   {
    "duration": 96,
    "start_time": "2021-09-14T13:07:44.191Z"
   },
   {
    "duration": 445,
    "start_time": "2021-09-14T13:07:50.705Z"
   },
   {
    "duration": 459,
    "start_time": "2021-09-14T13:08:12.733Z"
   },
   {
    "duration": 461,
    "start_time": "2021-09-14T13:10:07.996Z"
   },
   {
    "duration": 3462,
    "start_time": "2021-09-14T13:10:41.079Z"
   },
   {
    "duration": 470,
    "start_time": "2021-09-14T13:10:59.275Z"
   },
   {
    "duration": 7337,
    "start_time": "2021-09-14T13:11:40.287Z"
   },
   {
    "duration": 10728,
    "start_time": "2021-09-14T13:12:30.157Z"
   },
   {
    "duration": 249,
    "start_time": "2021-09-14T13:17:38.844Z"
   },
   {
    "duration": 199,
    "start_time": "2021-09-14T13:18:28.957Z"
   },
   {
    "duration": 233,
    "start_time": "2021-09-14T13:18:34.016Z"
   },
   {
    "duration": 36,
    "start_time": "2021-09-14T13:19:39.100Z"
   },
   {
    "duration": 33,
    "start_time": "2021-09-14T13:20:24.672Z"
   },
   {
    "duration": 34,
    "start_time": "2021-09-14T13:20:35.464Z"
   },
   {
    "duration": 35,
    "start_time": "2021-09-14T13:20:41.080Z"
   },
   {
    "duration": 340,
    "start_time": "2021-09-14T13:21:07.125Z"
   },
   {
    "duration": 328,
    "start_time": "2021-09-14T13:21:18.252Z"
   },
   {
    "duration": 34,
    "start_time": "2021-09-14T13:22:12.461Z"
   },
   {
    "duration": 9246,
    "start_time": "2021-09-14T13:22:41.093Z"
   },
   {
    "duration": 262,
    "start_time": "2021-09-14T13:23:18.449Z"
   },
   {
    "duration": 25,
    "start_time": "2021-09-14T13:23:24.984Z"
   },
   {
    "duration": 23,
    "start_time": "2021-09-14T13:23:48.889Z"
   },
   {
    "duration": 30,
    "start_time": "2021-09-14T13:23:57.884Z"
   },
   {
    "duration": 37,
    "start_time": "2021-09-14T13:25:02.296Z"
   },
   {
    "duration": 43,
    "start_time": "2021-09-14T13:25:20.260Z"
   },
   {
    "duration": 260,
    "start_time": "2021-09-14T13:25:30.938Z"
   },
   {
    "duration": 343,
    "start_time": "2021-09-14T13:26:05.968Z"
   },
   {
    "duration": 42,
    "start_time": "2021-09-14T13:26:27.963Z"
   },
   {
    "duration": 274,
    "start_time": "2021-09-14T13:26:35.262Z"
   },
   {
    "duration": 260,
    "start_time": "2021-09-14T13:26:44.587Z"
   },
   {
    "duration": 264,
    "start_time": "2021-09-14T13:27:03.120Z"
   },
   {
    "duration": 9,
    "start_time": "2021-09-14T13:27:28.370Z"
   },
   {
    "duration": 27,
    "start_time": "2021-09-14T13:27:42.287Z"
   },
   {
    "duration": 60,
    "start_time": "2021-09-14T13:30:46.935Z"
   },
   {
    "duration": 261,
    "start_time": "2021-09-14T13:30:55.033Z"
   },
   {
    "duration": 28,
    "start_time": "2021-09-14T13:30:58.073Z"
   },
   {
    "duration": 266,
    "start_time": "2021-09-14T13:31:14.237Z"
   },
   {
    "duration": 27,
    "start_time": "2021-09-14T13:31:19.296Z"
   },
   {
    "duration": 15,
    "start_time": "2021-09-14T13:31:30.653Z"
   },
   {
    "duration": 30,
    "start_time": "2021-09-14T13:32:17.127Z"
   },
   {
    "duration": 1341,
    "start_time": "2021-09-14T13:34:03.869Z"
   },
   {
    "duration": 518,
    "start_time": "2021-09-14T13:34:05.213Z"
   },
   {
    "duration": 89,
    "start_time": "2021-09-14T13:34:05.735Z"
   },
   {
    "duration": 2,
    "start_time": "2021-09-14T13:34:05.827Z"
   },
   {
    "duration": 123,
    "start_time": "2021-09-14T13:34:05.832Z"
   },
   {
    "duration": 14,
    "start_time": "2021-09-14T13:34:05.957Z"
   },
   {
    "duration": 181,
    "start_time": "2021-09-14T13:34:05.973Z"
   },
   {
    "duration": 152,
    "start_time": "2021-09-14T13:34:06.156Z"
   },
   {
    "duration": 21,
    "start_time": "2021-09-14T13:34:06.311Z"
   },
   {
    "duration": 52,
    "start_time": "2021-09-14T13:34:06.335Z"
   },
   {
    "duration": 278,
    "start_time": "2021-09-14T13:34:06.390Z"
   },
   {
    "duration": 20,
    "start_time": "2021-09-14T13:34:06.671Z"
   },
   {
    "duration": 255,
    "start_time": "2021-09-14T13:34:27.202Z"
   },
   {
    "duration": 18,
    "start_time": "2021-09-14T13:35:06.159Z"
   },
   {
    "duration": 14,
    "start_time": "2021-09-14T13:35:14.360Z"
   },
   {
    "duration": 1363,
    "start_time": "2021-09-14T13:35:23.125Z"
   },
   {
    "duration": 526,
    "start_time": "2021-09-14T13:35:24.491Z"
   },
   {
    "duration": 90,
    "start_time": "2021-09-14T13:35:25.020Z"
   },
   {
    "duration": 3,
    "start_time": "2021-09-14T13:35:25.112Z"
   },
   {
    "duration": 114,
    "start_time": "2021-09-14T13:35:25.117Z"
   },
   {
    "duration": 25,
    "start_time": "2021-09-14T13:35:25.234Z"
   },
   {
    "duration": 191,
    "start_time": "2021-09-14T13:35:25.262Z"
   },
   {
    "duration": 135,
    "start_time": "2021-09-14T13:35:25.457Z"
   },
   {
    "duration": 24,
    "start_time": "2021-09-14T13:35:25.596Z"
   },
   {
    "duration": 48,
    "start_time": "2021-09-14T13:35:25.622Z"
   },
   {
    "duration": 257,
    "start_time": "2021-09-14T13:35:25.673Z"
   },
   {
    "duration": 22,
    "start_time": "2021-09-14T13:35:25.933Z"
   },
   {
    "duration": 397,
    "start_time": "2021-09-14T13:35:52.171Z"
   },
   {
    "duration": 23,
    "start_time": "2021-09-14T13:35:54.888Z"
   },
   {
    "duration": 8,
    "start_time": "2021-09-14T13:40:55.774Z"
   },
   {
    "duration": 28,
    "start_time": "2021-09-14T13:41:01.855Z"
   },
   {
    "duration": 18,
    "start_time": "2021-09-14T13:41:19.160Z"
   },
   {
    "duration": 250,
    "start_time": "2021-09-14T13:41:21.524Z"
   },
   {
    "duration": 5,
    "start_time": "2021-09-14T13:42:10.265Z"
   },
   {
    "duration": 22,
    "start_time": "2021-09-14T13:42:27.115Z"
   },
   {
    "duration": 9,
    "start_time": "2021-09-14T13:43:20.199Z"
   },
   {
    "duration": 276,
    "start_time": "2021-09-14T13:43:24.378Z"
   },
   {
    "duration": 310,
    "start_time": "2021-09-14T13:43:37.060Z"
   },
   {
    "duration": 13,
    "start_time": "2021-09-14T13:43:53.237Z"
   },
   {
    "duration": 20,
    "start_time": "2021-09-14T13:44:30.089Z"
   },
   {
    "duration": 16,
    "start_time": "2021-09-14T13:54:15.152Z"
   },
   {
    "duration": 8371,
    "start_time": "2021-09-14T13:54:24.814Z"
   },
   {
    "duration": 37,
    "start_time": "2021-09-14T13:54:54.359Z"
   },
   {
    "duration": 38,
    "start_time": "2021-09-14T13:55:43.347Z"
   },
   {
    "duration": 44,
    "start_time": "2021-09-14T13:55:58.638Z"
   },
   {
    "duration": 283,
    "start_time": "2021-09-14T13:56:54.084Z"
   },
   {
    "duration": 38,
    "start_time": "2021-09-14T13:57:34.725Z"
   },
   {
    "duration": 38,
    "start_time": "2021-09-14T13:58:03.923Z"
   },
   {
    "duration": 1346,
    "start_time": "2021-09-14T13:58:10.358Z"
   },
   {
    "duration": 511,
    "start_time": "2021-09-14T13:58:11.706Z"
   },
   {
    "duration": 90,
    "start_time": "2021-09-14T13:58:12.220Z"
   },
   {
    "duration": 4,
    "start_time": "2021-09-14T13:58:12.312Z"
   },
   {
    "duration": 123,
    "start_time": "2021-09-14T13:58:12.318Z"
   },
   {
    "duration": 23,
    "start_time": "2021-09-14T13:58:12.444Z"
   },
   {
    "duration": 185,
    "start_time": "2021-09-14T13:58:12.469Z"
   },
   {
    "duration": 137,
    "start_time": "2021-09-14T13:58:12.657Z"
   },
   {
    "duration": 22,
    "start_time": "2021-09-14T13:58:12.798Z"
   },
   {
    "duration": 48,
    "start_time": "2021-09-14T13:58:12.822Z"
   },
   {
    "duration": 362,
    "start_time": "2021-09-14T13:58:12.873Z"
   },
   {
    "duration": -83,
    "start_time": "2021-09-14T13:58:13.322Z"
   },
   {
    "duration": 34,
    "start_time": "2021-09-14T13:58:35.602Z"
   },
   {
    "duration": 36,
    "start_time": "2021-09-14T13:58:42.241Z"
   },
   {
    "duration": 1328,
    "start_time": "2021-09-14T13:59:13.080Z"
   },
   {
    "duration": 511,
    "start_time": "2021-09-14T13:59:14.411Z"
   },
   {
    "duration": 96,
    "start_time": "2021-09-14T13:59:14.925Z"
   },
   {
    "duration": 4,
    "start_time": "2021-09-14T13:59:15.024Z"
   },
   {
    "duration": 154,
    "start_time": "2021-09-14T13:59:15.031Z"
   },
   {
    "duration": 14,
    "start_time": "2021-09-14T13:59:15.187Z"
   },
   {
    "duration": 193,
    "start_time": "2021-09-14T13:59:15.203Z"
   },
   {
    "duration": 134,
    "start_time": "2021-09-14T13:59:15.400Z"
   },
   {
    "duration": 32,
    "start_time": "2021-09-14T13:59:15.537Z"
   },
   {
    "duration": 37,
    "start_time": "2021-09-14T13:59:15.571Z"
   },
   {
    "duration": 34,
    "start_time": "2021-09-14T13:59:24.976Z"
   },
   {
    "duration": 36,
    "start_time": "2021-09-14T13:59:39.106Z"
   },
   {
    "duration": 38,
    "start_time": "2021-09-14T13:59:46.665Z"
   },
   {
    "duration": 387,
    "start_time": "2021-09-14T13:59:55.544Z"
   },
   {
    "duration": 284,
    "start_time": "2021-09-14T14:00:06.908Z"
   },
   {
    "duration": 252,
    "start_time": "2021-09-14T14:00:48.671Z"
   },
   {
    "duration": 255,
    "start_time": "2021-09-14T14:00:56.548Z"
   },
   {
    "duration": 1426,
    "start_time": "2021-09-14T14:01:04.834Z"
   },
   {
    "duration": 504,
    "start_time": "2021-09-14T14:01:06.263Z"
   },
   {
    "duration": 90,
    "start_time": "2021-09-14T14:01:06.770Z"
   },
   {
    "duration": 3,
    "start_time": "2021-09-14T14:01:06.863Z"
   },
   {
    "duration": 121,
    "start_time": "2021-09-14T14:01:06.868Z"
   },
   {
    "duration": 14,
    "start_time": "2021-09-14T14:01:06.991Z"
   },
   {
    "duration": 183,
    "start_time": "2021-09-14T14:01:07.007Z"
   },
   {
    "duration": 138,
    "start_time": "2021-09-14T14:01:07.193Z"
   },
   {
    "duration": 37,
    "start_time": "2021-09-14T14:01:07.334Z"
   },
   {
    "duration": 19,
    "start_time": "2021-09-14T14:01:07.374Z"
   },
   {
    "duration": 32,
    "start_time": "2021-09-14T14:01:17.850Z"
   },
   {
    "duration": 1324,
    "start_time": "2021-09-14T14:01:27.397Z"
   },
   {
    "duration": 269,
    "start_time": "2021-09-14T14:01:54.439Z"
   },
   {
    "duration": 267,
    "start_time": "2021-09-14T14:02:10.511Z"
   },
   {
    "duration": 1333,
    "start_time": "2021-09-14T14:02:15.890Z"
   },
   {
    "duration": 536,
    "start_time": "2021-09-14T14:02:17.226Z"
   },
   {
    "duration": 94,
    "start_time": "2021-09-14T14:02:17.765Z"
   },
   {
    "duration": 3,
    "start_time": "2021-09-14T14:02:17.861Z"
   },
   {
    "duration": 130,
    "start_time": "2021-09-14T14:02:17.866Z"
   },
   {
    "duration": 15,
    "start_time": "2021-09-14T14:02:17.999Z"
   },
   {
    "duration": 193,
    "start_time": "2021-09-14T14:02:18.017Z"
   },
   {
    "duration": 145,
    "start_time": "2021-09-14T14:02:18.213Z"
   },
   {
    "duration": 25,
    "start_time": "2021-09-14T14:02:18.361Z"
   },
   {
    "duration": 33,
    "start_time": "2021-09-14T14:02:18.389Z"
   },
   {
    "duration": 22,
    "start_time": "2021-09-14T14:02:36.310Z"
   },
   {
    "duration": 433,
    "start_time": "2021-09-14T14:02:53.495Z"
   },
   {
    "duration": 351,
    "start_time": "2021-09-14T14:03:04.950Z"
   },
   {
    "duration": 1332,
    "start_time": "2021-09-14T14:03:27.170Z"
   },
   {
    "duration": 506,
    "start_time": "2021-09-14T14:03:28.505Z"
   },
   {
    "duration": 85,
    "start_time": "2021-09-14T14:03:29.013Z"
   },
   {
    "duration": 3,
    "start_time": "2021-09-14T14:03:29.101Z"
   },
   {
    "duration": 119,
    "start_time": "2021-09-14T14:03:29.108Z"
   },
   {
    "duration": 13,
    "start_time": "2021-09-14T14:03:29.229Z"
   },
   {
    "duration": 186,
    "start_time": "2021-09-14T14:03:29.245Z"
   },
   {
    "duration": 138,
    "start_time": "2021-09-14T14:03:29.434Z"
   },
   {
    "duration": 24,
    "start_time": "2021-09-14T14:03:29.575Z"
   },
   {
    "duration": 57,
    "start_time": "2021-09-14T14:03:29.601Z"
   },
   {
    "duration": 6410,
    "start_time": "2021-09-14T14:04:25.518Z"
   },
   {
    "duration": 1380,
    "start_time": "2021-09-14T14:04:53.639Z"
   },
   {
    "duration": 532,
    "start_time": "2021-09-14T14:04:55.023Z"
   },
   {
    "duration": 97,
    "start_time": "2021-09-14T14:04:55.558Z"
   },
   {
    "duration": 3,
    "start_time": "2021-09-14T14:04:55.658Z"
   },
   {
    "duration": 132,
    "start_time": "2021-09-14T14:04:55.663Z"
   },
   {
    "duration": 13,
    "start_time": "2021-09-14T14:04:55.798Z"
   },
   {
    "duration": 190,
    "start_time": "2021-09-14T14:04:55.813Z"
   },
   {
    "duration": 142,
    "start_time": "2021-09-14T14:04:56.006Z"
   },
   {
    "duration": 24,
    "start_time": "2021-09-14T14:04:56.154Z"
   },
   {
    "duration": 64,
    "start_time": "2021-09-14T14:04:56.181Z"
   },
   {
    "duration": 255,
    "start_time": "2021-09-14T14:05:39.605Z"
   },
   {
    "duration": 7,
    "start_time": "2021-09-14T14:06:02.061Z"
   },
   {
    "duration": 371,
    "start_time": "2021-09-14T14:06:07.673Z"
   },
   {
    "duration": 12,
    "start_time": "2021-09-14T14:06:28.571Z"
   },
   {
    "duration": 1434,
    "start_time": "2021-09-14T14:06:41.522Z"
   },
   {
    "duration": 514,
    "start_time": "2021-09-14T14:06:42.959Z"
   },
   {
    "duration": 89,
    "start_time": "2021-09-14T14:06:43.476Z"
   },
   {
    "duration": 4,
    "start_time": "2021-09-14T14:06:43.568Z"
   },
   {
    "duration": 117,
    "start_time": "2021-09-14T14:06:43.574Z"
   },
   {
    "duration": 13,
    "start_time": "2021-09-14T14:06:43.693Z"
   },
   {
    "duration": 188,
    "start_time": "2021-09-14T14:06:43.709Z"
   },
   {
    "duration": 141,
    "start_time": "2021-09-14T14:06:43.900Z"
   },
   {
    "duration": 29,
    "start_time": "2021-09-14T14:06:44.046Z"
   },
   {
    "duration": 49,
    "start_time": "2021-09-14T14:06:44.079Z"
   },
   {
    "duration": 269,
    "start_time": "2021-09-14T14:06:44.156Z"
   },
   {
    "duration": 13,
    "start_time": "2021-09-14T14:06:44.427Z"
   },
   {
    "duration": 56,
    "start_time": "2021-09-14T14:07:42.246Z"
   },
   {
    "duration": 373,
    "start_time": "2021-09-14T14:07:52.800Z"
   },
   {
    "duration": 1815,
    "start_time": "2021-09-14T14:08:00.500Z"
   },
   {
    "duration": 517,
    "start_time": "2021-09-14T14:08:02.318Z"
   },
   {
    "duration": 89,
    "start_time": "2021-09-14T14:08:02.838Z"
   },
   {
    "duration": 3,
    "start_time": "2021-09-14T14:08:02.930Z"
   },
   {
    "duration": 109,
    "start_time": "2021-09-14T14:08:02.954Z"
   },
   {
    "duration": 13,
    "start_time": "2021-09-14T14:08:03.065Z"
   },
   {
    "duration": 194,
    "start_time": "2021-09-14T14:08:03.081Z"
   },
   {
    "duration": 139,
    "start_time": "2021-09-14T14:08:03.278Z"
   },
   {
    "duration": 46,
    "start_time": "2021-09-14T14:08:03.422Z"
   },
   {
    "duration": 45,
    "start_time": "2021-09-14T14:08:03.471Z"
   },
   {
    "duration": 268,
    "start_time": "2021-09-14T14:08:03.519Z"
   },
   {
    "duration": 37,
    "start_time": "2021-09-14T14:08:03.790Z"
   },
   {
    "duration": 404,
    "start_time": "2021-09-14T14:08:21.171Z"
   },
   {
    "duration": 1336,
    "start_time": "2021-09-14T14:08:27.480Z"
   },
   {
    "duration": 528,
    "start_time": "2021-09-14T14:08:28.820Z"
   },
   {
    "duration": 105,
    "start_time": "2021-09-14T14:08:29.351Z"
   },
   {
    "duration": 3,
    "start_time": "2021-09-14T14:08:29.459Z"
   },
   {
    "duration": 116,
    "start_time": "2021-09-14T14:08:29.464Z"
   },
   {
    "duration": 14,
    "start_time": "2021-09-14T14:08:29.583Z"
   },
   {
    "duration": 196,
    "start_time": "2021-09-14T14:08:29.601Z"
   },
   {
    "duration": 147,
    "start_time": "2021-09-14T14:08:29.801Z"
   },
   {
    "duration": 26,
    "start_time": "2021-09-14T14:08:29.951Z"
   },
   {
    "duration": 48,
    "start_time": "2021-09-14T14:08:29.979Z"
   },
   {
    "duration": 265,
    "start_time": "2021-09-14T14:08:30.055Z"
   },
   {
    "duration": 48,
    "start_time": "2021-09-14T14:08:30.322Z"
   },
   {
    "duration": 1291,
    "start_time": "2021-09-14T14:10:17.273Z"
   },
   {
    "duration": 510,
    "start_time": "2021-09-14T14:10:18.567Z"
   },
   {
    "duration": 91,
    "start_time": "2021-09-14T14:10:19.080Z"
   },
   {
    "duration": 3,
    "start_time": "2021-09-14T14:10:19.174Z"
   },
   {
    "duration": 113,
    "start_time": "2021-09-14T14:10:19.179Z"
   },
   {
    "duration": 14,
    "start_time": "2021-09-14T14:10:19.294Z"
   },
   {
    "duration": 190,
    "start_time": "2021-09-14T14:10:19.310Z"
   },
   {
    "duration": 140,
    "start_time": "2021-09-14T14:10:19.503Z"
   },
   {
    "duration": 26,
    "start_time": "2021-09-14T14:10:19.646Z"
   },
   {
    "duration": 286,
    "start_time": "2021-09-14T14:10:19.675Z"
   },
   {
    "duration": 6234,
    "start_time": "2021-09-14T14:10:44.310Z"
   },
   {
    "duration": 18,
    "start_time": "2021-09-14T14:10:58.480Z"
   },
   {
    "duration": 1325,
    "start_time": "2021-09-14T14:11:03.893Z"
   },
   {
    "duration": 520,
    "start_time": "2021-09-14T14:11:05.221Z"
   },
   {
    "duration": 97,
    "start_time": "2021-09-14T14:11:05.746Z"
   },
   {
    "duration": 3,
    "start_time": "2021-09-14T14:11:05.854Z"
   },
   {
    "duration": 123,
    "start_time": "2021-09-14T14:11:05.860Z"
   },
   {
    "duration": 17,
    "start_time": "2021-09-14T14:11:05.986Z"
   },
   {
    "duration": 203,
    "start_time": "2021-09-14T14:11:06.006Z"
   },
   {
    "duration": 143,
    "start_time": "2021-09-14T14:11:06.212Z"
   },
   {
    "duration": 22,
    "start_time": "2021-09-14T14:11:06.360Z"
   },
   {
    "duration": 291,
    "start_time": "2021-09-14T14:11:06.385Z"
   },
   {
    "duration": 14,
    "start_time": "2021-09-14T14:11:06.678Z"
   },
   {
    "duration": 7587,
    "start_time": "2021-09-14T14:17:16.971Z"
   },
   {
    "duration": 1309,
    "start_time": "2021-09-14T14:17:32.009Z"
   },
   {
    "duration": 507,
    "start_time": "2021-09-14T14:17:33.321Z"
   },
   {
    "duration": 88,
    "start_time": "2021-09-14T14:17:33.831Z"
   },
   {
    "duration": 3,
    "start_time": "2021-09-14T14:17:33.922Z"
   },
   {
    "duration": 117,
    "start_time": "2021-09-14T14:17:33.927Z"
   },
   {
    "duration": 17,
    "start_time": "2021-09-14T14:17:34.047Z"
   },
   {
    "duration": 181,
    "start_time": "2021-09-14T14:17:34.067Z"
   },
   {
    "duration": 142,
    "start_time": "2021-09-14T14:17:34.250Z"
   },
   {
    "duration": 22,
    "start_time": "2021-09-14T14:17:34.396Z"
   },
   {
    "duration": 6612,
    "start_time": "2021-09-14T14:17:34.421Z"
   },
   {
    "duration": 6893,
    "start_time": "2021-09-14T14:19:07.067Z"
   },
   {
    "duration": 1335,
    "start_time": "2021-09-14T14:19:25.365Z"
   },
   {
    "duration": 513,
    "start_time": "2021-09-14T14:19:26.703Z"
   },
   {
    "duration": 88,
    "start_time": "2021-09-14T14:19:27.219Z"
   },
   {
    "duration": 3,
    "start_time": "2021-09-14T14:19:27.310Z"
   },
   {
    "duration": 121,
    "start_time": "2021-09-14T14:19:27.315Z"
   },
   {
    "duration": 21,
    "start_time": "2021-09-14T14:19:27.439Z"
   },
   {
    "duration": 177,
    "start_time": "2021-09-14T14:19:27.463Z"
   },
   {
    "duration": 135,
    "start_time": "2021-09-14T14:19:27.643Z"
   },
   {
    "duration": 24,
    "start_time": "2021-09-14T14:19:27.780Z"
   },
   {
    "duration": 627,
    "start_time": "2021-09-14T14:19:27.806Z"
   },
   {
    "duration": 7868,
    "start_time": "2021-09-14T14:20:10.474Z"
   },
   {
    "duration": 1317,
    "start_time": "2021-09-14T14:20:24.682Z"
   },
   {
    "duration": 526,
    "start_time": "2021-09-14T14:20:26.003Z"
   },
   {
    "duration": 88,
    "start_time": "2021-09-14T14:20:26.532Z"
   },
   {
    "duration": 4,
    "start_time": "2021-09-14T14:20:26.623Z"
   },
   {
    "duration": 126,
    "start_time": "2021-09-14T14:20:26.631Z"
   },
   {
    "duration": 18,
    "start_time": "2021-09-14T14:20:26.759Z"
   },
   {
    "duration": 198,
    "start_time": "2021-09-14T14:20:26.780Z"
   },
   {
    "duration": 138,
    "start_time": "2021-09-14T14:20:26.983Z"
   },
   {
    "duration": 37,
    "start_time": "2021-09-14T14:20:27.124Z"
   },
   {
    "duration": 661,
    "start_time": "2021-09-14T14:20:27.163Z"
   },
   {
    "duration": 1267,
    "start_time": "2021-09-14T14:20:47.841Z"
   },
   {
    "duration": 523,
    "start_time": "2021-09-14T14:20:49.111Z"
   },
   {
    "duration": 90,
    "start_time": "2021-09-14T14:20:49.638Z"
   },
   {
    "duration": 4,
    "start_time": "2021-09-14T14:20:49.731Z"
   },
   {
    "duration": 117,
    "start_time": "2021-09-14T14:20:49.754Z"
   },
   {
    "duration": 15,
    "start_time": "2021-09-14T14:20:49.874Z"
   },
   {
    "duration": 194,
    "start_time": "2021-09-14T14:20:49.891Z"
   },
   {
    "duration": 141,
    "start_time": "2021-09-14T14:20:50.089Z"
   },
   {
    "duration": 33,
    "start_time": "2021-09-14T14:20:50.235Z"
   },
   {
    "duration": 655,
    "start_time": "2021-09-14T14:20:50.272Z"
   },
   {
    "duration": 6864,
    "start_time": "2021-09-14T14:22:58.411Z"
   },
   {
    "duration": 1536,
    "start_time": "2021-09-14T14:23:12.077Z"
   },
   {
    "duration": 525,
    "start_time": "2021-09-14T14:23:13.617Z"
   },
   {
    "duration": 91,
    "start_time": "2021-09-14T14:23:14.145Z"
   },
   {
    "duration": 3,
    "start_time": "2021-09-14T14:23:14.239Z"
   },
   {
    "duration": 135,
    "start_time": "2021-09-14T14:23:14.244Z"
   },
   {
    "duration": 14,
    "start_time": "2021-09-14T14:23:14.381Z"
   },
   {
    "duration": 194,
    "start_time": "2021-09-14T14:23:14.398Z"
   },
   {
    "duration": 146,
    "start_time": "2021-09-14T14:23:14.595Z"
   },
   {
    "duration": 32,
    "start_time": "2021-09-14T14:23:14.744Z"
   },
   {
    "duration": 822,
    "start_time": "2021-09-14T14:23:14.779Z"
   },
   {
    "duration": 86,
    "start_time": "2021-09-14T14:25:02.539Z"
   },
   {
    "duration": 6301,
    "start_time": "2021-09-14T14:25:21.737Z"
   },
   {
    "duration": 1495,
    "start_time": "2021-09-14T14:25:34.017Z"
   },
   {
    "duration": 513,
    "start_time": "2021-09-14T14:25:35.515Z"
   },
   {
    "duration": 89,
    "start_time": "2021-09-14T14:25:36.031Z"
   },
   {
    "duration": 4,
    "start_time": "2021-09-14T14:25:36.122Z"
   },
   {
    "duration": 113,
    "start_time": "2021-09-14T14:25:36.128Z"
   },
   {
    "duration": 23,
    "start_time": "2021-09-14T14:25:36.243Z"
   },
   {
    "duration": 189,
    "start_time": "2021-09-14T14:25:36.268Z"
   },
   {
    "duration": 130,
    "start_time": "2021-09-14T14:25:36.460Z"
   },
   {
    "duration": 24,
    "start_time": "2021-09-14T14:25:36.592Z"
   },
   {
    "duration": 649,
    "start_time": "2021-09-14T14:25:36.618Z"
   },
   {
    "duration": 6235,
    "start_time": "2021-09-14T14:26:15.867Z"
   },
   {
    "duration": 1342,
    "start_time": "2021-09-14T14:26:30.066Z"
   },
   {
    "duration": 512,
    "start_time": "2021-09-14T14:26:31.411Z"
   },
   {
    "duration": 88,
    "start_time": "2021-09-14T14:26:31.926Z"
   },
   {
    "duration": 4,
    "start_time": "2021-09-14T14:26:32.016Z"
   },
   {
    "duration": 115,
    "start_time": "2021-09-14T14:26:32.022Z"
   },
   {
    "duration": 22,
    "start_time": "2021-09-14T14:26:32.139Z"
   },
   {
    "duration": 191,
    "start_time": "2021-09-14T14:26:32.163Z"
   },
   {
    "duration": 143,
    "start_time": "2021-09-14T14:26:32.358Z"
   },
   {
    "duration": 23,
    "start_time": "2021-09-14T14:26:32.504Z"
   },
   {
    "duration": 671,
    "start_time": "2021-09-14T14:26:32.529Z"
   },
   {
    "duration": 7469,
    "start_time": "2021-09-14T14:26:44.004Z"
   },
   {
    "duration": 1361,
    "start_time": "2021-09-14T14:26:58.252Z"
   },
   {
    "duration": 541,
    "start_time": "2021-09-14T14:26:59.616Z"
   },
   {
    "duration": 97,
    "start_time": "2021-09-14T14:27:00.160Z"
   },
   {
    "duration": 3,
    "start_time": "2021-09-14T14:27:00.261Z"
   },
   {
    "duration": 133,
    "start_time": "2021-09-14T14:27:00.266Z"
   },
   {
    "duration": 13,
    "start_time": "2021-09-14T14:27:00.402Z"
   },
   {
    "duration": 195,
    "start_time": "2021-09-14T14:27:00.418Z"
   },
   {
    "duration": 140,
    "start_time": "2021-09-14T14:27:00.615Z"
   },
   {
    "duration": 24,
    "start_time": "2021-09-14T14:27:00.758Z"
   },
   {
    "duration": 676,
    "start_time": "2021-09-14T14:27:00.784Z"
   },
   {
    "duration": 276,
    "start_time": "2021-09-14T14:27:24.728Z"
   },
   {
    "duration": 1405,
    "start_time": "2021-09-14T14:27:33.830Z"
   },
   {
    "duration": 543,
    "start_time": "2021-09-14T14:27:35.238Z"
   },
   {
    "duration": 110,
    "start_time": "2021-09-14T14:27:35.784Z"
   },
   {
    "duration": 4,
    "start_time": "2021-09-14T14:27:35.896Z"
   },
   {
    "duration": 141,
    "start_time": "2021-09-14T14:27:35.903Z"
   },
   {
    "duration": 14,
    "start_time": "2021-09-14T14:27:36.046Z"
   },
   {
    "duration": 274,
    "start_time": "2021-09-14T14:27:36.064Z"
   },
   {
    "duration": 170,
    "start_time": "2021-09-14T14:27:36.353Z"
   },
   {
    "duration": 42,
    "start_time": "2021-09-14T14:27:36.526Z"
   },
   {
    "duration": 684,
    "start_time": "2021-09-14T14:27:36.572Z"
   },
   {
    "duration": 284,
    "start_time": "2021-09-14T14:27:44.159Z"
   },
   {
    "duration": 1353,
    "start_time": "2021-09-14T14:27:52.114Z"
   },
   {
    "duration": 547,
    "start_time": "2021-09-14T14:27:53.470Z"
   },
   {
    "duration": 91,
    "start_time": "2021-09-14T14:27:54.021Z"
   },
   {
    "duration": 3,
    "start_time": "2021-09-14T14:27:54.115Z"
   },
   {
    "duration": 143,
    "start_time": "2021-09-14T14:27:54.120Z"
   },
   {
    "duration": 27,
    "start_time": "2021-09-14T14:27:54.265Z"
   },
   {
    "duration": 190,
    "start_time": "2021-09-14T14:27:54.295Z"
   },
   {
    "duration": 141,
    "start_time": "2021-09-14T14:27:54.487Z"
   },
   {
    "duration": 38,
    "start_time": "2021-09-14T14:27:54.633Z"
   },
   {
    "duration": 290,
    "start_time": "2021-09-14T14:27:54.674Z"
   },
   {
    "duration": 339,
    "start_time": "2021-09-14T14:28:04.205Z"
   },
   {
    "duration": 1396,
    "start_time": "2021-09-14T14:29:43.215Z"
   },
   {
    "duration": 518,
    "start_time": "2021-09-14T14:29:44.614Z"
   },
   {
    "duration": 91,
    "start_time": "2021-09-14T14:29:45.135Z"
   },
   {
    "duration": 2,
    "start_time": "2021-09-14T14:29:45.229Z"
   },
   {
    "duration": 113,
    "start_time": "2021-09-14T14:29:45.234Z"
   },
   {
    "duration": 15,
    "start_time": "2021-09-14T14:29:45.353Z"
   },
   {
    "duration": 187,
    "start_time": "2021-09-14T14:29:45.370Z"
   },
   {
    "duration": 134,
    "start_time": "2021-09-14T14:29:45.560Z"
   },
   {
    "duration": 24,
    "start_time": "2021-09-14T14:29:45.697Z"
   },
   {
    "duration": 305,
    "start_time": "2021-09-14T14:29:45.723Z"
   },
   {
    "duration": 38,
    "start_time": "2021-09-14T19:32:45.322Z"
   },
   {
    "duration": 43,
    "start_time": "2021-09-14T19:33:11.613Z"
   },
   {
    "duration": 1696,
    "start_time": "2021-09-14T19:34:20.742Z"
   },
   {
    "duration": 540,
    "start_time": "2021-09-14T19:34:22.442Z"
   },
   {
    "duration": 92,
    "start_time": "2021-09-14T19:34:22.985Z"
   },
   {
    "duration": 4,
    "start_time": "2021-09-14T19:34:23.080Z"
   },
   {
    "duration": 128,
    "start_time": "2021-09-14T19:34:23.086Z"
   },
   {
    "duration": 15,
    "start_time": "2021-09-14T19:34:23.216Z"
   },
   {
    "duration": 202,
    "start_time": "2021-09-14T19:34:23.234Z"
   },
   {
    "duration": 147,
    "start_time": "2021-09-14T19:34:23.439Z"
   },
   {
    "duration": 24,
    "start_time": "2021-09-14T19:34:23.588Z"
   },
   {
    "duration": 308,
    "start_time": "2021-09-14T19:34:23.614Z"
   },
   {
    "duration": 53,
    "start_time": "2021-09-14T19:34:23.925Z"
   },
   {
    "duration": 39,
    "start_time": "2021-09-14T19:34:23.980Z"
   },
   {
    "duration": 38,
    "start_time": "2021-09-14T19:46:24.365Z"
   },
   {
    "duration": 36,
    "start_time": "2021-09-14T19:46:49.207Z"
   },
   {
    "duration": 9,
    "start_time": "2021-09-14T20:04:51.256Z"
   },
   {
    "duration": 9,
    "start_time": "2021-09-14T20:07:07.396Z"
   },
   {
    "duration": 25,
    "start_time": "2021-09-14T20:09:11.329Z"
   },
   {
    "duration": 1445,
    "start_time": "2021-09-14T20:18:43.268Z"
   },
   {
    "duration": 528,
    "start_time": "2021-09-14T20:18:44.715Z"
   },
   {
    "duration": 88,
    "start_time": "2021-09-14T20:18:45.246Z"
   },
   {
    "duration": 3,
    "start_time": "2021-09-14T20:18:45.337Z"
   },
   {
    "duration": 111,
    "start_time": "2021-09-14T20:18:45.354Z"
   },
   {
    "duration": 14,
    "start_time": "2021-09-14T20:18:45.467Z"
   },
   {
    "duration": 196,
    "start_time": "2021-09-14T20:18:45.483Z"
   },
   {
    "duration": 141,
    "start_time": "2021-09-14T20:18:45.682Z"
   },
   {
    "duration": 36,
    "start_time": "2021-09-14T20:18:45.826Z"
   },
   {
    "duration": 290,
    "start_time": "2021-09-14T20:18:45.866Z"
   },
   {
    "duration": 4115,
    "start_time": "2021-09-14T20:18:46.158Z"
   },
   {
    "duration": 165,
    "start_time": "2021-09-14T20:18:50.111Z"
   },
   {
    "duration": 161,
    "start_time": "2021-09-14T20:18:50.117Z"
   },
   {
    "duration": 5278,
    "start_time": "2021-09-14T20:18:56.438Z"
   },
   {
    "duration": 37,
    "start_time": "2021-09-14T20:19:06.916Z"
   },
   {
    "duration": 55,
    "start_time": "2021-09-14T20:20:24.489Z"
   },
   {
    "duration": 43,
    "start_time": "2021-09-14T20:20:28.517Z"
   },
   {
    "duration": 1446,
    "start_time": "2021-09-14T20:23:00.863Z"
   },
   {
    "duration": 518,
    "start_time": "2021-09-14T20:23:02.312Z"
   },
   {
    "duration": 90,
    "start_time": "2021-09-14T20:23:02.839Z"
   },
   {
    "duration": 3,
    "start_time": "2021-09-14T20:23:02.931Z"
   },
   {
    "duration": 114,
    "start_time": "2021-09-14T20:23:02.955Z"
   },
   {
    "duration": 13,
    "start_time": "2021-09-14T20:23:03.072Z"
   },
   {
    "duration": 194,
    "start_time": "2021-09-14T20:23:03.088Z"
   },
   {
    "duration": 137,
    "start_time": "2021-09-14T20:23:03.284Z"
   },
   {
    "duration": 39,
    "start_time": "2021-09-14T20:23:03.423Z"
   },
   {
    "duration": 284,
    "start_time": "2021-09-14T20:23:03.464Z"
   },
   {
    "duration": 41,
    "start_time": "2021-09-14T20:23:03.754Z"
   },
   {
    "duration": 65,
    "start_time": "2021-09-14T20:23:03.798Z"
   },
   {
    "duration": 64,
    "start_time": "2021-09-14T20:27:59.326Z"
   },
   {
    "duration": 64,
    "start_time": "2021-09-14T20:28:11.997Z"
   },
   {
    "duration": 678,
    "start_time": "2021-09-14T20:31:53.407Z"
   },
   {
    "duration": 811,
    "start_time": "2021-09-14T20:32:02.767Z"
   },
   {
    "duration": 1335,
    "start_time": "2021-09-14T20:32:12.822Z"
   },
   {
    "duration": 330,
    "start_time": "2021-09-14T20:33:36.812Z"
   },
   {
    "duration": 1438,
    "start_time": "2021-09-14T20:33:45.430Z"
   },
   {
    "duration": 1240,
    "start_time": "2021-09-14T20:35:20.085Z"
   },
   {
    "duration": 1303,
    "start_time": "2021-09-14T20:35:23.644Z"
   },
   {
    "duration": 1253,
    "start_time": "2021-09-14T20:35:32.680Z"
   },
   {
    "duration": 1440,
    "start_time": "2021-09-14T20:37:49.860Z"
   },
   {
    "duration": 2048,
    "start_time": "2021-09-14T20:38:01.235Z"
   },
   {
    "duration": 1577,
    "start_time": "2021-09-14T20:38:07.520Z"
   },
   {
    "duration": 1452,
    "start_time": "2021-09-14T20:38:21.669Z"
   },
   {
    "duration": 1695,
    "start_time": "2021-09-14T20:38:41.642Z"
   },
   {
    "duration": 1373,
    "start_time": "2021-09-14T20:39:30.473Z"
   },
   {
    "duration": 1382,
    "start_time": "2021-09-14T20:42:38.174Z"
   },
   {
    "duration": 1561,
    "start_time": "2021-09-14T20:43:52.695Z"
   },
   {
    "duration": 96,
    "start_time": "2021-09-14T20:44:18.120Z"
   },
   {
    "duration": 1289,
    "start_time": "2021-09-14T20:44:27.086Z"
   },
   {
    "duration": 1303,
    "start_time": "2021-09-14T20:44:39.308Z"
   },
   {
    "duration": 1248,
    "start_time": "2021-09-14T20:45:26.725Z"
   },
   {
    "duration": 2579,
    "start_time": "2021-09-14T20:45:50.585Z"
   },
   {
    "duration": 2838,
    "start_time": "2021-09-14T20:46:03.974Z"
   },
   {
    "duration": 2900,
    "start_time": "2021-09-14T20:46:09.870Z"
   },
   {
    "duration": 3110,
    "start_time": "2021-09-14T20:46:38.063Z"
   },
   {
    "duration": 2673,
    "start_time": "2021-09-14T20:46:49.414Z"
   },
   {
    "duration": 99,
    "start_time": "2021-09-14T20:48:16.358Z"
   },
   {
    "duration": 145,
    "start_time": "2021-09-14T20:48:35.255Z"
   },
   {
    "duration": 93,
    "start_time": "2021-09-14T20:48:46.827Z"
   },
   {
    "duration": 100,
    "start_time": "2021-09-14T20:48:55.592Z"
   },
   {
    "duration": 81,
    "start_time": "2021-09-14T20:49:06.778Z"
   },
   {
    "duration": 92,
    "start_time": "2021-09-14T20:49:16.827Z"
   },
   {
    "duration": 2652,
    "start_time": "2021-09-14T20:49:18.607Z"
   },
   {
    "duration": 2608,
    "start_time": "2021-09-14T20:53:05.487Z"
   },
   {
    "duration": 2704,
    "start_time": "2021-09-14T20:53:49.000Z"
   },
   {
    "duration": 2763,
    "start_time": "2021-09-14T20:54:19.143Z"
   },
   {
    "duration": 2715,
    "start_time": "2021-09-14T20:56:28.292Z"
   },
   {
    "duration": 361,
    "start_time": "2021-09-14T21:12:53.499Z"
   },
   {
    "duration": 1321,
    "start_time": "2021-09-14T21:13:01.787Z"
   },
   {
    "duration": 326,
    "start_time": "2021-09-14T21:13:13.079Z"
   },
   {
    "duration": 419,
    "start_time": "2021-09-14T21:13:50.595Z"
   },
   {
    "duration": 1079,
    "start_time": "2021-09-14T21:13:59.679Z"
   },
   {
    "duration": 617,
    "start_time": "2021-09-14T21:15:17.441Z"
   },
   {
    "duration": 678,
    "start_time": "2021-09-14T21:15:41.638Z"
   },
   {
    "duration": 704,
    "start_time": "2021-09-14T21:17:10.497Z"
   },
   {
    "duration": 570,
    "start_time": "2021-09-14T21:18:16.621Z"
   },
   {
    "duration": 459,
    "start_time": "2021-09-14T21:18:44.868Z"
   },
   {
    "duration": 689,
    "start_time": "2021-09-14T21:18:51.142Z"
   },
   {
    "duration": 1933,
    "start_time": "2021-09-14T21:19:01.355Z"
   },
   {
    "duration": 517,
    "start_time": "2021-09-14T21:19:09.844Z"
   },
   {
    "duration": 404,
    "start_time": "2021-09-14T21:19:34.874Z"
   },
   {
    "duration": 431,
    "start_time": "2021-09-14T21:19:54.982Z"
   },
   {
    "duration": 423,
    "start_time": "2021-09-14T21:20:31.664Z"
   },
   {
    "duration": 429,
    "start_time": "2021-09-14T21:20:47.031Z"
   },
   {
    "duration": 408,
    "start_time": "2021-09-14T21:21:02.890Z"
   },
   {
    "duration": 248,
    "start_time": "2021-09-14T21:27:36.003Z"
   },
   {
    "duration": 15,
    "start_time": "2021-09-14T21:27:43.518Z"
   },
   {
    "duration": 24,
    "start_time": "2021-09-14T21:27:53.438Z"
   },
   {
    "duration": 28,
    "start_time": "2021-09-14T21:29:23.914Z"
   },
   {
    "duration": 41,
    "start_time": "2021-09-14T21:30:10.115Z"
   },
   {
    "duration": 659,
    "start_time": "2021-09-14T21:30:57.800Z"
   },
   {
    "duration": 32,
    "start_time": "2021-09-14T21:31:32.017Z"
   },
   {
    "duration": 2712,
    "start_time": "2021-09-15T09:23:56.229Z"
   },
   {
    "duration": 1495,
    "start_time": "2021-09-15T10:35:19.330Z"
   },
   {
    "duration": 525,
    "start_time": "2021-09-15T10:35:20.828Z"
   },
   {
    "duration": 100,
    "start_time": "2021-09-15T10:35:21.356Z"
   },
   {
    "duration": 3,
    "start_time": "2021-09-15T10:35:21.458Z"
   },
   {
    "duration": 135,
    "start_time": "2021-09-15T10:35:21.464Z"
   },
   {
    "duration": 13,
    "start_time": "2021-09-15T10:35:21.602Z"
   },
   {
    "duration": 185,
    "start_time": "2021-09-15T10:35:21.617Z"
   },
   {
    "duration": 136,
    "start_time": "2021-09-15T10:35:21.806Z"
   },
   {
    "duration": 27,
    "start_time": "2021-09-15T10:35:21.945Z"
   },
   {
    "duration": 282,
    "start_time": "2021-09-15T10:35:21.974Z"
   },
   {
    "duration": 2746,
    "start_time": "2021-09-15T10:35:22.258Z"
   },
   {
    "duration": 32,
    "start_time": "2021-09-15T10:35:25.006Z"
   },
   {
    "duration": 4,
    "start_time": "2021-09-15T10:35:25.054Z"
   },
   {
    "duration": 1191,
    "start_time": "2021-09-15T10:39:44.637Z"
   },
   {
    "duration": 285,
    "start_time": "2021-09-15T10:41:02.529Z"
   },
   {
    "duration": 28,
    "start_time": "2021-09-15T10:41:06.804Z"
   },
   {
    "duration": 101,
    "start_time": "2021-09-15T10:42:25.568Z"
   },
   {
    "duration": 30,
    "start_time": "2021-09-15T10:42:35.458Z"
   },
   {
    "duration": 28,
    "start_time": "2021-09-15T10:49:46.278Z"
   },
   {
    "duration": 43,
    "start_time": "2021-09-15T10:49:54.945Z"
   },
   {
    "duration": 59,
    "start_time": "2021-09-15T14:02:17.479Z"
   },
   {
    "duration": 43,
    "start_time": "2021-09-15T14:02:30.307Z"
   },
   {
    "duration": 52,
    "start_time": "2021-09-15T14:24:33.513Z"
   },
   {
    "duration": 65,
    "start_time": "2021-09-15T14:26:39.861Z"
   },
   {
    "duration": 52,
    "start_time": "2021-09-15T14:26:59.768Z"
   },
   {
    "duration": 137,
    "start_time": "2021-09-15T14:27:16.403Z"
   },
   {
    "duration": 1624,
    "start_time": "2021-09-15T14:27:22.028Z"
   },
   {
    "duration": 551,
    "start_time": "2021-09-15T14:27:58.898Z"
   },
   {
    "duration": 554,
    "start_time": "2021-09-15T14:28:14.988Z"
   },
   {
    "duration": 50,
    "start_time": "2021-09-15T14:28:44.212Z"
   },
   {
    "duration": 966,
    "start_time": "2021-09-15T14:33:50.195Z"
   },
   {
    "duration": 37,
    "start_time": "2021-09-15T14:34:23.708Z"
   },
   {
    "duration": 64,
    "start_time": "2021-09-15T14:34:35.990Z"
   },
   {
    "duration": 46,
    "start_time": "2021-09-15T14:37:46.637Z"
   },
   {
    "duration": 107,
    "start_time": "2021-09-15T14:38:00.019Z"
   },
   {
    "duration": 119,
    "start_time": "2021-09-15T14:38:09.932Z"
   },
   {
    "duration": 41,
    "start_time": "2021-09-15T14:38:21.407Z"
   },
   {
    "duration": 104,
    "start_time": "2021-09-15T14:38:33.443Z"
   },
   {
    "duration": 130,
    "start_time": "2021-09-15T14:38:36.925Z"
   },
   {
    "duration": 41,
    "start_time": "2021-09-15T14:39:03.713Z"
   },
   {
    "duration": 1525,
    "start_time": "2021-09-15T14:40:01.462Z"
   },
   {
    "duration": 1431,
    "start_time": "2021-09-15T14:40:16.994Z"
   },
   {
    "duration": 513,
    "start_time": "2021-09-15T14:40:18.427Z"
   },
   {
    "duration": 90,
    "start_time": "2021-09-15T14:40:18.944Z"
   },
   {
    "duration": 3,
    "start_time": "2021-09-15T14:40:19.038Z"
   },
   {
    "duration": 115,
    "start_time": "2021-09-15T14:40:19.055Z"
   },
   {
    "duration": 16,
    "start_time": "2021-09-15T14:40:19.173Z"
   },
   {
    "duration": 198,
    "start_time": "2021-09-15T14:40:19.192Z"
   },
   {
    "duration": 143,
    "start_time": "2021-09-15T14:40:19.393Z"
   },
   {
    "duration": 31,
    "start_time": "2021-09-15T14:40:19.540Z"
   },
   {
    "duration": 282,
    "start_time": "2021-09-15T14:40:19.574Z"
   },
   {
    "duration": 2719,
    "start_time": "2021-09-15T14:40:19.858Z"
   },
   {
    "duration": 1197,
    "start_time": "2021-09-15T14:40:22.579Z"
   },
   {
    "duration": -148,
    "start_time": "2021-09-15T14:40:23.926Z"
   },
   {
    "duration": -151,
    "start_time": "2021-09-15T14:40:23.931Z"
   },
   {
    "duration": 191,
    "start_time": "2021-09-15T14:40:58.870Z"
   },
   {
    "duration": 362,
    "start_time": "2021-09-15T14:41:09.207Z"
   },
   {
    "duration": 31,
    "start_time": "2021-09-15T14:41:24.825Z"
   },
   {
    "duration": 46,
    "start_time": "2021-09-15T14:41:30.351Z"
   },
   {
    "duration": 1419,
    "start_time": "2021-09-15T15:02:56.002Z"
   },
   {
    "duration": 504,
    "start_time": "2021-09-15T15:02:57.424Z"
   },
   {
    "duration": 89,
    "start_time": "2021-09-15T15:02:57.931Z"
   },
   {
    "duration": 3,
    "start_time": "2021-09-15T15:02:58.023Z"
   },
   {
    "duration": 136,
    "start_time": "2021-09-15T15:02:58.029Z"
   },
   {
    "duration": 14,
    "start_time": "2021-09-15T15:02:58.168Z"
   },
   {
    "duration": 192,
    "start_time": "2021-09-15T15:02:58.185Z"
   },
   {
    "duration": 134,
    "start_time": "2021-09-15T15:02:58.380Z"
   },
   {
    "duration": 23,
    "start_time": "2021-09-15T15:02:58.518Z"
   },
   {
    "duration": 281,
    "start_time": "2021-09-15T15:02:58.556Z"
   },
   {
    "duration": 2678,
    "start_time": "2021-09-15T15:02:58.840Z"
   },
   {
    "duration": 44,
    "start_time": "2021-09-15T15:03:01.521Z"
   },
   {
    "duration": 781,
    "start_time": "2021-09-15T15:03:01.567Z"
   },
   {
    "duration": 4,
    "start_time": "2021-09-15T15:03:02.351Z"
   },
   {
    "duration": 1466,
    "start_time": "2021-09-15T19:31:24.558Z"
   },
   {
    "duration": 520,
    "start_time": "2021-09-15T19:31:26.026Z"
   },
   {
    "duration": 87,
    "start_time": "2021-09-15T19:31:26.552Z"
   },
   {
    "duration": 13,
    "start_time": "2021-09-15T19:31:26.641Z"
   },
   {
    "duration": 116,
    "start_time": "2021-09-15T19:31:26.657Z"
   },
   {
    "duration": 13,
    "start_time": "2021-09-15T19:31:26.776Z"
   },
   {
    "duration": 193,
    "start_time": "2021-09-15T19:31:26.793Z"
   },
   {
    "duration": 143,
    "start_time": "2021-09-15T19:31:26.989Z"
   },
   {
    "duration": 35,
    "start_time": "2021-09-15T19:31:27.134Z"
   },
   {
    "duration": 284,
    "start_time": "2021-09-15T19:31:27.172Z"
   },
   {
    "duration": 2623,
    "start_time": "2021-09-15T19:31:27.458Z"
   },
   {
    "duration": 29,
    "start_time": "2021-09-15T19:31:30.084Z"
   },
   {
    "duration": 1098,
    "start_time": "2021-09-15T19:31:30.115Z"
   },
   {
    "duration": 4,
    "start_time": "2021-09-15T19:31:31.216Z"
   },
   {
    "duration": 432,
    "start_time": "2021-09-15T19:37:15.911Z"
   },
   {
    "duration": 54,
    "start_time": "2021-09-15T19:37:40.441Z"
   },
   {
    "duration": 363,
    "start_time": "2021-09-15T19:37:42.867Z"
   },
   {
    "duration": 50,
    "start_time": "2021-09-15T19:37:55.622Z"
   },
   {
    "duration": 334,
    "start_time": "2021-09-15T19:38:00.508Z"
   },
   {
    "duration": 1401,
    "start_time": "2021-09-15T19:38:17.007Z"
   },
   {
    "duration": 513,
    "start_time": "2021-09-15T19:38:18.411Z"
   },
   {
    "duration": 93,
    "start_time": "2021-09-15T19:38:18.927Z"
   },
   {
    "duration": 4,
    "start_time": "2021-09-15T19:38:19.024Z"
   },
   {
    "duration": 133,
    "start_time": "2021-09-15T19:38:19.032Z"
   },
   {
    "duration": 17,
    "start_time": "2021-09-15T19:38:19.167Z"
   },
   {
    "duration": 205,
    "start_time": "2021-09-15T19:38:19.188Z"
   },
   {
    "duration": 150,
    "start_time": "2021-09-15T19:38:19.397Z"
   },
   {
    "duration": 22,
    "start_time": "2021-09-15T19:38:19.554Z"
   },
   {
    "duration": 298,
    "start_time": "2021-09-15T19:38:19.579Z"
   },
   {
    "duration": 2624,
    "start_time": "2021-09-15T19:38:19.879Z"
   },
   {
    "duration": 32,
    "start_time": "2021-09-15T19:38:22.505Z"
   },
   {
    "duration": 138,
    "start_time": "2021-09-15T19:38:22.556Z"
   },
   {
    "duration": 457,
    "start_time": "2021-09-15T19:38:22.697Z"
   },
   {
    "duration": 54,
    "start_time": "2021-09-15T19:39:04.444Z"
   },
   {
    "duration": 323,
    "start_time": "2021-09-15T19:39:07.449Z"
   },
   {
    "duration": 50,
    "start_time": "2021-09-15T19:39:18.506Z"
   },
   {
    "duration": 339,
    "start_time": "2021-09-15T19:39:21.467Z"
   },
   {
    "duration": 305,
    "start_time": "2021-09-15T19:39:53.169Z"
   },
   {
    "duration": 345,
    "start_time": "2021-09-15T19:40:06.185Z"
   },
   {
    "duration": 49,
    "start_time": "2021-09-15T19:40:17.798Z"
   },
   {
    "duration": 54,
    "start_time": "2021-09-15T19:40:24.350Z"
   },
   {
    "duration": 330,
    "start_time": "2021-09-15T19:40:29.183Z"
   },
   {
    "duration": 53,
    "start_time": "2021-09-15T19:47:12.729Z"
   },
   {
    "duration": 48,
    "start_time": "2021-09-15T19:47:23.169Z"
   },
   {
    "duration": 48,
    "start_time": "2021-09-15T19:47:36.952Z"
   },
   {
    "duration": 36,
    "start_time": "2021-09-15T19:47:44.812Z"
   },
   {
    "duration": 37,
    "start_time": "2021-09-15T19:47:47.395Z"
   },
   {
    "duration": 55,
    "start_time": "2021-09-15T19:47:53.296Z"
   },
   {
    "duration": 328,
    "start_time": "2021-09-15T19:47:57.472Z"
   },
   {
    "duration": 53,
    "start_time": "2021-09-15T19:53:11.737Z"
   },
   {
    "duration": 306,
    "start_time": "2021-09-15T19:54:45.471Z"
   },
   {
    "duration": 333,
    "start_time": "2021-09-15T19:55:26.286Z"
   },
   {
    "duration": 30,
    "start_time": "2021-09-15T19:55:34.825Z"
   },
   {
    "duration": 37,
    "start_time": "2021-09-15T19:56:07.561Z"
   },
   {
    "duration": 32,
    "start_time": "2021-09-15T19:56:11.594Z"
   },
   {
    "duration": 54,
    "start_time": "2021-09-15T19:56:14.137Z"
   },
   {
    "duration": 320,
    "start_time": "2021-09-15T19:56:40.326Z"
   },
   {
    "duration": 442,
    "start_time": "2021-09-15T19:56:58.180Z"
   },
   {
    "duration": 1874,
    "start_time": "2021-09-15T19:57:23.746Z"
   },
   {
    "duration": 508,
    "start_time": "2021-09-15T19:57:25.623Z"
   },
   {
    "duration": 87,
    "start_time": "2021-09-15T19:57:26.134Z"
   },
   {
    "duration": 4,
    "start_time": "2021-09-15T19:57:26.224Z"
   },
   {
    "duration": 136,
    "start_time": "2021-09-15T19:57:26.231Z"
   },
   {
    "duration": 17,
    "start_time": "2021-09-15T19:57:26.370Z"
   },
   {
    "duration": 209,
    "start_time": "2021-09-15T19:57:26.391Z"
   },
   {
    "duration": 151,
    "start_time": "2021-09-15T19:57:26.605Z"
   },
   {
    "duration": 27,
    "start_time": "2021-09-15T19:57:26.759Z"
   },
   {
    "duration": 310,
    "start_time": "2021-09-15T19:57:26.789Z"
   },
   {
    "duration": 2587,
    "start_time": "2021-09-15T19:57:27.102Z"
   },
   {
    "duration": 30,
    "start_time": "2021-09-15T19:57:29.691Z"
   },
   {
    "duration": 152,
    "start_time": "2021-09-15T19:57:29.723Z"
   },
   {
    "duration": 6,
    "start_time": "2021-09-15T19:57:29.877Z"
   },
   {
    "duration": 583,
    "start_time": "2021-09-15T19:57:29.885Z"
   },
   {
    "duration": 365,
    "start_time": "2021-09-15T19:57:44.434Z"
   },
   {
    "duration": 1451,
    "start_time": "2021-09-15T19:57:56.171Z"
   },
   {
    "duration": 526,
    "start_time": "2021-09-15T19:57:57.624Z"
   },
   {
    "duration": 101,
    "start_time": "2021-09-15T19:57:58.156Z"
   },
   {
    "duration": 3,
    "start_time": "2021-09-15T19:57:58.260Z"
   },
   {
    "duration": 128,
    "start_time": "2021-09-15T19:57:58.266Z"
   },
   {
    "duration": 17,
    "start_time": "2021-09-15T19:57:58.397Z"
   },
   {
    "duration": 214,
    "start_time": "2021-09-15T19:57:58.419Z"
   },
   {
    "duration": 160,
    "start_time": "2021-09-15T19:57:58.637Z"
   },
   {
    "duration": 62,
    "start_time": "2021-09-15T19:57:58.801Z"
   },
   {
    "duration": 294,
    "start_time": "2021-09-15T19:57:58.865Z"
   },
   {
    "duration": 2666,
    "start_time": "2021-09-15T19:57:59.161Z"
   },
   {
    "duration": 46,
    "start_time": "2021-09-15T19:58:01.830Z"
   },
   {
    "duration": 137,
    "start_time": "2021-09-15T19:58:01.878Z"
   },
   {
    "duration": 6,
    "start_time": "2021-09-15T19:58:02.017Z"
   },
   {
    "duration": 445,
    "start_time": "2021-09-15T19:58:02.025Z"
   },
   {
    "duration": 302,
    "start_time": "2021-09-15T19:58:51.339Z"
   },
   {
    "duration": 672,
    "start_time": "2021-09-15T19:58:57.341Z"
   },
   {
    "duration": 1357,
    "start_time": "2021-09-15T19:59:06.218Z"
   },
   {
    "duration": 31,
    "start_time": "2021-09-15T20:02:13.077Z"
   },
   {
    "duration": 53,
    "start_time": "2021-09-15T20:02:16.300Z"
   },
   {
    "duration": 325,
    "start_time": "2021-09-15T20:02:18.509Z"
   },
   {
    "duration": 460,
    "start_time": "2021-09-15T20:02:45.748Z"
   },
   {
    "duration": 87666,
    "start_time": "2021-09-15T20:04:16.224Z"
   },
   {
    "duration": 322,
    "start_time": "2021-09-15T20:06:02.796Z"
   },
   {
    "duration": 31,
    "start_time": "2021-09-15T20:06:13.334Z"
   },
   {
    "duration": 302,
    "start_time": "2021-09-15T20:06:42.537Z"
   },
   {
    "duration": 309,
    "start_time": "2021-09-15T20:06:54.379Z"
   },
   {
    "duration": 376,
    "start_time": "2021-09-15T20:08:57.421Z"
   },
   {
    "duration": 391,
    "start_time": "2021-09-15T20:09:10.171Z"
   },
   {
    "duration": 50,
    "start_time": "2021-09-15T20:10:07.654Z"
   },
   {
    "duration": 1311,
    "start_time": "2021-09-15T20:10:16.602Z"
   },
   {
    "duration": 1312,
    "start_time": "2021-09-15T20:10:56.143Z"
   },
   {
    "duration": 1386,
    "start_time": "2021-09-15T20:11:04.843Z"
   },
   {
    "duration": 756,
    "start_time": "2021-09-15T20:20:58.909Z"
   },
   {
    "duration": 323,
    "start_time": "2021-09-15T20:21:32.454Z"
   },
   {
    "duration": 569,
    "start_time": "2021-09-15T20:22:03.131Z"
   },
   {
    "duration": 355,
    "start_time": "2021-09-15T20:22:20.032Z"
   },
   {
    "duration": 671,
    "start_time": "2021-09-15T20:22:28.086Z"
   },
   {
    "duration": 539,
    "start_time": "2021-09-15T20:22:43.896Z"
   },
   {
    "duration": 736,
    "start_time": "2021-09-15T20:24:10.769Z"
   },
   {
    "duration": 678,
    "start_time": "2021-09-15T20:24:16.467Z"
   },
   {
    "duration": 679,
    "start_time": "2021-09-15T20:24:33.277Z"
   },
   {
    "duration": 1922,
    "start_time": "2021-09-15T20:25:12.538Z"
   },
   {
    "duration": 847,
    "start_time": "2021-09-15T20:25:22.271Z"
   },
   {
    "duration": 714,
    "start_time": "2021-09-15T20:26:38.658Z"
   },
   {
    "duration": 372,
    "start_time": "2021-09-15T20:27:05.156Z"
   },
   {
    "duration": 376,
    "start_time": "2021-09-15T20:27:19.786Z"
   },
   {
    "duration": 363,
    "start_time": "2021-09-15T20:28:01.925Z"
   },
   {
    "duration": 269,
    "start_time": "2021-09-15T20:28:36.542Z"
   },
   {
    "duration": 260,
    "start_time": "2021-09-15T20:28:47.671Z"
   },
   {
    "duration": 469,
    "start_time": "2021-09-15T20:28:58.989Z"
   },
   {
    "duration": 398,
    "start_time": "2021-09-15T20:29:25.502Z"
   },
   {
    "duration": 166,
    "start_time": "2021-09-15T20:30:00.146Z"
   },
   {
    "duration": 9992,
    "start_time": "2021-09-15T20:30:03.941Z"
   },
   {
    "duration": 721,
    "start_time": "2021-09-15T20:30:23.245Z"
   },
   {
    "duration": 751,
    "start_time": "2021-09-15T20:32:03.681Z"
   },
   {
    "duration": 375,
    "start_time": "2021-09-15T20:32:16.565Z"
   },
   {
    "duration": 382,
    "start_time": "2021-09-15T20:32:22.483Z"
   },
   {
    "duration": 377,
    "start_time": "2021-09-15T20:33:10.123Z"
   },
   {
    "duration": 269,
    "start_time": "2021-09-15T20:33:53.875Z"
   },
   {
    "duration": 288,
    "start_time": "2021-09-15T20:34:04.122Z"
   },
   {
    "duration": 325,
    "start_time": "2021-09-15T20:34:14.182Z"
   },
   {
    "duration": 523,
    "start_time": "2021-09-15T20:34:20.065Z"
   },
   {
    "duration": 287,
    "start_time": "2021-09-15T20:34:38.595Z"
   },
   {
    "duration": 288,
    "start_time": "2021-09-15T20:35:05.996Z"
   },
   {
    "duration": 294,
    "start_time": "2021-09-15T20:35:13.440Z"
   },
   {
    "duration": 298,
    "start_time": "2021-09-15T20:35:19.098Z"
   },
   {
    "duration": 272,
    "start_time": "2021-09-15T20:35:41.812Z"
   },
   {
    "duration": 294,
    "start_time": "2021-09-15T20:35:48.462Z"
   },
   {
    "duration": 311,
    "start_time": "2021-09-15T20:36:41.725Z"
   },
   {
    "duration": 8021,
    "start_time": "2021-09-15T20:37:47.210Z"
   },
   {
    "duration": 6150,
    "start_time": "2021-09-15T20:38:07.579Z"
   },
   {
    "duration": 8338,
    "start_time": "2021-09-15T20:38:34.524Z"
   },
   {
    "duration": 280,
    "start_time": "2021-09-15T20:39:04.953Z"
   },
   {
    "duration": 267,
    "start_time": "2021-09-15T20:39:57.320Z"
   },
   {
    "duration": 271,
    "start_time": "2021-09-15T20:40:25.156Z"
   },
   {
    "duration": 274,
    "start_time": "2021-09-15T20:40:53.038Z"
   },
   {
    "duration": 306,
    "start_time": "2021-09-15T20:41:03.395Z"
   },
   {
    "duration": 263,
    "start_time": "2021-09-15T20:41:51.254Z"
   },
   {
    "duration": 256,
    "start_time": "2021-09-15T20:41:56.744Z"
   },
   {
    "duration": 367,
    "start_time": "2021-09-15T20:43:58.782Z"
   },
   {
    "duration": 549,
    "start_time": "2021-09-15T20:44:16.532Z"
   },
   {
    "duration": 698,
    "start_time": "2021-09-15T20:44:36.354Z"
   },
   {
    "duration": 365,
    "start_time": "2021-09-15T20:44:47.896Z"
   },
   {
    "duration": 561,
    "start_time": "2021-09-15T20:45:27.499Z"
   },
   {
    "duration": 578,
    "start_time": "2021-09-15T20:45:31.968Z"
   },
   {
    "duration": 273,
    "start_time": "2021-09-15T20:45:36.030Z"
   },
   {
    "duration": 304,
    "start_time": "2021-09-15T20:45:48.965Z"
   },
   {
    "duration": 8,
    "start_time": "2021-09-15T20:45:56.728Z"
   },
   {
    "duration": 16,
    "start_time": "2021-09-15T20:46:00.439Z"
   },
   {
    "duration": 15,
    "start_time": "2021-09-15T20:46:16.973Z"
   },
   {
    "duration": 544,
    "start_time": "2021-09-15T20:47:19.353Z"
   },
   {
    "duration": 271,
    "start_time": "2021-09-15T20:47:27.660Z"
   },
   {
    "duration": 387,
    "start_time": "2021-09-15T20:47:46.183Z"
   },
   {
    "duration": 272,
    "start_time": "2021-09-15T20:47:51.848Z"
   },
   {
    "duration": 256,
    "start_time": "2021-09-15T20:48:16.374Z"
   },
   {
    "duration": 270,
    "start_time": "2021-09-15T20:48:41.707Z"
   },
   {
    "duration": 260,
    "start_time": "2021-09-15T20:48:52.469Z"
   },
   {
    "duration": 259,
    "start_time": "2021-09-15T20:49:10.745Z"
   },
   {
    "duration": 435,
    "start_time": "2021-09-15T20:49:43.137Z"
   },
   {
    "duration": 22,
    "start_time": "2021-09-15T20:50:06.570Z"
   },
   {
    "duration": 1369,
    "start_time": "2021-09-15T20:50:21.247Z"
   },
   {
    "duration": 332,
    "start_time": "2021-09-15T20:50:36.078Z"
   },
   {
    "duration": 387,
    "start_time": "2021-09-15T20:51:01.938Z"
   },
   {
    "duration": 338,
    "start_time": "2021-09-15T20:51:11.395Z"
   },
   {
    "duration": 795,
    "start_time": "2021-09-15T20:51:16.934Z"
   },
   {
    "duration": 360,
    "start_time": "2021-09-15T20:51:19.815Z"
   },
   {
    "duration": 382,
    "start_time": "2021-09-15T20:51:41.238Z"
   },
   {
    "duration": 361,
    "start_time": "2021-09-15T20:51:46.854Z"
   },
   {
    "duration": 1642,
    "start_time": "2021-09-15T20:53:19.804Z"
   },
   {
    "duration": 449,
    "start_time": "2021-09-15T20:53:37.311Z"
   },
   {
    "duration": 1478,
    "start_time": "2021-09-15T20:53:48.871Z"
   },
   {
    "duration": 510,
    "start_time": "2021-09-15T20:53:50.351Z"
   },
   {
    "duration": 112,
    "start_time": "2021-09-15T20:53:50.868Z"
   },
   {
    "duration": 3,
    "start_time": "2021-09-15T20:53:50.983Z"
   },
   {
    "duration": 141,
    "start_time": "2021-09-15T20:53:50.988Z"
   },
   {
    "duration": 24,
    "start_time": "2021-09-15T20:53:51.132Z"
   },
   {
    "duration": 196,
    "start_time": "2021-09-15T20:53:51.160Z"
   },
   {
    "duration": 185,
    "start_time": "2021-09-15T20:53:51.360Z"
   },
   {
    "duration": 29,
    "start_time": "2021-09-15T20:53:51.547Z"
   },
   {
    "duration": 305,
    "start_time": "2021-09-15T20:53:51.579Z"
   },
   {
    "duration": 2645,
    "start_time": "2021-09-15T20:53:51.886Z"
   },
   {
    "duration": 464,
    "start_time": "2021-09-15T20:53:54.533Z"
   },
   {
    "duration": 643,
    "start_time": "2021-09-15T20:53:54.999Z"
   },
   {
    "duration": 1425,
    "start_time": "2021-09-15T20:53:55.645Z"
   },
   {
    "duration": 386,
    "start_time": "2021-09-15T20:53:57.072Z"
   },
   {
    "duration": 369,
    "start_time": "2021-09-15T20:58:52.216Z"
   },
   {
    "duration": 41,
    "start_time": "2021-09-15T20:59:22.099Z"
   },
   {
    "duration": 656,
    "start_time": "2021-09-15T20:59:29.645Z"
   },
   {
    "duration": 375,
    "start_time": "2021-09-15T21:00:21.487Z"
   },
   {
    "duration": 411,
    "start_time": "2021-09-15T21:00:37.044Z"
   },
   {
    "duration": 43,
    "start_time": "2021-09-15T21:00:40.855Z"
   },
   {
    "duration": 1440,
    "start_time": "2021-09-15T21:00:44.206Z"
   },
   {
    "duration": 367,
    "start_time": "2021-09-15T21:00:55.759Z"
   },
   {
    "duration": 835,
    "start_time": "2021-09-15T21:07:22.019Z"
   },
   {
    "duration": 315,
    "start_time": "2021-09-15T21:07:35.170Z"
   },
   {
    "duration": 406,
    "start_time": "2021-09-15T21:09:08.971Z"
   },
   {
    "duration": 407,
    "start_time": "2021-09-15T21:10:16.361Z"
   },
   {
    "duration": 607,
    "start_time": "2021-09-15T21:10:47.253Z"
   },
   {
    "duration": 846,
    "start_time": "2021-09-15T21:10:57.315Z"
   },
   {
    "duration": 1091,
    "start_time": "2021-09-15T21:11:27.371Z"
   },
   {
    "duration": 1538,
    "start_time": "2021-09-16T19:57:15.926Z"
   },
   {
    "duration": 571,
    "start_time": "2021-09-16T19:57:17.467Z"
   },
   {
    "duration": 99,
    "start_time": "2021-09-16T19:57:18.041Z"
   },
   {
    "duration": 11,
    "start_time": "2021-09-16T19:57:18.143Z"
   },
   {
    "duration": 130,
    "start_time": "2021-09-16T19:57:18.157Z"
   },
   {
    "duration": 15,
    "start_time": "2021-09-16T19:57:18.289Z"
   },
   {
    "duration": 201,
    "start_time": "2021-09-16T19:57:18.306Z"
   },
   {
    "duration": 156,
    "start_time": "2021-09-16T19:57:18.510Z"
   },
   {
    "duration": 26,
    "start_time": "2021-09-16T19:57:18.669Z"
   },
   {
    "duration": 420,
    "start_time": "2021-09-16T19:57:18.697Z"
   },
   {
    "duration": 3150,
    "start_time": "2021-09-16T19:57:19.120Z"
   },
   {
    "duration": 487,
    "start_time": "2021-09-16T19:57:22.273Z"
   },
   {
    "duration": 630,
    "start_time": "2021-09-16T19:57:22.762Z"
   },
   {
    "duration": 1635,
    "start_time": "2021-09-16T19:57:23.395Z"
   },
   {
    "duration": 1237,
    "start_time": "2021-09-16T19:57:25.033Z"
   },
   {
    "duration": 411,
    "start_time": "2021-09-16T20:18:58.551Z"
   },
   {
    "duration": 16,
    "start_time": "2021-09-16T20:19:37.331Z"
   },
   {
    "duration": 18,
    "start_time": "2021-09-16T20:21:02.150Z"
   },
   {
    "duration": 17,
    "start_time": "2021-09-16T20:21:13.395Z"
   },
   {
    "duration": 16,
    "start_time": "2021-09-16T20:21:15.822Z"
   },
   {
    "duration": 21,
    "start_time": "2021-09-16T20:26:24.149Z"
   },
   {
    "duration": 34,
    "start_time": "2021-09-16T20:27:12.699Z"
   },
   {
    "duration": 33,
    "start_time": "2021-09-16T20:27:21.964Z"
   },
   {
    "duration": 32,
    "start_time": "2021-09-16T20:27:46.431Z"
   },
   {
    "duration": 28,
    "start_time": "2021-09-16T20:29:02.999Z"
   },
   {
    "duration": 33,
    "start_time": "2021-09-16T20:29:10.331Z"
   },
   {
    "duration": 44,
    "start_time": "2021-09-16T20:53:34.585Z"
   },
   {
    "duration": 306,
    "start_time": "2021-09-16T20:57:01.141Z"
   },
   {
    "duration": 302,
    "start_time": "2021-09-16T20:57:12.258Z"
   },
   {
    "duration": 9111,
    "start_time": "2021-09-16T20:59:24.138Z"
   },
   {
    "duration": 23,
    "start_time": "2021-09-16T21:00:08.836Z"
   },
   {
    "duration": 93,
    "start_time": "2021-09-16T21:00:22.214Z"
   },
   {
    "duration": 439,
    "start_time": "2021-09-16T21:00:27.190Z"
   },
   {
    "duration": 19,
    "start_time": "2021-09-16T21:01:00.690Z"
   },
   {
    "duration": 20,
    "start_time": "2021-09-16T21:01:14.319Z"
   },
   {
    "duration": 19,
    "start_time": "2021-09-16T21:02:32.627Z"
   },
   {
    "duration": 295,
    "start_time": "2021-09-16T21:02:56.884Z"
   },
   {
    "duration": 293,
    "start_time": "2021-09-16T21:02:59.929Z"
   },
   {
    "duration": 18,
    "start_time": "2021-09-16T21:03:11.760Z"
   },
   {
    "duration": 19,
    "start_time": "2021-09-16T21:04:01.474Z"
   },
   {
    "duration": 19,
    "start_time": "2021-09-16T21:04:14.740Z"
   },
   {
    "duration": 19,
    "start_time": "2021-09-16T21:05:04.958Z"
   },
   {
    "duration": 19,
    "start_time": "2021-09-16T21:06:41.107Z"
   },
   {
    "duration": 1159,
    "start_time": "2021-09-17T10:17:12.071Z"
   },
   {
    "duration": 1261,
    "start_time": "2021-09-17T10:17:13.232Z"
   },
   {
    "duration": 60,
    "start_time": "2021-09-17T10:17:14.494Z"
   },
   {
    "duration": 2,
    "start_time": "2021-09-17T10:17:14.556Z"
   },
   {
    "duration": 81,
    "start_time": "2021-09-17T10:17:14.560Z"
   },
   {
    "duration": 9,
    "start_time": "2021-09-17T10:17:14.642Z"
   },
   {
    "duration": 135,
    "start_time": "2021-09-17T10:17:14.653Z"
   },
   {
    "duration": 82,
    "start_time": "2021-09-17T10:17:14.790Z"
   },
   {
    "duration": 26,
    "start_time": "2021-09-17T10:17:14.873Z"
   },
   {
    "duration": 164,
    "start_time": "2021-09-17T10:17:14.901Z"
   },
   {
    "duration": 1860,
    "start_time": "2021-09-17T10:17:15.067Z"
   },
   {
    "duration": 271,
    "start_time": "2021-09-17T10:17:16.929Z"
   },
   {
    "duration": 280,
    "start_time": "2021-09-17T10:17:17.202Z"
   },
   {
    "duration": 989,
    "start_time": "2021-09-17T10:17:17.484Z"
   },
   {
    "duration": 694,
    "start_time": "2021-09-17T10:17:18.474Z"
   },
   {
    "duration": 21,
    "start_time": "2021-09-17T10:17:19.170Z"
   },
   {
    "duration": 11,
    "start_time": "2021-09-17T10:17:19.200Z"
   },
   {
    "duration": 1045,
    "start_time": "2021-09-17T10:18:28.423Z"
   },
   {
    "duration": 396,
    "start_time": "2021-09-17T10:18:29.470Z"
   },
   {
    "duration": 61,
    "start_time": "2021-09-17T10:18:29.868Z"
   },
   {
    "duration": 2,
    "start_time": "2021-09-17T10:18:29.931Z"
   },
   {
    "duration": 84,
    "start_time": "2021-09-17T10:18:29.935Z"
   },
   {
    "duration": 10,
    "start_time": "2021-09-17T10:18:30.020Z"
   },
   {
    "duration": 129,
    "start_time": "2021-09-17T10:18:30.032Z"
   },
   {
    "duration": 95,
    "start_time": "2021-09-17T10:18:30.163Z"
   },
   {
    "duration": 15,
    "start_time": "2021-09-17T10:18:30.260Z"
   },
   {
    "duration": 177,
    "start_time": "2021-09-17T10:18:30.277Z"
   },
   {
    "duration": 1885,
    "start_time": "2021-09-17T10:18:30.456Z"
   },
   {
    "duration": 309,
    "start_time": "2021-09-17T10:18:32.343Z"
   },
   {
    "duration": 281,
    "start_time": "2021-09-17T10:18:32.653Z"
   },
   {
    "duration": 1004,
    "start_time": "2021-09-17T10:18:32.937Z"
   },
   {
    "duration": 686,
    "start_time": "2021-09-17T10:18:33.942Z"
   },
   {
    "duration": 21,
    "start_time": "2021-09-17T10:18:34.630Z"
   },
   {
    "duration": 12,
    "start_time": "2021-09-17T10:18:34.653Z"
   },
   {
    "duration": 1070,
    "start_time": "2021-09-17T11:40:58.971Z"
   },
   {
    "duration": 2073,
    "start_time": "2021-09-17T11:41:00.043Z"
   },
   {
    "duration": 63,
    "start_time": "2021-09-17T11:41:02.118Z"
   },
   {
    "duration": 669,
    "start_time": "2021-09-17T11:41:02.183Z"
   },
   {
    "duration": 1179,
    "start_time": "2021-09-17T11:41:02.853Z"
   },
   {
    "duration": 1505,
    "start_time": "2021-09-17T11:41:04.034Z"
   },
   {
    "duration": 779,
    "start_time": "2021-09-17T11:41:05.540Z"
   },
   {
    "duration": 2414,
    "start_time": "2021-09-17T11:41:06.321Z"
   },
   {
    "duration": 2834,
    "start_time": "2021-09-17T11:41:08.737Z"
   },
   {
    "duration": 191,
    "start_time": "2021-09-17T11:41:11.574Z"
   },
   {
    "duration": 1854,
    "start_time": "2021-09-17T11:41:11.766Z"
   },
   {
    "duration": 281,
    "start_time": "2021-09-17T11:41:13.622Z"
   },
   {
    "duration": 278,
    "start_time": "2021-09-17T11:41:13.905Z"
   },
   {
    "duration": 984,
    "start_time": "2021-09-17T11:41:14.186Z"
   },
   {
    "duration": 493,
    "start_time": "2021-09-17T11:41:15.172Z"
   },
   {
    "duration": -23,
    "start_time": "2021-09-17T11:41:15.690Z"
   },
   {
    "duration": -26,
    "start_time": "2021-09-17T11:41:15.694Z"
   },
   {
    "duration": 1109,
    "start_time": "2021-09-17T11:41:53.997Z"
   },
   {
    "duration": 397,
    "start_time": "2021-09-17T11:41:55.109Z"
   },
   {
    "duration": 60,
    "start_time": "2021-09-17T11:41:55.510Z"
   },
   {
    "duration": 2,
    "start_time": "2021-09-17T11:41:55.571Z"
   },
   {
    "duration": 100,
    "start_time": "2021-09-17T11:41:55.575Z"
   },
   {
    "duration": 9,
    "start_time": "2021-09-17T11:41:55.677Z"
   },
   {
    "duration": 131,
    "start_time": "2021-09-17T11:41:55.688Z"
   },
   {
    "duration": 99,
    "start_time": "2021-09-17T11:41:55.821Z"
   },
   {
    "duration": 15,
    "start_time": "2021-09-17T11:41:55.922Z"
   },
   {
    "duration": 175,
    "start_time": "2021-09-17T11:41:55.938Z"
   },
   {
    "duration": 1908,
    "start_time": "2021-09-17T11:41:56.115Z"
   },
   {
    "duration": 277,
    "start_time": "2021-09-17T11:41:58.024Z"
   },
   {
    "duration": 264,
    "start_time": "2021-09-17T11:41:58.302Z"
   },
   {
    "duration": 983,
    "start_time": "2021-09-17T11:41:58.567Z"
   },
   {
    "duration": 488,
    "start_time": "2021-09-17T11:41:59.552Z"
   },
   {
    "duration": -155,
    "start_time": "2021-09-17T11:42:00.197Z"
   },
   {
    "duration": -157,
    "start_time": "2021-09-17T11:42:00.200Z"
   },
   {
    "duration": 1520,
    "start_time": "2021-09-17T15:37:55.472Z"
   },
   {
    "duration": 686,
    "start_time": "2021-09-17T15:37:56.995Z"
   },
   {
    "duration": 187,
    "start_time": "2021-09-17T15:37:57.686Z"
   },
   {
    "duration": 4,
    "start_time": "2021-09-17T15:37:57.876Z"
   },
   {
    "duration": 215,
    "start_time": "2021-09-17T15:37:57.883Z"
   },
   {
    "duration": 15,
    "start_time": "2021-09-17T15:37:58.101Z"
   },
   {
    "duration": 213,
    "start_time": "2021-09-17T15:37:58.118Z"
   },
   {
    "duration": 159,
    "start_time": "2021-09-17T15:37:58.333Z"
   },
   {
    "duration": 25,
    "start_time": "2021-09-17T15:37:58.497Z"
   },
   {
    "duration": 335,
    "start_time": "2021-09-17T15:37:58.526Z"
   },
   {
    "duration": 2833,
    "start_time": "2021-09-17T15:37:58.863Z"
   },
   {
    "duration": 479,
    "start_time": "2021-09-17T15:38:01.699Z"
   },
   {
    "duration": 797,
    "start_time": "2021-09-17T15:38:02.181Z"
   },
   {
    "duration": 1561,
    "start_time": "2021-09-17T15:38:02.983Z"
   },
   {
    "duration": 1259,
    "start_time": "2021-09-17T15:38:04.547Z"
   },
   {
    "duration": 53,
    "start_time": "2021-09-17T15:38:05.809Z"
   },
   {
    "duration": 22,
    "start_time": "2021-09-17T15:38:05.867Z"
   },
   {
    "duration": 367,
    "start_time": "2021-09-17T19:51:59.700Z"
   },
   {
    "duration": 442,
    "start_time": "2021-09-17T19:52:04.406Z"
   },
   {
    "duration": 1488,
    "start_time": "2021-09-17T19:52:09.413Z"
   },
   {
    "duration": 554,
    "start_time": "2021-09-17T19:52:10.904Z"
   },
   {
    "duration": 91,
    "start_time": "2021-09-17T19:52:11.461Z"
   },
   {
    "duration": 3,
    "start_time": "2021-09-17T19:52:11.554Z"
   },
   {
    "duration": 116,
    "start_time": "2021-09-17T19:52:11.560Z"
   },
   {
    "duration": 14,
    "start_time": "2021-09-17T19:52:11.678Z"
   },
   {
    "duration": 188,
    "start_time": "2021-09-17T19:52:11.694Z"
   },
   {
    "duration": 137,
    "start_time": "2021-09-17T19:52:11.886Z"
   },
   {
    "duration": 24,
    "start_time": "2021-09-17T19:52:12.026Z"
   },
   {
    "duration": 315,
    "start_time": "2021-09-17T19:52:12.053Z"
   },
   {
    "duration": 25,
    "start_time": "2021-09-17T19:52:12.371Z"
   },
   {
    "duration": 2627,
    "start_time": "2021-09-17T19:52:12.398Z"
   },
   {
    "duration": 449,
    "start_time": "2021-09-17T19:52:15.027Z"
   },
   {
    "duration": 891,
    "start_time": "2021-09-17T19:52:15.478Z"
   },
   {
    "duration": 1407,
    "start_time": "2021-09-17T19:52:16.372Z"
   },
   {
    "duration": 1179,
    "start_time": "2021-09-17T19:52:17.781Z"
   },
   {
    "duration": 33,
    "start_time": "2021-09-17T19:52:18.962Z"
   },
   {
    "duration": 19,
    "start_time": "2021-09-17T19:52:19.017Z"
   },
   {
    "duration": 303,
    "start_time": "2021-09-19T13:20:53.453Z"
   },
   {
    "duration": 1143,
    "start_time": "2021-09-19T13:21:07.758Z"
   },
   {
    "duration": 390,
    "start_time": "2021-09-19T13:21:08.903Z"
   },
   {
    "duration": 65,
    "start_time": "2021-09-19T13:21:09.295Z"
   },
   {
    "duration": 2,
    "start_time": "2021-09-19T13:21:09.362Z"
   },
   {
    "duration": 76,
    "start_time": "2021-09-19T13:21:09.366Z"
   },
   {
    "duration": 10,
    "start_time": "2021-09-19T13:21:09.443Z"
   },
   {
    "duration": 114,
    "start_time": "2021-09-19T13:21:09.455Z"
   },
   {
    "duration": 1140,
    "start_time": "2021-09-19T13:21:53.863Z"
   },
   {
    "duration": 391,
    "start_time": "2021-09-19T13:21:55.005Z"
   },
   {
    "duration": 62,
    "start_time": "2021-09-19T13:21:55.398Z"
   },
   {
    "duration": 2,
    "start_time": "2021-09-19T13:21:55.462Z"
   },
   {
    "duration": 77,
    "start_time": "2021-09-19T13:21:55.466Z"
   },
   {
    "duration": 10,
    "start_time": "2021-09-19T13:21:55.545Z"
   },
   {
    "duration": 106,
    "start_time": "2021-09-19T13:21:55.556Z"
   },
   {
    "duration": 73,
    "start_time": "2021-09-19T13:21:55.665Z"
   },
   {
    "duration": 41,
    "start_time": "2021-09-19T13:21:55.740Z"
   },
   {
    "duration": 16,
    "start_time": "2021-09-19T13:21:55.782Z"
   },
   {
    "duration": 178,
    "start_time": "2021-09-19T13:21:55.800Z"
   },
   {
    "duration": 1803,
    "start_time": "2021-09-19T13:21:55.980Z"
   },
   {
    "duration": 278,
    "start_time": "2021-09-19T13:21:57.785Z"
   },
   {
    "duration": 526,
    "start_time": "2021-09-19T13:21:58.065Z"
   },
   {
    "duration": 1012,
    "start_time": "2021-09-19T13:21:58.593Z"
   },
   {
    "duration": 711,
    "start_time": "2021-09-19T13:21:59.607Z"
   },
   {
    "duration": 23,
    "start_time": "2021-09-19T13:22:00.319Z"
   },
   {
    "duration": 36,
    "start_time": "2021-09-19T13:22:00.343Z"
   },
   {
    "duration": 80,
    "start_time": "2021-09-19T13:24:47.374Z"
   },
   {
    "duration": 99,
    "start_time": "2021-09-19T13:24:57.298Z"
   },
   {
    "duration": 78,
    "start_time": "2021-09-19T13:28:04.850Z"
   },
   {
    "duration": 77,
    "start_time": "2021-09-19T13:30:12.216Z"
   },
   {
    "duration": 1258,
    "start_time": "2021-09-19T13:30:21.275Z"
   },
   {
    "duration": 80,
    "start_time": "2021-09-19T13:31:11.131Z"
   },
   {
    "duration": 79,
    "start_time": "2021-09-19T13:31:37.236Z"
   },
   {
    "duration": 75,
    "start_time": "2021-09-19T13:31:54.542Z"
   },
   {
    "duration": 75,
    "start_time": "2021-09-19T13:34:22.546Z"
   },
   {
    "duration": 76,
    "start_time": "2021-09-19T14:04:22.638Z"
   },
   {
    "duration": 7997,
    "start_time": "2021-09-19T14:04:29.245Z"
   },
   {
    "duration": 8878,
    "start_time": "2021-09-19T14:06:05.604Z"
   },
   {
    "duration": 6683,
    "start_time": "2021-09-19T14:06:49.596Z"
   },
   {
    "duration": 1149,
    "start_time": "2021-09-19T14:07:02.757Z"
   },
   {
    "duration": 430,
    "start_time": "2021-09-19T14:07:03.908Z"
   },
   {
    "duration": 63,
    "start_time": "2021-09-19T14:07:04.342Z"
   },
   {
    "duration": 3,
    "start_time": "2021-09-19T14:07:04.406Z"
   },
   {
    "duration": 20,
    "start_time": "2021-09-19T14:07:04.410Z"
   },
   {
    "duration": 82,
    "start_time": "2021-09-19T14:07:04.432Z"
   },
   {
    "duration": 10,
    "start_time": "2021-09-19T14:07:04.516Z"
   },
   {
    "duration": 122,
    "start_time": "2021-09-19T14:07:04.528Z"
   },
   {
    "duration": 76,
    "start_time": "2021-09-19T14:07:04.652Z"
   },
   {
    "duration": 24,
    "start_time": "2021-09-19T14:07:04.730Z"
   },
   {
    "duration": 27,
    "start_time": "2021-09-19T14:07:04.756Z"
   },
   {
    "duration": 8440,
    "start_time": "2021-09-19T14:07:04.785Z"
   },
   {
    "duration": 15,
    "start_time": "2021-09-19T14:07:13.212Z"
   },
   {
    "duration": 13,
    "start_time": "2021-09-19T14:07:13.215Z"
   },
   {
    "duration": 10,
    "start_time": "2021-09-19T14:07:13.219Z"
   },
   {
    "duration": 9,
    "start_time": "2021-09-19T14:07:13.221Z"
   },
   {
    "duration": 8,
    "start_time": "2021-09-19T14:07:13.224Z"
   },
   {
    "duration": 6,
    "start_time": "2021-09-19T14:07:13.227Z"
   },
   {
    "duration": 4,
    "start_time": "2021-09-19T14:07:13.230Z"
   },
   {
    "duration": 7481,
    "start_time": "2021-09-19T14:08:00.200Z"
   },
   {
    "duration": 1222,
    "start_time": "2021-09-19T14:08:16.966Z"
   },
   {
    "duration": 412,
    "start_time": "2021-09-19T14:08:18.190Z"
   },
   {
    "duration": 64,
    "start_time": "2021-09-19T14:08:18.604Z"
   },
   {
    "duration": 3,
    "start_time": "2021-09-19T14:08:18.669Z"
   },
   {
    "duration": 20,
    "start_time": "2021-09-19T14:08:18.673Z"
   },
   {
    "duration": 70,
    "start_time": "2021-09-19T14:08:18.694Z"
   },
   {
    "duration": 18,
    "start_time": "2021-09-19T14:08:18.766Z"
   },
   {
    "duration": 115,
    "start_time": "2021-09-19T14:08:18.787Z"
   },
   {
    "duration": 79,
    "start_time": "2021-09-19T14:08:18.905Z"
   },
   {
    "duration": 25,
    "start_time": "2021-09-19T14:08:18.986Z"
   },
   {
    "duration": 15,
    "start_time": "2021-09-19T14:08:19.012Z"
   },
   {
    "duration": 6503,
    "start_time": "2021-09-19T14:08:19.029Z"
   },
   {
    "duration": 1,
    "start_time": "2021-09-19T14:08:25.533Z"
   },
   {
    "duration": -4,
    "start_time": "2021-09-19T14:08:25.539Z"
   },
   {
    "duration": -8,
    "start_time": "2021-09-19T14:08:25.544Z"
   },
   {
    "duration": -11,
    "start_time": "2021-09-19T14:08:25.548Z"
   },
   {
    "duration": -13,
    "start_time": "2021-09-19T14:08:25.551Z"
   },
   {
    "duration": -16,
    "start_time": "2021-09-19T14:08:25.555Z"
   },
   {
    "duration": -17,
    "start_time": "2021-09-19T14:08:25.558Z"
   },
   {
    "duration": 7653,
    "start_time": "2021-09-19T14:14:55.275Z"
   },
   {
    "duration": 1099,
    "start_time": "2021-09-19T14:16:19.415Z"
   },
   {
    "duration": 411,
    "start_time": "2021-09-19T14:16:20.516Z"
   },
   {
    "duration": 65,
    "start_time": "2021-09-19T14:16:20.933Z"
   },
   {
    "duration": 3,
    "start_time": "2021-09-19T14:16:21.000Z"
   },
   {
    "duration": 26,
    "start_time": "2021-09-19T14:16:21.005Z"
   },
   {
    "duration": 76,
    "start_time": "2021-09-19T14:16:21.033Z"
   },
   {
    "duration": 12,
    "start_time": "2021-09-19T14:16:21.112Z"
   },
   {
    "duration": 127,
    "start_time": "2021-09-19T14:16:21.126Z"
   },
   {
    "duration": 74,
    "start_time": "2021-09-19T14:16:21.255Z"
   },
   {
    "duration": 24,
    "start_time": "2021-09-19T14:16:21.331Z"
   },
   {
    "duration": 28,
    "start_time": "2021-09-19T14:16:21.357Z"
   },
   {
    "duration": 515,
    "start_time": "2021-09-19T14:16:21.387Z"
   },
   {
    "duration": -5,
    "start_time": "2021-09-19T14:16:21.909Z"
   },
   {
    "duration": -13,
    "start_time": "2021-09-19T14:16:21.918Z"
   },
   {
    "duration": -20,
    "start_time": "2021-09-19T14:16:21.926Z"
   },
   {
    "duration": -25,
    "start_time": "2021-09-19T14:16:21.932Z"
   },
   {
    "duration": -30,
    "start_time": "2021-09-19T14:16:21.938Z"
   },
   {
    "duration": -34,
    "start_time": "2021-09-19T14:16:21.943Z"
   },
   {
    "duration": -38,
    "start_time": "2021-09-19T14:16:21.948Z"
   },
   {
    "duration": 1360,
    "start_time": "2021-09-19T14:22:26.853Z"
   },
   {
    "duration": 399,
    "start_time": "2021-09-19T14:22:28.215Z"
   },
   {
    "duration": 62,
    "start_time": "2021-09-19T14:22:28.616Z"
   },
   {
    "duration": 2,
    "start_time": "2021-09-19T14:22:28.680Z"
   },
   {
    "duration": 14,
    "start_time": "2021-09-19T14:22:28.684Z"
   },
   {
    "duration": 86,
    "start_time": "2021-09-19T14:22:28.700Z"
   },
   {
    "duration": 10,
    "start_time": "2021-09-19T14:22:28.788Z"
   },
   {
    "duration": 115,
    "start_time": "2021-09-19T14:22:28.801Z"
   },
   {
    "duration": 73,
    "start_time": "2021-09-19T14:22:28.918Z"
   },
   {
    "duration": 25,
    "start_time": "2021-09-19T14:22:28.992Z"
   },
   {
    "duration": 15,
    "start_time": "2021-09-19T14:22:29.019Z"
   },
   {
    "duration": 186,
    "start_time": "2021-09-19T14:22:29.036Z"
   },
   {
    "duration": 1932,
    "start_time": "2021-09-19T14:22:29.225Z"
   },
   {
    "duration": 296,
    "start_time": "2021-09-19T14:22:31.159Z"
   },
   {
    "duration": 795,
    "start_time": "2021-09-19T14:22:31.456Z"
   },
   {
    "duration": 739,
    "start_time": "2021-09-19T14:22:32.253Z"
   },
   {
    "duration": 34,
    "start_time": "2021-09-19T14:22:32.960Z"
   },
   {
    "duration": 30,
    "start_time": "2021-09-19T14:22:32.965Z"
   },
   {
    "duration": 28,
    "start_time": "2021-09-19T14:22:32.968Z"
   },
   {
    "duration": 1105,
    "start_time": "2021-09-19T14:22:56.010Z"
   },
   {
    "duration": 412,
    "start_time": "2021-09-19T14:22:57.117Z"
   },
   {
    "duration": 62,
    "start_time": "2021-09-19T14:22:57.531Z"
   },
   {
    "duration": 2,
    "start_time": "2021-09-19T14:22:57.595Z"
   },
   {
    "duration": 17,
    "start_time": "2021-09-19T14:22:57.598Z"
   },
   {
    "duration": 80,
    "start_time": "2021-09-19T14:22:57.616Z"
   },
   {
    "duration": 9,
    "start_time": "2021-09-19T14:22:57.698Z"
   },
   {
    "duration": 130,
    "start_time": "2021-09-19T14:22:57.710Z"
   },
   {
    "duration": 76,
    "start_time": "2021-09-19T14:22:57.842Z"
   },
   {
    "duration": 27,
    "start_time": "2021-09-19T14:22:57.920Z"
   },
   {
    "duration": 33,
    "start_time": "2021-09-19T14:22:57.949Z"
   },
   {
    "duration": 182,
    "start_time": "2021-09-19T14:22:57.984Z"
   },
   {
    "duration": 1824,
    "start_time": "2021-09-19T14:22:58.169Z"
   },
   {
    "duration": 282,
    "start_time": "2021-09-19T14:22:59.995Z"
   },
   {
    "duration": 522,
    "start_time": "2021-09-19T14:23:00.279Z"
   },
   {
    "duration": 1019,
    "start_time": "2021-09-19T14:23:00.804Z"
   },
   {
    "duration": 721,
    "start_time": "2021-09-19T14:23:01.825Z"
   },
   {
    "duration": 36,
    "start_time": "2021-09-19T14:23:02.548Z"
   },
   {
    "duration": 13,
    "start_time": "2021-09-19T14:23:02.586Z"
   },
   {
    "duration": 50,
    "start_time": "2021-09-19T14:47:09.279Z"
   },
   {
    "duration": 44,
    "start_time": "2021-09-19T14:47:25.404Z"
   },
   {
    "duration": 56,
    "start_time": "2021-09-19T14:47:35.434Z"
   },
   {
    "duration": 384,
    "start_time": "2021-09-19T14:49:06.444Z"
   },
   {
    "duration": 84,
    "start_time": "2021-09-19T14:49:25.619Z"
   },
   {
    "duration": 1120,
    "start_time": "2021-09-19T14:49:42.689Z"
   },
   {
    "duration": 398,
    "start_time": "2021-09-19T14:49:43.810Z"
   },
   {
    "duration": 62,
    "start_time": "2021-09-19T14:49:44.210Z"
   },
   {
    "duration": 2,
    "start_time": "2021-09-19T14:49:44.274Z"
   },
   {
    "duration": 18,
    "start_time": "2021-09-19T14:49:44.277Z"
   },
   {
    "duration": 71,
    "start_time": "2021-09-19T14:49:44.296Z"
   },
   {
    "duration": 15,
    "start_time": "2021-09-19T14:49:44.368Z"
   },
   {
    "duration": 122,
    "start_time": "2021-09-19T14:49:44.386Z"
   },
   {
    "duration": 72,
    "start_time": "2021-09-19T14:49:44.510Z"
   },
   {
    "duration": 99,
    "start_time": "2021-09-19T14:49:44.584Z"
   },
   {
    "duration": 7396,
    "start_time": "2021-09-19T14:49:44.685Z"
   },
   {
    "duration": 46,
    "start_time": "2021-09-19T14:49:52.037Z"
   },
   {
    "duration": 43,
    "start_time": "2021-09-19T14:49:52.041Z"
   },
   {
    "duration": 40,
    "start_time": "2021-09-19T14:49:52.045Z"
   },
   {
    "duration": 38,
    "start_time": "2021-09-19T14:49:52.048Z"
   },
   {
    "duration": 36,
    "start_time": "2021-09-19T14:49:52.051Z"
   },
   {
    "duration": 34,
    "start_time": "2021-09-19T14:49:52.054Z"
   },
   {
    "duration": 32,
    "start_time": "2021-09-19T14:49:52.057Z"
   },
   {
    "duration": 30,
    "start_time": "2021-09-19T14:49:52.060Z"
   },
   {
    "duration": 26,
    "start_time": "2021-09-19T14:50:45.342Z"
   },
   {
    "duration": 86,
    "start_time": "2021-09-19T14:52:06.486Z"
   },
   {
    "duration": 87,
    "start_time": "2021-09-19T14:52:30.197Z"
   },
   {
    "duration": 23,
    "start_time": "2021-09-19T14:52:44.496Z"
   },
   {
    "duration": 15,
    "start_time": "2021-09-19T14:56:42.704Z"
   },
   {
    "duration": 89,
    "start_time": "2021-09-19T14:58:57.366Z"
   },
   {
    "duration": 89,
    "start_time": "2021-09-19T14:59:12.711Z"
   },
   {
    "duration": 6840,
    "start_time": "2021-09-19T14:59:22.759Z"
   },
   {
    "duration": 84,
    "start_time": "2021-09-19T14:59:48.307Z"
   },
   {
    "duration": 433,
    "start_time": "2021-09-19T15:05:23.579Z"
   },
   {
    "duration": 279,
    "start_time": "2021-09-19T15:11:14.826Z"
   },
   {
    "duration": 18,
    "start_time": "2021-09-19T15:11:26.021Z"
   },
   {
    "duration": 12,
    "start_time": "2021-09-19T15:12:16.790Z"
   },
   {
    "duration": 17,
    "start_time": "2021-09-19T15:12:27.808Z"
   },
   {
    "duration": 285,
    "start_time": "2021-09-19T15:13:49.548Z"
   },
   {
    "duration": 22,
    "start_time": "2021-09-19T15:14:08.395Z"
   },
   {
    "duration": 284,
    "start_time": "2021-09-19T15:15:50.897Z"
   },
   {
    "duration": 266,
    "start_time": "2021-09-19T15:15:56.239Z"
   },
   {
    "duration": 32,
    "start_time": "2021-09-19T15:16:09.606Z"
   },
   {
    "duration": 6895,
    "start_time": "2021-09-19T15:16:18.513Z"
   },
   {
    "duration": 22,
    "start_time": "2021-09-19T15:17:03.324Z"
   },
   {
    "duration": 16,
    "start_time": "2021-09-19T15:17:09.700Z"
   },
   {
    "duration": 23,
    "start_time": "2021-09-19T15:17:48.554Z"
   },
   {
    "duration": 21,
    "start_time": "2021-09-19T15:17:56.611Z"
   },
   {
    "duration": 23,
    "start_time": "2021-09-19T15:18:12.224Z"
   },
   {
    "duration": 30,
    "start_time": "2021-09-19T15:18:26.426Z"
   },
   {
    "duration": 16,
    "start_time": "2021-09-19T15:18:52.402Z"
   },
   {
    "duration": 15,
    "start_time": "2021-09-19T16:59:18.160Z"
   },
   {
    "duration": 15,
    "start_time": "2021-09-19T16:59:31.197Z"
   },
   {
    "duration": 17,
    "start_time": "2021-09-19T17:00:19.660Z"
   },
   {
    "duration": 1235,
    "start_time": "2021-09-19T17:00:30.894Z"
   },
   {
    "duration": 494,
    "start_time": "2021-09-19T17:00:32.131Z"
   },
   {
    "duration": 76,
    "start_time": "2021-09-19T17:00:32.628Z"
   },
   {
    "duration": 3,
    "start_time": "2021-09-19T17:00:32.707Z"
   },
   {
    "duration": 18,
    "start_time": "2021-09-19T17:00:32.711Z"
   },
   {
    "duration": 100,
    "start_time": "2021-09-19T17:00:32.731Z"
   },
   {
    "duration": 11,
    "start_time": "2021-09-19T17:00:32.833Z"
   },
   {
    "duration": 140,
    "start_time": "2021-09-19T17:00:32.846Z"
   },
   {
    "duration": 90,
    "start_time": "2021-09-19T17:00:32.990Z"
   },
   {
    "duration": 33,
    "start_time": "2021-09-19T17:00:33.082Z"
   },
   {
    "duration": 19,
    "start_time": "2021-09-19T17:00:33.116Z"
   },
   {
    "duration": 652,
    "start_time": "2021-09-19T17:00:33.136Z"
   },
   {
    "duration": -56,
    "start_time": "2021-09-19T17:00:33.846Z"
   },
   {
    "duration": -59,
    "start_time": "2021-09-19T17:00:33.850Z"
   },
   {
    "duration": -62,
    "start_time": "2021-09-19T17:00:33.854Z"
   },
   {
    "duration": -64,
    "start_time": "2021-09-19T17:00:33.857Z"
   },
   {
    "duration": -67,
    "start_time": "2021-09-19T17:00:33.860Z"
   },
   {
    "duration": -69,
    "start_time": "2021-09-19T17:00:33.863Z"
   },
   {
    "duration": -71,
    "start_time": "2021-09-19T17:00:33.866Z"
   },
   {
    "duration": 32,
    "start_time": "2021-09-19T17:03:52.507Z"
   },
   {
    "duration": 24,
    "start_time": "2021-09-19T17:03:59.278Z"
   },
   {
    "duration": 30,
    "start_time": "2021-09-19T17:04:40.596Z"
   },
   {
    "duration": 23,
    "start_time": "2021-09-19T17:04:45.919Z"
   },
   {
    "duration": 32,
    "start_time": "2021-09-19T17:05:16.636Z"
   },
   {
    "duration": 18,
    "start_time": "2021-09-19T17:05:20.969Z"
   },
   {
    "duration": 170,
    "start_time": "2021-09-19T17:12:29.857Z"
   },
   {
    "duration": 1064,
    "start_time": "2021-09-19T17:20:02.787Z"
   },
   {
    "duration": 534,
    "start_time": "2021-09-19T17:20:41.985Z"
   },
   {
    "duration": 1105,
    "start_time": "2021-09-19T17:21:05.715Z"
   },
   {
    "duration": 442,
    "start_time": "2021-09-19T17:21:06.822Z"
   },
   {
    "duration": 66,
    "start_time": "2021-09-19T17:21:07.266Z"
   },
   {
    "duration": 2,
    "start_time": "2021-09-19T17:21:07.334Z"
   },
   {
    "duration": 15,
    "start_time": "2021-09-19T17:21:07.338Z"
   },
   {
    "duration": 93,
    "start_time": "2021-09-19T17:21:07.355Z"
   },
   {
    "duration": 10,
    "start_time": "2021-09-19T17:21:07.450Z"
   },
   {
    "duration": 120,
    "start_time": "2021-09-19T17:21:07.477Z"
   },
   {
    "duration": 78,
    "start_time": "2021-09-19T17:21:07.599Z"
   },
   {
    "duration": 635,
    "start_time": "2021-09-19T17:21:07.679Z"
   },
   {
    "duration": -41,
    "start_time": "2021-09-19T17:21:08.356Z"
   },
   {
    "duration": -45,
    "start_time": "2021-09-19T17:21:08.362Z"
   },
   {
    "duration": -48,
    "start_time": "2021-09-19T17:21:08.366Z"
   },
   {
    "duration": -51,
    "start_time": "2021-09-19T17:21:08.370Z"
   },
   {
    "duration": -55,
    "start_time": "2021-09-19T17:21:08.375Z"
   },
   {
    "duration": -58,
    "start_time": "2021-09-19T17:21:08.379Z"
   },
   {
    "duration": -59,
    "start_time": "2021-09-19T17:21:08.381Z"
   },
   {
    "duration": -61,
    "start_time": "2021-09-19T17:21:08.384Z"
   },
   {
    "duration": -63,
    "start_time": "2021-09-19T17:21:08.387Z"
   },
   {
    "duration": 30,
    "start_time": "2021-09-19T17:21:47.523Z"
   },
   {
    "duration": 31,
    "start_time": "2021-09-19T17:21:52.940Z"
   },
   {
    "duration": 290,
    "start_time": "2021-09-19T17:22:21.449Z"
   },
   {
    "duration": 30,
    "start_time": "2021-09-19T17:22:26.536Z"
   },
   {
    "duration": 570,
    "start_time": "2021-09-19T17:22:50.894Z"
   },
   {
    "duration": 287,
    "start_time": "2021-09-19T17:23:25.293Z"
   },
   {
    "duration": 32,
    "start_time": "2021-09-19T17:23:28.349Z"
   },
   {
    "duration": 33,
    "start_time": "2021-09-19T17:26:03.611Z"
   },
   {
    "duration": 27,
    "start_time": "2021-09-19T17:26:14.941Z"
   },
   {
    "duration": 33,
    "start_time": "2021-09-19T17:26:33.261Z"
   },
   {
    "duration": 34,
    "start_time": "2021-09-19T17:26:39.487Z"
   },
   {
    "duration": 311,
    "start_time": "2021-09-19T17:27:10.315Z"
   },
   {
    "duration": 33,
    "start_time": "2021-09-19T17:27:42.408Z"
   },
   {
    "duration": 32,
    "start_time": "2021-09-19T17:27:48.713Z"
   },
   {
    "duration": 329,
    "start_time": "2021-09-19T17:34:56.185Z"
   },
   {
    "duration": 282,
    "start_time": "2021-09-19T17:35:58.172Z"
   },
   {
    "duration": 32,
    "start_time": "2021-09-19T17:36:11.883Z"
   },
   {
    "duration": 59,
    "start_time": "2021-09-19T17:39:39.699Z"
   },
   {
    "duration": 1068,
    "start_time": "2021-09-19T17:41:07.819Z"
   },
   {
    "duration": 1086,
    "start_time": "2021-09-19T17:41:22.177Z"
   },
   {
    "duration": 20,
    "start_time": "2021-09-19T17:41:55.687Z"
   },
   {
    "duration": 68,
    "start_time": "2021-09-19T17:42:03.130Z"
   },
   {
    "duration": 23,
    "start_time": "2021-09-19T17:42:05.974Z"
   },
   {
    "duration": 22,
    "start_time": "2021-09-19T17:42:16.001Z"
   },
   {
    "duration": 22,
    "start_time": "2021-09-19T17:42:20.696Z"
   },
   {
    "duration": 24,
    "start_time": "2021-09-19T17:42:41.831Z"
   },
   {
    "duration": 24,
    "start_time": "2021-09-19T17:42:58.051Z"
   },
   {
    "duration": 273,
    "start_time": "2021-09-19T17:43:11.073Z"
   },
   {
    "duration": 33,
    "start_time": "2021-09-19T17:43:15.758Z"
   },
   {
    "duration": 32,
    "start_time": "2021-09-19T17:43:28.768Z"
   },
   {
    "duration": 17,
    "start_time": "2021-09-19T17:43:46.060Z"
   },
   {
    "duration": 33,
    "start_time": "2021-09-19T17:46:17.497Z"
   },
   {
    "duration": 28,
    "start_time": "2021-09-19T17:46:29.363Z"
   },
   {
    "duration": 28,
    "start_time": "2021-09-19T17:46:41.930Z"
   },
   {
    "duration": 34,
    "start_time": "2021-09-19T17:46:46.857Z"
   },
   {
    "duration": 34,
    "start_time": "2021-09-19T17:46:51.762Z"
   },
   {
    "duration": 15,
    "start_time": "2021-09-19T17:47:17.596Z"
   },
   {
    "duration": 10,
    "start_time": "2021-09-19T17:48:25.308Z"
   },
   {
    "duration": 14,
    "start_time": "2021-09-19T17:48:50.552Z"
   },
   {
    "duration": 33,
    "start_time": "2021-09-19T17:49:52.812Z"
   },
   {
    "duration": 35,
    "start_time": "2021-09-19T17:58:25.896Z"
   },
   {
    "duration": 14,
    "start_time": "2021-09-19T17:58:31.265Z"
   },
   {
    "duration": 287,
    "start_time": "2021-09-19T18:00:03.809Z"
   },
   {
    "duration": 39,
    "start_time": "2021-09-19T18:00:17.055Z"
   },
   {
    "duration": 10,
    "start_time": "2021-09-19T18:00:23.078Z"
   },
   {
    "duration": 18,
    "start_time": "2021-09-19T18:00:33.908Z"
   },
   {
    "duration": 36,
    "start_time": "2021-09-19T18:00:49.800Z"
   },
   {
    "duration": 37,
    "start_time": "2021-09-19T18:01:31.678Z"
   },
   {
    "duration": 33,
    "start_time": "2021-09-19T18:02:13.220Z"
   },
   {
    "duration": 33,
    "start_time": "2021-09-19T18:02:17.414Z"
   },
   {
    "duration": 36,
    "start_time": "2021-09-19T18:02:27.210Z"
   },
   {
    "duration": 35,
    "start_time": "2021-09-19T18:02:37.572Z"
   },
   {
    "duration": 34,
    "start_time": "2021-09-19T18:02:44.327Z"
   },
   {
    "duration": 14,
    "start_time": "2021-09-19T18:03:01.223Z"
   },
   {
    "duration": 275,
    "start_time": "2021-09-19T18:04:25.158Z"
   },
   {
    "duration": 1554,
    "start_time": "2021-09-19T18:05:15.415Z"
   },
   {
    "duration": 1178,
    "start_time": "2021-09-19T18:05:55.342Z"
   },
   {
    "duration": 415,
    "start_time": "2021-09-19T18:05:56.522Z"
   },
   {
    "duration": 66,
    "start_time": "2021-09-19T18:05:56.939Z"
   },
   {
    "duration": 3,
    "start_time": "2021-09-19T18:05:57.007Z"
   },
   {
    "duration": 25,
    "start_time": "2021-09-19T18:05:57.011Z"
   },
   {
    "duration": 72,
    "start_time": "2021-09-19T18:05:57.038Z"
   },
   {
    "duration": 11,
    "start_time": "2021-09-19T18:05:57.112Z"
   },
   {
    "duration": 153,
    "start_time": "2021-09-19T18:05:57.125Z"
   },
   {
    "duration": 75,
    "start_time": "2021-09-19T18:05:57.281Z"
   },
   {
    "duration": 45,
    "start_time": "2021-09-19T18:05:57.358Z"
   },
   {
    "duration": 14,
    "start_time": "2021-09-19T18:05:57.405Z"
   },
   {
    "duration": 1235,
    "start_time": "2021-09-19T18:05:57.421Z"
   },
   {
    "duration": -24,
    "start_time": "2021-09-19T18:05:58.682Z"
   },
   {
    "duration": -26,
    "start_time": "2021-09-19T18:05:58.685Z"
   },
   {
    "duration": -28,
    "start_time": "2021-09-19T18:05:58.688Z"
   },
   {
    "duration": -31,
    "start_time": "2021-09-19T18:05:58.692Z"
   },
   {
    "duration": -33,
    "start_time": "2021-09-19T18:05:58.695Z"
   },
   {
    "duration": -35,
    "start_time": "2021-09-19T18:05:58.698Z"
   },
   {
    "duration": -36,
    "start_time": "2021-09-19T18:05:58.700Z"
   },
   {
    "duration": -38,
    "start_time": "2021-09-19T18:05:58.703Z"
   },
   {
    "duration": 17,
    "start_time": "2021-09-19T18:07:03.283Z"
   },
   {
    "duration": 16,
    "start_time": "2021-09-19T18:07:11.325Z"
   },
   {
    "duration": 1149,
    "start_time": "2021-09-19T18:07:18.858Z"
   },
   {
    "duration": 424,
    "start_time": "2021-09-19T18:07:20.009Z"
   },
   {
    "duration": 65,
    "start_time": "2021-09-19T18:07:20.435Z"
   },
   {
    "duration": 2,
    "start_time": "2021-09-19T18:07:20.502Z"
   },
   {
    "duration": 19,
    "start_time": "2021-09-19T18:07:20.506Z"
   },
   {
    "duration": 82,
    "start_time": "2021-09-19T18:07:20.527Z"
   },
   {
    "duration": 10,
    "start_time": "2021-09-19T18:07:20.610Z"
   },
   {
    "duration": 120,
    "start_time": "2021-09-19T18:07:20.623Z"
   },
   {
    "duration": 75,
    "start_time": "2021-09-19T18:07:20.745Z"
   },
   {
    "duration": 31,
    "start_time": "2021-09-19T18:07:20.822Z"
   },
   {
    "duration": 27,
    "start_time": "2021-09-19T18:07:20.855Z"
   },
   {
    "duration": 25,
    "start_time": "2021-09-19T18:07:20.884Z"
   },
   {
    "duration": 193,
    "start_time": "2021-09-19T18:07:20.910Z"
   },
   {
    "duration": 1880,
    "start_time": "2021-09-19T18:07:21.104Z"
   },
   {
    "duration": 205,
    "start_time": "2021-09-19T18:07:22.986Z"
   },
   {
    "duration": 588,
    "start_time": "2021-09-19T18:07:23.193Z"
   },
   {
    "duration": 937,
    "start_time": "2021-09-19T18:07:23.783Z"
   },
   {
    "duration": 697,
    "start_time": "2021-09-19T18:07:24.722Z"
   },
   {
    "duration": 23,
    "start_time": "2021-09-19T18:07:25.421Z"
   },
   {
    "duration": 35,
    "start_time": "2021-09-19T18:07:25.447Z"
   },
   {
    "duration": 19,
    "start_time": "2021-09-19T18:08:19.356Z"
   },
   {
    "duration": 1203,
    "start_time": "2021-09-19T18:08:32.306Z"
   },
   {
    "duration": 429,
    "start_time": "2021-09-19T18:08:33.511Z"
   },
   {
    "duration": 65,
    "start_time": "2021-09-19T18:08:33.943Z"
   },
   {
    "duration": 2,
    "start_time": "2021-09-19T18:08:34.011Z"
   },
   {
    "duration": 48,
    "start_time": "2021-09-19T18:08:34.015Z"
   },
   {
    "duration": 91,
    "start_time": "2021-09-19T18:08:34.066Z"
   },
   {
    "duration": 11,
    "start_time": "2021-09-19T18:08:34.159Z"
   },
   {
    "duration": 133,
    "start_time": "2021-09-19T18:08:34.173Z"
   },
   {
    "duration": 86,
    "start_time": "2021-09-19T18:08:34.308Z"
   },
   {
    "duration": 36,
    "start_time": "2021-09-19T18:08:34.396Z"
   },
   {
    "duration": 16,
    "start_time": "2021-09-19T18:08:34.434Z"
   },
   {
    "duration": 52,
    "start_time": "2021-09-19T18:08:34.452Z"
   },
   {
    "duration": 288,
    "start_time": "2021-09-19T18:08:34.506Z"
   },
   {
    "duration": 2029,
    "start_time": "2021-09-19T18:08:34.796Z"
   },
   {
    "duration": 221,
    "start_time": "2021-09-19T18:08:36.827Z"
   },
   {
    "duration": 628,
    "start_time": "2021-09-19T18:08:37.050Z"
   },
   {
    "duration": 1135,
    "start_time": "2021-09-19T18:08:37.680Z"
   },
   {
    "duration": 740,
    "start_time": "2021-09-19T18:08:38.817Z"
   },
   {
    "duration": 32,
    "start_time": "2021-09-19T18:08:39.559Z"
   },
   {
    "duration": 13,
    "start_time": "2021-09-19T18:08:39.593Z"
   },
   {
    "duration": 694,
    "start_time": "2021-09-19T18:09:29.732Z"
   },
   {
    "duration": 1581,
    "start_time": "2021-09-19T18:09:35.748Z"
   },
   {
    "duration": 528,
    "start_time": "2021-09-19T18:09:37.331Z"
   },
   {
    "duration": 64,
    "start_time": "2021-09-19T18:09:37.864Z"
   },
   {
    "duration": 2,
    "start_time": "2021-09-19T18:09:37.930Z"
   },
   {
    "duration": 31,
    "start_time": "2021-09-19T18:09:37.934Z"
   },
   {
    "duration": 75,
    "start_time": "2021-09-19T18:09:37.967Z"
   },
   {
    "duration": 11,
    "start_time": "2021-09-19T18:09:38.044Z"
   },
   {
    "duration": 150,
    "start_time": "2021-09-19T18:09:38.058Z"
   },
   {
    "duration": 74,
    "start_time": "2021-09-19T18:09:38.211Z"
   },
   {
    "duration": 34,
    "start_time": "2021-09-19T18:09:38.287Z"
   },
   {
    "duration": 15,
    "start_time": "2021-09-19T18:09:38.322Z"
   },
   {
    "duration": 56,
    "start_time": "2021-09-19T18:09:38.339Z"
   },
   {
    "duration": 194,
    "start_time": "2021-09-19T18:09:38.397Z"
   },
   {
    "duration": 2042,
    "start_time": "2021-09-19T18:09:38.593Z"
   },
   {
    "duration": 230,
    "start_time": "2021-09-19T18:09:40.636Z"
   },
   {
    "duration": 1502,
    "start_time": "2021-09-19T18:09:40.869Z"
   },
   {
    "duration": 1176,
    "start_time": "2021-09-19T18:09:42.373Z"
   },
   {
    "duration": 1036,
    "start_time": "2021-09-19T18:09:43.552Z"
   },
   {
    "duration": 33,
    "start_time": "2021-09-19T18:09:44.590Z"
   },
   {
    "duration": 19,
    "start_time": "2021-09-19T18:09:44.677Z"
   },
   {
    "duration": 1344,
    "start_time": "2021-09-19T18:10:35.963Z"
   },
   {
    "duration": 425,
    "start_time": "2021-09-19T18:10:37.309Z"
   },
   {
    "duration": 64,
    "start_time": "2021-09-19T18:10:37.736Z"
   },
   {
    "duration": 2,
    "start_time": "2021-09-19T18:10:37.802Z"
   },
   {
    "duration": 21,
    "start_time": "2021-09-19T18:10:37.806Z"
   },
   {
    "duration": 82,
    "start_time": "2021-09-19T18:10:37.829Z"
   },
   {
    "duration": 10,
    "start_time": "2021-09-19T18:10:37.913Z"
   },
   {
    "duration": 120,
    "start_time": "2021-09-19T18:10:37.926Z"
   },
   {
    "duration": 78,
    "start_time": "2021-09-19T18:10:38.048Z"
   },
   {
    "duration": 31,
    "start_time": "2021-09-19T18:10:38.128Z"
   },
   {
    "duration": 27,
    "start_time": "2021-09-19T18:10:38.161Z"
   },
   {
    "duration": 25,
    "start_time": "2021-09-19T18:10:38.190Z"
   },
   {
    "duration": 194,
    "start_time": "2021-09-19T18:10:38.217Z"
   },
   {
    "duration": 1939,
    "start_time": "2021-09-19T18:10:38.412Z"
   },
   {
    "duration": 211,
    "start_time": "2021-09-19T18:10:40.353Z"
   },
   {
    "duration": 700,
    "start_time": "2021-09-19T18:10:40.566Z"
   },
   {
    "duration": 967,
    "start_time": "2021-09-19T18:10:41.268Z"
   },
   {
    "duration": 736,
    "start_time": "2021-09-19T18:10:42.237Z"
   },
   {
    "duration": 22,
    "start_time": "2021-09-19T18:10:42.977Z"
   },
   {
    "duration": 15,
    "start_time": "2021-09-19T18:10:43.001Z"
   },
   {
    "duration": 13,
    "start_time": "2021-09-19T18:14:20.480Z"
   },
   {
    "duration": 1095,
    "start_time": "2021-09-19T18:14:33.122Z"
   },
   {
    "duration": 422,
    "start_time": "2021-09-19T18:14:34.219Z"
   },
   {
    "duration": 67,
    "start_time": "2021-09-19T18:14:34.643Z"
   },
   {
    "duration": 3,
    "start_time": "2021-09-19T18:14:34.712Z"
   },
   {
    "duration": 33,
    "start_time": "2021-09-19T18:14:34.717Z"
   },
   {
    "duration": 73,
    "start_time": "2021-09-19T18:14:34.751Z"
   },
   {
    "duration": 10,
    "start_time": "2021-09-19T18:14:34.826Z"
   },
   {
    "duration": 123,
    "start_time": "2021-09-19T18:14:34.839Z"
   },
   {
    "duration": 76,
    "start_time": "2021-09-19T18:14:34.964Z"
   },
   {
    "duration": 47,
    "start_time": "2021-09-19T18:14:35.042Z"
   },
   {
    "duration": 24,
    "start_time": "2021-09-19T18:14:35.091Z"
   },
   {
    "duration": 24,
    "start_time": "2021-09-19T18:14:35.117Z"
   },
   {
    "duration": 199,
    "start_time": "2021-09-19T18:14:35.143Z"
   },
   {
    "duration": 1862,
    "start_time": "2021-09-19T18:14:35.344Z"
   },
   {
    "duration": 217,
    "start_time": "2021-09-19T18:14:37.208Z"
   },
   {
    "duration": 588,
    "start_time": "2021-09-19T18:14:37.427Z"
   },
   {
    "duration": 1174,
    "start_time": "2021-09-19T18:14:38.017Z"
   },
   {
    "duration": 795,
    "start_time": "2021-09-19T18:14:39.192Z"
   },
   {
    "duration": 24,
    "start_time": "2021-09-19T18:14:39.989Z"
   },
   {
    "duration": 14,
    "start_time": "2021-09-19T18:14:40.015Z"
   },
   {
    "duration": 171,
    "start_time": "2021-09-19T18:26:45.938Z"
   },
   {
    "duration": 1163,
    "start_time": "2021-09-19T18:27:57.253Z"
   },
   {
    "duration": 415,
    "start_time": "2021-09-19T18:27:58.418Z"
   },
   {
    "duration": 64,
    "start_time": "2021-09-19T18:27:58.835Z"
   },
   {
    "duration": 2,
    "start_time": "2021-09-19T18:27:58.901Z"
   },
   {
    "duration": 15,
    "start_time": "2021-09-19T18:27:58.905Z"
   },
   {
    "duration": 82,
    "start_time": "2021-09-19T18:27:58.921Z"
   },
   {
    "duration": 10,
    "start_time": "2021-09-19T18:27:59.005Z"
   },
   {
    "duration": 126,
    "start_time": "2021-09-19T18:27:59.018Z"
   },
   {
    "duration": 73,
    "start_time": "2021-09-19T18:27:59.146Z"
   },
   {
    "duration": 33,
    "start_time": "2021-09-19T18:27:59.221Z"
   },
   {
    "duration": 2,
    "start_time": "2021-09-19T18:27:59.255Z"
   },
   {
    "duration": 42,
    "start_time": "2021-09-19T18:27:59.259Z"
   },
   {
    "duration": 180,
    "start_time": "2021-09-19T18:27:59.303Z"
   },
   {
    "duration": 1862,
    "start_time": "2021-09-19T18:27:59.485Z"
   },
   {
    "duration": 220,
    "start_time": "2021-09-19T18:28:01.349Z"
   },
   {
    "duration": 615,
    "start_time": "2021-09-19T18:28:01.570Z"
   },
   {
    "duration": 945,
    "start_time": "2021-09-19T18:28:02.187Z"
   },
   {
    "duration": 699,
    "start_time": "2021-09-19T18:28:03.134Z"
   },
   {
    "duration": 23,
    "start_time": "2021-09-19T18:28:03.834Z"
   },
   {
    "duration": 25,
    "start_time": "2021-09-19T18:28:03.859Z"
   },
   {
    "duration": 1217,
    "start_time": "2021-09-19T18:37:59.754Z"
   },
   {
    "duration": 441,
    "start_time": "2021-09-19T18:38:00.973Z"
   },
   {
    "duration": 66,
    "start_time": "2021-09-19T18:38:01.416Z"
   },
   {
    "duration": 3,
    "start_time": "2021-09-19T18:38:01.484Z"
   },
   {
    "duration": 38,
    "start_time": "2021-09-19T18:38:01.488Z"
   },
   {
    "duration": 82,
    "start_time": "2021-09-19T18:38:01.527Z"
   },
   {
    "duration": 10,
    "start_time": "2021-09-19T18:38:01.611Z"
   },
   {
    "duration": 124,
    "start_time": "2021-09-19T18:38:01.623Z"
   },
   {
    "duration": 79,
    "start_time": "2021-09-19T18:38:01.750Z"
   },
   {
    "duration": 33,
    "start_time": "2021-09-19T18:38:01.831Z"
   },
   {
    "duration": 2,
    "start_time": "2021-09-19T18:38:01.877Z"
   },
   {
    "duration": 46,
    "start_time": "2021-09-19T18:38:01.881Z"
   },
   {
    "duration": 176,
    "start_time": "2021-09-19T18:38:01.929Z"
   },
   {
    "duration": 1903,
    "start_time": "2021-09-19T18:38:02.106Z"
   },
   {
    "duration": 208,
    "start_time": "2021-09-19T18:38:04.011Z"
   },
   {
    "duration": 592,
    "start_time": "2021-09-19T18:38:04.221Z"
   },
   {
    "duration": 1011,
    "start_time": "2021-09-19T18:38:04.815Z"
   },
   {
    "duration": 708,
    "start_time": "2021-09-19T18:38:05.828Z"
   },
   {
    "duration": 21,
    "start_time": "2021-09-19T18:38:06.538Z"
   },
   {
    "duration": 13,
    "start_time": "2021-09-19T18:38:06.577Z"
   },
   {
    "duration": 1145,
    "start_time": "2021-09-19T18:44:37.236Z"
   },
   {
    "duration": 425,
    "start_time": "2021-09-19T18:44:38.383Z"
   },
   {
    "duration": 67,
    "start_time": "2021-09-19T18:44:38.810Z"
   },
   {
    "duration": 2,
    "start_time": "2021-09-19T18:44:38.879Z"
   },
   {
    "duration": 17,
    "start_time": "2021-09-19T18:44:38.883Z"
   },
   {
    "duration": 86,
    "start_time": "2021-09-19T18:44:38.901Z"
   },
   {
    "duration": 11,
    "start_time": "2021-09-19T18:44:38.988Z"
   },
   {
    "duration": 126,
    "start_time": "2021-09-19T18:44:39.001Z"
   },
   {
    "duration": 74,
    "start_time": "2021-09-19T18:44:39.129Z"
   },
   {
    "duration": 34,
    "start_time": "2021-09-19T18:44:39.205Z"
   },
   {
    "duration": 2,
    "start_time": "2021-09-19T18:44:39.241Z"
   },
   {
    "duration": 43,
    "start_time": "2021-09-19T18:44:39.245Z"
   },
   {
    "duration": 183,
    "start_time": "2021-09-19T18:44:39.289Z"
   },
   {
    "duration": 1813,
    "start_time": "2021-09-19T18:44:39.474Z"
   },
   {
    "duration": 219,
    "start_time": "2021-09-19T18:44:41.289Z"
   },
   {
    "duration": 590,
    "start_time": "2021-09-19T18:44:41.510Z"
   },
   {
    "duration": 1038,
    "start_time": "2021-09-19T18:44:42.102Z"
   },
   {
    "duration": 732,
    "start_time": "2021-09-19T18:44:43.142Z"
   },
   {
    "duration": 26,
    "start_time": "2021-09-19T18:44:43.877Z"
   },
   {
    "duration": 16,
    "start_time": "2021-09-19T18:44:43.904Z"
   },
   {
    "duration": 102,
    "start_time": "2021-09-19T18:45:14.991Z"
   },
   {
    "duration": 1108,
    "start_time": "2021-09-19T18:45:29.708Z"
   },
   {
    "duration": 424,
    "start_time": "2021-09-19T18:45:30.817Z"
   },
   {
    "duration": 67,
    "start_time": "2021-09-19T18:45:31.243Z"
   },
   {
    "duration": 3,
    "start_time": "2021-09-19T18:45:31.312Z"
   },
   {
    "duration": 34,
    "start_time": "2021-09-19T18:45:31.316Z"
   },
   {
    "duration": 73,
    "start_time": "2021-09-19T18:45:31.352Z"
   },
   {
    "duration": 10,
    "start_time": "2021-09-19T18:45:31.427Z"
   },
   {
    "duration": 122,
    "start_time": "2021-09-19T18:45:31.439Z"
   },
   {
    "duration": 72,
    "start_time": "2021-09-19T18:45:31.564Z"
   },
   {
    "duration": 39,
    "start_time": "2021-09-19T18:45:31.638Z"
   },
   {
    "duration": 2,
    "start_time": "2021-09-19T18:45:31.679Z"
   },
   {
    "duration": 31,
    "start_time": "2021-09-19T18:45:31.683Z"
   },
   {
    "duration": 183,
    "start_time": "2021-09-19T18:45:31.715Z"
   },
   {
    "duration": 1915,
    "start_time": "2021-09-19T18:45:31.900Z"
   },
   {
    "duration": 208,
    "start_time": "2021-09-19T18:45:33.817Z"
   },
   {
    "duration": 594,
    "start_time": "2021-09-19T18:45:34.026Z"
   },
   {
    "duration": 1003,
    "start_time": "2021-09-19T18:45:34.622Z"
   },
   {
    "duration": 867,
    "start_time": "2021-09-19T18:45:35.627Z"
   },
   {
    "duration": 24,
    "start_time": "2021-09-19T18:45:36.496Z"
   },
   {
    "duration": 14,
    "start_time": "2021-09-19T18:45:36.522Z"
   },
   {
    "duration": 1528,
    "start_time": "2021-09-19T22:34:37.326Z"
   },
   {
    "duration": 593,
    "start_time": "2021-09-19T22:34:38.857Z"
   },
   {
    "duration": 95,
    "start_time": "2021-09-19T22:34:39.453Z"
   },
   {
    "duration": 4,
    "start_time": "2021-09-19T22:34:39.551Z"
   },
   {
    "duration": 26,
    "start_time": "2021-09-19T22:34:39.567Z"
   },
   {
    "duration": 126,
    "start_time": "2021-09-19T22:34:39.596Z"
   },
   {
    "duration": 15,
    "start_time": "2021-09-19T22:34:39.724Z"
   },
   {
    "duration": 182,
    "start_time": "2021-09-19T22:34:39.743Z"
   },
   {
    "duration": 120,
    "start_time": "2021-09-19T22:34:39.928Z"
   },
   {
    "duration": 65,
    "start_time": "2021-09-19T22:34:40.052Z"
   },
   {
    "duration": 4,
    "start_time": "2021-09-19T22:34:40.120Z"
   },
   {
    "duration": 67,
    "start_time": "2021-09-19T22:34:40.127Z"
   },
   {
    "duration": 301,
    "start_time": "2021-09-19T22:34:40.196Z"
   },
   {
    "duration": 2890,
    "start_time": "2021-09-19T22:34:40.499Z"
   },
   {
    "duration": 372,
    "start_time": "2021-09-19T22:34:43.391Z"
   },
   {
    "duration": 949,
    "start_time": "2021-09-19T22:34:43.768Z"
   },
   {
    "duration": 1489,
    "start_time": "2021-09-19T22:34:44.721Z"
   },
   {
    "duration": 1228,
    "start_time": "2021-09-19T22:34:46.213Z"
   },
   {
    "duration": 48,
    "start_time": "2021-09-19T22:34:47.445Z"
   },
   {
    "duration": 22,
    "start_time": "2021-09-19T22:34:47.497Z"
   },
   {
    "duration": 405,
    "start_time": "2022-01-21T22:21:19.386Z"
   },
   {
    "duration": 1444,
    "start_time": "2022-01-21T22:21:23.505Z"
   },
   {
    "duration": 456,
    "start_time": "2022-01-21T22:21:26.157Z"
   },
   {
    "duration": 89,
    "start_time": "2022-01-21T22:21:29.269Z"
   },
   {
    "duration": 23,
    "start_time": "2022-01-21T22:21:47.342Z"
   },
   {
    "duration": 93,
    "start_time": "2022-01-21T22:21:55.610Z"
   },
   {
    "duration": 14,
    "start_time": "2022-01-21T22:22:14.903Z"
   },
   {
    "duration": 137,
    "start_time": "2022-01-21T22:22:22.138Z"
   },
   {
    "duration": 143,
    "start_time": "2022-01-21T22:23:53.319Z"
   },
   {
    "duration": 47,
    "start_time": "2022-01-21T22:24:02.238Z"
   },
   {
    "duration": 3,
    "start_time": "2022-01-21T22:24:21.230Z"
   },
   {
    "duration": 37,
    "start_time": "2022-01-21T22:24:43.718Z"
   },
   {
    "duration": 249,
    "start_time": "2022-01-21T22:25:47.825Z"
   },
   {
    "duration": 2483,
    "start_time": "2022-01-21T22:25:58.174Z"
   },
   {
    "duration": 2750,
    "start_time": "2022-01-21T22:27:28.255Z"
   },
   {
    "duration": 2502,
    "start_time": "2022-01-21T22:27:41.936Z"
   },
   {
    "duration": 2607,
    "start_time": "2022-01-21T22:28:14.090Z"
   },
   {
    "duration": 3682,
    "start_time": "2022-01-21T22:29:19.041Z"
   },
   {
    "duration": 3083,
    "start_time": "2022-01-21T22:32:08.017Z"
   },
   {
    "duration": 960,
    "start_time": "2022-01-21T22:32:27.840Z"
   },
   {
    "duration": 783,
    "start_time": "2022-01-21T22:32:31.736Z"
   },
   {
    "duration": 2603,
    "start_time": "2022-01-21T22:32:37.907Z"
   },
   {
    "duration": 1020,
    "start_time": "2022-01-21T22:32:48.465Z"
   },
   {
    "duration": 813,
    "start_time": "2022-01-21T22:33:48.817Z"
   },
   {
    "duration": 2726,
    "start_time": "2022-01-21T22:34:04.289Z"
   },
   {
    "duration": 2745,
    "start_time": "2022-01-21T22:34:21.435Z"
   },
   {
    "duration": 347,
    "start_time": "2022-01-21T22:35:11.528Z"
   },
   {
    "duration": 659,
    "start_time": "2022-01-21T22:35:17.687Z"
   },
   {
    "duration": 1885,
    "start_time": "2022-01-21T22:35:42.876Z"
   },
   {
    "duration": 1282,
    "start_time": "2022-01-21T22:36:17.705Z"
   },
   {
    "duration": 1322,
    "start_time": "2022-01-21T22:37:02.875Z"
   },
   {
    "duration": 1031,
    "start_time": "2022-01-21T22:37:42.729Z"
   },
   {
    "duration": 1037,
    "start_time": "2022-01-21T22:39:23.667Z"
   },
   {
    "duration": 768,
    "start_time": "2022-01-21T22:39:31.498Z"
   },
   {
    "duration": 1058,
    "start_time": "2022-01-21T22:39:33.921Z"
   },
   {
    "duration": 1081,
    "start_time": "2022-01-21T22:40:49.882Z"
   },
   {
    "duration": 1067,
    "start_time": "2022-01-21T22:41:17.792Z"
   },
   {
    "duration": 33,
    "start_time": "2022-01-21T22:42:12.510Z"
   },
   {
    "duration": 19,
    "start_time": "2022-01-21T22:42:18.624Z"
   },
   {
    "duration": 1413,
    "start_time": "2022-01-21T22:43:42.639Z"
   },
   {
    "duration": 458,
    "start_time": "2022-01-21T22:43:44.055Z"
   },
   {
    "duration": 84,
    "start_time": "2022-01-21T22:43:44.516Z"
   },
   {
    "duration": 20,
    "start_time": "2022-01-21T22:43:44.604Z"
   },
   {
    "duration": 21,
    "start_time": "2022-01-21T22:43:44.627Z"
   },
   {
    "duration": 110,
    "start_time": "2022-01-21T22:43:44.651Z"
   },
   {
    "duration": 12,
    "start_time": "2022-01-21T22:43:44.763Z"
   },
   {
    "duration": 156,
    "start_time": "2022-01-21T22:43:44.779Z"
   },
   {
    "duration": 99,
    "start_time": "2022-01-21T22:43:44.937Z"
   },
   {
    "duration": 49,
    "start_time": "2022-01-21T22:43:45.039Z"
   },
   {
    "duration": 2,
    "start_time": "2022-01-21T22:43:45.091Z"
   },
   {
    "duration": 55,
    "start_time": "2022-01-21T22:43:45.096Z"
   },
   {
    "duration": 299,
    "start_time": "2022-01-21T22:43:45.154Z"
   },
   {
    "duration": 2506,
    "start_time": "2022-01-21T22:43:45.455Z"
   },
   {
    "duration": 364,
    "start_time": "2022-01-21T22:43:47.964Z"
   },
   {
    "duration": 730,
    "start_time": "2022-01-21T22:43:48.331Z"
   },
   {
    "duration": 1382,
    "start_time": "2022-01-21T22:43:49.063Z"
   },
   {
    "duration": 1101,
    "start_time": "2022-01-21T22:43:50.448Z"
   },
   {
    "duration": 31,
    "start_time": "2022-01-21T22:43:51.551Z"
   },
   {
    "duration": 44,
    "start_time": "2022-01-21T22:43:51.584Z"
   }
  ],
  "kernelspec": {
   "display_name": "Python 3",
   "language": "python",
   "name": "python3"
  },
  "language_info": {
   "codemirror_mode": {
    "name": "ipython",
    "version": 3
   },
   "file_extension": ".py",
   "mimetype": "text/x-python",
   "name": "python",
   "nbconvert_exporter": "python",
   "pygments_lexer": "ipython3",
   "version": "3.7.8"
  },
  "toc": {
   "base_numbering": 1,
   "nav_menu": {},
   "number_sections": true,
   "sideBar": true,
   "skip_h1_title": true,
   "title_cell": "Table of Contents",
   "title_sidebar": "Contents",
   "toc_cell": false,
   "toc_position": {},
   "toc_section_display": true,
   "toc_window_display": true
  }
 },
 "nbformat": 4,
 "nbformat_minor": 2
}
