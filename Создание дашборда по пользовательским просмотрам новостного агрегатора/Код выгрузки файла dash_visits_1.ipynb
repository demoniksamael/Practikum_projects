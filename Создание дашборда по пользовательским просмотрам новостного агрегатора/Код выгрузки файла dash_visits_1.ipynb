{
 "cells": [
  {
   "cell_type": "code",
   "execution_count": 1,
   "id": "f8185209",
   "metadata": {},
   "outputs": [],
   "source": [
    "import pandas as pd\n",
    "from sqlalchemy import create_engine\n",
    "!pip install psycopg2-binary"
   ]
  },
  {
   "cell_type": "code",
   "execution_count": 2,
   "id": "4caf781c",
   "metadata": {},
   "outputs": [
    {
     "name": "stdout",
     "output_type": "stream",
     "text": [
      "Requirement already satisfied: psycopg2-binary in d:\\program files\\anaconda\\lib\\site-packages (2.9.3)\n"
     ]
    }
   ],
   "source": [
    "# параметры подключения к БД\n",
    "db_config = {'user': 'praktikum_student', # имя пользователя\n",
    "            'pwd': 'Sdf4$2;d-d30pp', # пароль\n",
    "            'host': 'rc1b-wcoijxj3yxfsf3fs.mdb.yandexcloud.net',\n",
    "            'port': 6432, # порт подключения\n",
    "            'db': 'data-analyst-zen-project-db_1'} # название базы данных\n",
    "\n",
    "connection_string = 'postgresql://{}:{}@{}:{}/{}'.format(db_config['user'],\n",
    "                                                db_config['pwd'],\n",
    "                                                db_config['host'],\n",
    "                                                db_config['port'],\n",
    "                                                db_config['db'])\n",
    "# подключение к БД\n",
    "engine = create_engine(connection_string) \n",
    "query = '''\n",
    "            select * from dash_visits\n",
    "        '''\n",
    "# выполнение SQL запроса и охрание его в переменную\n",
    "dash_visits_1 = pd.io.sql.read_sql(query, con = engine)\n"
   ]
  },
  {
   "cell_type": "code",
   "execution_count": 5,
   "id": "0f983ce9",
   "metadata": {},
   "outputs": [],
   "source": [
    "dash_visits_1.to_csv(r'C:\\Users\\User\\Desktop\\dash_visits.csv')"
   ]
  },
  {
   "cell_type": "markdown",
   "id": "49dc222c",
   "metadata": {},
   "source": [
    "#### Ссылка на презентацию\n",
    "\n",
    "https://disk.yandex.ru/i/V_Gelfw_nAxkzQ\n",
    "\n",
    "#### Ссылка на дашборд\n",
    "\n",
    "https://public.tableau.com/app/profile/dmitrii5712/viz/Y_dzen/Dashboard1?publish=yes\n",
    "\n",
    "\n"
   ]
  }
 ],
 "metadata": {
  "kernelspec": {
   "display_name": "Python 3",
   "language": "python",
   "name": "python3"
  },
  "language_info": {
   "codemirror_mode": {
    "name": "ipython",
    "version": 3
   },
   "file_extension": ".py",
   "mimetype": "text/x-python",
   "name": "python",
   "nbconvert_exporter": "python",
   "pygments_lexer": "ipython3",
   "version": "3.8.8"
  }
 },
 "nbformat": 4,
 "nbformat_minor": 5
}
